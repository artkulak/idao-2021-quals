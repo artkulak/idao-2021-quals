{
 "cells": [
  {
   "cell_type": "code",
   "execution_count": 3,
   "id": "threaded-girlfriend",
   "metadata": {},
   "outputs": [],
   "source": [
    "#####################\n",
    "# IMPORT LIBS\n",
    "#####################\n",
    "\n",
    "from PIL import Image\n",
    "from sklearn.model_selection import train_test_split\n",
    "from skimage import io, transform\n",
    "from skimage.transform import AffineTransform, warp\n",
    "from sklearn.metrics import roc_auc_score, mean_absolute_error\n",
    "import tensorflow as tf\n",
    "\n",
    "from tensorflow.keras.models import load_model\n",
    "from tensorflow.compat.v1.keras import backend as K\n",
    "\n",
    "import pandas as pd\n",
    "from pathlib import Path\n",
    "import os\n",
    "import cv2\n",
    "import matplotlib.pyplot as plt\n",
    "import numpy as np\n",
    "import random\n",
    "import glob\n",
    "import albumentations as A\n",
    "import cv2\n",
    "# from efficientnet_pytorch import EfficientNet\n",
    "\n",
    "\n",
    "#####################\n",
    "# SET CONSTANTS\n",
    "#####################\n",
    "\n",
    "INPUT_PATH = Path('../input')\n",
    "OUTPUT_PATH = Path('../output')\n",
    "TRAIN_PATH = INPUT_PATH / 'idao_dataset' / 'train'\n",
    "PRIVATE_PATH = INPUT_PATH / 'idao_dataset' / 'private_test'\n",
    "PRIVATE_PATH_NEW = INPUT_PATH / 'idao_dataset' / 'private_test_new'\n",
    "PUBLIC_PATH = INPUT_PATH / 'idao_dataset' / 'public_test'\n",
    "\n",
    "RANDOM_SEED = 4444\n",
    "\n",
    "def seed_everything(seed=1234):\n",
    "    random.seed(seed)\n",
    "    os.environ['PYTHONHASHSEED'] = str(seed)\n",
    "    np.random.seed(seed)\n",
    "seed_everything(RANDOM_SEED)"
   ]
  },
  {
   "cell_type": "code",
   "execution_count": 4,
   "id": "absolute-oklahoma",
   "metadata": {},
   "outputs": [],
   "source": [
    "class Config:\n",
    "    BATCH_SIZE = 32\n",
    "    TRAINING_EPOCHS = 150\n",
    "    VALIDATION_STEPS_PER_EPOCH = 30\n",
    "    VALIDATION_EPOCHS = 10\n",
    "    STEPS_PER_EPOCH = 30\n",
    "    EARLY_STOP_PATIENCE = 20\n",
    "    \n",
    "    \n",
    "    # Declare an augmentation pipeline\n",
    "    train_transform = A.Compose([\n",
    "        #A.HorizontalFlip(p=0.5),\n",
    "        #A.HorizontalFlip(p=0.5),\n",
    "        #A.VerticalFlip(p=0.5),\n",
    "        A.Cutout(num_holes=4, max_h_size=8, max_w_size=8, p=0.3),\n",
    "        A.OneOf([A.RandomContrast(),\n",
    "             A.RandomGamma(),\n",
    "             A.RandomBrightness()],p=0.2),\n",
    "        A.OneOf([A.Blur(p = 0.3),\n",
    "             A.GaussNoise(p=0.3)\n",
    "                ],p=0.5),\n",
    "        A.CLAHE(clip_limit=4, tile_grid_size=(8,8), always_apply=False, p=0.3),\n",
    "    ],)\n",
    "    \n",
    "    validation_transform = A.Compose([\n",
    "    ],)"
   ]
  },
  {
   "cell_type": "code",
   "execution_count": 5,
   "id": "needed-airline",
   "metadata": {},
   "outputs": [],
   "source": [
    "def getFeatures(img_path):\n",
    "    if len(img_path.split('_')) == 18:\n",
    "        particle_class = 1 # ER\n",
    "        particle_energy = int(img_path.split('_')[7])\n",
    "    else:\n",
    "        particle_class = 0 # HE\n",
    "        particle_energy = int(img_path.split('_')[8])\n",
    "    particle_angle = float(img_path.split('/')[-1].split('__')[0])\n",
    "    return [img_path, particle_class, particle_energy, particle_angle]\n",
    "\n",
    "images = glob.glob(str(TRAIN_PATH / '**/*.png'), recursive=True)\n",
    "images = pd.DataFrame(map(getFeatures, images))\n",
    "images.columns = ['path', 'class', 'energy', 'angle']"
   ]
  },
  {
   "cell_type": "code",
   "execution_count": 6,
   "id": "educational-breeding",
   "metadata": {},
   "outputs": [],
   "source": [
    "#################\n",
    "# EXTRACT TEST\n",
    "#################\n",
    "\n",
    "# HE - 0, ER - 1\n",
    "\n",
    "he_test_idx = list(images[(images['class'] == 1) & (images['energy'].apply(lambda x: x in [1, 6, 20]))].index)\n",
    "er_test_idx = list(images[(images['class'] == 0) & (images['energy'].apply(lambda x: x in [3, 10, 30]))].index)"
   ]
  },
  {
   "cell_type": "code",
   "execution_count": 7,
   "id": "unsigned-australia",
   "metadata": {},
   "outputs": [],
   "source": [
    "# TODO: Write this to a separate folder\n",
    "\n",
    "# 0 - [:750]\n",
    "# 1 - [750:1502]\n",
    "# 0 - [1502:7531]\n",
    "# 1 - [7531:]\n",
    "\n",
    "import glob\n",
    "private_test = glob.glob(str(PRIVATE_PATH / '**/*.png'), recursive=True)\n",
    "public_test = glob.glob(str(PUBLIC_PATH / '**/*.png'), recursive=True)\n",
    "\n",
    "sample_submission = pd.read_csv(INPUT_PATH / 'track1_predictions_example.csv')\n",
    "private_ids = [t.split('/')[-1].split('.')[0] for t in private_test]\n",
    "public_ids = [t.split('/')[-1].split('.')[0] for t in public_test]\n",
    "\n",
    "# sample_submission['path'] = sample_submission['id'].apply(lambda x: PRIVATE_PATH / f'{x}.png' if x in private_ids else PUBLIC_PATH / f'{x}.png').map(str)\n",
    "# sample_submission.iloc[:750, 1] = 1\n",
    "# sample_submission.iloc[750:1502, 1] = 0\n",
    "# sample_submission.iloc[1502:7531, 1] = 1\n",
    "# sample_submission.iloc[7531:, 1] = 0\n",
    "\n",
    "# sample_submission = sample_submission.iloc[1502:].reset_index(drop = True)\n",
    "\n",
    "# images_leak = pd.DataFrame(np.array([sample_submission.iloc[:, 3].values, sample_submission.iloc[:, 1].values, sample_submission.iloc[:, 2].values]).T)\n",
    "# images_leak.columns = ['path', 'class', 'energy']"
   ]
  },
  {
   "cell_type": "code",
   "execution_count": 8,
   "id": "diverse-tucson",
   "metadata": {},
   "outputs": [],
   "source": [
    "test_idx = he_test_idx + er_test_idx\n",
    "test_images = images.iloc[test_idx]\n",
    "images = images.drop(index = test_idx)\n",
    "\n",
    "\n",
    "train_images, valid_images = train_test_split(images, shuffle = True, random_state = RANDOM_SEED)\n",
    "train_images = train_images.reset_index(drop = True)\n",
    "valid_images = valid_images.reset_index(drop = True)"
   ]
  },
  {
   "cell_type": "code",
   "execution_count": 9,
   "id": "secondary-fiber",
   "metadata": {},
   "outputs": [],
   "source": [
    "def calc_metric(y_binary_true, y_binary_pred, y_reg_true, y_reg_pred):\n",
    "    '''\n",
    "    Competition metric\n",
    "    '''\n",
    "    \n",
    "    roc = roc_auc_score(y_binary_true, y_binary_pred)\n",
    "    mae = mean_absolute_error(y_reg_true, y_reg_pred)\n",
    "    return 1000 * (roc - mae), roc, mae"
   ]
  },
  {
   "cell_type": "code",
   "execution_count": 59,
   "id": "secondary-bottom",
   "metadata": {},
   "outputs": [],
   "source": [
    "class DataGenerator(tf.keras.utils.Sequence):\n",
    "    def __init__(self, images, transform=None, batch_size=32,  shuffle=True, is_classification = True, augment = False):\n",
    "        self.images = images\n",
    "        self.indices = np.arange(len(images))\n",
    "        self.transform = transform\n",
    "        self.batch_size = batch_size\n",
    "        self.shuffle = shuffle\n",
    "        self.augment = augment\n",
    "        self.is_classification = is_classification\n",
    "        \n",
    "        self.on_epoch_end()\n",
    "\n",
    "    def __len__(self):\n",
    "        int_batch_size = len(self.images) // self.batch_size\n",
    "        \n",
    "        if len(self.images) % self.batch_size != 0:\n",
    "            return int_batch_size + 1\n",
    "        return int_batch_size\n",
    "\n",
    "    def __getitem__(self, index):\n",
    "        index = self.index[index * self.batch_size:(index + 1) * self.batch_size]\n",
    "        batch = [self.indices[k] for k in index]\n",
    "    \n",
    "        X, y = self.__get_data(batch)\n",
    "        return X, y\n",
    "\n",
    "    def on_epoch_end(self):\n",
    "        self.index = np.arange(len(self.indices))\n",
    "        if self.shuffle:\n",
    "            np.random.shuffle(self.index)\n",
    "            \n",
    "    def get_label(self, y_energy):\n",
    "        if (y_energy>=1)&(y_energy <= 3):\n",
    "            y_energy = [1,0,0]\n",
    "        elif (y_energy>=6)&(y_energy <= 10):\n",
    "            y_energy = [0,1,0]\n",
    "        elif (y_energy>=20)&(y_energy <= 30):\n",
    "            y_energy = [0,0,1]\n",
    "        \n",
    "        return y_energy\n",
    "\n",
    "    def __get_data(self, batch):\n",
    "        X = np.zeros((len(batch), 128, 128, 3))\n",
    "        y_class = np.zeros((len(batch),))\n",
    "        y_energy = np.zeros((len(batch),))\n",
    "        y_angle = np.zeros((len(batch),))\n",
    "        for i, idx in enumerate(batch):\n",
    "            image=cv2.imread(self.images.iloc[idx, 0])\n",
    "            center = image.shape[0] // 2\n",
    "            image = image[center-128//2:center+128//2,center-128//2:center+128//2, :]\n",
    "            X[i,] = image\n",
    "            \n",
    "            if self.augment:\n",
    "                X[i, ] = Config.train_transform(image=X[i,].astype(np.uint8))['image']\n",
    "            particle_class = self.images.iloc[idx, 1]\n",
    "            particle_energy = self.images.iloc[idx, 2]\n",
    "            particle_angle = self.images.iloc[idx, 3]\n",
    "            \n",
    "            y_class[i] = particle_class\n",
    "            y_energy[i] = particle_energy # self.get_label(particle_energy)\n",
    "            y_angle[i] = particle_angle\n",
    "        if self.is_classification:\n",
    "            return X / 255.0, y_class\n",
    "        \n",
    "        return X / 255.0, y_energy\n"
   ]
  },
  {
   "cell_type": "code",
   "execution_count": 51,
   "id": "tight-magnitude",
   "metadata": {},
   "outputs": [],
   "source": [
    "train_datagen = DataGenerator(train_images, batch_size = Config.BATCH_SIZE, is_classification = False, augment = False)\n",
    "valid_datagen = DataGenerator(valid_images, batch_size = Config.BATCH_SIZE, is_classification = False)\n",
    "test_datagen = DataGenerator(test_images, batch_size = 1, is_classification = False, shuffle = False)"
   ]
  },
  {
   "cell_type": "code",
   "execution_count": 29,
   "id": "moderate-richmond",
   "metadata": {},
   "outputs": [],
   "source": [
    "# Example data extract\n",
    "\n",
    "X, y_energy = train_datagen.__getitem__(0)"
   ]
  },
  {
   "cell_type": "code",
   "execution_count": 30,
   "id": "excellent-deposit",
   "metadata": {},
   "outputs": [
    {
     "data": {
      "text/plain": [
       "<matplotlib.image.AxesImage at 0x7f9d58493be0>"
      ]
     },
     "execution_count": 30,
     "metadata": {},
     "output_type": "execute_result"
    },
    {
     "data": {
      "image/png": "[encoded data removed]",
      "text/plain": [
       "<Figure size 432x288 with 1 Axes>"
      ]
     },
     "metadata": {
      "needs_background": "light"
     },
     "output_type": "display_data"
    }
   ],
   "source": [
    "idx = 17\n",
    "plt.imshow((X[idx] * 255).astype(np.uint8))"
   ]
  },
  {
   "cell_type": "markdown",
   "id": "accurate-trigger",
   "metadata": {},
   "source": [
    "## Class model"
   ]
  },
  {
   "cell_type": "code",
   "execution_count": 14,
   "id": "violent-george",
   "metadata": {},
   "outputs": [],
   "source": [
    "import tensorflow as tf\n",
    "from tensorflow.keras.applications.vgg16 import VGG16\n",
    "from tensorflow.keras.applications.mobilenet_v2 import MobileNetV2\n",
    "from tensorflow.keras.preprocessing import image\n",
    "from tensorflow.keras.applications.vgg16 import preprocess_input\n",
    "from tensorflow.keras.applications.densenet import DenseNet121\n",
    "from tensorflow.keras.applications import ResNet152V2\n",
    "\n",
    "from tensorflow.keras.applications import EfficientNetB0\n",
    "import numpy as np\n",
    "\n",
    "base_model = MobileNetV2(weights='imagenet', include_top=False, input_shape=(128,128,3))"
   ]
  },
  {
   "cell_type": "code",
   "execution_count": 15,
   "id": "dense-british",
   "metadata": {},
   "outputs": [],
   "source": [
    "from tensorflow.keras import layers as L\n",
    "from tensorflow.keras.models import Model\n",
    "import tensorflow as tf\n",
    "import tensorflow.keras\n",
    "import tensorflow\n",
    "from tensorflow.keras import regularizers\n",
    "\n",
    "earlystop = tensorflow.keras.callbacks.EarlyStopping(monitor='val_mean_absolute_error', patience=Config.EARLY_STOP_PATIENCE)\n",
    "ckpt = tensorflow.keras.callbacks.ModelCheckpoint(OUTPUT_PATH / 'models' / 'regression_own', save_best_only=True, monitor='val_mean_absolute_error', mode='min')\n",
    "    \n",
    "def create_regression_model():\n",
    "    \n",
    "    # Model receives black and white 64 x 64 images as input\n",
    "    inp = L.Input(shape=(128,128,3))\n",
    "\n",
    "    # Sequence of two convolutional and pooling layers as feature extractors\n",
    "    x = L.Conv2D(8, kernel_size=2, activation='relu')(inp)\n",
    "    x = L.BatchNormalization()(x)\n",
    "    x = L.Conv2D(8, kernel_size=2, activation='relu')(inp)\n",
    "    x = L.BatchNormalization()(x)\n",
    "    x = L.MaxPooling2D(pool_size=(2, 2))(x)\n",
    "    x = L.Dropout(0.1)(x)\n",
    "    \n",
    "    x = L.Conv2D(16, kernel_size=2, activation='relu')(x)\n",
    "    x = L.BatchNormalization()(x)\n",
    "    x = L.Conv2D(16, kernel_size=2, activation='relu')(x)\n",
    "    x = L.BatchNormalization()(x)\n",
    "    x = L.MaxPooling2D(pool_size=(2, 2))(x)\n",
    "    x = L.Dropout(0.1)(x)\n",
    "    \n",
    "    x = L.Conv2D(32, kernel_size=2, activation='relu')(x)\n",
    "    x = L.BatchNormalization()(x)\n",
    "    x = L.Conv2D(32, kernel_size=2, activation='relu')(x)\n",
    "    x = L.BatchNormalization()(x)\n",
    "    x = L.MaxPooling2D(pool_size=(2, 2))(x)\n",
    "    x = L.Dropout(0.1)(x)\n",
    "    \n",
    "    x = L.Conv2D(64, kernel_size=2, activation='relu')(x)\n",
    "    x = L.BatchNormalization()(x)\n",
    "    x = L.Conv2D(64, kernel_size=2, activation='relu')(x)\n",
    "    x = L.BatchNormalization()(x)\n",
    "    x = L.MaxPooling2D(pool_size=(2, 2))(x)\n",
    "    x = L.Dropout(0.1)(x)\n",
    "    \n",
    "#     x = L.Conv2D(256, kernel_size=2, activation='relu')(x)\n",
    "#     x = L.BatchNormalization()(x)\n",
    "#     x = L.Conv2D(256, kernel_size=2, activation='relu')(x)\n",
    "#     x = L.BatchNormalization()(x)\n",
    "#     x = L.MaxPooling2D(pool_size=(2,2))(x)\n",
    "        \n",
    "#     x = base_model.output\n",
    "    x = L.GlobalAveragePooling2D()(x)\n",
    "    # let's add a fully-connected layer\n",
    "    x = L.Dense(64, activation='relu')(x)\n",
    "    x = L.Dense(16, activation='relu')(x)\n",
    "    # and a logistic layer -- let's say we have 200 classes\n",
    "    #predictions_energy = L.Dense(3, activation= 'softmax', name='energy')(x)\n",
    "    \n",
    "    predictions_energy = L.Dense(1, name='energy')(x)\n",
    "    #predictions_class = L.Dense(1, activation='sigmoid', name='class')(x)\n",
    "    #predictions_angle = L.Dense(1, name='angle')(x)\n",
    "\n",
    "    # this is the model we will train\n",
    "    model = Model(inputs=inp, outputs=[predictions_energy])\n",
    "\n",
    "\n",
    "    # compile the model (should be done *after* setting layers to non-trainable)\n",
    "    model.compile(optimizer=tensorflow.keras.optimizers.Adam(learning_rate=1e-4), \n",
    "                  loss={#'class': 'binary_crossentropy', \n",
    "                        'energy':'mean_absolute_error', \n",
    "                        #'angle': 'mean_absolute_error'\n",
    "                  },\n",
    "                  metrics = {#'class': 'AUC', \n",
    "                             'energy': 'mean_absolute_error', \n",
    "                             #'angle': 'mean_absolute_error'\n",
    "                  })\n",
    "    return model"
   ]
  },
  {
   "cell_type": "code",
   "execution_count": 16,
   "id": "incorporate-middle",
   "metadata": {},
   "outputs": [],
   "source": [
    "# def create_regression_model(base_model, l2_loss_lambda = 1e-4):\n",
    "    \n",
    "#     for layer in base_model.layers:\n",
    "#         layer.trainable = False\n",
    "        \n",
    "        \n",
    "#     x = base_model.output\n",
    "#     x = L.GlobalAveragePooling2D()(x)\n",
    "#     # let's add a fully-connected layer\n",
    "#     x = L.Dense(256, activation='relu')(x)\n",
    "#     x = L.Dense(64, activation='relu')(x)\n",
    "#     # and a logistic layer -- let's say we have 200 classes\n",
    "#     #predictions_energy = L.Dense(3, activation= 'softmax', name='energy')(x)\n",
    "    \n",
    "#     predictions_energy = L.Dense(1, name='energy')(x)\n",
    "\n",
    "#     # this is the model we will train\n",
    "#     model = Model(inputs=base_model.input, outputs=[predictions_energy])\n",
    "\n",
    "#     # compile the model (should be done *after* setting layers to non-trainable)\n",
    "#     model.compile(optimizer=tensorflow.keras.optimizers.Adam(learning_rate=1e-4), \n",
    "#                   loss={#'class': 'binary_crossentropy', \n",
    "#                         'energy':'mean_absolute_error', \n",
    "#                         #'angle': 'mean_absolute_error'\n",
    "#                   },\n",
    "#                   metrics = {#'class': 'AUC', \n",
    "#                              'energy': 'mean_absolute_error', \n",
    "#                              #'angle': 'mean_absolute_error'\n",
    "#                   })\n",
    "#     return model"
   ]
  },
  {
   "cell_type": "code",
   "execution_count": 17,
   "id": "invalid-partner",
   "metadata": {},
   "outputs": [],
   "source": [
    "model = create_regression_model()"
   ]
  },
  {
   "cell_type": "code",
   "execution_count": 18,
   "id": "appropriate-sodium",
   "metadata": {
    "scrolled": false
   },
   "outputs": [
    {
     "name": "stdout",
     "output_type": "stream",
     "text": [
      "Epoch 1/150\n",
      "30/30 [==============================] - 9s 219ms/step - loss: 10.1884 - mean_absolute_error: 10.1884 - val_loss: 11.7385 - val_mean_absolute_error: 11.7385\n",
      "INFO:tensorflow:Assets written to: ../output/models/regression_own/assets\n",
      "Epoch 2/150\n",
      "30/30 [==============================] - 6s 214ms/step - loss: 9.4349 - mean_absolute_error: 9.4349 - val_loss: 12.1111 - val_mean_absolute_error: 12.1111\n",
      "Epoch 3/150\n",
      "30/30 [==============================] - 6s 211ms/step - loss: 9.4474 - mean_absolute_error: 9.4474 - val_loss: 11.6352 - val_mean_absolute_error: 11.6352\n",
      "INFO:tensorflow:Assets written to: ../output/models/regression_own/assets\n",
      "Epoch 4/150\n",
      "30/30 [==============================] - 6s 214ms/step - loss: 8.3997 - mean_absolute_error: 8.3997 - val_loss: 11.9522 - val_mean_absolute_error: 11.9522\n",
      "Epoch 5/150\n",
      "30/30 [==============================] - 6s 210ms/step - loss: 7.8357 - mean_absolute_error: 7.8357 - val_loss: 11.6047 - val_mean_absolute_error: 11.6047\n",
      "INFO:tensorflow:Assets written to: ../output/models/regression_own/assets\n",
      "Epoch 6/150\n",
      "30/30 [==============================] - 6s 212ms/step - loss: 7.3687 - mean_absolute_error: 7.3687 - val_loss: 11.2235 - val_mean_absolute_error: 11.2235\n",
      "INFO:tensorflow:Assets written to: ../output/models/regression_own/assets\n",
      "Epoch 7/150\n",
      "30/30 [==============================] - 6s 218ms/step - loss: 6.4979 - mean_absolute_error: 6.4979 - val_loss: 11.2383 - val_mean_absolute_error: 11.2383\n",
      "Epoch 8/150\n",
      "30/30 [==============================] - 6s 215ms/step - loss: 5.8333 - mean_absolute_error: 5.8333 - val_loss: 11.3682 - val_mean_absolute_error: 11.3682\n",
      "Epoch 9/150\n",
      "30/30 [==============================] - 6s 212ms/step - loss: 4.9628 - mean_absolute_error: 4.9628 - val_loss: 11.6881 - val_mean_absolute_error: 11.6881\n",
      "Epoch 10/150\n",
      "30/30 [==============================] - 6s 208ms/step - loss: 4.2945 - mean_absolute_error: 4.2945 - val_loss: 11.3220 - val_mean_absolute_error: 11.3220\n",
      "Epoch 11/150\n",
      "30/30 [==============================] - 6s 210ms/step - loss: 4.0005 - mean_absolute_error: 4.0005 - val_loss: 10.8990 - val_mean_absolute_error: 10.8990\n",
      "INFO:tensorflow:Assets written to: ../output/models/regression_own/assets\n",
      "Epoch 12/150\n",
      "30/30 [==============================] - 6s 206ms/step - loss: 3.4139 - mean_absolute_error: 3.4139 - val_loss: 11.1374 - val_mean_absolute_error: 11.1374\n",
      "Epoch 13/150\n",
      "30/30 [==============================] - 6s 206ms/step - loss: 2.6965 - mean_absolute_error: 2.6965 - val_loss: 10.3852 - val_mean_absolute_error: 10.3852\n",
      "INFO:tensorflow:Assets written to: ../output/models/regression_own/assets\n",
      "Epoch 14/150\n",
      "30/30 [==============================] - 6s 207ms/step - loss: 2.6762 - mean_absolute_error: 2.6762 - val_loss: 9.3498 - val_mean_absolute_error: 9.3498\n",
      "INFO:tensorflow:Assets written to: ../output/models/regression_own/assets\n",
      "Epoch 15/150\n",
      "30/30 [==============================] - 6s 204ms/step - loss: 2.4985 - mean_absolute_error: 2.4985 - val_loss: 10.0408 - val_mean_absolute_error: 10.0408\n",
      "Epoch 16/150\n",
      "30/30 [==============================] - 6s 205ms/step - loss: 2.3915 - mean_absolute_error: 2.3915 - val_loss: 8.7725 - val_mean_absolute_error: 8.7725\n",
      "INFO:tensorflow:Assets written to: ../output/models/regression_own/assets\n",
      "Epoch 17/150\n",
      "30/30 [==============================] - 6s 209ms/step - loss: 2.3128 - mean_absolute_error: 2.3128 - val_loss: 7.7838 - val_mean_absolute_error: 7.7838\n",
      "INFO:tensorflow:Assets written to: ../output/models/regression_own/assets\n",
      "Epoch 18/150\n",
      "30/30 [==============================] - 6s 206ms/step - loss: 2.1506 - mean_absolute_error: 2.1506 - val_loss: 8.0001 - val_mean_absolute_error: 8.0001\n",
      "Epoch 19/150\n",
      "30/30 [==============================] - 6s 206ms/step - loss: 2.3852 - mean_absolute_error: 2.3852 - val_loss: 7.5121 - val_mean_absolute_error: 7.5121\n",
      "INFO:tensorflow:Assets written to: ../output/models/regression_own/assets\n",
      "Epoch 20/150\n",
      "30/30 [==============================] - 6s 207ms/step - loss: 2.0813 - mean_absolute_error: 2.0813 - val_loss: 6.7509 - val_mean_absolute_error: 6.7509\n",
      "INFO:tensorflow:Assets written to: ../output/models/regression_own/assets\n",
      "Epoch 21/150\n",
      "30/30 [==============================] - 6s 210ms/step - loss: 2.0131 - mean_absolute_error: 2.0131 - val_loss: 6.7627 - val_mean_absolute_error: 6.7627\n",
      "Epoch 22/150\n",
      "30/30 [==============================] - 6s 214ms/step - loss: 2.0975 - mean_absolute_error: 2.0975 - val_loss: 6.6204 - val_mean_absolute_error: 6.6204\n",
      "INFO:tensorflow:Assets written to: ../output/models/regression_own/assets\n",
      "Epoch 23/150\n",
      "30/30 [==============================] - 6s 210ms/step - loss: 2.4621 - mean_absolute_error: 2.4621 - val_loss: 5.0494 - val_mean_absolute_error: 5.0494\n",
      "INFO:tensorflow:Assets written to: ../output/models/regression_own/assets\n",
      "Epoch 24/150\n",
      "30/30 [==============================] - 6s 212ms/step - loss: 2.0776 - mean_absolute_error: 2.0776 - val_loss: 4.3293 - val_mean_absolute_error: 4.3293\n",
      "INFO:tensorflow:Assets written to: ../output/models/regression_own/assets\n",
      "Epoch 25/150\n",
      "30/30 [==============================] - 6s 208ms/step - loss: 2.1850 - mean_absolute_error: 2.1850 - val_loss: 4.4182 - val_mean_absolute_error: 4.4182\n",
      "Epoch 26/150\n",
      "30/30 [==============================] - 6s 207ms/step - loss: 2.1062 - mean_absolute_error: 2.1062 - val_loss: 3.0413 - val_mean_absolute_error: 3.0413\n",
      "INFO:tensorflow:Assets written to: ../output/models/regression_own/assets\n",
      "Epoch 27/150\n",
      "30/30 [==============================] - 6s 211ms/step - loss: 1.8465 - mean_absolute_error: 1.8465 - val_loss: 2.2571 - val_mean_absolute_error: 2.2571\n",
      "INFO:tensorflow:Assets written to: ../output/models/regression_own/assets\n",
      "Epoch 28/150\n",
      "30/30 [==============================] - 6s 207ms/step - loss: 2.2446 - mean_absolute_error: 2.2446 - val_loss: 2.5858 - val_mean_absolute_error: 2.5858\n",
      "Epoch 29/150\n",
      "30/30 [==============================] - 6s 205ms/step - loss: 2.2461 - mean_absolute_error: 2.2461 - val_loss: 1.8671 - val_mean_absolute_error: 1.8671\n",
      "INFO:tensorflow:Assets written to: ../output/models/regression_own/assets\n",
      "Epoch 30/150\n",
      "30/30 [==============================] - 6s 204ms/step - loss: 1.9184 - mean_absolute_error: 1.9184 - val_loss: 2.2567 - val_mean_absolute_error: 2.2567\n",
      "Epoch 31/150\n",
      "30/30 [==============================] - 6s 207ms/step - loss: 1.9885 - mean_absolute_error: 1.9885 - val_loss: 1.8129 - val_mean_absolute_error: 1.8129\n",
      "INFO:tensorflow:Assets written to: ../output/models/regression_own/assets\n",
      "Epoch 32/150\n",
      "30/30 [==============================] - 6s 209ms/step - loss: 2.1108 - mean_absolute_error: 2.1108 - val_loss: 2.1221 - val_mean_absolute_error: 2.1221\n",
      "Epoch 33/150\n",
      "30/30 [==============================] - 6s 209ms/step - loss: 2.2946 - mean_absolute_error: 2.2946 - val_loss: 1.5842 - val_mean_absolute_error: 1.5842\n",
      "INFO:tensorflow:Assets written to: ../output/models/regression_own/assets\n",
      "Epoch 34/150\n",
      "30/30 [==============================] - 6s 204ms/step - loss: 1.7387 - mean_absolute_error: 1.7387 - val_loss: 2.8906 - val_mean_absolute_error: 2.8906\n",
      "Epoch 35/150\n",
      "30/30 [==============================] - 6s 211ms/step - loss: 2.2129 - mean_absolute_error: 2.2129 - val_loss: 2.8261 - val_mean_absolute_error: 2.8261\n",
      "Epoch 36/150\n",
      "30/30 [==============================] - 6s 207ms/step - loss: 2.3083 - mean_absolute_error: 2.3083 - val_loss: 2.6684 - val_mean_absolute_error: 2.6684\n",
      "Epoch 37/150\n",
      "30/30 [==============================] - 6s 214ms/step - loss: 2.0756 - mean_absolute_error: 2.0756 - val_loss: 1.7732 - val_mean_absolute_error: 1.7732\n",
      "Epoch 38/150\n",
      "30/30 [==============================] - 6s 214ms/step - loss: 2.2260 - mean_absolute_error: 2.2260 - val_loss: 2.1288 - val_mean_absolute_error: 2.1288\n",
      "Epoch 39/150\n",
      "30/30 [==============================] - 6s 209ms/step - loss: 1.8719 - mean_absolute_error: 1.8719 - val_loss: 1.4697 - val_mean_absolute_error: 1.4697\n",
      "INFO:tensorflow:Assets written to: ../output/models/regression_own/assets\n",
      "Epoch 40/150\n",
      "30/30 [==============================] - 6s 217ms/step - loss: 1.9103 - mean_absolute_error: 1.9103 - val_loss: 1.5454 - val_mean_absolute_error: 1.5454\n",
      "Epoch 41/150\n"
     ]
    },
    {
     "name": "stdout",
     "output_type": "stream",
     "text": [
      "30/30 [==============================] - 6s 214ms/step - loss: 1.9157 - mean_absolute_error: 1.9157 - val_loss: 1.3232 - val_mean_absolute_error: 1.3232\n",
      "INFO:tensorflow:Assets written to: ../output/models/regression_own/assets\n",
      "Epoch 42/150\n",
      "30/30 [==============================] - 6s 215ms/step - loss: 2.2805 - mean_absolute_error: 2.2805 - val_loss: 1.3991 - val_mean_absolute_error: 1.3991\n",
      "Epoch 43/150\n",
      "30/30 [==============================] - 6s 212ms/step - loss: 1.6922 - mean_absolute_error: 1.6922 - val_loss: 1.5142 - val_mean_absolute_error: 1.5142\n",
      "Epoch 44/150\n",
      "30/30 [==============================] - 6s 213ms/step - loss: 1.8834 - mean_absolute_error: 1.8834 - val_loss: 1.3813 - val_mean_absolute_error: 1.3813\n",
      "Epoch 45/150\n",
      "30/30 [==============================] - 6s 211ms/step - loss: 1.6344 - mean_absolute_error: 1.6344 - val_loss: 1.4362 - val_mean_absolute_error: 1.4362\n",
      "Epoch 46/150\n",
      "30/30 [==============================] - 6s 207ms/step - loss: 1.8716 - mean_absolute_error: 1.8716 - val_loss: 1.4055 - val_mean_absolute_error: 1.4055\n",
      "Epoch 47/150\n",
      "30/30 [==============================] - 6s 214ms/step - loss: 2.4048 - mean_absolute_error: 2.4048 - val_loss: 2.0113 - val_mean_absolute_error: 2.0113\n",
      "Epoch 48/150\n",
      "30/30 [==============================] - 6s 210ms/step - loss: 1.8970 - mean_absolute_error: 1.8970 - val_loss: 2.8806 - val_mean_absolute_error: 2.8806\n",
      "Epoch 49/150\n",
      "30/30 [==============================] - 6s 211ms/step - loss: 2.0439 - mean_absolute_error: 2.0439 - val_loss: 2.3815 - val_mean_absolute_error: 2.3815\n",
      "Epoch 50/150\n",
      "30/30 [==============================] - 6s 214ms/step - loss: 2.3790 - mean_absolute_error: 2.3790 - val_loss: 1.3828 - val_mean_absolute_error: 1.3828\n",
      "Epoch 51/150\n",
      "30/30 [==============================] - 6s 215ms/step - loss: 1.8264 - mean_absolute_error: 1.8264 - val_loss: 1.3545 - val_mean_absolute_error: 1.3545\n",
      "Epoch 52/150\n",
      "30/30 [==============================] - 6s 211ms/step - loss: 1.6932 - mean_absolute_error: 1.6932 - val_loss: 1.4589 - val_mean_absolute_error: 1.4589\n",
      "Epoch 53/150\n",
      "30/30 [==============================] - 6s 204ms/step - loss: 1.7206 - mean_absolute_error: 1.7206 - val_loss: 1.4591 - val_mean_absolute_error: 1.4591\n",
      "Epoch 54/150\n",
      "30/30 [==============================] - 6s 213ms/step - loss: 1.9453 - mean_absolute_error: 1.9453 - val_loss: 1.4521 - val_mean_absolute_error: 1.4521\n",
      "Epoch 55/150\n",
      "30/30 [==============================] - 6s 209ms/step - loss: 1.9305 - mean_absolute_error: 1.9305 - val_loss: 2.4536 - val_mean_absolute_error: 2.4536\n",
      "Epoch 56/150\n",
      "30/30 [==============================] - 6s 208ms/step - loss: 2.0895 - mean_absolute_error: 2.0895 - val_loss: 2.3514 - val_mean_absolute_error: 2.3514\n",
      "Epoch 57/150\n",
      "30/30 [==============================] - 6s 206ms/step - loss: 1.7826 - mean_absolute_error: 1.7826 - val_loss: 1.2938 - val_mean_absolute_error: 1.2938\n",
      "INFO:tensorflow:Assets written to: ../output/models/regression_own/assets\n",
      "Epoch 58/150\n",
      "30/30 [==============================] - 6s 209ms/step - loss: 2.0697 - mean_absolute_error: 2.0697 - val_loss: 1.3404 - val_mean_absolute_error: 1.3404\n",
      "Epoch 59/150\n",
      "30/30 [==============================] - 6s 207ms/step - loss: 2.1044 - mean_absolute_error: 2.1044 - val_loss: 1.3963 - val_mean_absolute_error: 1.3963\n",
      "Epoch 60/150\n",
      "30/30 [==============================] - 6s 210ms/step - loss: 2.1922 - mean_absolute_error: 2.1922 - val_loss: 1.9977 - val_mean_absolute_error: 1.9977\n",
      "Epoch 61/150\n",
      "26/30 [=========================>....] - ETA: 0s - loss: 1.9339 - mean_absolute_error: 1.9339"
     ]
    },
    {
     "ename": "KeyboardInterrupt",
     "evalue": "",
     "output_type": "error",
     "traceback": [
      "\u001b[0;31m\u001b[0m",
      "\u001b[0;31mKeyboardInterrupt\u001b[0mTraceback (most recent call last)",
      "\u001b[0;32m<ipython-input-18-388046744789>\u001b[0m in \u001b[0;36m<module>\u001b[0;34m\u001b[0m\n\u001b[1;32m      6\u001b[0m     \u001b[0mepochs\u001b[0m \u001b[0;34m=\u001b[0m \u001b[0mConfig\u001b[0m\u001b[0;34m.\u001b[0m\u001b[0mTRAINING_EPOCHS\u001b[0m\u001b[0;34m,\u001b[0m\u001b[0;34m\u001b[0m\u001b[0;34m\u001b[0m\u001b[0m\n\u001b[1;32m      7\u001b[0m     \u001b[0mverbose\u001b[0m \u001b[0;34m=\u001b[0m \u001b[0;36m1\u001b[0m\u001b[0;34m,\u001b[0m\u001b[0;34m\u001b[0m\u001b[0;34m\u001b[0m\u001b[0m\n\u001b[0;32m----> 8\u001b[0;31m     \u001b[0mcallbacks\u001b[0m \u001b[0;34m=\u001b[0m \u001b[0;34m[\u001b[0m\u001b[0mearlystop\u001b[0m\u001b[0;34m,\u001b[0m \u001b[0mckpt\u001b[0m\u001b[0;34m]\u001b[0m\u001b[0;34m\u001b[0m\u001b[0;34m\u001b[0m\u001b[0m\n\u001b[0m\u001b[1;32m      9\u001b[0m     )\n",
      "\u001b[0;32m/usr/local/lib/python3.6/dist-packages/tensorflow/python/keras/engine/training.py\u001b[0m in \u001b[0;36mfit\u001b[0;34m(self, x, y, batch_size, epochs, verbose, callbacks, validation_split, validation_data, shuffle, class_weight, sample_weight, initial_epoch, steps_per_epoch, validation_steps, validation_batch_size, validation_freq, max_queue_size, workers, use_multiprocessing)\u001b[0m\n\u001b[1;32m   1181\u001b[0m                 _r=1):\n\u001b[1;32m   1182\u001b[0m               \u001b[0mcallbacks\u001b[0m\u001b[0;34m.\u001b[0m\u001b[0mon_train_batch_begin\u001b[0m\u001b[0;34m(\u001b[0m\u001b[0mstep\u001b[0m\u001b[0;34m)\u001b[0m\u001b[0;34m\u001b[0m\u001b[0;34m\u001b[0m\u001b[0m\n\u001b[0;32m-> 1183\u001b[0;31m               \u001b[0mtmp_logs\u001b[0m \u001b[0;34m=\u001b[0m \u001b[0mself\u001b[0m\u001b[0;34m.\u001b[0m\u001b[0mtrain_function\u001b[0m\u001b[0;34m(\u001b[0m\u001b[0miterator\u001b[0m\u001b[0;34m)\u001b[0m\u001b[0;34m\u001b[0m\u001b[0;34m\u001b[0m\u001b[0m\n\u001b[0m\u001b[1;32m   1184\u001b[0m               \u001b[0;32mif\u001b[0m \u001b[0mdata_handler\u001b[0m\u001b[0;34m.\u001b[0m\u001b[0mshould_sync\u001b[0m\u001b[0;34m:\u001b[0m\u001b[0;34m\u001b[0m\u001b[0;34m\u001b[0m\u001b[0m\n\u001b[1;32m   1185\u001b[0m                 \u001b[0mcontext\u001b[0m\u001b[0;34m.\u001b[0m\u001b[0masync_wait\u001b[0m\u001b[0;34m(\u001b[0m\u001b[0;34m)\u001b[0m\u001b[0;34m\u001b[0m\u001b[0;34m\u001b[0m\u001b[0m\n",
      "\u001b[0;32m/usr/local/lib/python3.6/dist-packages/tensorflow/python/eager/def_function.py\u001b[0m in \u001b[0;36m__call__\u001b[0;34m(self, *args, **kwds)\u001b[0m\n\u001b[1;32m    870\u001b[0m     \u001b[0mtracing_count\u001b[0m \u001b[0;34m=\u001b[0m \u001b[0mself\u001b[0m\u001b[0;34m.\u001b[0m\u001b[0mexperimental_get_tracing_count\u001b[0m\u001b[0;34m(\u001b[0m\u001b[0;34m)\u001b[0m\u001b[0;34m\u001b[0m\u001b[0;34m\u001b[0m\u001b[0m\n\u001b[1;32m    871\u001b[0m     \u001b[0;32mwith\u001b[0m \u001b[0mtrace\u001b[0m\u001b[0;34m.\u001b[0m\u001b[0mTrace\u001b[0m\u001b[0;34m(\u001b[0m\u001b[0mself\u001b[0m\u001b[0;34m.\u001b[0m\u001b[0m_name\u001b[0m\u001b[0;34m)\u001b[0m \u001b[0;32mas\u001b[0m \u001b[0mtm\u001b[0m\u001b[0;34m:\u001b[0m\u001b[0;34m\u001b[0m\u001b[0;34m\u001b[0m\u001b[0m\n\u001b[0;32m--> 872\u001b[0;31m       \u001b[0mresult\u001b[0m \u001b[0;34m=\u001b[0m \u001b[0mself\u001b[0m\u001b[0;34m.\u001b[0m\u001b[0m_call\u001b[0m\u001b[0;34m(\u001b[0m\u001b[0;34m*\u001b[0m\u001b[0margs\u001b[0m\u001b[0;34m,\u001b[0m \u001b[0;34m**\u001b[0m\u001b[0mkwds\u001b[0m\u001b[0;34m)\u001b[0m\u001b[0;34m\u001b[0m\u001b[0;34m\u001b[0m\u001b[0m\n\u001b[0m\u001b[1;32m    873\u001b[0m       \u001b[0mcompiler\u001b[0m \u001b[0;34m=\u001b[0m \u001b[0;34m\"xla\"\u001b[0m \u001b[0;32mif\u001b[0m \u001b[0mself\u001b[0m\u001b[0;34m.\u001b[0m\u001b[0m_jit_compile\u001b[0m \u001b[0;32melse\u001b[0m \u001b[0;34m\"nonXla\"\u001b[0m\u001b[0;34m\u001b[0m\u001b[0;34m\u001b[0m\u001b[0m\n\u001b[1;32m    874\u001b[0m       \u001b[0mnew_tracing_count\u001b[0m \u001b[0;34m=\u001b[0m \u001b[0mself\u001b[0m\u001b[0;34m.\u001b[0m\u001b[0mexperimental_get_tracing_count\u001b[0m\u001b[0;34m(\u001b[0m\u001b[0;34m)\u001b[0m\u001b[0;34m\u001b[0m\u001b[0;34m\u001b[0m\u001b[0m\n",
      "\u001b[0;32m/usr/local/lib/python3.6/dist-packages/tensorflow/python/eager/def_function.py\u001b[0m in \u001b[0;36m_call\u001b[0;34m(self, *args, **kwds)\u001b[0m\n\u001b[1;32m    898\u001b[0m       \u001b[0;31m# In this case we have created variables on the first call, so we run the\u001b[0m\u001b[0;34m\u001b[0m\u001b[0;34m\u001b[0m\u001b[0;34m\u001b[0m\u001b[0m\n\u001b[1;32m    899\u001b[0m       \u001b[0;31m# defunned version which is guaranteed to never create variables.\u001b[0m\u001b[0;34m\u001b[0m\u001b[0;34m\u001b[0m\u001b[0;34m\u001b[0m\u001b[0m\n\u001b[0;32m--> 900\u001b[0;31m       \u001b[0;32mreturn\u001b[0m \u001b[0mself\u001b[0m\u001b[0;34m.\u001b[0m\u001b[0m_stateless_fn\u001b[0m\u001b[0;34m(\u001b[0m\u001b[0;34m*\u001b[0m\u001b[0margs\u001b[0m\u001b[0;34m,\u001b[0m \u001b[0;34m**\u001b[0m\u001b[0mkwds\u001b[0m\u001b[0;34m)\u001b[0m  \u001b[0;31m# pylint: disable=not-callable\u001b[0m\u001b[0;34m\u001b[0m\u001b[0;34m\u001b[0m\u001b[0m\n\u001b[0m\u001b[1;32m    901\u001b[0m     \u001b[0;32melif\u001b[0m \u001b[0mself\u001b[0m\u001b[0;34m.\u001b[0m\u001b[0m_stateful_fn\u001b[0m \u001b[0;32mis\u001b[0m \u001b[0;32mnot\u001b[0m \u001b[0;32mNone\u001b[0m\u001b[0;34m:\u001b[0m\u001b[0;34m\u001b[0m\u001b[0;34m\u001b[0m\u001b[0m\n\u001b[1;32m    902\u001b[0m       \u001b[0;31m# Release the lock early so that multiple threads can perform the call\u001b[0m\u001b[0;34m\u001b[0m\u001b[0;34m\u001b[0m\u001b[0;34m\u001b[0m\u001b[0m\n",
      "\u001b[0;32m/usr/local/lib/python3.6/dist-packages/tensorflow/python/eager/function.py\u001b[0m in \u001b[0;36m__call__\u001b[0;34m(self, *args, **kwargs)\u001b[0m\n\u001b[1;32m   3022\u001b[0m        filtered_flat_args) = self._maybe_define_function(args, kwargs)\n\u001b[1;32m   3023\u001b[0m     return graph_function._call_flat(\n\u001b[0;32m-> 3024\u001b[0;31m         filtered_flat_args, captured_inputs=graph_function.captured_inputs)  # pylint: disable=protected-access\n\u001b[0m\u001b[1;32m   3025\u001b[0m \u001b[0;34m\u001b[0m\u001b[0m\n\u001b[1;32m   3026\u001b[0m   \u001b[0;34m@\u001b[0m\u001b[0mproperty\u001b[0m\u001b[0;34m\u001b[0m\u001b[0;34m\u001b[0m\u001b[0m\n",
      "\u001b[0;32m/usr/local/lib/python3.6/dist-packages/tensorflow/python/eager/function.py\u001b[0m in \u001b[0;36m_call_flat\u001b[0;34m(self, args, captured_inputs, cancellation_manager)\u001b[0m\n\u001b[1;32m   1959\u001b[0m       \u001b[0;31m# No tape is watching; skip to running the function.\u001b[0m\u001b[0;34m\u001b[0m\u001b[0;34m\u001b[0m\u001b[0;34m\u001b[0m\u001b[0m\n\u001b[1;32m   1960\u001b[0m       return self._build_call_outputs(self._inference_function.call(\n\u001b[0;32m-> 1961\u001b[0;31m           ctx, args, cancellation_manager=cancellation_manager))\n\u001b[0m\u001b[1;32m   1962\u001b[0m     forward_backward = self._select_forward_and_backward_functions(\n\u001b[1;32m   1963\u001b[0m         \u001b[0margs\u001b[0m\u001b[0;34m,\u001b[0m\u001b[0;34m\u001b[0m\u001b[0;34m\u001b[0m\u001b[0m\n",
      "\u001b[0;32m/usr/local/lib/python3.6/dist-packages/tensorflow/python/eager/function.py\u001b[0m in \u001b[0;36mcall\u001b[0;34m(self, ctx, args, cancellation_manager)\u001b[0m\n\u001b[1;32m    594\u001b[0m               \u001b[0minputs\u001b[0m\u001b[0;34m=\u001b[0m\u001b[0margs\u001b[0m\u001b[0;34m,\u001b[0m\u001b[0;34m\u001b[0m\u001b[0;34m\u001b[0m\u001b[0m\n\u001b[1;32m    595\u001b[0m               \u001b[0mattrs\u001b[0m\u001b[0;34m=\u001b[0m\u001b[0mattrs\u001b[0m\u001b[0;34m,\u001b[0m\u001b[0;34m\u001b[0m\u001b[0;34m\u001b[0m\u001b[0m\n\u001b[0;32m--> 596\u001b[0;31m               ctx=ctx)\n\u001b[0m\u001b[1;32m    597\u001b[0m         \u001b[0;32melse\u001b[0m\u001b[0;34m:\u001b[0m\u001b[0;34m\u001b[0m\u001b[0;34m\u001b[0m\u001b[0m\n\u001b[1;32m    598\u001b[0m           outputs = execute.execute_with_cancellation(\n",
      "\u001b[0;32m/usr/local/lib/python3.6/dist-packages/tensorflow/python/eager/execute.py\u001b[0m in \u001b[0;36mquick_execute\u001b[0;34m(op_name, num_outputs, inputs, attrs, ctx, name)\u001b[0m\n\u001b[1;32m     58\u001b[0m     \u001b[0mctx\u001b[0m\u001b[0;34m.\u001b[0m\u001b[0mensure_initialized\u001b[0m\u001b[0;34m(\u001b[0m\u001b[0;34m)\u001b[0m\u001b[0;34m\u001b[0m\u001b[0;34m\u001b[0m\u001b[0m\n\u001b[1;32m     59\u001b[0m     tensors = pywrap_tfe.TFE_Py_Execute(ctx._handle, device_name, op_name,\n\u001b[0;32m---> 60\u001b[0;31m                                         inputs, attrs, num_outputs)\n\u001b[0m\u001b[1;32m     61\u001b[0m   \u001b[0;32mexcept\u001b[0m \u001b[0mcore\u001b[0m\u001b[0;34m.\u001b[0m\u001b[0m_NotOkStatusException\u001b[0m \u001b[0;32mas\u001b[0m \u001b[0me\u001b[0m\u001b[0;34m:\u001b[0m\u001b[0;34m\u001b[0m\u001b[0;34m\u001b[0m\u001b[0m\n\u001b[1;32m     62\u001b[0m     \u001b[0;32mif\u001b[0m \u001b[0mname\u001b[0m \u001b[0;32mis\u001b[0m \u001b[0;32mnot\u001b[0m \u001b[0;32mNone\u001b[0m\u001b[0;34m:\u001b[0m\u001b[0;34m\u001b[0m\u001b[0;34m\u001b[0m\u001b[0m\n",
      "\u001b[0;31mKeyboardInterrupt\u001b[0m: "
     ]
    }
   ],
   "source": [
    "model.fit(\n",
    "    train_datagen, \n",
    "    steps_per_epoch = Config.STEPS_PER_EPOCH, \n",
    "    validation_data = valid_datagen, \n",
    "    validation_steps = Config.VALIDATION_STEPS_PER_EPOCH, \n",
    "    epochs = Config.TRAINING_EPOCHS,\n",
    "    verbose = 1,\n",
    "    callbacks = [earlystop, ckpt]\n",
    "    )"
   ]
  },
  {
   "cell_type": "code",
   "execution_count": 19,
   "id": "manufactured-halifax",
   "metadata": {},
   "outputs": [],
   "source": [
    "model = tensorflow.keras.models.load_model(OUTPUT_PATH / 'models' / 'regression_own')"
   ]
  },
  {
   "cell_type": "code",
   "execution_count": 20,
   "id": "worldwide-utilization",
   "metadata": {},
   "outputs": [
    {
     "name": "stdout",
     "output_type": "stream",
     "text": [
      "51/51 [==============================] - 5s 103ms/step - loss: 1.3578 - mean_absolute_error: 1.3578\n"
     ]
    },
    {
     "data": {
      "text/plain": [
       "[1.3578271865844727, 1.3578271865844727]"
      ]
     },
     "execution_count": 20,
     "metadata": {},
     "output_type": "execute_result"
    }
   ],
   "source": [
    "model.evaluate(valid_datagen, batch_size=64, steps=valid_images.shape[0] // 64)"
   ]
  },
  {
   "cell_type": "code",
   "execution_count": 31,
   "id": "descending-reaction",
   "metadata": {},
   "outputs": [
    {
     "name": "stdout",
     "output_type": "stream",
     "text": [
      "12/12 [==============================] - 0s 4ms/step - loss: 2.4645 - mean_absolute_error: 2.4645\n"
     ]
    },
    {
     "data": {
      "text/plain": [
       "[2.4645349979400635, 2.4645349979400635]"
      ]
     },
     "execution_count": 31,
     "metadata": {},
     "output_type": "execute_result"
    }
   ],
   "source": [
    "model.evaluate(test_datagen, batch_size=8, steps=test_images.shape[0])"
   ]
  },
  {
   "cell_type": "code",
   "execution_count": 58,
   "id": "tribal-tours",
   "metadata": {},
   "outputs": [
    {
     "data": {
      "text/plain": [
       "array([[  3.0532002],\n",
       "       [155.99887  ],\n",
       "       [155.99887  ],\n",
       "       [155.99887  ],\n",
       "       [155.99887  ],\n",
       "       [155.99887  ],\n",
       "       [155.99887  ],\n",
       "       [155.99887  ],\n",
       "       [155.99887  ],\n",
       "       [155.99887  ],\n",
       "       [155.99887  ],\n",
       "       [155.99887  ]], dtype=float32)"
      ]
     },
     "execution_count": 58,
     "metadata": {},
     "output_type": "execute_result"
    }
   ],
   "source": [
    "y_pred[-12:]"
   ]
  },
  {
   "cell_type": "code",
   "execution_count": 36,
   "id": "received-jewelry",
   "metadata": {},
   "outputs": [],
   "source": [
    "#valid_datagen = DataGenerator(valid_images, batch_size = 1, is_classification = False, shuffle = False)\n",
    "y_pred = model.predict(test_datagen, batch_size = 8)"
   ]
  },
  {
   "cell_type": "code",
   "execution_count": 37,
   "id": "reduced-soldier",
   "metadata": {},
   "outputs": [
    {
     "data": {
      "text/plain": [
       "(12, 1)"
      ]
     },
     "execution_count": 37,
     "metadata": {},
     "output_type": "execute_result"
    }
   ],
   "source": [
    "y_pred.shape"
   ]
  },
  {
   "cell_type": "code",
   "execution_count": 25,
   "id": "anticipated-hometown",
   "metadata": {},
   "outputs": [],
   "source": [
    "y_pred_changed = y_pred.copy()\n",
    "y_pred_changed[test_images['class'] == 1, 0] = np.array([1,6,20])[np.argmin(np.abs(y_pred_changed[test_images['class'] == 1] - [1,6,20]), axis = 1)]\n",
    "y_pred_changed[test_images['class'] == 0, 0] = np.array([3,10,30])[np.argmin(np.abs(y_pred_changed[test_images['class'] == 0] - [3,10,30]), axis = 1)]\n",
    "y_pred_changed = y_pred_changed.reshape(-1)"
   ]
  },
  {
   "cell_type": "code",
   "execution_count": 26,
   "id": "scientific-token",
   "metadata": {},
   "outputs": [
    {
     "data": {
      "text/plain": [
       "0.0"
      ]
     },
     "execution_count": 26,
     "metadata": {},
     "output_type": "execute_result"
    }
   ],
   "source": [
    "mean_absolute_error(test_images['energy'], y_pred_changed)"
   ]
  },
  {
   "cell_type": "code",
   "execution_count": 51,
   "id": "sudden-alaska",
   "metadata": {},
   "outputs": [],
   "source": [
    "model.save(OUTPUT_PATH / 'models' / 'cnn_classification')"
   ]
  }
 ],
 "metadata": {
  "kernelspec": {
   "display_name": "Python 3",
   "language": "python",
   "name": "python3"
  },
  "language_info": {
   "codemirror_mode": {
    "name": "ipython",
    "version": 3
   },
   "file_extension": ".py",
   "mimetype": "text/x-python",
   "name": "python",
   "nbconvert_exporter": "python",
   "pygments_lexer": "ipython3",
   "version": "3.6.9"
  }
 },
 "nbformat": 4,
 "nbformat_minor": 5
}
