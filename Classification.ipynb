{
 "cells": [
  {
   "cell_type": "code",
   "execution_count": 1,
   "id": "pleasant-citizen",
   "metadata": {},
   "outputs": [
    {
     "name": "stdout",
     "output_type": "stream",
     "text": [
      "INFO:tensorflow:Enabling eager execution\n",
      "INFO:tensorflow:Enabling v2 tensorshape\n",
      "INFO:tensorflow:Enabling resource variables\n",
      "INFO:tensorflow:Enabling tensor equality\n",
      "INFO:tensorflow:Enabling control flow v2\n"
     ]
    },
    {
     "name": "stderr",
     "output_type": "stream",
     "text": [
      "\u001b[34m\u001b[1mwandb\u001b[0m: Currently logged in as: \u001b[33martkulak\u001b[0m (use `wandb login --relogin` to force relogin)\n"
     ]
    },
    {
     "data": {
      "text/html": [
       "\n",
       "                Tracking run with wandb version 0.10.24<br/>\n",
       "                Syncing run <strong style=\"color:#cdcd00\">DenseNet201_pretrained_finetune_rmsprop_15layers_2021-03-31_10:48:07</strong> to <a href=\"https://wandb.ai\" target=\"_blank\">Weights & Biases</a> <a href=\"https://docs.wandb.com/integrations/jupyter.html\" target=\"_blank\">(Documentation)</a>.<br/>\n",
       "                Project page: <a href=\"https://wandb.ai/artkulak/idao-classification\" target=\"_blank\">https://wandb.ai/artkulak/idao-classification</a><br/>\n",
       "                Run page: <a href=\"https://wandb.ai/artkulak/idao-classification/runs/30kgidi8\" target=\"_blank\">https://wandb.ai/artkulak/idao-classification/runs/30kgidi8</a><br/>\n",
       "                Run data is saved locally in <code>/root/idao-2021-quals/wandb/run-20210331_104808-30kgidi8</code><br/><br/>\n",
       "            "
      ],
      "text/plain": [
       "<IPython.core.display.HTML object>"
      ]
     },
     "metadata": {},
     "output_type": "display_data"
    }
   ],
   "source": [
    "#####################\n",
    "# IMPORT LIBS\n",
    "#####################\n",
    "\n",
    "from PIL import Image\n",
    "from sklearn.model_selection import train_test_split\n",
    "from skimage import io, transform\n",
    "from skimage.transform import AffineTransform, warp\n",
    "from sklearn.metrics import roc_auc_score, mean_absolute_error\n",
    "import tensorflow as tf\n",
    "\n",
    "from tensorflow.keras.models import load_model\n",
    "from tensorflow.compat.v1.keras import backend as K\n",
    "import pandas as pd\n",
    "from pathlib import Path\n",
    "import os\n",
    "import cv2\n",
    "import matplotlib.pyplot as plt\n",
    "import numpy as np\n",
    "import random\n",
    "import glob\n",
    "import albumentations as A\n",
    "import cv2\n",
    "import wandb\n",
    "from wandb.keras import WandbCallback\n",
    "import datetime\n",
    "\n",
    "\n",
    "\n",
    "#####################\n",
    "# SET CONSTANTS\n",
    "#####################\n",
    "\n",
    "INPUT_PATH = Path('../input')\n",
    "OUTPUT_PATH = Path('../output')\n",
    "TRAIN_PATH = INPUT_PATH / 'idao_dataset' / 'train'\n",
    "PRIVATE_PATH = INPUT_PATH / 'idao_dataset' / 'private_test'\n",
    "PRIVATE_PATH_NEW = INPUT_PATH / 'idao_dataset' / 'private_test_new'\n",
    "PUBLIC_PATH = INPUT_PATH / 'idao_dataset' / 'public_test'\n",
    "\n",
    "RANDOM_SEED = 4444\n",
    "USE_WANDB = True\n",
    "\n",
    "def seed_everything(seed=1234):\n",
    "    random.seed(seed)\n",
    "    os.environ['PYTHONHASHSEED'] = str(seed)\n",
    "    np.random.seed(seed)\n",
    "seed_everything(RANDOM_SEED)\n",
    "\n",
    "\n",
    "if USE_WANDB:\n",
    "    CURRENT_TIME = str(datetime.datetime.now()).replace(' ', '_').split('.')[0]\n",
    "    RUN_NAME = 'DenseNet201_pretrained_finetune_rmsprop_15layers'\n",
    "\n",
    "    wandb.login()\n",
    "    run = wandb.init(project=\"idao-classification\", name = f'{RUN_NAME}_{CURRENT_TIME}')"
   ]
  },
  {
   "cell_type": "code",
   "execution_count": 17,
   "id": "existing-tours",
   "metadata": {},
   "outputs": [],
   "source": [
    "class Config:\n",
    "    BATCH_SIZE = 64\n",
    "    TRAINING_EPOCHS = 150\n",
    "    VALIDATION_STEPS_PER_EPOCH = 5\n",
    "    VALIDATION_EPOCHS = 10\n",
    "    STEPS_PER_EPOCH = 30\n",
    "    EARLY_STOP_PATIENCE = 15\n",
    "    \n",
    "    \n",
    "    # Declare an augmentation pipeline\n",
    "    train_transform = A.Compose([\n",
    "        #A.HorizontalFlip(p=0.5),\n",
    "        A.Cutout(num_holes=4, max_h_size=8, max_w_size=8, p=0.3),\n",
    "        A.OneOf([A.RandomContrast(),\n",
    "             A.RandomGamma(),\n",
    "             A.RandomBrightness()],p=0.2),\n",
    "        A.OneOf([A.Blur(p = 0.3),\n",
    "             A.GaussNoise(p=0.3)\n",
    "                ],p=0.5),\n",
    "        A.CLAHE(clip_limit=4, tile_grid_size=(8,8), always_apply=False, p=0.3),\n",
    "    ],)\n",
    "    \n",
    "    validation_transform = A.Compose([\n",
    "    ],)"
   ]
  },
  {
   "cell_type": "code",
   "execution_count": 3,
   "id": "alternative-values",
   "metadata": {},
   "outputs": [],
   "source": [
    "def getFeatures(img_path):\n",
    "    if len(img_path.split('_')) == 18:\n",
    "        particle_class = 1 # ER\n",
    "        particle_energy = int(img_path.split('_')[7])\n",
    "    else:\n",
    "        particle_class = 0 # HE\n",
    "        particle_energy = int(img_path.split('_')[8])\n",
    "    return [img_path, particle_class, particle_energy]\n",
    "\n",
    "images = glob.glob(str(TRAIN_PATH / '**/*.png'), recursive=True)\n",
    "images = pd.DataFrame(map(getFeatures, images))\n",
    "images.columns = ['path', 'class', 'energy']"
   ]
  },
  {
   "cell_type": "code",
   "execution_count": 4,
   "id": "lasting-script",
   "metadata": {},
   "outputs": [],
   "source": [
    "#################\n",
    "# EXTRACT TEST\n",
    "#################\n",
    "\n",
    "# HE - 0, ER - 1\n",
    "\n",
    "he_test_idx = list(images[(images['class'] == 0) & (images['energy'].apply(lambda x: x in [3, 10, 30]))].index)\n",
    "er_test_idx = list(images[(images['class'] == 1) & (images['energy'].apply(lambda x: x in [1, 6, 20]))].index)"
   ]
  },
  {
   "cell_type": "code",
   "execution_count": 5,
   "id": "federal-shock",
   "metadata": {},
   "outputs": [],
   "source": [
    "# TODO: Write this to a separate folder\n",
    "\n",
    "# 0 - [:750]\n",
    "# 1 - [750:1502]\n",
    "# 0 - [1502:7531]\n",
    "# 1 - [7531:]\n",
    "\n",
    "import glob\n",
    "private_test = glob.glob(str(PRIVATE_PATH / '**/*.png'), recursive=True)\n",
    "public_test = glob.glob(str(PUBLIC_PATH / '**/*.png'), recursive=True)\n",
    "\n",
    "sample_submission = pd.read_csv(INPUT_PATH / 'track1_leak.csv')\n",
    "private_ids = [t.split('/')[-1].split('.')[0] for t in private_test]\n",
    "public_ids = [t.split('/')[-1].split('.')[0] for t in public_test]\n",
    "\n",
    "sample_submission['path'] = sample_submission['id'].apply(lambda x: PRIVATE_PATH / f'{x}.png' if x in private_ids else PUBLIC_PATH / f'{x}.png').map(str)\n",
    "sample_submission.iloc[:750, 1] = 1\n",
    "sample_submission.iloc[750:1502, 1] = 0\n",
    "sample_submission.iloc[1502:7531, 1] = 1\n",
    "sample_submission.iloc[7531:, 1] = 0\n",
    "\n",
    "sample_submission = sample_submission.iloc[1502:].reset_index(drop = True)\n",
    "\n",
    "images_leak = pd.DataFrame(np.array([sample_submission.iloc[:, 3].values, sample_submission.iloc[:, 1].values, sample_submission.iloc[:, 2].values]).T)\n",
    "images_leak.columns = ['path', 'class', 'energy']"
   ]
  },
  {
   "cell_type": "code",
   "execution_count": 6,
   "id": "sunrise-double",
   "metadata": {},
   "outputs": [],
   "source": [
    "indexes = np.arange(images.shape[0])\n",
    "np.random.shuffle(indexes)\n",
    "\n",
    "images = images.iloc[indexes].reset_index(drop = True)\n",
    "images_public_train, images_public_val = images.iloc[:-2000], images.iloc[-2000:]"
   ]
  },
  {
   "cell_type": "code",
   "execution_count": 7,
   "id": "handmade-forward",
   "metadata": {},
   "outputs": [],
   "source": [
    "indexes = np.arange(images_leak.shape[0])\n",
    "np.random.shuffle(indexes)\n",
    "\n",
    "images_leak = images_leak.iloc[indexes].reset_index(drop = True)\n",
    "images_private_train, images_private_val = images_leak.iloc[:-2000], images_leak.iloc[-2000:]"
   ]
  },
  {
   "cell_type": "code",
   "execution_count": 8,
   "id": "stone-orientation",
   "metadata": {},
   "outputs": [],
   "source": [
    "train_images = pd.concat([images_public_train, images_private_train], axis = 0).reset_index(drop = True)\n",
    "#train_images = images_public_train.reset_index(drop = True)"
   ]
  },
  {
   "cell_type": "code",
   "execution_count": 9,
   "id": "hazardous-gabriel",
   "metadata": {},
   "outputs": [],
   "source": [
    "test_idx = he_test_idx + er_test_idx\n",
    "test_images = images.iloc[test_idx]"
   ]
  },
  {
   "cell_type": "code",
   "execution_count": 10,
   "id": "banner-deployment",
   "metadata": {},
   "outputs": [],
   "source": [
    "# images = images.drop(index = test_idx)\n",
    "\n",
    "\n",
    "# train_images, valid_images = images.iloc[:-5000], images.iloc[-5000:] \n",
    "\n",
    "#train_images, valid_images = train_test_split(images, shuffle = True, random_state = RANDOM_SEED)\n",
    "# train_images = train_images.reset_index(drop = True)\n",
    "# valid_images = valid_images.reset_index(drop = True)\n",
    "#valid_images = images_leak\n",
    "\n",
    "# train_images = images.copy()"
   ]
  },
  {
   "cell_type": "code",
   "execution_count": 11,
   "id": "accepting-distinction",
   "metadata": {},
   "outputs": [],
   "source": [
    "def calc_metric(y_binary_true, y_binary_pred, y_reg_true, y_reg_pred):\n",
    "    '''\n",
    "    Competition metric\n",
    "    '''\n",
    "    \n",
    "    roc = roc_auc_score(y_binary_true, y_binary_pred)\n",
    "    mae = mean_absolute_error(y_reg_true, y_reg_pred)\n",
    "    return 1000 * (roc - mae), roc, mae"
   ]
  },
  {
   "cell_type": "code",
   "execution_count": 12,
   "id": "flying-composition",
   "metadata": {},
   "outputs": [],
   "source": [
    "class DataGenerator(tf.keras.utils.Sequence):\n",
    "    def __init__(self, images, transform=None, batch_size=32,  shuffle=True, is_classification = True, augment = False):\n",
    "        self.images = images\n",
    "        self.indices = np.arange(len(images))\n",
    "        self.transform = transform\n",
    "        self.batch_size = batch_size\n",
    "        self.shuffle = shuffle\n",
    "        self.augment = augment\n",
    "        self.is_classification = is_classification\n",
    "        \n",
    "        self.on_epoch_end()\n",
    "\n",
    "    def __len__(self):\n",
    "        return len(self.images) // self.batch_size\n",
    "\n",
    "    def __getitem__(self, index):\n",
    "        index = self.index[index * self.batch_size:(index + 1) * self.batch_size]\n",
    "        batch = [self.indices[k] for k in index]\n",
    "    \n",
    "        X, y = self.__get_data(batch)\n",
    "        return X, y\n",
    "\n",
    "    def on_epoch_end(self):\n",
    "        self.index = np.arange(len(self.indices))\n",
    "        if self.shuffle:\n",
    "            np.random.shuffle(self.index)\n",
    "\n",
    "    def __get_data(self, batch):\n",
    "        X = np.zeros((self.batch_size, 128, 128, 3))\n",
    "        y_class = np.zeros((self.batch_size,))\n",
    "        y_energy = np.zeros((self.batch_size))\n",
    "        for i, idx in enumerate(batch):\n",
    "            image=cv2.imread(self.images.iloc[idx, 0])\n",
    "            center = image.shape[0] // 2\n",
    "            image = image[center-128//2:center+128//2,center-128//2:center+128//2, :]\n",
    "            X[i,] = image\n",
    "            \n",
    "            if self.augment:\n",
    "                X[i, ] = Config.train_transform(image=X[i,].astype(np.uint8))['image']\n",
    "            particle_class = self.images.iloc[idx, 1]\n",
    "            particle_energy = self.images.iloc[idx, 2]\n",
    "            y_class[i] = particle_class\n",
    "            y_energy[i] = particle_energy\n",
    "        if self.is_classification:\n",
    "            return X / 255.0, y_class\n",
    "        return X / 255.0, y_energy\n"
   ]
  },
  {
   "cell_type": "code",
   "execution_count": 13,
   "id": "available-blackjack",
   "metadata": {},
   "outputs": [],
   "source": [
    "train_datagen = DataGenerator(train_images, batch_size = Config.BATCH_SIZE, is_classification = True, augment = False)\n",
    "valid_datagen_public = DataGenerator(images_public_val, batch_size = Config.BATCH_SIZE, is_classification = True)\n",
    "valid_datagen_private = DataGenerator(images_private_val, batch_size = Config.BATCH_SIZE, is_classification = True)\n",
    "test_datagen = DataGenerator(test_images, batch_size = 1, is_classification = True, shuffle = False)"
   ]
  },
  {
   "cell_type": "code",
   "execution_count": 14,
   "id": "aware-peter",
   "metadata": {},
   "outputs": [],
   "source": [
    "# Example data extract\n",
    "\n",
    "X, y_class = train_datagen.__getitem__(0)"
   ]
  },
  {
   "cell_type": "code",
   "execution_count": 15,
   "id": "inclusive-boundary",
   "metadata": {},
   "outputs": [
    {
     "data": {
      "text/plain": [
       "<matplotlib.image.AxesImage at 0x7fd54d19d470>"
      ]
     },
     "execution_count": 15,
     "metadata": {},
     "output_type": "execute_result"
    },
    {
     "data": {
      "image/png": "[encoded data removed]",
      "text/plain": [
       "<Figure size 432x288 with 1 Axes>"
      ]
     },
     "metadata": {
      "needs_background": "light"
     },
     "output_type": "display_data"
    }
   ],
   "source": [
    "idx = 17\n",
    "plt.imshow((X[idx] * 255).astype(np.uint8))"
   ]
  },
  {
   "cell_type": "markdown",
   "id": "introductory-stocks",
   "metadata": {},
   "source": [
    "## Class model"
   ]
  },
  {
   "cell_type": "code",
   "execution_count": 16,
   "id": "violent-marker",
   "metadata": {},
   "outputs": [],
   "source": [
    "import tensorflow as tf\n",
    "from tensorflow.keras.applications.vgg16 import VGG16\n",
    "from tensorflow.keras.applications.mobilenet_v2 import MobileNetV2\n",
    "from tensorflow.keras.preprocessing import image\n",
    "from tensorflow.keras.applications.vgg16 import preprocess_input\n",
    "from tensorflow.keras.applications import ResNet152V2, ResNet50\n",
    "from tensorflow.keras.applications import NASNetLarge, EfficientNetB3, InceptionResNetV2\n",
    "from tensorflow.keras.applications.densenet import DenseNet121, DenseNet169, DenseNet201\n",
    "\n",
    "from tensorflow.keras.applications import EfficientNetB0\n",
    "import numpy as np\n",
    "\n",
    "base_model = DenseNet201(weights='imagenet', include_top=False, input_shape=(128,128,3))\n",
    "MODEL_NAME = 'classification_DenseNet201'"
   ]
  },
  {
   "cell_type": "code",
   "execution_count": 18,
   "id": "resistant-demonstration",
   "metadata": {},
   "outputs": [],
   "source": [
    "from tensorflow.keras import layers as L\n",
    "from tensorflow.keras.models import Model\n",
    "import tensorflow as tf\n",
    "import tensorflow.keras\n",
    "import tensorflow\n",
    "from tensorflow.keras import regularizers\n",
    "\n",
    "earlystop = tensorflow.keras.callbacks.EarlyStopping(monitor='val_auc', patience=Config.EARLY_STOP_PATIENCE)\n",
    "ckpt = tensorflow.keras.callbacks.ModelCheckpoint(OUTPUT_PATH / 'models' / MODEL_NAME, save_best_only=True, monitor='val_auc', mode='max')\n",
    "    \n",
    "def create_classification_model(base_model, l2_loss_lambda = 1e-4):\n",
    "    for layer in base_model.layers[:-15]:\n",
    "        layer.trainable = False\n",
    "        \n",
    "    x = base_model.output\n",
    "    x = L.GlobalAveragePooling2D()(x)\n",
    "    # let's add a fully-connected layer\n",
    "    x = L.Dense(512, activation='relu')(x)\n",
    "    x = L.Dense(64, activation='relu')(x)\n",
    "    # and a logistic layer -- let's say we have 200 classes\n",
    "    predictions = L.Dense(1, activation='sigmoid')(x)\n",
    "\n",
    "    # this is the model we will train\n",
    "    model = Model(inputs=base_model.input, outputs=predictions)\n",
    "\n",
    "\n",
    "    # compile the model (should be done *after* setting layers to non-trainable)\n",
    "    model.compile(optimizer=tensorflow.keras.optimizers.RMSprop(learning_rate=1e-3), loss='binary_crossentropy', metrics = ['AUC'])\n",
    "    return model"
   ]
  },
  {
   "cell_type": "code",
   "execution_count": 19,
   "id": "guided-making",
   "metadata": {},
   "outputs": [],
   "source": [
    "model = create_classification_model(base_model)"
   ]
  },
  {
   "cell_type": "code",
   "execution_count": 20,
   "id": "personalized-companion",
   "metadata": {},
   "outputs": [],
   "source": [
    "class ModelCustomEval(tf.keras.callbacks.Callback):\n",
    "    def on_epoch_end(self, epoch, logs=None):\n",
    "#         public_val_loss, public_val_auc = self.model.evaluate(valid_datagen_public, batch_size=Config.BATCH_SIZE, steps=Config.VALIDATION_STEPS_PER_EPOCH)\n",
    "#         wandb.log({'public_val_loss': public_val_loss, 'public_val_auc': public_val_auc})\n",
    "        \n",
    "        private_val_loss, private_val_auc = self.model.evaluate(valid_datagen_private, batch_size=Config.BATCH_SIZE, steps=Config.VALIDATION_STEPS_PER_EPOCH)\n",
    "        wandb.log({'private_val_loss': private_val_loss, 'private_val_auc': private_val_auc})\n",
    "        \n",
    "        private_test_loss, private_test_auc = self.model.evaluate(test_datagen, batch_size=8, steps=test_images.shape[0])\n",
    "        wandb.log({'private_test_loss': private_test_loss, 'private_test_auc': private_test_auc})\n",
    "        \n",
    "        print(f'Private val AUC is {private_val_auc}')\n",
    "        print(f'Private test AUC is {private_test_auc}')"
   ]
  },
  {
   "cell_type": "code",
   "execution_count": 21,
   "id": "dominican-market",
   "metadata": {
    "scrolled": false
   },
   "outputs": [
    {
     "name": "stdout",
     "output_type": "stream",
     "text": [
      "Epoch 1/150\n",
      "30/30 [==============================] - 23s 375ms/step - loss: 0.8626 - auc: 0.7160 - val_loss: 0.3042 - val_auc: 0.9758\n",
      "INFO:tensorflow:Assets written to: ../output/models/classification_DenseNet201/assets\n",
      "5/5 [==============================] - 1s 221ms/step - loss: 0.4316 - auc: 0.8784\n",
      "12/12 [==============================] - 1s 28ms/step - loss: 0.3184 - auc: 1.0000\n",
      "Private val AUC is 0.8784482479095459\n",
      "Private test AUC is 1.0\n",
      "Epoch 2/150\n",
      "30/30 [==============================] - 8s 264ms/step - loss: 0.3305 - auc: 0.9275 - val_loss: 0.8271 - val_auc: 0.8957\n",
      "5/5 [==============================] - 1s 225ms/step - loss: 0.8103 - auc: 0.8616\n",
      "12/12 [==============================] - 0s 26ms/step - loss: 1.1264 - auc: 0.9429\n",
      "Private val AUC is 0.861561119556427\n",
      "Private test AUC is 0.9428571462631226\n",
      "Epoch 3/150\n",
      "30/30 [==============================] - 8s 261ms/step - loss: 0.3474 - auc: 0.9270 - val_loss: 0.1821 - val_auc: 0.9834\n",
      "INFO:tensorflow:Assets written to: ../output/models/classification_DenseNet201/assets\n",
      "5/5 [==============================] - 1s 214ms/step - loss: 0.3656 - auc: 0.9078\n",
      "12/12 [==============================] - 0s 25ms/step - loss: 0.1599 - auc: 1.0000\n",
      "Private val AUC is 0.9078143835067749\n",
      "Private test AUC is 1.0\n",
      "Epoch 4/150\n",
      "30/30 [==============================] - 8s 256ms/step - loss: 0.2677 - auc: 0.9474 - val_loss: 1.2741 - val_auc: 0.8540\n",
      "5/5 [==============================] - 1s 209ms/step - loss: 1.1843 - auc: 0.8555\n",
      "12/12 [==============================] - 0s 26ms/step - loss: 1.7048 - auc: 0.8286\n",
      "Private val AUC is 0.8554951548576355\n",
      "Private test AUC is 0.8285714387893677\n",
      "Epoch 5/150\n",
      "30/30 [==============================] - 8s 256ms/step - loss: 0.3182 - auc: 0.9356 - val_loss: 1.1076 - val_auc: 0.8615\n",
      "5/5 [==============================] - 1s 214ms/step - loss: 1.1180 - auc: 0.8767 0s - loss: 1.0527 - auc: 0.88\n",
      "12/12 [==============================] - 0s 26ms/step - loss: 1.7807 - auc: 0.8286\n",
      "Private val AUC is 0.8766865134239197\n",
      "Private test AUC is 0.8285714387893677\n",
      "Epoch 6/150\n",
      "30/30 [==============================] - 8s 254ms/step - loss: 0.2874 - auc: 0.9455 - val_loss: 0.2313 - val_auc: 0.9887\n",
      "INFO:tensorflow:Assets written to: ../output/models/classification_DenseNet201/assets\n",
      "5/5 [==============================] - 1s 212ms/step - loss: 0.3249 - auc: 0.9261\n",
      "12/12 [==============================] - 0s 25ms/step - loss: 0.1620 - auc: 1.0000\n",
      "Private val AUC is 0.9260525703430176\n",
      "Private test AUC is 1.0\n",
      "Epoch 7/150\n",
      "30/30 [==============================] - 8s 258ms/step - loss: 0.2213 - auc: 0.9652 - val_loss: 0.1887 - val_auc: 0.9807\n",
      "5/5 [==============================] - 1s 203ms/step - loss: 0.3689 - auc: 0.9080\n",
      "12/12 [==============================] - 0s 25ms/step - loss: 0.2205 - auc: 0.9714\n",
      "Private val AUC is 0.9079590439796448\n",
      "Private test AUC is 0.9714285731315613\n",
      "Epoch 8/150\n",
      "30/30 [==============================] - 8s 257ms/step - loss: 0.2845 - auc: 0.9462 - val_loss: 0.0557 - val_auc: 0.9955\n",
      "INFO:tensorflow:Assets written to: ../output/models/classification_DenseNet201/assets\n",
      "5/5 [==============================] - 1s 213ms/step - loss: 0.5565 - auc: 0.9130\n",
      "12/12 [==============================] - 0s 25ms/step - loss: 0.0280 - auc: 1.0000\n",
      "Private val AUC is 0.9130443930625916\n",
      "Private test AUC is 1.0\n",
      "Epoch 9/150\n",
      "30/30 [==============================] - 8s 253ms/step - loss: 0.2665 - auc: 0.9520 - val_loss: 0.1744 - val_auc: 0.9998\n",
      "INFO:tensorflow:Assets written to: ../output/models/classification_DenseNet201/assets\n",
      "5/5 [==============================] - 1s 210ms/step - loss: 0.4460 - auc: 0.8859\n",
      "12/12 [==============================] - 0s 25ms/step - loss: 0.2281 - auc: 1.0000\n",
      "Private val AUC is 0.8858704566955566\n",
      "Private test AUC is 1.0\n",
      "Epoch 10/150\n",
      "30/30 [==============================] - 8s 252ms/step - loss: 0.2672 - auc: 0.9509 - val_loss: 0.1930 - val_auc: 0.9875\n",
      "5/5 [==============================] - 1s 204ms/step - loss: 0.4553 - auc: 0.8995\n",
      "12/12 [==============================] - 0s 25ms/step - loss: 0.2872 - auc: 1.0000\n",
      "Private val AUC is 0.8994872570037842\n",
      "Private test AUC is 1.0\n",
      "Epoch 11/150\n",
      "30/30 [==============================] - 7s 250ms/step - loss: 0.2834 - auc: 0.9473 - val_loss: 0.1326 - val_auc: 0.9934\n",
      "5/5 [==============================] - 1s 200ms/step - loss: 0.4422 - auc: 0.9042\n",
      "12/12 [==============================] - 0s 26ms/step - loss: 0.4312 - auc: 1.0000\n",
      "Private val AUC is 0.9042154550552368\n",
      "Private test AUC is 1.0\n",
      "Epoch 12/150\n",
      "30/30 [==============================] - 8s 253ms/step - loss: 0.2397 - auc: 0.9596 - val_loss: 0.0365 - val_auc: 1.0000\n",
      "INFO:tensorflow:Assets written to: ../output/models/classification_DenseNet201/assets\n",
      "5/5 [==============================] - 1s 214ms/step - loss: 0.5666 - auc: 0.8920\n",
      "12/12 [==============================] - 0s 27ms/step - loss: 0.0437 - auc: 1.0000\n",
      "Private val AUC is 0.8920445442199707\n",
      "Private test AUC is 1.0\n",
      "Epoch 13/150\n",
      "30/30 [==============================] - 8s 252ms/step - loss: 0.2546 - auc: 0.9576 - val_loss: 0.0675 - val_auc: 0.9957\n",
      "5/5 [==============================] - 1s 207ms/step - loss: 0.4941 - auc: 0.8918\n",
      "12/12 [==============================] - 0s 25ms/step - loss: 0.0381 - auc: 1.0000\n",
      "Private val AUC is 0.8917839527130127\n",
      "Private test AUC is 1.0\n",
      "Epoch 14/150\n",
      "30/30 [==============================] - 8s 252ms/step - loss: 0.2947 - auc: 0.9424 - val_loss: 0.0294 - val_auc: 1.0000\n",
      "INFO:tensorflow:Assets written to: ../output/models/classification_DenseNet201/assets\n",
      "5/5 [==============================] - 1s 204ms/step - loss: 0.3635 - auc: 0.9292\n",
      "12/12 [==============================] - 0s 24ms/step - loss: 0.0508 - auc: 1.0000\n",
      "Private val AUC is 0.92918860912323\n",
      "Private test AUC is 1.0\n",
      "Epoch 15/150\n",
      "30/30 [==============================] - 8s 253ms/step - loss: 0.2290 - auc: 0.9650 - val_loss: 0.1062 - val_auc: 0.9928\n",
      "5/5 [==============================] - 1s 197ms/step - loss: 0.3745 - auc: 0.9207\n",
      "12/12 [==============================] - 0s 24ms/step - loss: 0.0313 - auc: 1.0000\n",
      "Private val AUC is 0.9206777215003967\n",
      "Private test AUC is 1.0\n",
      "Epoch 16/150\n",
      "30/30 [==============================] - 7s 250ms/step - loss: 0.2306 - auc: 0.9665 - val_loss: 0.1203 - val_auc: 0.9994\n",
      "5/5 [==============================] - 1s 200ms/step - loss: 0.4558 - auc: 0.9025\n",
      "12/12 [==============================] - 0s 24ms/step - loss: 0.2290 - auc: 1.0000\n",
      "Private val AUC is 0.9025262594223022\n",
      "Private test AUC is 1.0\n",
      "Epoch 17/150\n",
      "30/30 [==============================] - 8s 251ms/step - loss: 0.2358 - auc: 0.9620 - val_loss: 0.0454 - val_auc: 1.0000\n",
      "5/5 [==============================] - 1s 205ms/step - loss: 0.5288 - auc: 0.9228\n",
      "12/12 [==============================] - 0s 24ms/step - loss: 0.2877 - auc: 1.0000\n",
      "Private val AUC is 0.9228177070617676\n",
      "Private test AUC is 1.0\n",
      "Epoch 18/150\n",
      "30/30 [==============================] - 7s 249ms/step - loss: 0.2618 - auc: 0.9578 - val_loss: 0.1330 - val_auc: 0.9911\n",
      "5/5 [==============================] - 1s 204ms/step - loss: 0.3443 - auc: 0.9173\n",
      "12/12 [==============================] - 0s 24ms/step - loss: 0.0752 - auc: 1.0000\n",
      "Private val AUC is 0.9173004627227783\n",
      "Private test AUC is 1.0\n",
      "Epoch 19/150\n",
      "30/30 [==============================] - 7s 249ms/step - loss: 0.2582 - auc: 0.9556 - val_loss: 0.0927 - val_auc: 0.9948\n",
      "5/5 [==============================] - 1s 198ms/step - loss: 0.4562 - auc: 0.9050\n",
      "12/12 [==============================] - 0s 24ms/step - loss: 0.2846 - auc: 1.0000\n",
      "Private val AUC is 0.9049883484840393\n",
      "Private test AUC is 1.0\n"
     ]
    }
   ],
   "source": [
    "if USE_WANDB:\n",
    "    model.fit(\n",
    "        train_datagen, \n",
    "        steps_per_epoch = Config.STEPS_PER_EPOCH, \n",
    "        validation_data = valid_datagen_public, \n",
    "        validation_steps = Config.VALIDATION_STEPS_PER_EPOCH, \n",
    "        epochs = Config.TRAINING_EPOCHS,\n",
    "        verbose = 1,\n",
    "        callbacks = [earlystop, ckpt, WandbCallback(), ModelCustomEval()]\n",
    "        )\n",
    "else:\n",
    "    model.fit(\n",
    "        train_datagen, \n",
    "        steps_per_epoch = Config.STEPS_PER_EPOCH, \n",
    "        validation_data = valid_datagen_public, \n",
    "        validation_steps = Config.VALIDATION_STEPS_PER_EPOCH, \n",
    "        epochs = Config.TRAINING_EPOCHS,\n",
    "        verbose = 1,\n",
    "        callbacks = [earlystop, ckpt]\n",
    "        )"
   ]
  },
  {
   "cell_type": "code",
   "execution_count": 26,
   "id": "hindu-tampa",
   "metadata": {},
   "outputs": [],
   "source": [
    "model = tensorflow.keras.models.load_model(OUTPUT_PATH / 'models' / MODEL_NAME)"
   ]
  },
  {
   "cell_type": "code",
   "execution_count": 27,
   "id": "alien-carry",
   "metadata": {},
   "outputs": [
    {
     "name": "stdout",
     "output_type": "stream",
     "text": [
      "5/5 [==============================] - 4s 215ms/step - loss: 0.4108 - auc: 0.9162\n"
     ]
    }
   ],
   "source": [
    "private_val_loss, private_val_auc = model.evaluate(valid_datagen_private, batch_size=Config.BATCH_SIZE, steps=Config.VALIDATION_STEPS_PER_EPOCH)\n",
    "wandb.run.summary[\"private_val_auc\"] = private_val_auc"
   ]
  },
  {
   "cell_type": "code",
   "execution_count": 28,
   "id": "reflected-restaurant",
   "metadata": {},
   "outputs": [
    {
     "name": "stdout",
     "output_type": "stream",
     "text": [
      "12/12 [==============================] - 0s 25ms/step - loss: 0.0508 - auc: 1.0000\n"
     ]
    }
   ],
   "source": [
    "private_test_loss, private_test_auc = model.evaluate(test_datagen, batch_size=1, steps=test_images.shape[0])\n",
    "wandb.run.summary[\"private_test_auc\"] = private_test_auc"
   ]
  },
  {
   "cell_type": "code",
   "execution_count": 29,
   "id": "transsexual-stuart",
   "metadata": {},
   "outputs": [
    {
     "name": "stdout",
     "output_type": "stream",
     "text": [
      "[[3.7835525e-05]\n",
      " [6.5602857e-01]\n",
      " [8.6588372e-08]\n",
      " [2.9589998e-02]\n",
      " [9.2120701e-01]\n",
      " [9.9348551e-01]\n",
      " [9.9216062e-01]\n",
      " [9.7668242e-01]\n",
      " [9.6681345e-01]\n",
      " [9.9579972e-01]\n",
      " [7.3611620e-05]\n",
      " [1.6570173e-04]]\n"
     ]
    }
   ],
   "source": [
    "y_pred = model.predict(test_datagen)\n",
    "print(y_pred)"
   ]
  },
  {
   "cell_type": "code",
   "execution_count": 30,
   "id": "domestic-circulation",
   "metadata": {},
   "outputs": [
    {
     "data": {
      "text/html": [
       "<br/>Waiting for W&B process to finish, PID 22956<br/>Program ended successfully."
      ],
      "text/plain": [
       "<IPython.core.display.HTML object>"
      ]
     },
     "metadata": {},
     "output_type": "display_data"
    },
    {
     "data": {
      "application/vnd.jupyter.widget-view+json": {
       "model_id": "",
       "version_major": 2,
       "version_minor": 0
      },
      "text/plain": [
       "VBox(children=(Label(value=' 82.03MB of 82.03MB uploaded (0.00MB deduped)\\r'), FloatProgress(value=1.0, max=1.…"
      ]
     },
     "metadata": {},
     "output_type": "display_data"
    },
    {
     "data": {
      "text/html": [
       "Find user logs for this run at: <code>/root/idao-2021-quals/wandb/run-20210331_104808-30kgidi8/logs/debug.log</code>"
      ],
      "text/plain": [
       "<IPython.core.display.HTML object>"
      ]
     },
     "metadata": {},
     "output_type": "display_data"
    },
    {
     "data": {
      "text/html": [
       "Find internal logs for this run at: <code>/root/idao-2021-quals/wandb/run-20210331_104808-30kgidi8/logs/debug-internal.log</code>"
      ],
      "text/plain": [
       "<IPython.core.display.HTML object>"
      ]
     },
     "metadata": {},
     "output_type": "display_data"
    },
    {
     "data": {
      "text/html": [
       "<h3>Run summary:</h3><br/><style>\n",
       "    table.wandb td:nth-child(1) { padding: 0 10px; text-align: right }\n",
       "    </style><table class=\"wandb\">\n",
       "<tr><td>epoch</td><td>18</td></tr><tr><td>loss</td><td>0.25712</td></tr><tr><td>auc</td><td>0.95479</td></tr><tr><td>val_loss</td><td>0.09267</td></tr><tr><td>val_auc</td><td>0.99476</td></tr><tr><td>_runtime</td><td>763</td></tr><tr><td>_timestamp</td><td>1617188451</td></tr><tr><td>_step</td><td>56</td></tr><tr><td>best_val_loss</td><td>0.02943</td></tr><tr><td>best_epoch</td><td>13</td></tr><tr><td>private_val_loss</td><td>0.45618</td></tr><tr><td>private_val_auc</td><td>0.91625</td></tr><tr><td>private_test_loss</td><td>0.28456</td></tr><tr><td>private_test_auc</td><td>1.0</td></tr></table>"
      ],
      "text/plain": [
       "<IPython.core.display.HTML object>"
      ]
     },
     "metadata": {},
     "output_type": "display_data"
    },
    {
     "data": {
      "text/html": [
       "<h3>Run history:</h3><br/><style>\n",
       "    table.wandb td:nth-child(1) { padding: 0 10px; text-align: right }\n",
       "    </style><table class=\"wandb\">\n",
       "<tr><td>epoch</td><td>▁▁▂▂▃▃▃▄▄▅▅▅▆▆▆▇▇██</td></tr><tr><td>loss</td><td>█▃▂▂▂▂▁▂▂▂▂▁▁▂▁▁▁▂▂</td></tr><tr><td>auc</td><td>▁▆▇▇▇▇██▇▇▇██▇█████</td></tr><tr><td>val_loss</td><td>▃▅▂█▇▂▂▁▂▂▂▁▁▁▁▂▁▂▁</td></tr><tr><td>val_auc</td><td>▇▃▇▁▁▇▇██▇█████████</td></tr><tr><td>_runtime</td><td>▁▁▁▁▁▂▂▂▂▂▂▃▃▃▃▄▄▅▅▅▅▅▅▆▆▆▇▇▇▇██████████</td></tr><tr><td>_timestamp</td><td>▁▁▁▁▁▂▂▂▂▂▂▃▃▃▃▄▄▅▅▅▅▅▅▆▆▆▇▇▇▇██████████</td></tr><tr><td>_step</td><td>▁▁▁▁▂▂▂▂▂▃▃▃▃▃▃▄▄▄▄▄▅▅▅▅▅▅▆▆▆▆▆▇▇▇▇▇▇███</td></tr><tr><td>private_val_loss</td><td>▂▅▁█▇▁▁▃▂▂▂▃▂▁▁▂▃▁▂</td></tr><tr><td>private_val_auc</td><td>▃▂▆▁▃█▆▆▄▅▆▄▄█▇▅▇▇▆</td></tr><tr><td>private_test_loss</td><td>▂▅▂██▂▂▁▂▂▃▁▁▁▁▂▂▁▂</td></tr><tr><td>private_test_auc</td><td>█▆█▁▁█▇████████████</td></tr></table><br/>"
      ],
      "text/plain": [
       "<IPython.core.display.HTML object>"
      ]
     },
     "metadata": {},
     "output_type": "display_data"
    },
    {
     "data": {
      "text/html": [
       "Synced 6 W&B file(s), 1 media file(s), 0 artifact file(s) and 2 other file(s)"
      ],
      "text/plain": [
       "<IPython.core.display.HTML object>"
      ]
     },
     "metadata": {},
     "output_type": "display_data"
    },
    {
     "data": {
      "text/html": [
       "\n",
       "                    <br/>Synced <strong style=\"color:#cdcd00\">DenseNet201_pretrained_finetune_rmsprop_15layers_2021-03-31_10:48:07</strong>: <a href=\"https://wandb.ai/artkulak/idao-classification/runs/30kgidi8\" target=\"_blank\">https://wandb.ai/artkulak/idao-classification/runs/30kgidi8</a><br/>\n",
       "                "
      ],
      "text/plain": [
       "<IPython.core.display.HTML object>"
      ]
     },
     "metadata": {},
     "output_type": "display_data"
    }
   ],
   "source": [
    "if USE_WANDB:\n",
    "    run.finish()"
   ]
  },
  {
   "cell_type": "code",
   "execution_count": 172,
   "id": "rural-processor",
   "metadata": {},
   "outputs": [],
   "source": [
    "# model.save(OUTPUT_PATH / 'models' / 'cnn_classification')"
   ]
  },
  {
   "cell_type": "markdown",
   "id": "integrated-niger",
   "metadata": {},
   "source": [
    "## Score calc"
   ]
  },
  {
   "cell_type": "code",
   "execution_count": 51,
   "id": "color-ecology",
   "metadata": {},
   "outputs": [],
   "source": [
    "auc = lambda score_orig, score_swapped: score_orig/1000 + 1/2 * (1 - (score_swapped + score_orig)/1000) \n",
    "mae = lambda score_orig, score_swapped: 1/2 * (1 - (score_swapped + score_orig)/1000) "
   ]
  },
  {
   "cell_type": "code",
   "execution_count": 54,
   "id": "fossil-illness",
   "metadata": {},
   "outputs": [
    {
     "data": {
      "text/plain": [
       "0.9538300000000001"
      ]
     },
     "execution_count": 54,
     "metadata": {},
     "output_type": "execute_result"
    }
   ],
   "source": [
    "auc(-98.88, -1006.54)"
   ]
  },
  {
   "cell_type": "code",
   "execution_count": 55,
   "id": "humanitarian-bargain",
   "metadata": {},
   "outputs": [
    {
     "data": {
      "text/plain": [
       "1.05271"
      ]
     },
     "execution_count": 55,
     "metadata": {},
     "output_type": "execute_result"
    }
   ],
   "source": [
    "mae(-98.88, -1006.54)"
   ]
  }
 ],
 "metadata": {
  "kernelspec": {
   "display_name": "Python 3",
   "language": "python",
   "name": "python3"
  },
  "language_info": {
   "codemirror_mode": {
    "name": "ipython",
    "version": 3
   },
   "file_extension": ".py",
   "mimetype": "text/x-python",
   "name": "python",
   "nbconvert_exporter": "python",
   "pygments_lexer": "ipython3",
   "version": "3.6.9"
  }
 },
 "nbformat": 4,
 "nbformat_minor": 5
}
