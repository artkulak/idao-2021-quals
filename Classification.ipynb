{
 "cells": [
  {
   "cell_type": "code",
   "execution_count": 2,
   "id": "pleasant-citizen",
   "metadata": {},
   "outputs": [
    {
     "name": "stdout",
     "output_type": "stream",
     "text": [
      "INFO:tensorflow:Enabling eager execution\n",
      "INFO:tensorflow:Enabling v2 tensorshape\n",
      "INFO:tensorflow:Enabling resource variables\n",
      "INFO:tensorflow:Enabling tensor equality\n",
      "INFO:tensorflow:Enabling control flow v2\n"
     ]
    },
    {
     "name": "stderr",
     "output_type": "stream",
     "text": [
      "\u001b[34m\u001b[1mwandb\u001b[0m: You can find your API key in your browser here: https://wandb.ai/authorize\n"
     ]
    },
    {
     "name": "stdout",
     "output_type": "stream",
     "text": [
      "wandb: Paste an API key from your profile and hit enter: ········\n"
     ]
    },
    {
     "name": "stderr",
     "output_type": "stream",
     "text": [
      "\u001b[34m\u001b[1mwandb\u001b[0m: Appending key for api.wandb.ai to your netrc file: /root/.netrc\n",
      "\u001b[34m\u001b[1mwandb\u001b[0m: Currently logged in as: \u001b[33martkulak\u001b[0m (use `wandb login --relogin` to force relogin)\n"
     ]
    },
    {
     "data": {
      "text/html": [
       "\n",
       "                Tracking run with wandb version 0.10.24<br/>\n",
       "                Syncing run <strong style=\"color:#cdcd00\">init_rerun_2021-03-31_06:01:36</strong> to <a href=\"https://wandb.ai\" target=\"_blank\">Weights & Biases</a> <a href=\"https://docs.wandb.com/integrations/jupyter.html\" target=\"_blank\">(Documentation)</a>.<br/>\n",
       "                Project page: <a href=\"https://wandb.ai/artkulak/idao-classification\" target=\"_blank\">https://wandb.ai/artkulak/idao-classification</a><br/>\n",
       "                Run page: <a href=\"https://wandb.ai/artkulak/idao-classification/runs/35n4x7mi\" target=\"_blank\">https://wandb.ai/artkulak/idao-classification/runs/35n4x7mi</a><br/>\n",
       "                Run data is saved locally in <code>/root/idao-2021-quals/wandb/run-20210331_060143-35n4x7mi</code><br/><br/>\n",
       "            "
      ],
      "text/plain": [
       "<IPython.core.display.HTML object>"
      ]
     },
     "metadata": {},
     "output_type": "display_data"
    }
   ],
   "source": [
    "#####################\n",
    "# IMPORT LIBS\n",
    "#####################\n",
    "\n",
    "from PIL import Image\n",
    "from sklearn.model_selection import train_test_split\n",
    "from skimage import io, transform\n",
    "from skimage.transform import AffineTransform, warp\n",
    "from sklearn.metrics import roc_auc_score, mean_absolute_error\n",
    "import tensorflow as tf\n",
    "\n",
    "from tensorflow.keras.models import load_model\n",
    "from tensorflow.compat.v1.keras import backend as K\n",
    "\n",
    "import pandas as pd\n",
    "from pathlib import Path\n",
    "import os\n",
    "import cv2\n",
    "import matplotlib.pyplot as plt\n",
    "import numpy as np\n",
    "import random\n",
    "import glob\n",
    "import albumentations as A\n",
    "import cv2\n",
    "import wandb\n",
    "from wandb.keras import WandbCallback\n",
    "import datetime\n",
    "\n",
    "\n",
    "\n",
    "#####################\n",
    "# SET CONSTANTS\n",
    "#####################\n",
    "\n",
    "INPUT_PATH = Path('../input')\n",
    "OUTPUT_PATH = Path('../output')\n",
    "TRAIN_PATH = INPUT_PATH / 'idao_dataset' / 'train'\n",
    "PRIVATE_PATH = INPUT_PATH / 'idao_dataset' / 'private_test'\n",
    "PRIVATE_PATH_NEW = INPUT_PATH / 'idao_dataset' / 'private_test_new'\n",
    "PUBLIC_PATH = INPUT_PATH / 'idao_dataset' / 'public_test'\n",
    "\n",
    "RANDOM_SEED = 4444\n",
    "USE_WANDB = True\n",
    "\n",
    "def seed_everything(seed=1234):\n",
    "    random.seed(seed)\n",
    "    os.environ['PYTHONHASHSEED'] = str(seed)\n",
    "    np.random.seed(seed)\n",
    "seed_everything(RANDOM_SEED)\n",
    "\n",
    "\n",
    "if USE_WANDB:\n",
    "    CURRENT_TIME = str(datetime.datetime.now()).replace(' ', '_').split('.')[0]\n",
    "    RUN_NAME = 'init_rerun'\n",
    "\n",
    "    wandb.login()\n",
    "    wandb.init(project=\"idao-classification\", name = f'{RUN_NAME}_{CURRENT_TIME}')"
   ]
  },
  {
   "cell_type": "code",
   "execution_count": 3,
   "id": "existing-tours",
   "metadata": {},
   "outputs": [],
   "source": [
    "class Config:\n",
    "    BATCH_SIZE = 32\n",
    "    TRAINING_EPOCHS = 150\n",
    "    VALIDATION_STEPS_PER_EPOCH = 5\n",
    "    VALIDATION_EPOCHS = 10\n",
    "    STEPS_PER_EPOCH = 30\n",
    "    EARLY_STOP_PATIENCE = 5\n",
    "    \n",
    "    \n",
    "    # Declare an augmentation pipeline\n",
    "    train_transform = A.Compose([\n",
    "        #A.HorizontalFlip(p=0.5),\n",
    "        A.Cutout(num_holes=4, max_h_size=8, max_w_size=8, p=0.3),\n",
    "        A.OneOf([A.RandomContrast(),\n",
    "             A.RandomGamma(),\n",
    "             A.RandomBrightness()],p=0.2),\n",
    "        A.OneOf([A.Blur(p = 0.3),\n",
    "             A.GaussNoise(p=0.3)\n",
    "                ],p=0.5),\n",
    "        A.CLAHE(clip_limit=4, tile_grid_size=(8,8), always_apply=False, p=0.3),\n",
    "    ],)\n",
    "    \n",
    "    validation_transform = A.Compose([\n",
    "    ],)"
   ]
  },
  {
   "cell_type": "code",
   "execution_count": 4,
   "id": "alternative-values",
   "metadata": {},
   "outputs": [],
   "source": [
    "def getFeatures(img_path):\n",
    "    if len(img_path.split('_')) == 18:\n",
    "        particle_class = 1 # ER\n",
    "        particle_energy = int(img_path.split('_')[7])\n",
    "    else:\n",
    "        particle_class = 0 # HE\n",
    "        particle_energy = int(img_path.split('_')[8])\n",
    "    return [img_path, particle_class, particle_energy]\n",
    "\n",
    "images = glob.glob(str(TRAIN_PATH / '**/*.png'), recursive=True)\n",
    "images = pd.DataFrame(map(getFeatures, images))\n",
    "images.columns = ['path', 'class', 'energy']"
   ]
  },
  {
   "cell_type": "code",
   "execution_count": 5,
   "id": "lasting-script",
   "metadata": {},
   "outputs": [],
   "source": [
    "#################\n",
    "# EXTRACT TEST\n",
    "#################\n",
    "\n",
    "# HE - 0, ER - 1\n",
    "\n",
    "he_test_idx = list(images[(images['class'] == 0) & (images['energy'].apply(lambda x: x in [3, 10, 30]))].index)\n",
    "er_test_idx = list(images[(images['class'] == 1) & (images['energy'].apply(lambda x: x in [1, 6, 20]))].index)"
   ]
  },
  {
   "cell_type": "code",
   "execution_count": 6,
   "id": "federal-shock",
   "metadata": {},
   "outputs": [],
   "source": [
    "# TODO: Write this to a separate folder\n",
    "\n",
    "# 0 - [:750]\n",
    "# 1 - [750:1502]\n",
    "# 0 - [1502:7531]\n",
    "# 1 - [7531:]\n",
    "\n",
    "import glob\n",
    "private_test = glob.glob(str(PRIVATE_PATH / '**/*.png'), recursive=True)\n",
    "public_test = glob.glob(str(PUBLIC_PATH / '**/*.png'), recursive=True)\n",
    "\n",
    "sample_submission = pd.read_csv(INPUT_PATH / 'track1_leak.csv')\n",
    "private_ids = [t.split('/')[-1].split('.')[0] for t in private_test]\n",
    "public_ids = [t.split('/')[-1].split('.')[0] for t in public_test]\n",
    "\n",
    "sample_submission['path'] = sample_submission['id'].apply(lambda x: PRIVATE_PATH / f'{x}.png' if x in private_ids else PUBLIC_PATH / f'{x}.png').map(str)\n",
    "sample_submission.iloc[:750, 1] = 1\n",
    "sample_submission.iloc[750:1502, 1] = 0\n",
    "sample_submission.iloc[1502:7531, 1] = 1\n",
    "sample_submission.iloc[7531:, 1] = 0\n",
    "\n",
    "sample_submission = sample_submission.iloc[1502:].reset_index(drop = True)\n",
    "\n",
    "images_leak = pd.DataFrame(np.array([sample_submission.iloc[:, 3].values, sample_submission.iloc[:, 1].values, sample_submission.iloc[:, 2].values]).T)\n",
    "images_leak.columns = ['path', 'class', 'energy']"
   ]
  },
  {
   "cell_type": "code",
   "execution_count": 7,
   "id": "handmade-forward",
   "metadata": {},
   "outputs": [],
   "source": [
    "indexes = np.arange(images_leak.shape[0])\n",
    "np.random.shuffle(indexes)\n",
    "\n",
    "images_leak = images_leak.iloc[indexes].reset_index(drop = True)\n",
    "images = pd.concat([images, images_leak]).reset_index(drop = True)"
   ]
  },
  {
   "cell_type": "code",
   "execution_count": 8,
   "id": "banner-deployment",
   "metadata": {},
   "outputs": [],
   "source": [
    "test_idx = he_test_idx + er_test_idx\n",
    "test_images = images.iloc[test_idx]\n",
    "images = images.drop(index = test_idx)\n",
    "\n",
    "\n",
    "train_images, valid_images = images.iloc[:-5000], images.iloc[-5000:] \n",
    "\n",
    "#train_images, valid_images = train_test_split(images, shuffle = True, random_state = RANDOM_SEED)\n",
    "train_images = train_images.reset_index(drop = True)\n",
    "valid_images = valid_images.reset_index(drop = True)\n",
    "#valid_images = images_leak\n",
    "\n",
    "# train_images = images.copy()"
   ]
  },
  {
   "cell_type": "code",
   "execution_count": 9,
   "id": "accepting-distinction",
   "metadata": {},
   "outputs": [],
   "source": [
    "def calc_metric(y_binary_true, y_binary_pred, y_reg_true, y_reg_pred):\n",
    "    '''\n",
    "    Competition metric\n",
    "    '''\n",
    "    \n",
    "    roc = roc_auc_score(y_binary_true, y_binary_pred)\n",
    "    mae = mean_absolute_error(y_reg_true, y_reg_pred)\n",
    "    return 1000 * (roc - mae), roc, mae"
   ]
  },
  {
   "cell_type": "code",
   "execution_count": 10,
   "id": "flying-composition",
   "metadata": {},
   "outputs": [],
   "source": [
    "class DataGenerator(tf.keras.utils.Sequence):\n",
    "    def __init__(self, images, transform=None, batch_size=32,  shuffle=True, is_classification = True, augment = False):\n",
    "        self.images = images\n",
    "        self.indices = np.arange(len(images))\n",
    "        self.transform = transform\n",
    "        self.batch_size = batch_size\n",
    "        self.shuffle = shuffle\n",
    "        self.augment = augment\n",
    "        self.is_classification = is_classification\n",
    "        \n",
    "        self.on_epoch_end()\n",
    "\n",
    "    def __len__(self):\n",
    "        return len(self.images) // self.batch_size\n",
    "\n",
    "    def __getitem__(self, index):\n",
    "        index = self.index[index * self.batch_size:(index + 1) * self.batch_size]\n",
    "        batch = [self.indices[k] for k in index]\n",
    "    \n",
    "        X, y = self.__get_data(batch)\n",
    "        return X, y\n",
    "\n",
    "    def on_epoch_end(self):\n",
    "        self.index = np.arange(len(self.indices))\n",
    "        if self.shuffle:\n",
    "            np.random.shuffle(self.index)\n",
    "\n",
    "    def __get_data(self, batch):\n",
    "        X = np.zeros((self.batch_size, 128, 128, 3))\n",
    "        y_class = np.zeros((self.batch_size,))\n",
    "        y_energy = np.zeros((self.batch_size))\n",
    "        for i, idx in enumerate(batch):\n",
    "            image=cv2.imread(self.images.iloc[idx, 0])\n",
    "            center = image.shape[0] // 2\n",
    "            image = image[center-128//2:center+128//2,center-128//2:center+128//2, :]\n",
    "            X[i,] = image\n",
    "            \n",
    "            if self.augment:\n",
    "                X[i, ] = Config.train_transform(image=X[i,].astype(np.uint8))['image']\n",
    "            particle_class = self.images.iloc[idx, 1]\n",
    "            particle_energy = self.images.iloc[idx, 2]\n",
    "            y_class[i] = particle_class\n",
    "            y_energy[i] = particle_energy\n",
    "        if self.is_classification:\n",
    "            return X / 255.0, y_class\n",
    "        return X / 255.0, y_energy\n"
   ]
  },
  {
   "cell_type": "code",
   "execution_count": 11,
   "id": "available-blackjack",
   "metadata": {},
   "outputs": [],
   "source": [
    "train_datagen = DataGenerator(train_images, batch_size = Config.BATCH_SIZE, is_classification = True, augment = False)\n",
    "valid_datagen = DataGenerator(valid_images, batch_size = Config.BATCH_SIZE, is_classification = True)\n",
    "test_datagen = DataGenerator(test_images, batch_size = 1, is_classification = True, shuffle = False)"
   ]
  },
  {
   "cell_type": "code",
   "execution_count": 12,
   "id": "aware-peter",
   "metadata": {},
   "outputs": [],
   "source": [
    "# Example data extract\n",
    "\n",
    "X, y_class = train_datagen.__getitem__(0)"
   ]
  },
  {
   "cell_type": "code",
   "execution_count": 13,
   "id": "inclusive-boundary",
   "metadata": {},
   "outputs": [
    {
     "data": {
      "text/plain": [
       "<matplotlib.image.AxesImage at 0x7f98902b96a0>"
      ]
     },
     "execution_count": 13,
     "metadata": {},
     "output_type": "execute_result"
    },
    {
     "data": {
      "image/png": "[encoded data removed]",
      "text/plain": [
       "<Figure size 432x288 with 1 Axes>"
      ]
     },
     "metadata": {
      "needs_background": "light"
     },
     "output_type": "display_data"
    }
   ],
   "source": [
    "idx = 17\n",
    "plt.imshow((X[idx] * 255).astype(np.uint8))"
   ]
  },
  {
   "cell_type": "markdown",
   "id": "introductory-stocks",
   "metadata": {},
   "source": [
    "## Class model"
   ]
  },
  {
   "cell_type": "code",
   "execution_count": 14,
   "id": "violent-marker",
   "metadata": {},
   "outputs": [
    {
     "name": "stdout",
     "output_type": "stream",
     "text": [
      "Downloading data from https://storage.googleapis.com/tensorflow/keras-applications/mobilenet_v2/mobilenet_v2_weights_tf_dim_ordering_tf_kernels_1.0_128_no_top.h5\n",
      "9412608/9406464 [==============================] - 0s 0us/step\n"
     ]
    }
   ],
   "source": [
    "import tensorflow as tf\n",
    "from tensorflow.keras.applications.vgg16 import VGG16\n",
    "from tensorflow.keras.applications.mobilenet_v2 import MobileNetV2\n",
    "from tensorflow.keras.preprocessing import image\n",
    "from tensorflow.keras.applications.vgg16 import preprocess_input\n",
    "from tensorflow.keras.applications import ResNet152V2, ResNet50\n",
    "from tensorflow.keras.applications import NASNetLarge, EfficientNetB3\n",
    "from tensorflow.keras.applications.densenet import DenseNet121, DenseNet169\n",
    "\n",
    "from tensorflow.keras.applications import EfficientNetB0\n",
    "import numpy as np\n",
    "\n",
    "base_model = MobileNetV2(weights='imagenet', include_top=False, input_shape=(128,128,3))"
   ]
  },
  {
   "cell_type": "code",
   "execution_count": 15,
   "id": "resistant-demonstration",
   "metadata": {},
   "outputs": [],
   "source": [
    "from tensorflow.keras import layers as L\n",
    "from tensorflow.keras.models import Model\n",
    "import tensorflow as tf\n",
    "import tensorflow.keras\n",
    "import tensorflow\n",
    "from tensorflow.keras import regularizers\n",
    "\n",
    "earlystop = tensorflow.keras.callbacks.EarlyStopping(monitor='val_auc', patience=30)\n",
    "ckpt = tensorflow.keras.callbacks.ModelCheckpoint(OUTPUT_PATH / 'models' / 'classification_MobileNetV2', save_best_only=True, monitor='val_auc', mode='max')\n",
    "    \n",
    "def create_classification_model(base_model, l2_loss_lambda = 1e-4):\n",
    "    for layer in base_model.layers[:-5]:\n",
    "        layer.trainable = False\n",
    "        \n",
    "    x = base_model.output\n",
    "    x = L.GlobalAveragePooling2D()(x)\n",
    "    # let's add a fully-connected layer\n",
    "    x = L.Dense(512, activation='relu')(x)\n",
    "    x = L.Dense(64, activation='relu')(x)\n",
    "    # and a logistic layer -- let's say we have 200 classes\n",
    "    predictions = L.Dense(1, activation='sigmoid')(x)\n",
    "\n",
    "    # this is the model we will train\n",
    "    model = Model(inputs=base_model.input, outputs=predictions)\n",
    "\n",
    "\n",
    "    # compile the model (should be done *after* setting layers to non-trainable)\n",
    "    model.compile(optimizer=tensorflow.keras.optimizers.Adam(learning_rate=1e-4), loss='binary_crossentropy', metrics = ['AUC'])\n",
    "    return model"
   ]
  },
  {
   "cell_type": "code",
   "execution_count": 16,
   "id": "guided-making",
   "metadata": {},
   "outputs": [],
   "source": [
    "model = create_classification_model(base_model)"
   ]
  },
  {
   "cell_type": "code",
   "execution_count": 17,
   "id": "dominican-market",
   "metadata": {
    "scrolled": false
   },
   "outputs": [
    {
     "name": "stdout",
     "output_type": "stream",
     "text": [
      "Epoch 1/150\n",
      "30/30 [==============================] - 9s 156ms/step - loss: 0.5932 - auc: 0.7339 - val_loss: 0.7223 - val_auc: 0.6365\n"
     ]
    },
    {
     "name": "stderr",
     "output_type": "stream",
     "text": [
      "/usr/local/lib/python3.6/dist-packages/tensorflow/python/keras/utils/generic_utils.py:497: CustomMaskWarning: Custom mask layers require a config and must override get_config. When loading, the custom mask layer must be passed to the custom_objects argument.\n",
      "  category=CustomMaskWarning)\n"
     ]
    },
    {
     "name": "stdout",
     "output_type": "stream",
     "text": [
      "INFO:tensorflow:Assets written to: ../output/models/classification_MobileNetV2/assets\n",
      "Epoch 2/150\n",
      "30/30 [==============================] - 4s 132ms/step - loss: 0.4449 - auc: 0.8711 - val_loss: 0.7002 - val_auc: 0.6839\n"
     ]
    },
    {
     "name": "stderr",
     "output_type": "stream",
     "text": [
      "/usr/local/lib/python3.6/dist-packages/tensorflow/python/keras/utils/generic_utils.py:497: CustomMaskWarning: Custom mask layers require a config and must override get_config. When loading, the custom mask layer must be passed to the custom_objects argument.\n",
      "  category=CustomMaskWarning)\n"
     ]
    },
    {
     "name": "stdout",
     "output_type": "stream",
     "text": [
      "INFO:tensorflow:Assets written to: ../output/models/classification_MobileNetV2/assets\n",
      "Epoch 3/150\n",
      "30/30 [==============================] - 4s 131ms/step - loss: 0.3939 - auc: 0.8967 - val_loss: 0.6747 - val_auc: 0.6096\n",
      "Epoch 4/150\n",
      "30/30 [==============================] - 4s 124ms/step - loss: 0.3780 - auc: 0.9027 - val_loss: 0.6012 - val_auc: 0.7472\n"
     ]
    },
    {
     "name": "stderr",
     "output_type": "stream",
     "text": [
      "/usr/local/lib/python3.6/dist-packages/tensorflow/python/keras/utils/generic_utils.py:497: CustomMaskWarning: Custom mask layers require a config and must override get_config. When loading, the custom mask layer must be passed to the custom_objects argument.\n",
      "  category=CustomMaskWarning)\n"
     ]
    },
    {
     "name": "stdout",
     "output_type": "stream",
     "text": [
      "INFO:tensorflow:Assets written to: ../output/models/classification_MobileNetV2/assets\n",
      "Epoch 5/150\n",
      "30/30 [==============================] - 4s 127ms/step - loss: 0.3774 - auc: 0.9108 - val_loss: 0.7095 - val_auc: 0.8297\n"
     ]
    },
    {
     "name": "stderr",
     "output_type": "stream",
     "text": [
      "/usr/local/lib/python3.6/dist-packages/tensorflow/python/keras/utils/generic_utils.py:497: CustomMaskWarning: Custom mask layers require a config and must override get_config. When loading, the custom mask layer must be passed to the custom_objects argument.\n",
      "  category=CustomMaskWarning)\n"
     ]
    },
    {
     "name": "stdout",
     "output_type": "stream",
     "text": [
      "INFO:tensorflow:Assets written to: ../output/models/classification_MobileNetV2/assets\n",
      "Epoch 6/150\n",
      "30/30 [==============================] - 4s 131ms/step - loss: 0.3980 - auc: 0.9077 - val_loss: 0.6201 - val_auc: 0.6903\n",
      "Epoch 7/150\n",
      "30/30 [==============================] - 4s 129ms/step - loss: 0.3723 - auc: 0.9148 - val_loss: 0.7526 - val_auc: 0.7486\n",
      "Epoch 8/150\n",
      "30/30 [==============================] - 4s 131ms/step - loss: 0.3321 - auc: 0.9276 - val_loss: 0.6840 - val_auc: 0.6789\n",
      "Epoch 9/150\n",
      "30/30 [==============================] - 4s 132ms/step - loss: 0.3444 - auc: 0.9224 - val_loss: 0.9637 - val_auc: 0.7183\n",
      "Epoch 10/150\n",
      "30/30 [==============================] - 4s 132ms/step - loss: 0.3580 - auc: 0.9123 - val_loss: 0.9183 - val_auc: 0.7205\n",
      "Epoch 11/150\n",
      "30/30 [==============================] - 4s 126ms/step - loss: 0.3806 - auc: 0.9028 - val_loss: 1.7186 - val_auc: 0.6523\n",
      "Epoch 12/150\n",
      "30/30 [==============================] - 4s 126ms/step - loss: 0.3039 - auc: 0.9418 - val_loss: 1.0120 - val_auc: 0.7871\n",
      "Epoch 13/150\n",
      "30/30 [==============================] - 4s 127ms/step - loss: 0.3241 - auc: 0.9293 - val_loss: 0.9457 - val_auc: 0.6966\n",
      "Epoch 14/150\n",
      "30/30 [==============================] - 4s 128ms/step - loss: 0.3420 - auc: 0.9207 - val_loss: 1.1554 - val_auc: 0.7491\n",
      "Epoch 15/150\n",
      "30/30 [==============================] - 4s 127ms/step - loss: 0.3538 - auc: 0.9215 - val_loss: 0.6544 - val_auc: 0.8395\n"
     ]
    },
    {
     "name": "stderr",
     "output_type": "stream",
     "text": [
      "/usr/local/lib/python3.6/dist-packages/tensorflow/python/keras/utils/generic_utils.py:497: CustomMaskWarning: Custom mask layers require a config and must override get_config. When loading, the custom mask layer must be passed to the custom_objects argument.\n",
      "  category=CustomMaskWarning)\n"
     ]
    },
    {
     "name": "stdout",
     "output_type": "stream",
     "text": [
      "INFO:tensorflow:Assets written to: ../output/models/classification_MobileNetV2/assets\n",
      "Epoch 16/150\n",
      "30/30 [==============================] - 4s 127ms/step - loss: 0.2982 - auc: 0.9446 - val_loss: 0.7524 - val_auc: 0.8383\n",
      "Epoch 17/150\n",
      "30/30 [==============================] - 4s 126ms/step - loss: 0.3185 - auc: 0.9331 - val_loss: 0.6044 - val_auc: 0.8351\n",
      "Epoch 18/150\n",
      "30/30 [==============================] - 4s 125ms/step - loss: 0.3411 - auc: 0.9278 - val_loss: 0.5063 - val_auc: 0.8419\n"
     ]
    },
    {
     "name": "stderr",
     "output_type": "stream",
     "text": [
      "/usr/local/lib/python3.6/dist-packages/tensorflow/python/keras/utils/generic_utils.py:497: CustomMaskWarning: Custom mask layers require a config and must override get_config. When loading, the custom mask layer must be passed to the custom_objects argument.\n",
      "  category=CustomMaskWarning)\n"
     ]
    },
    {
     "name": "stdout",
     "output_type": "stream",
     "text": [
      "INFO:tensorflow:Assets written to: ../output/models/classification_MobileNetV2/assets\n",
      "Epoch 19/150\n",
      "30/30 [==============================] - 4s 127ms/step - loss: 0.3094 - auc: 0.9351 - val_loss: 0.5504 - val_auc: 0.7724\n",
      "Epoch 20/150\n",
      "30/30 [==============================] - 4s 126ms/step - loss: 0.3342 - auc: 0.9281 - val_loss: 0.4575 - val_auc: 0.8380\n",
      "Epoch 21/150\n",
      "30/30 [==============================] - 4s 129ms/step - loss: 0.2789 - auc: 0.9456 - val_loss: 0.4014 - val_auc: 0.8769\n"
     ]
    },
    {
     "name": "stderr",
     "output_type": "stream",
     "text": [
      "/usr/local/lib/python3.6/dist-packages/tensorflow/python/keras/utils/generic_utils.py:497: CustomMaskWarning: Custom mask layers require a config and must override get_config. When loading, the custom mask layer must be passed to the custom_objects argument.\n",
      "  category=CustomMaskWarning)\n"
     ]
    },
    {
     "name": "stdout",
     "output_type": "stream",
     "text": [
      "INFO:tensorflow:Assets written to: ../output/models/classification_MobileNetV2/assets\n",
      "Epoch 22/150\n",
      "30/30 [==============================] - 4s 131ms/step - loss: 0.2700 - auc: 0.9450 - val_loss: 0.6057 - val_auc: 0.8371\n",
      "Epoch 23/150\n",
      "30/30 [==============================] - 4s 126ms/step - loss: 0.3084 - auc: 0.9348 - val_loss: 0.9122 - val_auc: 0.8753\n",
      "Epoch 24/150\n",
      "30/30 [==============================] - 4s 127ms/step - loss: 0.3071 - auc: 0.9362 - val_loss: 1.2699 - val_auc: 0.8506\n",
      "Epoch 25/150\n",
      "30/30 [==============================] - 4s 125ms/step - loss: 0.3279 - auc: 0.9227 - val_loss: 1.5763 - val_auc: 0.8034\n",
      "Epoch 26/150\n",
      "30/30 [==============================] - 4s 128ms/step - loss: 0.3485 - auc: 0.9139 - val_loss: 1.5932 - val_auc: 0.8114\n",
      "Epoch 27/150\n",
      "30/30 [==============================] - 4s 131ms/step - loss: 0.3019 - auc: 0.9341 - val_loss: 1.3918 - val_auc: 0.8095\n",
      "Epoch 28/150\n",
      "30/30 [==============================] - 4s 127ms/step - loss: 0.3061 - auc: 0.9357 - val_loss: 1.3018 - val_auc: 0.7869\n",
      "Epoch 29/150\n",
      "30/30 [==============================] - 4s 125ms/step - loss: 0.3058 - auc: 0.9395 - val_loss: 1.8843 - val_auc: 0.7826\n",
      "Epoch 30/150\n",
      "30/30 [==============================] - 4s 126ms/step - loss: 0.3361 - auc: 0.9276 - val_loss: 1.7407 - val_auc: 0.7506\n",
      "Epoch 31/150\n",
      "30/30 [==============================] - 4s 126ms/step - loss: 0.3034 - auc: 0.9352 - val_loss: 1.3747 - val_auc: 0.7934\n",
      "Epoch 32/150\n",
      "30/30 [==============================] - 4s 127ms/step - loss: 0.3037 - auc: 0.9383 - val_loss: 2.3567 - val_auc: 0.7556\n",
      "Epoch 33/150\n",
      "30/30 [==============================] - 4s 127ms/step - loss: 0.3089 - auc: 0.9322 - val_loss: 2.0602 - val_auc: 0.6307\n"
     ]
    }
   ],
   "source": [
    "if USE_WANDB:\n",
    "    model.fit(\n",
    "        train_datagen, \n",
    "        steps_per_epoch = Config.STEPS_PER_EPOCH, \n",
    "        validation_data = valid_datagen, \n",
    "        validation_steps = Config.VALIDATION_STEPS_PER_EPOCH, \n",
    "        epochs = Config.TRAINING_EPOCHS,\n",
    "        verbose = 1,\n",
    "        callbacks = [earlystop, ckpt, WandbCallback()]\n",
    "        )\n",
    "else:\n",
    "    model.fit(\n",
    "        train_datagen, \n",
    "        steps_per_epoch = Config.STEPS_PER_EPOCH, \n",
    "        validation_data = valid_datagen, \n",
    "        validation_steps = Config.VALIDATION_STEPS_PER_EPOCH, \n",
    "        epochs = Config.TRAINING_EPOCHS,\n",
    "        verbose = 1,\n",
    "        callbacks = [earlystop, ckpt]\n",
    "        )"
   ]
  },
  {
   "cell_type": "code",
   "execution_count": 18,
   "id": "hindu-tampa",
   "metadata": {},
   "outputs": [],
   "source": [
    "model = tensorflow.keras.models.load_model(OUTPUT_PATH / 'models' / 'classification_MobileNetV2')"
   ]
  },
  {
   "cell_type": "code",
   "execution_count": 19,
   "id": "adopted-formula",
   "metadata": {},
   "outputs": [
    {
     "name": "stdout",
     "output_type": "stream",
     "text": [
      "78/78 [==============================] - 9s 102ms/step - loss: 0.5243 - auc: 0.8393\n"
     ]
    }
   ],
   "source": [
    "public_loss, public_auc = model.evaluate(valid_datagen, batch_size=64, steps=valid_images.shape[0] // 64)\n",
    "wandb.run.summary[\"public_auc\"] = public_auc"
   ]
  },
  {
   "cell_type": "code",
   "execution_count": 21,
   "id": "reflected-restaurant",
   "metadata": {},
   "outputs": [
    {
     "name": "stdout",
     "output_type": "stream",
     "text": [
      "12/12 [==============================] - 0s 6ms/step - loss: 0.6812 - auc: 1.0000\n"
     ]
    }
   ],
   "source": [
    "private_loss, private_auc = model.evaluate(test_datagen, batch_size=1, steps=test_images.shape[0])\n",
    "wandb.run.summary[\"private_auc\"] = private_auc"
   ]
  },
  {
   "cell_type": "code",
   "execution_count": 172,
   "id": "rural-processor",
   "metadata": {},
   "outputs": [],
   "source": [
    "# model.save(OUTPUT_PATH / 'models' / 'cnn_classification')"
   ]
  },
  {
   "cell_type": "markdown",
   "id": "integrated-niger",
   "metadata": {},
   "source": [
    "## Score calc"
   ]
  },
  {
   "cell_type": "code",
   "execution_count": 51,
   "id": "color-ecology",
   "metadata": {},
   "outputs": [],
   "source": [
    "auc = lambda score_orig, score_swapped: score_orig/1000 + 1/2 * (1 - (score_swapped + score_orig)/1000) \n",
    "mae = lambda score_orig, score_swapped: 1/2 * (1 - (score_swapped + score_orig)/1000) "
   ]
  },
  {
   "cell_type": "code",
   "execution_count": 54,
   "id": "fossil-illness",
   "metadata": {},
   "outputs": [
    {
     "data": {
      "text/plain": [
       "0.9538300000000001"
      ]
     },
     "execution_count": 54,
     "metadata": {},
     "output_type": "execute_result"
    }
   ],
   "source": [
    "auc(-98.88, -1006.54)"
   ]
  },
  {
   "cell_type": "code",
   "execution_count": 55,
   "id": "humanitarian-bargain",
   "metadata": {},
   "outputs": [
    {
     "data": {
      "text/plain": [
       "1.05271"
      ]
     },
     "execution_count": 55,
     "metadata": {},
     "output_type": "execute_result"
    }
   ],
   "source": [
    "mae(-98.88, -1006.54)"
   ]
  }
 ],
 "metadata": {
  "kernelspec": {
   "display_name": "Python 3",
   "language": "python",
   "name": "python3"
  },
  "language_info": {
   "codemirror_mode": {
    "name": "ipython",
    "version": 3
   },
   "file_extension": ".py",
   "mimetype": "text/x-python",
   "name": "python",
   "nbconvert_exporter": "python",
   "pygments_lexer": "ipython3",
   "version": "3.6.9"
  }
 },
 "nbformat": 4,
 "nbformat_minor": 5
}
