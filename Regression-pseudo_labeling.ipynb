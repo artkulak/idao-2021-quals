{
 "cells": [
  {
   "cell_type": "code",
   "execution_count": 1,
   "id": "threaded-girlfriend",
   "metadata": {},
   "outputs": [
    {
     "name": "stdout",
     "output_type": "stream",
     "text": [
      "INFO:tensorflow:Enabling eager execution\n",
      "INFO:tensorflow:Enabling v2 tensorshape\n",
      "INFO:tensorflow:Enabling resource variables\n",
      "INFO:tensorflow:Enabling tensor equality\n",
      "INFO:tensorflow:Enabling control flow v2\n"
     ]
    }
   ],
   "source": [
    "#####################\n",
    "# IMPORT LIBS\n",
    "#####################\n",
    "\n",
    "from PIL import Image\n",
    "from sklearn.model_selection import train_test_split\n",
    "from skimage import io, transform\n",
    "from skimage.transform import AffineTransform, warp\n",
    "from sklearn.metrics import roc_auc_score, mean_absolute_error\n",
    "import tensorflow as tf\n",
    "\n",
    "from tensorflow.keras.models import load_model\n",
    "from tensorflow.compat.v1.keras import backend as K\n",
    "\n",
    "import pandas as pd\n",
    "from pathlib import Path\n",
    "import os\n",
    "import cv2\n",
    "import matplotlib.pyplot as plt\n",
    "import numpy as np\n",
    "import random\n",
    "import glob\n",
    "import albumentations as A\n",
    "import cv2\n",
    "# from efficientnet_pytorch import EfficientNet\n",
    "\n",
    "\n",
    "#####################\n",
    "# SET CONSTANTS\n",
    "#####################\n",
    "\n",
    "INPUT_PATH = Path('../input')\n",
    "OUTPUT_PATH = Path('../output')\n",
    "TRAIN_PATH = INPUT_PATH / 'idao_dataset' / 'train'\n",
    "PRIVATE_PATH = INPUT_PATH / 'idao_dataset' / 'private_test'\n",
    "PRIVATE_PATH_NEW = INPUT_PATH / 'idao_dataset' / 'private_test_new'\n",
    "PUBLIC_PATH = INPUT_PATH / 'idao_dataset' / 'public_test'\n",
    "\n",
    "RANDOM_SEED = 4444\n",
    "\n",
    "def seed_everything(seed=1234):\n",
    "    random.seed(seed)\n",
    "    os.environ['PYTHONHASHSEED'] = str(seed)\n",
    "    np.random.seed(seed)\n",
    "seed_everything(RANDOM_SEED)"
   ]
  },
  {
   "cell_type": "code",
   "execution_count": 11,
   "id": "dimensional-naples",
   "metadata": {},
   "outputs": [
    {
     "name": "stdout",
     "output_type": "stream",
     "text": [
      "# confident predictions: 3458\n",
      "# confident 1 (ER): 1510\n",
      "# confident 0 (HE): 1948\n",
      "ER regression rounded predictions:\n",
      "6     1167\n",
      "20     304\n",
      "1       39\n",
      "Name: regression_predictions, dtype: int64\n",
      "HE regression rounded predictions:\n",
      "10    1104\n",
      "30     839\n",
      "3        5\n",
      "Name: regression_predictions, dtype: int64\n"
     ]
    },
    {
     "name": "stderr",
     "output_type": "stream",
     "text": [
      "/usr/local/lib/python3.6/dist-packages/ipykernel_launcher.py:18: SettingWithCopyWarning: \n",
      "A value is trying to be set on a copy of a slice from a DataFrame.\n",
      "Try using .loc[row_indexer,col_indexer] = value instead\n",
      "\n",
      "See the caveats in the documentation: https://pandas.pydata.org/pandas-docs/stable/user_guide/indexing.html#returning-a-view-versus-a-copy\n",
      "/usr/local/lib/python3.6/dist-packages/ipykernel_launcher.py:21: SettingWithCopyWarning: \n",
      "A value is trying to be set on a copy of a slice from a DataFrame.\n",
      "Try using .loc[row_indexer,col_indexer] = value instead\n",
      "\n",
      "See the caveats in the documentation: https://pandas.pydata.org/pandas-docs/stable/user_guide/indexing.html#returning-a-view-versus-a-copy\n"
     ]
    },
    {
     "name": "stdout",
     "output_type": "stream",
     "text": [
      "100.0% of confident ER images are in private test data\n",
      "100.0% of confident HE images are in private test data\n"
     ]
    }
   ],
   "source": [
    "df_sub_private = pd.read_csv(INPUT_PATH / 'submission_new.csv').iloc[1502:]\n",
    "#select the most confident classification predictions\n",
    "t_confidence_1 = 0.97\n",
    "t_confidence_0 = 1e-7\n",
    "confidence_condition = (\n",
    "    (df_sub_private['classification_predictions'] >= t_confidence_1) | \\\n",
    "    (df_sub_private['classification_predictions'] <= t_confidence_0)\n",
    ")\n",
    "df_confident = df_sub_private[confidence_condition]\n",
    "df_confident_er_new = df_confident[df_confident[\"classification_predictions\"].round() == 1]\n",
    "df_confident_he_new = df_confident[df_confident[\"classification_predictions\"].round() == 0]\n",
    "print(f'# confident predictions: {len(df_confident)}')\n",
    "print(f'# confident 1 (ER): {len(df_confident_er_new)}')\n",
    "print(f'# confident 0 (HE): {len(df_confident_he_new)}')\n",
    "\n",
    "# round regression predictions for the most confident classification predictions\n",
    "df_confident_er_new['regression_predictions'] = df_confident_er_new['regression_predictions'].apply(\n",
    "    lambda x: np.array([1,6,20])[np.argmin(np.abs(x - np.array([1,6,20])))]\n",
    ")\n",
    "df_confident_he_new['regression_predictions'] = df_confident_he_new['regression_predictions'].apply(\n",
    "    lambda x: np.array([3,10,30])[np.argmin(np.abs(x - np.array([3,10,30])))]\n",
    ")\n",
    "print('ER regression rounded predictions:')\n",
    "print(df_confident_er_new['regression_predictions'].value_counts())\n",
    "print('HE regression rounded predictions:')\n",
    "print(df_confident_he_new['regression_predictions'].value_counts())\n",
    "\n",
    "# write paths to the most confident predictions and check how many of them are actual paths of private images\n",
    "private_images = glob.glob(str(PRIVATE_PATH_NEW / '*.png'), recursive=True)\n",
    "confident_images_er_new = [str(PRIVATE_PATH_NEW / f'{x}.png') for x in df_confident_er_new['id'].values]\n",
    "confident_images_he_new = [str(PRIVATE_PATH_NEW / f'{x}.png') for x in df_confident_he_new['id'].values]\n",
    "print(f'{100*sum([x in private_images for x in confident_images_er_new]) / len(confident_images_er_new)}% of confident ER images are in private test data')\n",
    "print(f'{100*sum([x in private_images for x in confident_images_he_new]) / len(confident_images_he_new)}% of confident HE images are in private test data')"
   ]
  },
  {
   "cell_type": "code",
   "execution_count": 12,
   "id": "distinct-sarah",
   "metadata": {},
   "outputs": [
    {
     "name": "stdout",
     "output_type": "stream",
     "text": [
      "# confident predictions: 3431\n",
      "# confident 1 (ER): 1505\n",
      "# confident 0 (HE): 1926\n",
      "ER regression rounded predictions:\n",
      "6     1169\n",
      "20     300\n",
      "1       36\n",
      "Name: regression_predictions, dtype: int64\n",
      "HE regression rounded predictions:\n",
      "10    1089\n",
      "30     833\n",
      "3        4\n",
      "Name: regression_predictions, dtype: int64\n"
     ]
    },
    {
     "name": "stderr",
     "output_type": "stream",
     "text": [
      "/usr/local/lib/python3.6/dist-packages/ipykernel_launcher.py:18: SettingWithCopyWarning: \n",
      "A value is trying to be set on a copy of a slice from a DataFrame.\n",
      "Try using .loc[row_indexer,col_indexer] = value instead\n",
      "\n",
      "See the caveats in the documentation: https://pandas.pydata.org/pandas-docs/stable/user_guide/indexing.html#returning-a-view-versus-a-copy\n",
      "/usr/local/lib/python3.6/dist-packages/ipykernel_launcher.py:21: SettingWithCopyWarning: \n",
      "A value is trying to be set on a copy of a slice from a DataFrame.\n",
      "Try using .loc[row_indexer,col_indexer] = value instead\n",
      "\n",
      "See the caveats in the documentation: https://pandas.pydata.org/pandas-docs/stable/user_guide/indexing.html#returning-a-view-versus-a-copy\n"
     ]
    },
    {
     "name": "stdout",
     "output_type": "stream",
     "text": [
      "100.0% of confident ER images are in private test data\n",
      "100.0% of confident HE images are in private test data\n"
     ]
    }
   ],
   "source": [
    "df_sub_private = pd.read_csv(INPUT_PATH / 'submission_old.csv').iloc[1502:]\n",
    "#select the most confident classification predictions\n",
    "t_confidence_1 = 0.97\n",
    "t_confidence_0 = 1e-7\n",
    "confidence_condition = (\n",
    "    (df_sub_private['classification_predictions'] >= t_confidence_1) | \\\n",
    "    (df_sub_private['classification_predictions'] <= t_confidence_0)\n",
    ")\n",
    "df_confident = df_sub_private[confidence_condition]\n",
    "df_confident_er_old = df_confident[df_confident[\"classification_predictions\"].round() == 1]\n",
    "df_confident_he_old = df_confident[df_confident[\"classification_predictions\"].round() == 0]\n",
    "print(f'# confident predictions: {len(df_confident)}')\n",
    "print(f'# confident 1 (ER): {len(df_confident_er_old)}')\n",
    "print(f'# confident 0 (HE): {len(df_confident_he_old)}')\n",
    "\n",
    "# round regression predictions for the most confident classification predictions\n",
    "df_confident_er_old['regression_predictions'] = df_confident_er_old['regression_predictions'].apply(\n",
    "    lambda x: np.array([1,6,20])[np.argmin(np.abs(x - np.array([1,6,20])))]\n",
    ")\n",
    "df_confident_he_old['regression_predictions'] = df_confident_he_old['regression_predictions'].apply(\n",
    "    lambda x: np.array([3,10,30])[np.argmin(np.abs(x - np.array([3,10,30])))]\n",
    ")\n",
    "print('ER regression rounded predictions:')\n",
    "print(df_confident_er_old['regression_predictions'].value_counts())\n",
    "print('HE regression rounded predictions:')\n",
    "print(df_confident_he_old['regression_predictions'].value_counts())\n",
    "\n",
    "# write paths to the most confident predictions and check how many of them are actual paths of private images\n",
    "private_images = glob.glob(str(PRIVATE_PATH / '*.png'), recursive=True)\n",
    "confident_images_er_old = [str(PRIVATE_PATH / f'{x}.png') for x in df_confident_er_old['id'].values]\n",
    "confident_images_he_old = [str(PRIVATE_PATH / f'{x}.png') for x in df_confident_he_old['id'].values]\n",
    "print(f'{100*sum([x in private_images for x in confident_images_er_old]) / len(confident_images_er_old)}% of confident ER images are in private test data')\n",
    "print(f'{100*sum([x in private_images for x in confident_images_he_old]) / len(confident_images_he_old)}% of confident HE images are in private test data')"
   ]
  },
  {
   "cell_type": "code",
   "execution_count": 13,
   "id": "numerous-military",
   "metadata": {},
   "outputs": [],
   "source": [
    "confident_images_er = confident_images_er_old + confident_images_er_new\n",
    "confident_images_he = confident_images_he_old + confident_images_he_new"
   ]
  },
  {
   "cell_type": "code",
   "execution_count": 14,
   "id": "arabic-logan",
   "metadata": {},
   "outputs": [],
   "source": [
    "df_confident_er = pd.concat([df_confident_er_new, df_confident_er_old]).reset_index(drop = True)\n",
    "df_confident_he = pd.concat([df_confident_he_new, df_confident_he_old]).reset_index(drop = True)"
   ]
  },
  {
   "cell_type": "code",
   "execution_count": 15,
   "id": "absolute-oklahoma",
   "metadata": {},
   "outputs": [],
   "source": [
    "class Config:\n",
    "    BATCH_SIZE = 128\n",
    "    TRAINING_EPOCHS = 150\n",
    "    VALIDATION_STEPS_PER_EPOCH = 10\n",
    "    VALIDATION_EPOCHS = 10\n",
    "    STEPS_PER_EPOCH = 30\n",
    "    EARLY_STOP_PATIENCE = 20\n",
    "    \n",
    "    \n",
    "    # Declare an augmentation pipeline\n",
    "    train_transform = A.Compose([\n",
    "        #A.HorizontalFlip(p=0.5),\n",
    "        #A.HorizontalFlip(p=0.5),\n",
    "        #A.VerticalFlip(p=0.5),\n",
    "        A.Cutout(num_holes=4, max_h_size=8, max_w_size=8, p=0.3),\n",
    "        A.OneOf([A.RandomContrast(),\n",
    "             A.RandomGamma(),\n",
    "             A.RandomBrightness()],p=0.2),\n",
    "        A.OneOf([A.Blur(p = 0.3),\n",
    "             A.GaussNoise(p=0.3)\n",
    "                ],p=0.5),\n",
    "        A.CLAHE(clip_limit=4, tile_grid_size=(8,8), always_apply=False, p=0.3),\n",
    "    ],)\n",
    "    \n",
    "    validation_transform = A.Compose([\n",
    "    ],)"
   ]
  },
  {
   "cell_type": "code",
   "execution_count": 16,
   "id": "needed-airline",
   "metadata": {},
   "outputs": [
    {
     "data": {
      "text/plain": [
       "(13280, 4)"
      ]
     },
     "execution_count": 16,
     "metadata": {},
     "output_type": "execute_result"
    }
   ],
   "source": [
    "def getFeatures(img_path):\n",
    "    if len(img_path.split('_')) == 18:\n",
    "        particle_class = 1 # ER\n",
    "        particle_energy = int(img_path.split('_')[7])\n",
    "    else:\n",
    "        particle_class = 0 # HE\n",
    "        particle_energy = int(img_path.split('_')[8])\n",
    "    particle_angle = float(img_path.split('/')[-1].split('__')[0])\n",
    "    return [img_path, particle_class, particle_energy, particle_angle]\n",
    "\n",
    "images = glob.glob(str(TRAIN_PATH / '**/*.png'), recursive=True)\n",
    "images = pd.DataFrame(map(getFeatures, images))\n",
    "images.columns = ['path', 'class', 'energy', 'angle']\n",
    "images.shape"
   ]
  },
  {
   "cell_type": "code",
   "execution_count": 17,
   "id": "educational-breeding",
   "metadata": {},
   "outputs": [],
   "source": [
    "#################\n",
    "# EXTRACT TEST\n",
    "#################\n",
    "\n",
    "# HE - 0, ER - 1\n",
    "\n",
    "he_test_idx = list(images[(images['class'] == 1) & (images['energy'].apply(lambda x: x in [1, 6, 20]))].index)\n",
    "er_test_idx = list(images[(images['class'] == 0) & (images['energy'].apply(lambda x: x in [3, 10, 30]))].index)"
   ]
  },
  {
   "cell_type": "code",
   "execution_count": 18,
   "id": "unsigned-australia",
   "metadata": {},
   "outputs": [],
   "source": [
    "# TODO: Write this to a separate folder\n",
    "\n",
    "# 0 - [:750]\n",
    "# 1 - [750:1502]\n",
    "# 0 - [1502:7531]\n",
    "# 1 - [7531:]\n",
    "\n",
    "import glob\n",
    "private_test = glob.glob(str(PRIVATE_PATH / '**/*.png'), recursive=True)\n",
    "public_test = glob.glob(str(PUBLIC_PATH / '**/*.png'), recursive=True)\n",
    "\n",
    "sample_submission = pd.read_csv(INPUT_PATH / 'track1_predictions_example.csv')\n",
    "private_ids = [t.split('/')[-1].split('.')[0] for t in private_test]\n",
    "public_ids = [t.split('/')[-1].split('.')[0] for t in public_test]\n",
    "\n",
    "# sample_submission['path'] = sample_submission['id'].apply(lambda x: PRIVATE_PATH / f'{x}.png' if x in private_ids else PUBLIC_PATH / f'{x}.png').map(str)\n",
    "# sample_submission.iloc[:750, 1] = 1\n",
    "# sample_submission.iloc[750:1502, 1] = 0\n",
    "# sample_submission.iloc[1502:7531, 1] = 1\n",
    "# sample_submission.iloc[7531:, 1] = 0\n",
    "\n",
    "# sample_submission = sample_submission.iloc[1502:].reset_index(drop = True)\n",
    "\n",
    "# images_leak = pd.DataFrame(np.array([sample_submission.iloc[:, 3].values, sample_submission.iloc[:, 1].values, sample_submission.iloc[:, 2].values]).T)\n",
    "# images_leak.columns = ['path', 'class', 'energy']"
   ]
  },
  {
   "cell_type": "code",
   "execution_count": 19,
   "id": "diverse-tucson",
   "metadata": {},
   "outputs": [],
   "source": [
    "test_idx = he_test_idx + er_test_idx\n",
    "test_images = images.iloc[test_idx]\n",
    "images = images.drop(index = test_idx)\n",
    "\n",
    "\n",
    "train_images, valid_images = train_test_split(images, shuffle = True, random_state = RANDOM_SEED)\n",
    "train_images = train_images.reset_index(drop = True)\n",
    "valid_images = valid_images.reset_index(drop = True)"
   ]
  },
  {
   "cell_type": "code",
   "execution_count": 20,
   "id": "minor-material",
   "metadata": {},
   "outputs": [
    {
     "data": {
      "text/plain": [
       "(9951, 4)"
      ]
     },
     "execution_count": 20,
     "metadata": {},
     "output_type": "execute_result"
    }
   ],
   "source": [
    "train_images.shape"
   ]
  },
  {
   "cell_type": "code",
   "execution_count": 21,
   "id": "cognitive-scheme",
   "metadata": {},
   "outputs": [
    {
     "data": {
      "text/plain": [
       "(16840, 4)"
      ]
     },
     "execution_count": 21,
     "metadata": {},
     "output_type": "execute_result"
    }
   ],
   "source": [
    "# add pseudo labels to the dataframe\n",
    "# WHAT ARE THE ANGLE VALUES EQUAL TO????\n",
    "for i, path in enumerate(confident_images_er):\n",
    "    row = [path, 1, df_confident_er.iloc[i]['regression_predictions'], 0.0]\n",
    "    train_images.loc[len(train_images)] = row\n",
    "for i, path in enumerate(confident_images_he):\n",
    "    row = [path, 0, df_confident_he.iloc[i]['regression_predictions'], 0.0]\n",
    "    train_images.loc[len(train_images)] = row\n",
    "train_images.shape"
   ]
  },
  {
   "cell_type": "code",
   "execution_count": 22,
   "id": "secondary-fiber",
   "metadata": {},
   "outputs": [],
   "source": [
    "def calc_metric(y_binary_true, y_binary_pred, y_reg_true, y_reg_pred):\n",
    "    '''\n",
    "    Competition metric\n",
    "    '''\n",
    "    \n",
    "    roc = roc_auc_score(y_binary_true, y_binary_pred)\n",
    "    mae = mean_absolute_error(y_reg_true, y_reg_pred)\n",
    "    return 1000 * (roc - mae), roc, mae"
   ]
  },
  {
   "cell_type": "code",
   "execution_count": 23,
   "id": "secondary-bottom",
   "metadata": {},
   "outputs": [],
   "source": [
    "class DataGenerator(tf.keras.utils.Sequence):\n",
    "    def __init__(self, images, transform=None, batch_size=32,  shuffle=True, is_classification = True, augment = False):\n",
    "        self.images = images\n",
    "        self.indices = np.arange(len(images))\n",
    "        self.transform = transform\n",
    "        self.batch_size = batch_size\n",
    "        self.shuffle = shuffle\n",
    "        self.augment = augment\n",
    "        self.is_classification = is_classification\n",
    "        \n",
    "        self.on_epoch_end()\n",
    "\n",
    "    def __len__(self):\n",
    "        int_batch_size = len(self.images) // self.batch_size\n",
    "        \n",
    "        if len(self.images) % self.batch_size != 0:\n",
    "            return int_batch_size + 1\n",
    "        return int_batch_size\n",
    "\n",
    "    def __getitem__(self, index):\n",
    "        index = self.index[index * self.batch_size:(index + 1) * self.batch_size]\n",
    "        batch = [self.indices[k] for k in index]\n",
    "    \n",
    "        X, y = self.__get_data(batch)\n",
    "        return X, y\n",
    "\n",
    "    def on_epoch_end(self):\n",
    "        self.index = np.arange(len(self.indices))\n",
    "        if self.shuffle:\n",
    "            np.random.shuffle(self.index)\n",
    "            \n",
    "    def get_label(self, y_energy):\n",
    "        if (y_energy>=1)&(y_energy <= 3):\n",
    "            y_energy = [1,0,0]\n",
    "        elif (y_energy>=6)&(y_energy <= 10):\n",
    "            y_energy = [0,1,0]\n",
    "        elif (y_energy>=20)&(y_energy <= 30):\n",
    "            y_energy = [0,0,1]\n",
    "        \n",
    "        return y_energy\n",
    "\n",
    "    def __get_data(self, batch):\n",
    "        X = np.zeros((len(batch), 128, 128, 3))\n",
    "        y_class = np.zeros((len(batch),))\n",
    "        y_energy = np.zeros((len(batch),))\n",
    "        y_angle = np.zeros((len(batch),))\n",
    "        for i, idx in enumerate(batch):\n",
    "            image=cv2.imread(self.images.iloc[idx, 0])\n",
    "            center = image.shape[0] // 2\n",
    "            image = image[center-128//2:center+128//2,center-128//2:center+128//2, :]\n",
    "            X[i,] = image\n",
    "            \n",
    "            if self.augment:\n",
    "                X[i, ] = Config.train_transform(image=X[i,].astype(np.uint8))['image']\n",
    "            particle_class = self.images.iloc[idx, 1]\n",
    "            particle_energy = self.images.iloc[idx, 2]\n",
    "#             particle_angle = self.images.iloc[idx, 3]\n",
    "            \n",
    "            y_class[i] = particle_class\n",
    "            y_energy[i] = particle_energy # self.get_label(particle_energy)\n",
    "#             y_angle[i] = particle_angle\n",
    "        if self.is_classification:\n",
    "            return X / 255.0, y_class\n",
    "        \n",
    "        return X / 255.0, y_energy"
   ]
  },
  {
   "cell_type": "code",
   "execution_count": 24,
   "id": "tight-magnitude",
   "metadata": {},
   "outputs": [],
   "source": [
    "train_datagen = DataGenerator(train_images, batch_size = Config.BATCH_SIZE, is_classification = False, augment = False)\n",
    "valid_datagen = DataGenerator(valid_images, batch_size = Config.BATCH_SIZE, is_classification = False)\n",
    "test_datagen = DataGenerator(test_images, batch_size = 1, is_classification = False, shuffle = False)"
   ]
  },
  {
   "cell_type": "code",
   "execution_count": 25,
   "id": "moderate-richmond",
   "metadata": {},
   "outputs": [],
   "source": [
    "# Example data extract\n",
    "\n",
    "X, y_energy = train_datagen.__getitem__(0)"
   ]
  },
  {
   "cell_type": "code",
   "execution_count": 26,
   "id": "excellent-deposit",
   "metadata": {},
   "outputs": [
    {
     "data": {
      "text/plain": [
       "<matplotlib.image.AxesImage at 0x7f6c396ff3c8>"
      ]
     },
     "execution_count": 26,
     "metadata": {},
     "output_type": "execute_result"
    },
    {
     "data": {
      "image/png": "[encoded data removed]",
      "text/plain": [
       "<Figure size 432x288 with 1 Axes>"
      ]
     },
     "metadata": {
      "needs_background": "light"
     },
     "output_type": "display_data"
    }
   ],
   "source": [
    "idx = 17\n",
    "plt.imshow((X[idx] * 255).astype(np.uint8))"
   ]
  },
  {
   "cell_type": "markdown",
   "id": "accurate-trigger",
   "metadata": {},
   "source": [
    "## Class model"
   ]
  },
  {
   "cell_type": "code",
   "execution_count": 27,
   "id": "violent-george",
   "metadata": {},
   "outputs": [],
   "source": [
    "import tensorflow as tf\n",
    "from tensorflow.keras.applications.vgg16 import VGG16\n",
    "from tensorflow.keras.applications.mobilenet_v2 import MobileNetV2\n",
    "from tensorflow.keras.preprocessing import image\n",
    "from tensorflow.keras.applications.vgg16 import preprocess_input\n",
    "from tensorflow.keras.applications.densenet import DenseNet121\n",
    "from tensorflow.keras.applications import ResNet152V2\n",
    "\n",
    "from tensorflow.keras.applications import EfficientNetB0\n",
    "import numpy as np\n",
    "\n",
    "MODEL_NAME = 'own'\n",
    "base_model = DenseNet121(weights='imagenet', include_top=False, input_shape=(128,128,3))"
   ]
  },
  {
   "cell_type": "code",
   "execution_count": 28,
   "id": "dense-british",
   "metadata": {},
   "outputs": [],
   "source": [
    "from tensorflow.keras import layers as L\n",
    "from tensorflow.keras.models import Model\n",
    "import tensorflow as tf\n",
    "import tensorflow.keras\n",
    "import tensorflow\n",
    "from tensorflow.keras import regularizers\n",
    "\n",
    "earlystop = tensorflow.keras.callbacks.EarlyStopping(monitor='val_mean_absolute_error', patience=Config.EARLY_STOP_PATIENCE)\n",
    "ckpt = tensorflow.keras.callbacks.ModelCheckpoint(OUTPUT_PATH / 'models' / MODEL_NAME, save_best_only=True, monitor='val_mean_absolute_error', mode='min')\n",
    "    \n",
    "def create_regression_model():\n",
    "    \n",
    "    # Model receives black and white 64 x 64 images as input\n",
    "    inp = L.Input(shape=(128,128,3))\n",
    "\n",
    "        # Sequence of two convolutional and pooling layers as feature extractors\n",
    "#     x = L.Conv2D(16, kernel_size=2, activation='relu')(inp)\n",
    "#     x = L.BatchNormalization()(x)\n",
    "    x = L.Conv2D(16, kernel_size=2, activation='relu')(inp)\n",
    "    x = L.BatchNormalization()(x)\n",
    "    x = L.MaxPooling2D(pool_size=(2, 2))(x)\n",
    "    \n",
    "    x = L.Conv2D(32, kernel_size=2, activation='relu')(x)\n",
    "    x = L.BatchNormalization()(x)\n",
    "    x = L.Conv2D(32, kernel_size=2, activation='relu')(x)\n",
    "    x = L.BatchNormalization()(x)\n",
    "    x = L.MaxPooling2D(pool_size=(2, 2))(x)\n",
    "    \n",
    "    x = L.Conv2D(64, kernel_size=4, activation='relu')(x)\n",
    "    x = L.BatchNormalization()(x)\n",
    "    x = L.Conv2D(64, kernel_size=4, activation='relu')(x)\n",
    "    x = L.BatchNormalization()(x)\n",
    "    x = L.MaxPooling2D(pool_size=(2, 2))(x)\n",
    "    \n",
    "    # and a logistic layer -- let's say we have 200 classes\n",
    "#     predictions_energy = L.Dense(3, activation= 'softmax', name='energy')(x)\n",
    "    x = L.GlobalAveragePooling2D()(x)\n",
    "    x = L.Dense(64, activation='relu')(x)\n",
    "    predictions_energy = L.Dense(1, name='energy')(x)\n",
    "#     predictions_class = L.Dense(1, activation='sigmoid', name='class')(x)\n",
    "#     predictions_angle = L.Dense(1, name='angle')(x)\n",
    "\n",
    "    # this is the model we will train\n",
    "    model = Model(inputs=[inp], outputs=[predictions_energy])\n",
    "\n",
    "\n",
    "    # compile the model (should be done *after* setting layers to non-trainable)\n",
    "    model.compile(optimizer=tensorflow.keras.optimizers.Adam(learning_rate=1e-4), \n",
    "                  loss={#'class': 'binary_crossentropy', \n",
    "                        'energy':'mean_absolute_error', \n",
    "                        #'angle': 'mean_absolute_error'\n",
    "                  },\n",
    "                  metrics = {#'class': 'AUC', \n",
    "                             'energy': 'mean_absolute_error', \n",
    "                             #'angle': 'mean_absolute_error'\n",
    "                  })\n",
    "    return model"
   ]
  },
  {
   "cell_type": "code",
   "execution_count": 29,
   "id": "incorporate-middle",
   "metadata": {},
   "outputs": [],
   "source": [
    "# def create_regression_model(base_model, l2_loss_lambda = 1e-4):\n",
    "    \n",
    "#     for layer in base_model.layers:\n",
    "#         layer.trainable = False\n",
    "        \n",
    "        \n",
    "#     x = base_model.output\n",
    "#     x = L.GlobalAveragePooling2D()(x)\n",
    "#     # let's add a fully-connected layer\n",
    "#     x = L.Dense(512, activation='relu')(x)\n",
    "#     x = L.Dense(128, activation='relu')(x)\n",
    "#     #predictions_energy = L.Dense(3, activation= 'softmax', name='energy')(x)\n",
    "    \n",
    "#     predictions_energy = L.Dense(1, name='energy')(x)\n",
    "#     #predictions_class = L.Dense(1, activation='sigmoid', name='class')(x)\n",
    "# #     predictions_angle = L.Dense(1, name='angle')(x)\n",
    "\n",
    "#     # this is the model we will train\n",
    "#     model = Model(inputs=base_model.input, outputs=[predictions_energy])\n",
    "\n",
    "#     # compile the model (should be done *after* setting layers to non-trainable)\n",
    "#     model.compile(optimizer=tensorflow.keras.optimizers.Adam(learning_rate=1e-4), \n",
    "#                   loss={#'class': 'binary_crossentropy', \n",
    "#                         'energy':'mean_absolute_error', \n",
    "#                         #'angle': 'mean_absolute_error'\n",
    "#                   },\n",
    "#                   metrics = {\n",
    "#                              #'class': 'AUC', \n",
    "#                              'energy': 'mean_absolute_error', \n",
    "#                              #'angle': 'mean_absolute_error'\n",
    "#                   })\n",
    "#     return model"
   ]
  },
  {
   "cell_type": "code",
   "execution_count": 30,
   "id": "invalid-partner",
   "metadata": {},
   "outputs": [],
   "source": [
    "model = create_regression_model()"
   ]
  },
  {
   "cell_type": "code",
   "execution_count": 31,
   "id": "modular-bristol",
   "metadata": {},
   "outputs": [],
   "source": [
    "class ModelCustomEval(tf.keras.callbacks.Callback):\n",
    "    def on_epoch_end(self, epoch, logs=None):\n",
    "        private_loss, private_mae = self.model.evaluate(test_datagen, batch_size=8, steps=test_images.shape[0])\n",
    "        #_, private_loss, _, _, private_mae, _, _ = self.model.evaluate(test_datagen, batch_size=8, steps=test_images.shape[0])\n",
    "        #wandb.log({'private_loss': private_loss, 'private_mae': private_mae})\n",
    "        print(f'Private MAE is {private_mae}')"
   ]
  },
  {
   "cell_type": "code",
   "execution_count": 33,
   "id": "appropriate-sodium",
   "metadata": {
    "scrolled": false
   },
   "outputs": [
    {
     "name": "stdout",
     "output_type": "stream",
     "text": [
      "Epoch 1/150\n",
      "30/30 [==============================] - 18s 594ms/step - loss: 3.6175 - mean_absolute_error: 3.6175 - val_loss: 2.3158 - val_mean_absolute_error: 2.3158\n",
      "12/12 [==============================] - 0s 4ms/step - loss: 3.1754 - mean_absolute_error: 3.1754\n",
      "Private MAE is 3.1753921508789062\n",
      "Epoch 2/150\n",
      "30/30 [==============================] - 18s 595ms/step - loss: 3.7068 - mean_absolute_error: 3.7068 - val_loss: 1.9547 - val_mean_absolute_error: 1.9547\n",
      "12/12 [==============================] - 0s 4ms/step - loss: 3.0118 - mean_absolute_error: 3.0118\n",
      "Private MAE is 3.0118067264556885\n",
      "Epoch 3/150\n",
      "30/30 [==============================] - 18s 588ms/step - loss: 3.7734 - mean_absolute_error: 3.7734 - val_loss: 1.7311 - val_mean_absolute_error: 1.7311\n",
      "12/12 [==============================] - 0s 4ms/step - loss: 2.5501 - mean_absolute_error: 2.5501\n",
      "Private MAE is 2.5501272678375244\n",
      "Epoch 4/150\n",
      "30/30 [==============================] - 17s 577ms/step - loss: 3.6172 - mean_absolute_error: 3.6172 - val_loss: 1.5503 - val_mean_absolute_error: 1.5503\n",
      "12/12 [==============================] - 0s 4ms/step - loss: 2.2555 - mean_absolute_error: 2.2555\n",
      "Private MAE is 2.255483865737915\n",
      "Epoch 5/150\n",
      "30/30 [==============================] - 18s 594ms/step - loss: 3.6772 - mean_absolute_error: 3.6772 - val_loss: 1.1753 - val_mean_absolute_error: 1.1753\n",
      "12/12 [==============================] - 0s 4ms/step - loss: 2.0396 - mean_absolute_error: 2.0396\n",
      "Private MAE is 2.0395686626434326\n",
      "Epoch 6/150\n",
      "30/30 [==============================] - 17s 587ms/step - loss: 3.8263 - mean_absolute_error: 3.8263 - val_loss: 1.9087 - val_mean_absolute_error: 1.9087\n",
      "12/12 [==============================] - 0s 4ms/step - loss: 2.5142 - mean_absolute_error: 2.5142\n",
      "Private MAE is 2.5142476558685303\n",
      "Epoch 7/150\n",
      "30/30 [==============================] - 17s 582ms/step - loss: 3.7705 - mean_absolute_error: 3.7705 - val_loss: 1.9459 - val_mean_absolute_error: 1.9459\n",
      "12/12 [==============================] - 0s 4ms/step - loss: 3.1210 - mean_absolute_error: 3.1210\n",
      "Private MAE is 3.1209518909454346\n",
      "Epoch 8/150\n",
      "30/30 [==============================] - 18s 591ms/step - loss: 3.8443 - mean_absolute_error: 3.8443 - val_loss: 1.4303 - val_mean_absolute_error: 1.4303\n",
      "12/12 [==============================] - 0s 4ms/step - loss: 2.9249 - mean_absolute_error: 2.9249\n",
      "Private MAE is 2.924940824508667\n",
      "Epoch 9/150\n",
      "30/30 [==============================] - 17s 585ms/step - loss: 3.6558 - mean_absolute_error: 3.6558 - val_loss: 1.6601 - val_mean_absolute_error: 1.6601\n",
      "12/12 [==============================] - 0s 4ms/step - loss: 2.3234 - mean_absolute_error: 2.3234\n",
      "Private MAE is 2.323357343673706\n",
      "Epoch 10/150\n",
      "30/30 [==============================] - 17s 581ms/step - loss: 3.6764 - mean_absolute_error: 3.6764 - val_loss: 1.3243 - val_mean_absolute_error: 1.3243\n",
      "12/12 [==============================] - 0s 4ms/step - loss: 2.2681 - mean_absolute_error: 2.2681\n",
      "Private MAE is 2.2680749893188477\n",
      "Epoch 11/150\n",
      "30/30 [==============================] - 17s 582ms/step - loss: 3.7491 - mean_absolute_error: 3.7491 - val_loss: 1.4086 - val_mean_absolute_error: 1.4086\n",
      "12/12 [==============================] - 0s 4ms/step - loss: 2.6832 - mean_absolute_error: 2.6832\n",
      "Private MAE is 2.6831681728363037\n",
      "Epoch 12/150\n",
      "30/30 [==============================] - 17s 581ms/step - loss: 3.7796 - mean_absolute_error: 3.7796 - val_loss: 1.2317 - val_mean_absolute_error: 1.2317\n",
      "12/12 [==============================] - 0s 4ms/step - loss: 2.7495 - mean_absolute_error: 2.7495\n",
      "Private MAE is 2.749525308609009\n",
      "Epoch 13/150\n",
      "30/30 [==============================] - 18s 591ms/step - loss: 3.6524 - mean_absolute_error: 3.6524 - val_loss: 1.4722 - val_mean_absolute_error: 1.4722\n",
      "12/12 [==============================] - 0s 4ms/step - loss: 2.5025 - mean_absolute_error: 2.5025\n",
      "Private MAE is 2.502528667449951\n",
      "Epoch 14/150\n",
      "30/30 [==============================] - 18s 589ms/step - loss: 3.6046 - mean_absolute_error: 3.6046 - val_loss: 1.8341 - val_mean_absolute_error: 1.8341\n",
      "12/12 [==============================] - 0s 4ms/step - loss: 3.2742 - mean_absolute_error: 3.2742\n",
      "Private MAE is 3.2742061614990234\n",
      "Epoch 15/150\n",
      "30/30 [==============================] - 18s 597ms/step - loss: 3.7630 - mean_absolute_error: 3.7630 - val_loss: 1.5091 - val_mean_absolute_error: 1.5091\n",
      "12/12 [==============================] - 0s 4ms/step - loss: 2.2670 - mean_absolute_error: 2.2670\n",
      "Private MAE is 2.267015218734741\n",
      "Epoch 16/150\n",
      "30/30 [==============================] - 18s 591ms/step - loss: 3.7732 - mean_absolute_error: 3.7732 - val_loss: 1.3612 - val_mean_absolute_error: 1.3612\n",
      "12/12 [==============================] - 0s 4ms/step - loss: 2.4517 - mean_absolute_error: 2.4517\n",
      "Private MAE is 2.4517416954040527\n",
      "Epoch 17/150\n",
      "30/30 [==============================] - 17s 580ms/step - loss: 3.7216 - mean_absolute_error: 3.7216 - val_loss: 1.7798 - val_mean_absolute_error: 1.7798\n",
      "12/12 [==============================] - 0s 4ms/step - loss: 2.6289 - mean_absolute_error: 2.6289\n",
      "Private MAE is 2.6289334297180176\n",
      "Epoch 18/150\n",
      "30/30 [==============================] - 17s 586ms/step - loss: 3.7217 - mean_absolute_error: 3.7217 - val_loss: 1.5012 - val_mean_absolute_error: 1.5012\n",
      "12/12 [==============================] - 0s 4ms/step - loss: 2.2685 - mean_absolute_error: 2.2685\n",
      "Private MAE is 2.2684805393218994\n",
      "Epoch 19/150\n",
      "30/30 [==============================] - 17s 583ms/step - loss: 3.8258 - mean_absolute_error: 3.8258 - val_loss: 1.2260 - val_mean_absolute_error: 1.2260\n",
      "12/12 [==============================] - 0s 4ms/step - loss: 2.1610 - mean_absolute_error: 2.1610\n",
      "Private MAE is 2.1609714031219482\n",
      "Epoch 20/150\n",
      "30/30 [==============================] - 17s 581ms/step - loss: 3.6612 - mean_absolute_error: 3.6612 - val_loss: 1.7716 - val_mean_absolute_error: 1.7716\n",
      "12/12 [==============================] - 0s 4ms/step - loss: 2.5784 - mean_absolute_error: 2.5784\n",
      "Private MAE is 2.578386068344116\n",
      "Epoch 21/150\n",
      "30/30 [==============================] - 17s 581ms/step - loss: 3.6944 - mean_absolute_error: 3.6944 - val_loss: 1.2428 - val_mean_absolute_error: 1.2428\n",
      "12/12 [==============================] - 0s 4ms/step - loss: 2.3694 - mean_absolute_error: 2.3694\n",
      "Private MAE is 2.369401454925537\n",
      "Epoch 22/150\n",
      "30/30 [==============================] - 18s 594ms/step - loss: 3.7198 - mean_absolute_error: 3.7198 - val_loss: 1.7956 - val_mean_absolute_error: 1.7956\n",
      "12/12 [==============================] - 0s 4ms/step - loss: 2.8597 - mean_absolute_error: 2.8597\n",
      "Private MAE is 2.8596534729003906\n",
      "Epoch 23/150\n",
      "30/30 [==============================] - 18s 598ms/step - loss: 3.6779 - mean_absolute_error: 3.6779 - val_loss: 1.7204 - val_mean_absolute_error: 1.7204\n",
      "12/12 [==============================] - 0s 4ms/step - loss: 2.6676 - mean_absolute_error: 2.6676\n",
      "Private MAE is 2.667560338973999\n",
      "Epoch 24/150\n",
      "30/30 [==============================] - 17s 582ms/step - loss: 3.5024 - mean_absolute_error: 3.5024 - val_loss: 2.1699 - val_mean_absolute_error: 2.1699\n",
      "12/12 [==============================] - 0s 4ms/step - loss: 3.0175 - mean_absolute_error: 3.0175\n",
      "Private MAE is 3.01751446723938\n",
      "Epoch 25/150\n",
      "30/30 [==============================] - 17s 579ms/step - loss: 3.5947 - mean_absolute_error: 3.5947 - val_loss: 2.3428 - val_mean_absolute_error: 2.3428\n",
      "12/12 [==============================] - 0s 4ms/step - loss: 3.0601 - mean_absolute_error: 3.0601\n",
      "Private MAE is 3.0601091384887695\n"
     ]
    },
    {
     "data": {
      "text/plain": [
       "<tensorflow.python.keras.callbacks.History at 0x7f6bb85dce80>"
      ]
     },
     "execution_count": 33,
     "metadata": {},
     "output_type": "execute_result"
    }
   ],
   "source": [
    "model.fit(\n",
    "    train_datagen, \n",
    "    steps_per_epoch = Config.STEPS_PER_EPOCH, \n",
    "    validation_data = valid_datagen, \n",
    "    validation_steps = Config.VALIDATION_STEPS_PER_EPOCH, \n",
    "    epochs = Config.TRAINING_EPOCHS,\n",
    "    verbose = 1,\n",
    "    callbacks = [earlystop, ModelCustomEval()]\n",
    "    )"
   ]
  },
  {
   "cell_type": "code",
   "execution_count": 19,
   "id": "manufactured-halifax",
   "metadata": {},
   "outputs": [],
   "source": [
    "model = tensorflow.keras.models.load_model(OUTPUT_PATH / 'models' / 'regression_own')"
   ]
  },
  {
   "cell_type": "code",
   "execution_count": 34,
   "id": "worldwide-utilization",
   "metadata": {},
   "outputs": [
    {
     "name": "stdout",
     "output_type": "stream",
     "text": [
      "26/51 [==============>...............] - ETA: 10s - loss: 0.5705 - mean_absolute_error: 0.5705WARNING:tensorflow:Your input ran out of data; interrupting training. Make sure that your dataset or generator can generate at least `steps_per_epoch * epochs` batches (in this case, 51 batches). You may need to use the repeat() function when building your dataset.\n",
      "51/51 [==============================] - 11s 215ms/step - loss: 0.5705 - mean_absolute_error: 0.5705\n"
     ]
    },
    {
     "data": {
      "text/plain": [
       "[0.5704861283302307, 0.5704861283302307]"
      ]
     },
     "execution_count": 34,
     "metadata": {},
     "output_type": "execute_result"
    }
   ],
   "source": [
    "model.evaluate(valid_datagen, batch_size=64, steps=valid_images.shape[0] // 64)"
   ]
  },
  {
   "cell_type": "code",
   "execution_count": 35,
   "id": "descending-reaction",
   "metadata": {},
   "outputs": [
    {
     "name": "stdout",
     "output_type": "stream",
     "text": [
      "12/12 [==============================] - 0s 13ms/step - loss: 4.2460 - mean_absolute_error: 4.2460\n"
     ]
    },
    {
     "data": {
      "text/plain": [
       "[4.246045112609863, 4.246045112609863]"
      ]
     },
     "execution_count": 35,
     "metadata": {},
     "output_type": "execute_result"
    }
   ],
   "source": [
    "model.evaluate(test_datagen, batch_size=8, steps=test_images.shape[0])"
   ]
  },
  {
   "cell_type": "code",
   "execution_count": 58,
   "id": "tribal-tours",
   "metadata": {},
   "outputs": [
    {
     "data": {
      "text/plain": [
       "array([[  3.0532002],\n",
       "       [155.99887  ],\n",
       "       [155.99887  ],\n",
       "       [155.99887  ],\n",
       "       [155.99887  ],\n",
       "       [155.99887  ],\n",
       "       [155.99887  ],\n",
       "       [155.99887  ],\n",
       "       [155.99887  ],\n",
       "       [155.99887  ],\n",
       "       [155.99887  ],\n",
       "       [155.99887  ]], dtype=float32)"
      ]
     },
     "execution_count": 58,
     "metadata": {},
     "output_type": "execute_result"
    }
   ],
   "source": [
    "y_pred[-12:]"
   ]
  },
  {
   "cell_type": "code",
   "execution_count": 36,
   "id": "received-jewelry",
   "metadata": {},
   "outputs": [],
   "source": [
    "#valid_datagen = DataGenerator(valid_images, batch_size = 1, is_classification = False, shuffle = False)\n",
    "y_pred = model.predict(test_datagen, batch_size = 8)"
   ]
  },
  {
   "cell_type": "code",
   "execution_count": 37,
   "id": "reduced-soldier",
   "metadata": {},
   "outputs": [
    {
     "data": {
      "text/plain": [
       "(12, 1)"
      ]
     },
     "execution_count": 37,
     "metadata": {},
     "output_type": "execute_result"
    }
   ],
   "source": [
    "y_pred.shape"
   ]
  },
  {
   "cell_type": "code",
   "execution_count": 25,
   "id": "anticipated-hometown",
   "metadata": {},
   "outputs": [],
   "source": [
    "y_pred_changed = y_pred.copy()\n",
    "y_pred_changed[test_images['class'] == 1, 0] = np.array([1,6,20])[np.argmin(np.abs(y_pred_changed[test_images['class'] == 1] - [1,6,20]), axis = 1)]\n",
    "y_pred_changed[test_images['class'] == 0, 0] = np.array([3,10,30])[np.argmin(np.abs(y_pred_changed[test_images['class'] == 0] - [3,10,30]), axis = 1)]\n",
    "y_pred_changed = y_pred_changed.reshape(-1)"
   ]
  },
  {
   "cell_type": "code",
   "execution_count": 26,
   "id": "scientific-token",
   "metadata": {},
   "outputs": [
    {
     "data": {
      "text/plain": [
       "0.0"
      ]
     },
     "execution_count": 26,
     "metadata": {},
     "output_type": "execute_result"
    }
   ],
   "source": [
    "mean_absolute_error(test_images['energy'], y_pred_changed)"
   ]
  },
  {
   "cell_type": "code",
   "execution_count": 51,
   "id": "sudden-alaska",
   "metadata": {},
   "outputs": [],
   "source": [
    "model.save(OUTPUT_PATH / 'models' / 'cnn_classification')"
   ]
  }
 ],
 "metadata": {
  "kernelspec": {
   "display_name": "Python 3",
   "language": "python",
   "name": "python3"
  },
  "language_info": {
   "codemirror_mode": {
    "name": "ipython",
    "version": 3
   },
   "file_extension": ".py",
   "mimetype": "text/x-python",
   "name": "python",
   "nbconvert_exporter": "python",
   "pygments_lexer": "ipython3",
   "version": "3.6.9"
  }
 },
 "nbformat": 4,
 "nbformat_minor": 5
}
