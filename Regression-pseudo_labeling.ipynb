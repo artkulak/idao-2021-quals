{
 "cells": [
  {
   "cell_type": "code",
   "execution_count": 1,
   "id": "threaded-girlfriend",
   "metadata": {},
   "outputs": [
    {
     "name": "stdout",
     "output_type": "stream",
     "text": [
      "INFO:tensorflow:Enabling eager execution\n",
      "INFO:tensorflow:Enabling v2 tensorshape\n",
      "INFO:tensorflow:Enabling resource variables\n",
      "INFO:tensorflow:Enabling tensor equality\n",
      "INFO:tensorflow:Enabling control flow v2\n"
     ]
    }
   ],
   "source": [
    "#####################\n",
    "# IMPORT LIBS\n",
    "#####################\n",
    "\n",
    "from PIL import Image\n",
    "from sklearn.model_selection import train_test_split\n",
    "from skimage import io, transform\n",
    "from skimage.transform import AffineTransform, warp\n",
    "from sklearn.metrics import roc_auc_score, mean_absolute_error\n",
    "import tensorflow as tf\n",
    "\n",
    "from tensorflow.keras.models import load_model\n",
    "from tensorflow.compat.v1.keras import backend as K\n",
    "\n",
    "import pandas as pd\n",
    "from pathlib import Path\n",
    "import os\n",
    "import cv2\n",
    "import matplotlib.pyplot as plt\n",
    "import numpy as np\n",
    "import random\n",
    "import glob\n",
    "import albumentations as A\n",
    "import cv2\n",
    "# from efficientnet_pytorch import EfficientNet\n",
    "\n",
    "\n",
    "#####################\n",
    "# SET CONSTANTS\n",
    "#####################\n",
    "\n",
    "INPUT_PATH = Path('../input')\n",
    "OUTPUT_PATH = Path('../output')\n",
    "TRAIN_PATH = INPUT_PATH / 'idao_dataset' / 'train'\n",
    "PRIVATE_PATH = INPUT_PATH / 'idao_dataset' / 'private_test'\n",
    "PRIVATE_PATH_NEW = INPUT_PATH / 'idao_dataset' / 'private_test_new'\n",
    "PUBLIC_PATH = INPUT_PATH / 'idao_dataset' / 'public_test'\n",
    "\n",
    "RANDOM_SEED = 4444\n",
    "\n",
    "def seed_everything(seed=1234):\n",
    "    random.seed(seed)\n",
    "    os.environ['PYTHONHASHSEED'] = str(seed)\n",
    "    np.random.seed(seed)\n",
    "seed_everything(RANDOM_SEED)"
   ]
  },
  {
   "cell_type": "code",
   "execution_count": 2,
   "id": "offshore-collar",
   "metadata": {},
   "outputs": [
    {
     "data": {
      "text/html": [
       "<div>\n",
       "<style scoped>\n",
       "    .dataframe tbody tr th:only-of-type {\n",
       "        vertical-align: middle;\n",
       "    }\n",
       "\n",
       "    .dataframe tbody tr th {\n",
       "        vertical-align: top;\n",
       "    }\n",
       "\n",
       "    .dataframe thead th {\n",
       "        text-align: right;\n",
       "    }\n",
       "</style>\n",
       "<table border=\"1\" class=\"dataframe\">\n",
       "  <thead>\n",
       "    <tr style=\"text-align: right;\">\n",
       "      <th></th>\n",
       "      <th>id</th>\n",
       "      <th>classification_predictions</th>\n",
       "      <th>regression_predictions</th>\n",
       "    </tr>\n",
       "  </thead>\n",
       "  <tbody>\n",
       "    <tr>\n",
       "      <th>1502</th>\n",
       "      <td>00013a94f1fae3e5a33f8b44c2842c85f0483e96</td>\n",
       "      <td>0.955369</td>\n",
       "      <td>6.662307</td>\n",
       "    </tr>\n",
       "    <tr>\n",
       "      <th>1503</th>\n",
       "      <td>0005564c011259402dcb6e3beb6e64d285124fa0</td>\n",
       "      <td>0.966681</td>\n",
       "      <td>24.636940</td>\n",
       "    </tr>\n",
       "    <tr>\n",
       "      <th>1504</th>\n",
       "      <td>0007520c8d8efade8feaafbf74fc7d206cdf229d</td>\n",
       "      <td>0.353519</td>\n",
       "      <td>25.049461</td>\n",
       "    </tr>\n",
       "    <tr>\n",
       "      <th>1505</th>\n",
       "      <td>000804a189f630cd980ff1543c0ef99d48cd6b34</td>\n",
       "      <td>0.920809</td>\n",
       "      <td>0.965628</td>\n",
       "    </tr>\n",
       "    <tr>\n",
       "      <th>1506</th>\n",
       "      <td>000eb12def5371089743dcfe401a8e399f5883fc</td>\n",
       "      <td>0.555564</td>\n",
       "      <td>25.009729</td>\n",
       "    </tr>\n",
       "    <tr>\n",
       "      <th>...</th>\n",
       "      <td>...</td>\n",
       "      <td>...</td>\n",
       "      <td>...</td>\n",
       "    </tr>\n",
       "    <tr>\n",
       "      <th>16555</th>\n",
       "      <td>ffe6d929d9537cf9b718711a63e41a1b57b509c2</td>\n",
       "      <td>0.901659</td>\n",
       "      <td>1.381425</td>\n",
       "    </tr>\n",
       "    <tr>\n",
       "      <th>16556</th>\n",
       "      <td>ffea775cbac98273943841d63b08377d29f08bc7</td>\n",
       "      <td>0.568035</td>\n",
       "      <td>24.246309</td>\n",
       "    </tr>\n",
       "    <tr>\n",
       "      <th>16557</th>\n",
       "      <td>ffece3dcdcbe2d3125dbed1b8c77f2d6b4832580</td>\n",
       "      <td>0.870038</td>\n",
       "      <td>12.005822</td>\n",
       "    </tr>\n",
       "    <tr>\n",
       "      <th>16558</th>\n",
       "      <td>ffed718417c6923844d33e70491c54396e3ec1ed</td>\n",
       "      <td>0.884257</td>\n",
       "      <td>1.019125</td>\n",
       "    </tr>\n",
       "    <tr>\n",
       "      <th>16559</th>\n",
       "      <td>fff7b36d8ef90c90d9598620b87dabc0360f501c</td>\n",
       "      <td>0.878947</td>\n",
       "      <td>0.855985</td>\n",
       "    </tr>\n",
       "  </tbody>\n",
       "</table>\n",
       "<p>15058 rows × 3 columns</p>\n",
       "</div>"
      ],
      "text/plain": [
       "                                             id  classification_predictions  \\\n",
       "1502   00013a94f1fae3e5a33f8b44c2842c85f0483e96                    0.955369   \n",
       "1503   0005564c011259402dcb6e3beb6e64d285124fa0                    0.966681   \n",
       "1504   0007520c8d8efade8feaafbf74fc7d206cdf229d                    0.353519   \n",
       "1505   000804a189f630cd980ff1543c0ef99d48cd6b34                    0.920809   \n",
       "1506   000eb12def5371089743dcfe401a8e399f5883fc                    0.555564   \n",
       "...                                         ...                         ...   \n",
       "16555  ffe6d929d9537cf9b718711a63e41a1b57b509c2                    0.901659   \n",
       "16556  ffea775cbac98273943841d63b08377d29f08bc7                    0.568035   \n",
       "16557  ffece3dcdcbe2d3125dbed1b8c77f2d6b4832580                    0.870038   \n",
       "16558  ffed718417c6923844d33e70491c54396e3ec1ed                    0.884257   \n",
       "16559  fff7b36d8ef90c90d9598620b87dabc0360f501c                    0.878947   \n",
       "\n",
       "       regression_predictions  \n",
       "1502                 6.662307  \n",
       "1503                24.636940  \n",
       "1504                25.049461  \n",
       "1505                 0.965628  \n",
       "1506                25.009729  \n",
       "...                       ...  \n",
       "16555                1.381425  \n",
       "16556               24.246309  \n",
       "16557               12.005822  \n",
       "16558                1.019125  \n",
       "16559                0.855985  \n",
       "\n",
       "[15058 rows x 3 columns]"
      ]
     },
     "execution_count": 2,
     "metadata": {},
     "output_type": "execute_result"
    }
   ],
   "source": [
    "# take predictions on private test data\n",
    "df_sub_private = pd.read_csv(INPUT_PATH / 'submission_493.csv').iloc[1502:]\n",
    "df_sub_private"
   ]
  },
  {
   "cell_type": "code",
   "execution_count": 3,
   "id": "dimensional-naples",
   "metadata": {},
   "outputs": [
    {
     "name": "stdout",
     "output_type": "stream",
     "text": [
      "# confident predictions: 349\n",
      "# confident 1 (ER): 349\n",
      "# confident 0 (HE): 0\n"
     ]
    }
   ],
   "source": [
    "# select the most confident classification predictions\n",
    "t_confidence = 0.99\n",
    "confidence_condition = (\n",
    "    (df_sub_private['classification_predictions'] >= t_confidence) | \\\n",
    "    (df_sub_private['classification_predictions'] <= 1 - t_confidence)\n",
    ")\n",
    "df_confident = df_sub_private[confidence_condition]\n",
    "df_confident_er = df_confident[df_confident[\"classification_predictions\"].round() == 1]\n",
    "df_confident_he = df_confident[df_confident[\"classification_predictions\"].round() == 0]\n",
    "print(f'# confident predictions: {len(df_confident)}')\n",
    "print(f'# confident 1 (ER): {len(df_confident_er)}')\n",
    "print(f'# confident 0 (HE): {len(df_confident_he)}')"
   ]
  },
  {
   "cell_type": "code",
   "execution_count": 4,
   "id": "dress-tutorial",
   "metadata": {},
   "outputs": [
    {
     "name": "stdout",
     "output_type": "stream",
     "text": [
      "ER regression rounded predictions:\n",
      "20    328\n",
      "6      21\n",
      "Name: regression_predictions, dtype: int64\n",
      "HE regression rounded predictions:\n",
      "Series([], Name: regression_predictions, dtype: int64)\n"
     ]
    }
   ],
   "source": [
    "# round regression predictions for the most confident classification predictions\n",
    "df_confident_er['regression_predictions'] = df_confident_er['regression_predictions'].apply(\n",
    "    lambda x: np.array([1,6,20])[np.argmin(np.abs(x - np.array([1,6,20])))]\n",
    ")\n",
    "df_confident_he['regression_predictions'] = df_confident_he['regression_predictions'].apply(\n",
    "    lambda x: np.array([3,10,30])[np.argmin(np.abs(x - np.array([3,10,30])))]\n",
    ")\n",
    "print('ER regression rounded predictions:')\n",
    "print(df_confident_er['regression_predictions'].value_counts())\n",
    "print('HE regression rounded predictions:')\n",
    "print(df_confident_he['regression_predictions'].value_counts())"
   ]
  },
  {
   "cell_type": "code",
   "execution_count": 5,
   "id": "civilian-montana",
   "metadata": {},
   "outputs": [
    {
     "name": "stdout",
     "output_type": "stream",
     "text": [
      "100.0% of confident ER images are in private test data\n"
     ]
    },
    {
     "ename": "ZeroDivisionError",
     "evalue": "division by zero",
     "output_type": "error",
     "traceback": [
      "\u001b[0;31m\u001b[0m",
      "\u001b[0;31mZeroDivisionError\u001b[0mTraceback (most recent call last)",
      "\u001b[0;32m<ipython-input-5-63291624aa42>\u001b[0m in \u001b[0;36m<module>\u001b[0;34m\u001b[0m\n\u001b[1;32m      4\u001b[0m \u001b[0mconfident_images_he\u001b[0m \u001b[0;34m=\u001b[0m \u001b[0;34m[\u001b[0m\u001b[0mstr\u001b[0m\u001b[0;34m(\u001b[0m\u001b[0mPRIVATE_PATH_NEW\u001b[0m \u001b[0;34m/\u001b[0m \u001b[0;34mf'{x}.png'\u001b[0m\u001b[0;34m)\u001b[0m \u001b[0;32mfor\u001b[0m \u001b[0mx\u001b[0m \u001b[0;32min\u001b[0m \u001b[0mdf_confident_he\u001b[0m\u001b[0;34m[\u001b[0m\u001b[0;34m'id'\u001b[0m\u001b[0;34m]\u001b[0m\u001b[0;34m.\u001b[0m\u001b[0mvalues\u001b[0m\u001b[0;34m]\u001b[0m\u001b[0;34m\u001b[0m\u001b[0;34m\u001b[0m\u001b[0m\n\u001b[1;32m      5\u001b[0m \u001b[0mprint\u001b[0m\u001b[0;34m(\u001b[0m\u001b[0;34mf'{100*sum([x in private_images for x in confident_images_er]) / len(confident_images_er)}% of confident ER images are in private test data'\u001b[0m\u001b[0;34m)\u001b[0m\u001b[0;34m\u001b[0m\u001b[0;34m\u001b[0m\u001b[0m\n\u001b[0;32m----> 6\u001b[0;31m \u001b[0mprint\u001b[0m\u001b[0;34m(\u001b[0m\u001b[0;34mf'{100*sum([x in private_images for x in confident_images_he]) / len(confident_images_he)}% of confident HE images are in private test data'\u001b[0m\u001b[0;34m)\u001b[0m\u001b[0;34m\u001b[0m\u001b[0;34m\u001b[0m\u001b[0m\n\u001b[0m",
      "\u001b[0;31mZeroDivisionError\u001b[0m: division by zero"
     ]
    }
   ],
   "source": [
    "# write paths to the most confident predictions and check how many of them are actual paths of private images\n",
    "private_images = glob.glob(str(PRIVATE_PATH_NEW / '*.png'), recursive=True)\n",
    "confident_images_er = [str(PRIVATE_PATH_NEW / f'{x}.png') for x in df_confident_er['id'].values]\n",
    "confident_images_he = [str(PRIVATE_PATH_NEW / f'{x}.png') for x in df_confident_he['id'].values]\n",
    "print(f'{100*sum([x in private_images for x in confident_images_er]) / len(confident_images_er)}% of confident ER images are in private test data')\n",
    "print(f'{100*sum([x in private_images for x in confident_images_he]) / len(confident_images_he)}% of confident HE images are in private test data')"
   ]
  },
  {
   "cell_type": "code",
   "execution_count": 6,
   "id": "absolute-oklahoma",
   "metadata": {},
   "outputs": [],
   "source": [
    "class Config:\n",
    "    BATCH_SIZE = 128\n",
    "    TRAINING_EPOCHS = 150\n",
    "    VALIDATION_STEPS_PER_EPOCH = 10\n",
    "    VALIDATION_EPOCHS = 10\n",
    "    STEPS_PER_EPOCH = 30\n",
    "    EARLY_STOP_PATIENCE = 20\n",
    "    \n",
    "    \n",
    "    # Declare an augmentation pipeline\n",
    "    train_transform = A.Compose([\n",
    "        #A.HorizontalFlip(p=0.5),\n",
    "        #A.HorizontalFlip(p=0.5),\n",
    "        #A.VerticalFlip(p=0.5),\n",
    "        A.Cutout(num_holes=4, max_h_size=8, max_w_size=8, p=0.3),\n",
    "        A.OneOf([A.RandomContrast(),\n",
    "             A.RandomGamma(),\n",
    "             A.RandomBrightness()],p=0.2),\n",
    "        A.OneOf([A.Blur(p = 0.3),\n",
    "             A.GaussNoise(p=0.3)\n",
    "                ],p=0.5),\n",
    "        A.CLAHE(clip_limit=4, tile_grid_size=(8,8), always_apply=False, p=0.3),\n",
    "    ],)\n",
    "    \n",
    "    validation_transform = A.Compose([\n",
    "    ],)"
   ]
  },
  {
   "cell_type": "code",
   "execution_count": 7,
   "id": "needed-airline",
   "metadata": {},
   "outputs": [
    {
     "data": {
      "text/plain": [
       "(13280, 4)"
      ]
     },
     "execution_count": 7,
     "metadata": {},
     "output_type": "execute_result"
    }
   ],
   "source": [
    "def getFeatures(img_path):\n",
    "    if len(img_path.split('_')) == 18:\n",
    "        particle_class = 1 # ER\n",
    "        particle_energy = int(img_path.split('_')[7])\n",
    "    else:\n",
    "        particle_class = 0 # HE\n",
    "        particle_energy = int(img_path.split('_')[8])\n",
    "    particle_angle = float(img_path.split('/')[-1].split('__')[0])\n",
    "    return [img_path, particle_class, particle_energy, particle_angle]\n",
    "\n",
    "images = glob.glob(str(TRAIN_PATH / '**/*.png'), recursive=True)\n",
    "images = pd.DataFrame(map(getFeatures, images))\n",
    "images.columns = ['path', 'class', 'energy', 'angle']\n",
    "images.shape"
   ]
  },
  {
   "cell_type": "code",
   "execution_count": 8,
   "id": "serious-afternoon",
   "metadata": {},
   "outputs": [
    {
     "data": {
      "text/plain": [
       "(13629, 4)"
      ]
     },
     "execution_count": 8,
     "metadata": {},
     "output_type": "execute_result"
    }
   ],
   "source": [
    "# add pseudo labels to the dataframe\n",
    "# WHAT ARE THE ANGLE VALUES EQUAL TO????\n",
    "for i, path in enumerate(confident_images_er):\n",
    "    row = [path, 1, df_confident_er.iloc[i]['regression_predictions'], 0.0]\n",
    "    images.loc[len(images)] = row\n",
    "for i, path in enumerate(confident_images_he):\n",
    "    row = [path, 0, df_confident_he.iloc[i]['regression_predictions'], 0.0]\n",
    "    images.loc[len(images)] = row\n",
    "images.shape"
   ]
  },
  {
   "cell_type": "code",
   "execution_count": 11,
   "id": "educational-breeding",
   "metadata": {},
   "outputs": [],
   "source": [
    "#################\n",
    "# EXTRACT TEST\n",
    "#################\n",
    "\n",
    "# HE - 0, ER - 1\n",
    "\n",
    "he_test_idx = list(images[(images['class'] == 1) & (images['energy'].apply(lambda x: x in [1, 6, 20]))].index)\n",
    "er_test_idx = list(images[(images['class'] == 0) & (images['energy'].apply(lambda x: x in [3, 10, 30]))].index)"
   ]
  },
  {
   "cell_type": "code",
   "execution_count": 12,
   "id": "unsigned-australia",
   "metadata": {},
   "outputs": [],
   "source": [
    "# TODO: Write this to a separate folder\n",
    "\n",
    "# 0 - [:750]\n",
    "# 1 - [750:1502]\n",
    "# 0 - [1502:7531]\n",
    "# 1 - [7531:]\n",
    "\n",
    "import glob\n",
    "private_test = glob.glob(str(PRIVATE_PATH / '**/*.png'), recursive=True)\n",
    "public_test = glob.glob(str(PUBLIC_PATH / '**/*.png'), recursive=True)\n",
    "\n",
    "sample_submission = pd.read_csv(INPUT_PATH / 'track1_predictions_example.csv')\n",
    "private_ids = [t.split('/')[-1].split('.')[0] for t in private_test]\n",
    "public_ids = [t.split('/')[-1].split('.')[0] for t in public_test]\n",
    "\n",
    "# sample_submission['path'] = sample_submission['id'].apply(lambda x: PRIVATE_PATH / f'{x}.png' if x in private_ids else PUBLIC_PATH / f'{x}.png').map(str)\n",
    "# sample_submission.iloc[:750, 1] = 1\n",
    "# sample_submission.iloc[750:1502, 1] = 0\n",
    "# sample_submission.iloc[1502:7531, 1] = 1\n",
    "# sample_submission.iloc[7531:, 1] = 0\n",
    "\n",
    "# sample_submission = sample_submission.iloc[1502:].reset_index(drop = True)\n",
    "\n",
    "# images_leak = pd.DataFrame(np.array([sample_submission.iloc[:, 3].values, sample_submission.iloc[:, 1].values, sample_submission.iloc[:, 2].values]).T)\n",
    "# images_leak.columns = ['path', 'class', 'energy']"
   ]
  },
  {
   "cell_type": "code",
   "execution_count": 14,
   "id": "diverse-tucson",
   "metadata": {},
   "outputs": [],
   "source": [
    "test_idx = he_test_idx + er_test_idx\n",
    "test_images = images.iloc[test_idx]\n",
    "images = images.drop(index = test_idx)\n",
    "\n",
    "\n",
    "train_images, valid_images = train_test_split(images, shuffle = True, random_state = RANDOM_SEED)\n",
    "train_images = train_images.reset_index(drop = True)\n",
    "valid_images = valid_images.reset_index(drop = True)"
   ]
  },
  {
   "cell_type": "code",
   "execution_count": 15,
   "id": "secondary-fiber",
   "metadata": {},
   "outputs": [],
   "source": [
    "def calc_metric(y_binary_true, y_binary_pred, y_reg_true, y_reg_pred):\n",
    "    '''\n",
    "    Competition metric\n",
    "    '''\n",
    "    \n",
    "    roc = roc_auc_score(y_binary_true, y_binary_pred)\n",
    "    mae = mean_absolute_error(y_reg_true, y_reg_pred)\n",
    "    return 1000 * (roc - mae), roc, mae"
   ]
  },
  {
   "cell_type": "code",
   "execution_count": 16,
   "id": "secondary-bottom",
   "metadata": {},
   "outputs": [],
   "source": [
    "class DataGenerator(tf.keras.utils.Sequence):\n",
    "    def __init__(self, images, transform=None, batch_size=32,  shuffle=True, is_classification = True, augment = False):\n",
    "        self.images = images\n",
    "        self.indices = np.arange(len(images))\n",
    "        self.transform = transform\n",
    "        self.batch_size = batch_size\n",
    "        self.shuffle = shuffle\n",
    "        self.augment = augment\n",
    "        self.is_classification = is_classification\n",
    "        \n",
    "        self.on_epoch_end()\n",
    "\n",
    "    def __len__(self):\n",
    "        int_batch_size = len(self.images) // self.batch_size\n",
    "        \n",
    "        if len(self.images) % self.batch_size != 0:\n",
    "            return int_batch_size + 1\n",
    "        return int_batch_size\n",
    "\n",
    "    def __getitem__(self, index):\n",
    "        index = self.index[index * self.batch_size:(index + 1) * self.batch_size]\n",
    "        batch = [self.indices[k] for k in index]\n",
    "    \n",
    "        X, y = self.__get_data(batch)\n",
    "        return X, y\n",
    "\n",
    "    def on_epoch_end(self):\n",
    "        self.index = np.arange(len(self.indices))\n",
    "        if self.shuffle:\n",
    "            np.random.shuffle(self.index)\n",
    "            \n",
    "    def get_label(self, y_energy):\n",
    "        if (y_energy>=1)&(y_energy <= 3):\n",
    "            y_energy = [1,0,0]\n",
    "        elif (y_energy>=6)&(y_energy <= 10):\n",
    "            y_energy = [0,1,0]\n",
    "        elif (y_energy>=20)&(y_energy <= 30):\n",
    "            y_energy = [0,0,1]\n",
    "        \n",
    "        return y_energy\n",
    "\n",
    "    def __get_data(self, batch):\n",
    "        X = np.zeros((len(batch), 128, 128, 3))\n",
    "        y_class = np.zeros((len(batch),))\n",
    "        y_energy = np.zeros((len(batch),))\n",
    "        y_angle = np.zeros((len(batch),))\n",
    "        for i, idx in enumerate(batch):\n",
    "            image=cv2.imread(self.images.iloc[idx, 0])\n",
    "            center = image.shape[0] // 2\n",
    "            image = image[center-128//2:center+128//2,center-128//2:center+128//2, :]\n",
    "            X[i,] = image\n",
    "            \n",
    "            if self.augment:\n",
    "                X[i, ] = Config.train_transform(image=X[i,].astype(np.uint8))['image']\n",
    "            particle_class = self.images.iloc[idx, 1]\n",
    "            particle_energy = self.images.iloc[idx, 2]\n",
    "#             particle_angle = self.images.iloc[idx, 3]\n",
    "            \n",
    "            y_class[i] = particle_class\n",
    "            y_energy[i] = particle_energy # self.get_label(particle_energy)\n",
    "#             y_angle[i] = particle_angle\n",
    "        if self.is_classification:\n",
    "            return X / 255.0, y_class\n",
    "        \n",
    "        return X / 255.0, y_energy"
   ]
  },
  {
   "cell_type": "code",
   "execution_count": 17,
   "id": "tight-magnitude",
   "metadata": {},
   "outputs": [],
   "source": [
    "train_datagen = DataGenerator(train_images, batch_size = Config.BATCH_SIZE, is_classification = False, augment = False)\n",
    "valid_datagen = DataGenerator(valid_images, batch_size = Config.BATCH_SIZE, is_classification = False)\n",
    "test_datagen = DataGenerator(test_images, batch_size = 1, is_classification = False, shuffle = False)"
   ]
  },
  {
   "cell_type": "code",
   "execution_count": 18,
   "id": "moderate-richmond",
   "metadata": {},
   "outputs": [],
   "source": [
    "# Example data extract\n",
    "\n",
    "X, y_energy = train_datagen.__getitem__(0)"
   ]
  },
  {
   "cell_type": "code",
   "execution_count": 19,
   "id": "excellent-deposit",
   "metadata": {},
   "outputs": [
    {
     "data": {
      "text/plain": [
       "<matplotlib.image.AxesImage at 0x7f18cd9775f8>"
      ]
     },
     "execution_count": 19,
     "metadata": {},
     "output_type": "execute_result"
    },
    {
     "data": {
      "image/png": "[encoded data removed]",
      "text/plain": [
       "<Figure size 432x288 with 1 Axes>"
      ]
     },
     "metadata": {
      "needs_background": "light"
     },
     "output_type": "display_data"
    }
   ],
   "source": [
    "idx = 17\n",
    "plt.imshow((X[idx] * 255).astype(np.uint8))"
   ]
  },
  {
   "cell_type": "markdown",
   "id": "accurate-trigger",
   "metadata": {},
   "source": [
    "## Class model"
   ]
  },
  {
   "cell_type": "code",
   "execution_count": 20,
   "id": "violent-george",
   "metadata": {},
   "outputs": [],
   "source": [
    "import tensorflow as tf\n",
    "from tensorflow.keras.applications.vgg16 import VGG16\n",
    "from tensorflow.keras.applications.mobilenet_v2 import MobileNetV2\n",
    "from tensorflow.keras.preprocessing import image\n",
    "from tensorflow.keras.applications.vgg16 import preprocess_input\n",
    "from tensorflow.keras.applications.densenet import DenseNet121\n",
    "from tensorflow.keras.applications import ResNet152V2\n",
    "\n",
    "from tensorflow.keras.applications import EfficientNetB0\n",
    "import numpy as np\n",
    "\n",
    "base_model = DenseNet121(weights='imagenet', include_top=False, input_shape=(128,128,3))"
   ]
  },
  {
   "cell_type": "code",
   "execution_count": 21,
   "id": "dense-british",
   "metadata": {},
   "outputs": [],
   "source": [
    "from tensorflow.keras import layers as L\n",
    "from tensorflow.keras.models import Model\n",
    "import tensorflow as tf\n",
    "import tensorflow.keras\n",
    "import tensorflow\n",
    "from tensorflow.keras import regularizers\n",
    "\n",
    "earlystop = tensorflow.keras.callbacks.EarlyStopping(monitor='val_mean_absolute_error', patience=Config.EARLY_STOP_PATIENCE)\n",
    "ckpt = tensorflow.keras.callbacks.ModelCheckpoint(OUTPUT_PATH / 'models' / 'regression_own', save_best_only=True, monitor='val_mean_absolute_error', mode='min')\n",
    "    \n",
    "def create_regression_model():\n",
    "    \n",
    "    # Model receives black and white 64 x 64 images as input\n",
    "    inp = L.Input(shape=(128,128,3))\n",
    "\n",
    "    # Sequence of two convolutional and pooling layers as feature extractors\n",
    "    x = L.Conv2D(8, kernel_size=2, activation='relu')(inp)\n",
    "    x = L.BatchNormalization()(x)\n",
    "    x = L.Conv2D(8, kernel_size=2, activation='relu')(inp)\n",
    "    x = L.BatchNormalization()(x)\n",
    "    x = L.MaxPooling2D(pool_size=(2, 2))(x)\n",
    "    x = L.Dropout(0.1)(x)\n",
    "    \n",
    "    x = L.Conv2D(16, kernel_size=2, activation='relu')(x)\n",
    "    x = L.BatchNormalization()(x)\n",
    "    x = L.Conv2D(16, kernel_size=2, activation='relu')(x)\n",
    "    x = L.BatchNormalization()(x)\n",
    "    x = L.MaxPooling2D(pool_size=(2, 2))(x)\n",
    "    x = L.Dropout(0.1)(x)\n",
    "    \n",
    "    x = L.Conv2D(32, kernel_size=2, activation='relu')(x)\n",
    "    x = L.BatchNormalization()(x)\n",
    "    x = L.Conv2D(32, kernel_size=2, activation='relu')(x)\n",
    "    x = L.BatchNormalization()(x)\n",
    "    x = L.MaxPooling2D(pool_size=(2, 2))(x)\n",
    "    x = L.Dropout(0.1)(x)\n",
    "    \n",
    "    x = L.Conv2D(64, kernel_size=2, activation='relu')(x)\n",
    "    x = L.BatchNormalization()(x)\n",
    "    x = L.Conv2D(64, kernel_size=2, activation='relu')(x)\n",
    "    x = L.BatchNormalization()(x)\n",
    "    x = L.MaxPooling2D(pool_size=(2, 2))(x)\n",
    "    x = L.Dropout(0.1)(x)\n",
    "    \n",
    "#     x = L.Conv2D(256, kernel_size=2, activation='relu')(x)\n",
    "#     x = L.BatchNormalization()(x)\n",
    "#     x = L.Conv2D(256, kernel_size=2, activation='relu')(x)\n",
    "#     x = L.BatchNormalization()(x)\n",
    "#     x = L.MaxPooling2D(pool_size=(2,2))(x)\n",
    "        \n",
    "#     x = base_model.output\n",
    "    x = L.GlobalAveragePooling2D()(x)\n",
    "    # let's add a fully-connected layer\n",
    "    x = L.Dense(64, activation='relu')(x)\n",
    "    x = L.Dense(16, activation='relu')(x)\n",
    "    # and a logistic layer -- let's say we have 200 classes\n",
    "#     predictions_energy = L.Dense(3, activation= 'softmax', name='energy')(x)\n",
    "    \n",
    "    predictions_energy = L.Dense(1, name='energy')(x)\n",
    "    predictions_class = L.Dense(1, activation='sigmoid', name='class')(x)\n",
    "    predictions_angle = L.Dense(1, name='angle')(x)\n",
    "\n",
    "    # this is the model we will train\n",
    "    model = Model(inputs=inp, outputs=[predictions_energy, predictions_class, predictions_angle])\n",
    "\n",
    "\n",
    "    # compile the model (should be done *after* setting layers to non-trainable)\n",
    "    model.compile(optimizer=tensorflow.keras.optimizers.Adam(learning_rate=1e-4), \n",
    "                  loss={'class': 'binary_crossentropy', \n",
    "                        'energy':'mean_absolute_error', \n",
    "                        'angle': 'mean_absolute_error'\n",
    "                  },\n",
    "                  metrics = {'class': 'AUC', \n",
    "                             'energy': 'mean_absolute_error', \n",
    "                             'angle': 'mean_absolute_error'\n",
    "                  })\n",
    "    return model"
   ]
  },
  {
   "cell_type": "code",
   "execution_count": 22,
   "id": "incorporate-middle",
   "metadata": {},
   "outputs": [],
   "source": [
    "def create_regression_model(base_model, l2_loss_lambda = 1e-4):\n",
    "    \n",
    "    for layer in base_model.layers:\n",
    "        layer.trainable = False\n",
    "        \n",
    "        \n",
    "    x = base_model.output\n",
    "    x = L.GlobalAveragePooling2D()(x)\n",
    "    # let's add a fully-connected layer\n",
    "    x = L.Dense(512, activation='relu')(x)\n",
    "    x = L.Dense(128, activation='relu')(x)\n",
    "    #predictions_energy = L.Dense(3, activation= 'softmax', name='energy')(x)\n",
    "    \n",
    "    predictions_energy = L.Dense(1, name='energy')(x)\n",
    "    #predictions_class = L.Dense(1, activation='sigmoid', name='class')(x)\n",
    "#     predictions_angle = L.Dense(1, name='angle')(x)\n",
    "\n",
    "    # this is the model we will train\n",
    "    model = Model(inputs=base_model.input, outputs=[predictions_energy])\n",
    "\n",
    "    # compile the model (should be done *after* setting layers to non-trainable)\n",
    "    model.compile(optimizer=tensorflow.keras.optimizers.Adam(learning_rate=1e-4), \n",
    "                  loss={#'class': 'binary_crossentropy', \n",
    "                        'energy':'mean_absolute_error', \n",
    "                        #'angle': 'mean_absolute_error'\n",
    "                  },\n",
    "                  metrics = {\n",
    "                             #'class': 'AUC', \n",
    "                             'energy': 'mean_absolute_error', \n",
    "                             #'angle': 'mean_absolute_error'\n",
    "                  })\n",
    "    return model"
   ]
  },
  {
   "cell_type": "code",
   "execution_count": 23,
   "id": "invalid-partner",
   "metadata": {},
   "outputs": [],
   "source": [
    "model = create_regression_model(base_model)"
   ]
  },
  {
   "cell_type": "code",
   "execution_count": 33,
   "id": "appropriate-sodium",
   "metadata": {
    "scrolled": false
   },
   "outputs": [
    {
     "name": "stdout",
     "output_type": "stream",
     "text": [
      "Epoch 1/150\n",
      "30/30 [==============================] - 17s 581ms/step - loss: 0.5727 - mean_absolute_error: 0.5727 - val_loss: 0.6576 - val_mean_absolute_error: 0.6576\n",
      "Epoch 2/150\n",
      "30/30 [==============================] - 17s 579ms/step - loss: 0.5600 - mean_absolute_error: 0.5600 - val_loss: 0.6638 - val_mean_absolute_error: 0.6638\n",
      "Epoch 3/150\n",
      "30/30 [==============================] - 17s 587ms/step - loss: 0.5613 - mean_absolute_error: 0.5613 - val_loss: 0.7177 - val_mean_absolute_error: 0.7177\n",
      "Epoch 4/150\n",
      "30/30 [==============================] - 17s 576ms/step - loss: 0.5672 - mean_absolute_error: 0.5672 - val_loss: 0.6525 - val_mean_absolute_error: 0.6525\n",
      "Epoch 5/150\n",
      "30/30 [==============================] - 17s 575ms/step - loss: 0.5389 - mean_absolute_error: 0.5389 - val_loss: 0.6312 - val_mean_absolute_error: 0.6312\n",
      "Epoch 6/150\n",
      "30/30 [==============================] - 17s 576ms/step - loss: 0.5527 - mean_absolute_error: 0.5527 - val_loss: 0.6238 - val_mean_absolute_error: 0.6238\n",
      "Epoch 7/150\n",
      "30/30 [==============================] - 17s 573ms/step - loss: 0.5580 - mean_absolute_error: 0.5580 - val_loss: 0.6321 - val_mean_absolute_error: 0.6321\n",
      "Epoch 8/150\n",
      "30/30 [==============================] - 17s 573ms/step - loss: 0.5430 - mean_absolute_error: 0.5430 - val_loss: 0.6433 - val_mean_absolute_error: 0.6433\n",
      "Epoch 9/150\n",
      "30/30 [==============================] - 17s 576ms/step - loss: 0.5580 - mean_absolute_error: 0.5580 - val_loss: 0.6387 - val_mean_absolute_error: 0.6387\n",
      "Epoch 10/150\n",
      "30/30 [==============================] - 17s 564ms/step - loss: 0.5574 - mean_absolute_error: 0.5574 - val_loss: 0.6781 - val_mean_absolute_error: 0.6781\n",
      "Epoch 11/150\n",
      "30/30 [==============================] - 17s 575ms/step - loss: 0.5271 - mean_absolute_error: 0.5271 - val_loss: 0.6144 - val_mean_absolute_error: 0.6144\n",
      "Epoch 12/150\n",
      "30/30 [==============================] - 17s 577ms/step - loss: 0.5406 - mean_absolute_error: 0.5406 - val_loss: 0.6600 - val_mean_absolute_error: 0.6600\n",
      "Epoch 13/150\n",
      "30/30 [==============================] - 17s 576ms/step - loss: 0.5564 - mean_absolute_error: 0.5564 - val_loss: 0.6140 - val_mean_absolute_error: 0.6140\n",
      "Epoch 14/150\n",
      "30/30 [==============================] - 17s 586ms/step - loss: 0.5290 - mean_absolute_error: 0.5290 - val_loss: 0.6636 - val_mean_absolute_error: 0.6636\n",
      "Epoch 15/150\n",
      "30/30 [==============================] - 17s 575ms/step - loss: 0.5318 - mean_absolute_error: 0.5318 - val_loss: 0.6127 - val_mean_absolute_error: 0.6127\n",
      "Epoch 16/150\n",
      "30/30 [==============================] - 17s 578ms/step - loss: 0.5363 - mean_absolute_error: 0.5363 - val_loss: 0.5980 - val_mean_absolute_error: 0.5980\n",
      "Epoch 17/150\n",
      "30/30 [==============================] - 18s 590ms/step - loss: 0.5241 - mean_absolute_error: 0.5241 - val_loss: 0.6191 - val_mean_absolute_error: 0.6191\n",
      "Epoch 18/150\n",
      "30/30 [==============================] - 17s 578ms/step - loss: 0.5399 - mean_absolute_error: 0.5399 - val_loss: 0.6201 - val_mean_absolute_error: 0.6201\n",
      "Epoch 19/150\n",
      "30/30 [==============================] - 17s 579ms/step - loss: 0.5237 - mean_absolute_error: 0.5237 - val_loss: 0.6030 - val_mean_absolute_error: 0.6030\n",
      "Epoch 20/150\n",
      "30/30 [==============================] - 17s 581ms/step - loss: 0.5351 - mean_absolute_error: 0.5351 - val_loss: 0.6028 - val_mean_absolute_error: 0.6028\n",
      "Epoch 21/150\n",
      "30/30 [==============================] - 17s 577ms/step - loss: 0.5215 - mean_absolute_error: 0.5215 - val_loss: 0.6194 - val_mean_absolute_error: 0.6194\n",
      "Epoch 22/150\n",
      "30/30 [==============================] - 17s 585ms/step - loss: 0.5180 - mean_absolute_error: 0.5180 - val_loss: 0.6215 - val_mean_absolute_error: 0.6215\n",
      "Epoch 23/150\n",
      "30/30 [==============================] - 17s 584ms/step - loss: 0.5163 - mean_absolute_error: 0.5163 - val_loss: 0.5963 - val_mean_absolute_error: 0.5963\n",
      "Epoch 24/150\n",
      "30/30 [==============================] - 17s 583ms/step - loss: 0.5179 - mean_absolute_error: 0.5179 - val_loss: 0.6150 - val_mean_absolute_error: 0.6150\n",
      "Epoch 25/150\n",
      "30/30 [==============================] - 17s 585ms/step - loss: 0.5419 - mean_absolute_error: 0.5419 - val_loss: 0.6125 - val_mean_absolute_error: 0.6125\n",
      "Epoch 26/150\n",
      "30/30 [==============================] - 17s 579ms/step - loss: 0.5082 - mean_absolute_error: 0.5082 - val_loss: 0.6135 - val_mean_absolute_error: 0.6135\n",
      "Epoch 27/150\n",
      "30/30 [==============================] - 17s 574ms/step - loss: 0.5213 - mean_absolute_error: 0.5213 - val_loss: 0.5925 - val_mean_absolute_error: 0.5925\n",
      "Epoch 28/150\n",
      "30/30 [==============================] - 17s 586ms/step - loss: 0.5196 - mean_absolute_error: 0.5196 - val_loss: 0.6860 - val_mean_absolute_error: 0.6860\n",
      "Epoch 29/150\n",
      "30/30 [==============================] - 17s 582ms/step - loss: 0.5134 - mean_absolute_error: 0.5134 - val_loss: 0.6440 - val_mean_absolute_error: 0.6440\n",
      "Epoch 30/150\n",
      "30/30 [==============================] - 17s 575ms/step - loss: 0.5206 - mean_absolute_error: 0.5206 - val_loss: 0.6335 - val_mean_absolute_error: 0.6335\n",
      "Epoch 31/150\n",
      "30/30 [==============================] - 17s 580ms/step - loss: 0.5262 - mean_absolute_error: 0.5262 - val_loss: 0.5269 - val_mean_absolute_error: 0.5269\n",
      "Epoch 32/150\n",
      "30/30 [==============================] - 18s 590ms/step - loss: 0.4896 - mean_absolute_error: 0.4896 - val_loss: 0.5942 - val_mean_absolute_error: 0.5942\n",
      "Epoch 33/150\n",
      "30/30 [==============================] - 18s 595ms/step - loss: 0.4833 - mean_absolute_error: 0.4833 - val_loss: 0.5953 - val_mean_absolute_error: 0.5953\n",
      "Epoch 34/150\n",
      "30/30 [==============================] - 18s 597ms/step - loss: 0.5018 - mean_absolute_error: 0.5018 - val_loss: 0.6206 - val_mean_absolute_error: 0.6206\n",
      "Epoch 35/150\n",
      "30/30 [==============================] - 17s 586ms/step - loss: 0.4944 - mean_absolute_error: 0.4944 - val_loss: 0.6328 - val_mean_absolute_error: 0.6328\n",
      "Epoch 36/150\n",
      "30/30 [==============================] - 18s 595ms/step - loss: 0.4938 - mean_absolute_error: 0.4938 - val_loss: 0.6216 - val_mean_absolute_error: 0.6216\n",
      "Epoch 37/150\n",
      "30/30 [==============================] - 17s 582ms/step - loss: 0.5333 - mean_absolute_error: 0.5333 - val_loss: 0.6084 - val_mean_absolute_error: 0.6084\n",
      "Epoch 38/150\n",
      "30/30 [==============================] - 18s 595ms/step - loss: 0.4836 - mean_absolute_error: 0.4836 - val_loss: 0.6191 - val_mean_absolute_error: 0.6191\n",
      "Epoch 39/150\n",
      "30/30 [==============================] - 18s 596ms/step - loss: 0.4761 - mean_absolute_error: 0.4761 - val_loss: 0.5658 - val_mean_absolute_error: 0.5658\n",
      "Epoch 40/150\n",
      "30/30 [==============================] - 18s 595ms/step - loss: 0.4811 - mean_absolute_error: 0.4811 - val_loss: 0.5897 - val_mean_absolute_error: 0.5897\n",
      "Epoch 41/150\n",
      "30/30 [==============================] - 17s 584ms/step - loss: 0.4801 - mean_absolute_error: 0.4801 - val_loss: 0.6049 - val_mean_absolute_error: 0.6049\n",
      "Epoch 42/150\n",
      "30/30 [==============================] - 18s 591ms/step - loss: 0.4827 - mean_absolute_error: 0.4827 - val_loss: 0.5888 - val_mean_absolute_error: 0.5888\n",
      "Epoch 43/150\n",
      "30/30 [==============================] - 18s 595ms/step - loss: 0.4878 - mean_absolute_error: 0.4878 - val_loss: 0.5934 - val_mean_absolute_error: 0.5934\n",
      "Epoch 44/150\n",
      "30/30 [==============================] - 18s 589ms/step - loss: 0.5176 - mean_absolute_error: 0.5176 - val_loss: 0.6124 - val_mean_absolute_error: 0.6124\n",
      "Epoch 45/150\n",
      "30/30 [==============================] - 18s 595ms/step - loss: 0.4684 - mean_absolute_error: 0.4684 - val_loss: 0.6390 - val_mean_absolute_error: 0.6390\n",
      "Epoch 46/150\n",
      "30/30 [==============================] - 18s 595ms/step - loss: 0.4705 - mean_absolute_error: 0.4705 - val_loss: 0.5811 - val_mean_absolute_error: 0.5811\n",
      "Epoch 47/150\n",
      "30/30 [==============================] - 18s 589ms/step - loss: 0.4757 - mean_absolute_error: 0.4757 - val_loss: 0.5514 - val_mean_absolute_error: 0.5514\n",
      "Epoch 48/150\n",
      "30/30 [==============================] - 17s 580ms/step - loss: 0.4735 - mean_absolute_error: 0.4735 - val_loss: 0.6070 - val_mean_absolute_error: 0.6070\n",
      "Epoch 49/150\n",
      "30/30 [==============================] - 17s 586ms/step - loss: 0.4601 - mean_absolute_error: 0.4601 - val_loss: 0.5289 - val_mean_absolute_error: 0.5289\n",
      "Epoch 50/150\n",
      "30/30 [==============================] - 18s 591ms/step - loss: 0.4404 - mean_absolute_error: 0.4404 - val_loss: 0.5723 - val_mean_absolute_error: 0.5723\n",
      "Epoch 51/150\n",
      "30/30 [==============================] - 18s 598ms/step - loss: 0.4690 - mean_absolute_error: 0.4690 - val_loss: 0.5851 - val_mean_absolute_error: 0.5851\n"
     ]
    },
    {
     "data": {
      "text/plain": [
       "<tensorflow.python.keras.callbacks.History at 0x7ff0881f3898>"
      ]
     },
     "execution_count": 33,
     "metadata": {},
     "output_type": "execute_result"
    }
   ],
   "source": [
    "model.fit(\n",
    "    train_datagen, \n",
    "    steps_per_epoch = Config.STEPS_PER_EPOCH, \n",
    "    validation_data = valid_datagen, \n",
    "    validation_steps = Config.VALIDATION_STEPS_PER_EPOCH, \n",
    "    epochs = Config.TRAINING_EPOCHS,\n",
    "    verbose = 1,\n",
    "    callbacks = [earlystop]\n",
    "    )"
   ]
  },
  {
   "cell_type": "code",
   "execution_count": 19,
   "id": "manufactured-halifax",
   "metadata": {},
   "outputs": [],
   "source": [
    "model = tensorflow.keras.models.load_model(OUTPUT_PATH / 'models' / 'regression_own')"
   ]
  },
  {
   "cell_type": "code",
   "execution_count": 34,
   "id": "worldwide-utilization",
   "metadata": {},
   "outputs": [
    {
     "name": "stdout",
     "output_type": "stream",
     "text": [
      "26/51 [==============>...............] - ETA: 10s - loss: 0.5705 - mean_absolute_error: 0.5705WARNING:tensorflow:Your input ran out of data; interrupting training. Make sure that your dataset or generator can generate at least `steps_per_epoch * epochs` batches (in this case, 51 batches). You may need to use the repeat() function when building your dataset.\n",
      "51/51 [==============================] - 11s 215ms/step - loss: 0.5705 - mean_absolute_error: 0.5705\n"
     ]
    },
    {
     "data": {
      "text/plain": [
       "[0.5704861283302307, 0.5704861283302307]"
      ]
     },
     "execution_count": 34,
     "metadata": {},
     "output_type": "execute_result"
    }
   ],
   "source": [
    "model.evaluate(valid_datagen, batch_size=64, steps=valid_images.shape[0] // 64)"
   ]
  },
  {
   "cell_type": "code",
   "execution_count": 35,
   "id": "descending-reaction",
   "metadata": {},
   "outputs": [
    {
     "name": "stdout",
     "output_type": "stream",
     "text": [
      "12/12 [==============================] - 0s 13ms/step - loss: 4.2460 - mean_absolute_error: 4.2460\n"
     ]
    },
    {
     "data": {
      "text/plain": [
       "[4.246045112609863, 4.246045112609863]"
      ]
     },
     "execution_count": 35,
     "metadata": {},
     "output_type": "execute_result"
    }
   ],
   "source": [
    "model.evaluate(test_datagen, batch_size=8, steps=test_images.shape[0])"
   ]
  },
  {
   "cell_type": "code",
   "execution_count": 58,
   "id": "tribal-tours",
   "metadata": {},
   "outputs": [
    {
     "data": {
      "text/plain": [
       "array([[  3.0532002],\n",
       "       [155.99887  ],\n",
       "       [155.99887  ],\n",
       "       [155.99887  ],\n",
       "       [155.99887  ],\n",
       "       [155.99887  ],\n",
       "       [155.99887  ],\n",
       "       [155.99887  ],\n",
       "       [155.99887  ],\n",
       "       [155.99887  ],\n",
       "       [155.99887  ],\n",
       "       [155.99887  ]], dtype=float32)"
      ]
     },
     "execution_count": 58,
     "metadata": {},
     "output_type": "execute_result"
    }
   ],
   "source": [
    "y_pred[-12:]"
   ]
  },
  {
   "cell_type": "code",
   "execution_count": 36,
   "id": "received-jewelry",
   "metadata": {},
   "outputs": [],
   "source": [
    "#valid_datagen = DataGenerator(valid_images, batch_size = 1, is_classification = False, shuffle = False)\n",
    "y_pred = model.predict(test_datagen, batch_size = 8)"
   ]
  },
  {
   "cell_type": "code",
   "execution_count": 37,
   "id": "reduced-soldier",
   "metadata": {},
   "outputs": [
    {
     "data": {
      "text/plain": [
       "(12, 1)"
      ]
     },
     "execution_count": 37,
     "metadata": {},
     "output_type": "execute_result"
    }
   ],
   "source": [
    "y_pred.shape"
   ]
  },
  {
   "cell_type": "code",
   "execution_count": 25,
   "id": "anticipated-hometown",
   "metadata": {},
   "outputs": [],
   "source": [
    "y_pred_changed = y_pred.copy()\n",
    "y_pred_changed[test_images['class'] == 1, 0] = np.array([1,6,20])[np.argmin(np.abs(y_pred_changed[test_images['class'] == 1] - [1,6,20]), axis = 1)]\n",
    "y_pred_changed[test_images['class'] == 0, 0] = np.array([3,10,30])[np.argmin(np.abs(y_pred_changed[test_images['class'] == 0] - [3,10,30]), axis = 1)]\n",
    "y_pred_changed = y_pred_changed.reshape(-1)"
   ]
  },
  {
   "cell_type": "code",
   "execution_count": 26,
   "id": "scientific-token",
   "metadata": {},
   "outputs": [
    {
     "data": {
      "text/plain": [
       "0.0"
      ]
     },
     "execution_count": 26,
     "metadata": {},
     "output_type": "execute_result"
    }
   ],
   "source": [
    "mean_absolute_error(test_images['energy'], y_pred_changed)"
   ]
  },
  {
   "cell_type": "code",
   "execution_count": 51,
   "id": "sudden-alaska",
   "metadata": {},
   "outputs": [],
   "source": [
    "model.save(OUTPUT_PATH / 'models' / 'cnn_classification')"
   ]
  }
 ],
 "metadata": {
  "kernelspec": {
   "display_name": "Python 3",
   "language": "python",
   "name": "python3"
  },
  "language_info": {
   "codemirror_mode": {
    "name": "ipython",
    "version": 3
   },
   "file_extension": ".py",
   "mimetype": "text/x-python",
   "name": "python",
   "nbconvert_exporter": "python",
   "pygments_lexer": "ipython3",
   "version": "3.6.9"
  }
 },
 "nbformat": 4,
 "nbformat_minor": 5
}
