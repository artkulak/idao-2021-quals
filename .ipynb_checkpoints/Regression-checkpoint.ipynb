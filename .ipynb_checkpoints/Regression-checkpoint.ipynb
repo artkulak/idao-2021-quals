{
 "cells": [
  {
   "cell_type": "code",
   "execution_count": 1,
   "id": "threaded-girlfriend",
   "metadata": {},
   "outputs": [
    {
     "name": "stdout",
     "output_type": "stream",
     "text": [
      "INFO:tensorflow:Enabling eager execution\n",
      "INFO:tensorflow:Enabling v2 tensorshape\n",
      "INFO:tensorflow:Enabling resource variables\n",
      "INFO:tensorflow:Enabling tensor equality\n",
      "INFO:tensorflow:Enabling control flow v2\n"
     ]
    }
   ],
   "source": [
    "#####################\n",
    "# IMPORT LIBS\n",
    "#####################\n",
    "\n",
    "from PIL import Image\n",
    "from sklearn.model_selection import train_test_split\n",
    "from skimage import io, transform\n",
    "from skimage.transform import AffineTransform, warp\n",
    "from sklearn.metrics import roc_auc_score, mean_absolute_error\n",
    "import tensorflow as tf\n",
    "\n",
    "from tensorflow.keras.models import load_model\n",
    "from tensorflow.compat.v1.keras import backend as K\n",
    "\n",
    "import pandas as pd\n",
    "from pathlib import Path\n",
    "import os\n",
    "import cv2\n",
    "import matplotlib.pyplot as plt\n",
    "import numpy as np\n",
    "import random\n",
    "import glob\n",
    "import albumentations as A\n",
    "import cv2\n",
    "# from efficientnet_pytorch import EfficientNet\n",
    "\n",
    "\n",
    "#####################\n",
    "# SET CONSTANTS\n",
    "#####################\n",
    "\n",
    "INPUT_PATH = Path('../input')\n",
    "OUTPUT_PATH = Path('../output')\n",
    "TRAIN_PATH = INPUT_PATH / 'idao_dataset' / 'train'\n",
    "PRIVATE_PATH = INPUT_PATH / 'idao_dataset' / 'private_test'\n",
    "PRIVATE_PATH_NEW = INPUT_PATH / 'idao_dataset' / 'private_test_new'\n",
    "PUBLIC_PATH = INPUT_PATH / 'idao_dataset' / 'public_test'\n",
    "\n",
    "RANDOM_SEED = 4444\n",
    "\n",
    "def seed_everything(seed=1234):\n",
    "    random.seed(seed)\n",
    "    os.environ['PYTHONHASHSEED'] = str(seed)\n",
    "    np.random.seed(seed)\n",
    "seed_everything(RANDOM_SEED)"
   ]
  },
  {
   "cell_type": "code",
   "execution_count": 2,
   "id": "absolute-oklahoma",
   "metadata": {},
   "outputs": [],
   "source": [
    "class Config:\n",
    "    BATCH_SIZE = 32\n",
    "    TRAINING_EPOCHS = 150\n",
    "    VALIDATION_STEPS_PER_EPOCH = 5\n",
    "    VALIDATION_EPOCHS = 10\n",
    "    STEPS_PER_EPOCH = 30\n",
    "    EARLY_STOP_PATIENCE = 5\n",
    "    \n",
    "    \n",
    "    # Declare an augmentation pipeline\n",
    "    train_transform = A.Compose([\n",
    "        #A.HorizontalFlip(p=0.5),\n",
    "        #A.HorizontalFlip(p=0.5),\n",
    "        #A.VerticalFlip(p=0.5),\n",
    "        A.Cutout(num_holes=4, max_h_size=8, max_w_size=8, p=0.3),\n",
    "        A.OneOf([A.RandomContrast(),\n",
    "             A.RandomGamma(),\n",
    "             A.RandomBrightness()],p=0.2),\n",
    "        A.OneOf([A.Blur(p = 0.3),\n",
    "             A.GaussNoise(p=0.3)\n",
    "                ],p=0.5),\n",
    "        A.CLAHE(clip_limit=4, tile_grid_size=(8,8), always_apply=False, p=0.3),\n",
    "    ],)\n",
    "    \n",
    "    validation_transform = A.Compose([\n",
    "    ],)"
   ]
  },
  {
   "cell_type": "code",
   "execution_count": 3,
   "id": "needed-airline",
   "metadata": {},
   "outputs": [],
   "source": [
    "def getFeatures(img_path):\n",
    "    if len(img_path.split('_')) == 18:\n",
    "        particle_class = 0 # ER\n",
    "        particle_energy = int(img_path.split('_')[7])\n",
    "    else:\n",
    "        particle_class = 1 # HE\n",
    "        particle_energy = int(img_path.split('_')[8])\n",
    "    particle_angle = float(img_path.split('/')[-1].split('__')[0])\n",
    "    return [img_path, particle_class, particle_energy, particle_angle]\n",
    "\n",
    "images = glob.glob(str(TRAIN_PATH / '**/*.png'), recursive=True)\n",
    "images = pd.DataFrame(map(getFeatures, images))\n",
    "images.columns = ['path', 'class', 'energy', 'angle']"
   ]
  },
  {
   "cell_type": "code",
   "execution_count": 4,
   "id": "educational-breeding",
   "metadata": {},
   "outputs": [],
   "source": [
    "#################\n",
    "# EXTRACT TEST\n",
    "#################\n",
    "\n",
    "# HE - 0, ER - 1\n",
    "\n",
    "he_test_idx = list(images[(images['class'] == 0) & (images['energy'].apply(lambda x: x in [1, 6, 20]))].index)\n",
    "er_test_idx = list(images[(images['class'] == 1) & (images['energy'].apply(lambda x: x in [3, 10, 30]))].index)"
   ]
  },
  {
   "cell_type": "code",
   "execution_count": 5,
   "id": "unsigned-australia",
   "metadata": {},
   "outputs": [],
   "source": [
    "# TODO: Write this to a separate folder\n",
    "\n",
    "# 0 - [:750]\n",
    "# 1 - [750:1502]\n",
    "# 0 - [1502:7531]\n",
    "# 1 - [7531:]\n",
    "\n",
    "import glob\n",
    "private_test = glob.glob(str(PRIVATE_PATH / '**/*.png'), recursive=True)\n",
    "public_test = glob.glob(str(PUBLIC_PATH / '**/*.png'), recursive=True)\n",
    "\n",
    "sample_submission = pd.read_csv(INPUT_PATH / 'track1_predictions_example.csv')\n",
    "private_ids = [t.split('/')[-1].split('.')[0] for t in private_test]\n",
    "public_ids = [t.split('/')[-1].split('.')[0] for t in public_test]\n",
    "\n",
    "# sample_submission['path'] = sample_submission['id'].apply(lambda x: PRIVATE_PATH / f'{x}.png' if x in private_ids else PUBLIC_PATH / f'{x}.png').map(str)\n",
    "# sample_submission.iloc[:750, 1] = 0\n",
    "# sample_submission.iloc[750:1502, 1] = 1\n",
    "# sample_submission.iloc[1502:7531, 1] = 0\n",
    "# sample_submission.iloc[7531:, 1] = 1\n",
    "\n",
    "# sample_submission = sample_submission.iloc[1502:].reset_index(drop = True)\n",
    "\n",
    "# images_leak = pd.DataFrame(np.array([sample_submission.iloc[:, 3].values, sample_submission.iloc[:, 1].values, sample_submission.iloc[:, 2].values]).T)\n",
    "# images_leak.columns = ['path', 'class', 'energy']"
   ]
  },
  {
   "cell_type": "code",
   "execution_count": 6,
   "id": "diverse-tucson",
   "metadata": {},
   "outputs": [],
   "source": [
    "test_idx = he_test_idx + er_test_idx\n",
    "test_images = images.iloc[test_idx]\n",
    "images = images.drop(index = test_idx)\n",
    "\n",
    "\n",
    "train_images, valid_images = train_test_split(images, shuffle = True, random_state = RANDOM_SEED)\n",
    "train_images = train_images.reset_index(drop = True)\n",
    "valid_images = valid_images.reset_index(drop = True)"
   ]
  },
  {
   "cell_type": "code",
   "execution_count": 7,
   "id": "earned-rochester",
   "metadata": {},
   "outputs": [
    {
     "data": {
      "image/png": "[encoded data removed]",
      "text/plain": [
       "<Figure size 432x288 with 1 Axes>"
      ]
     },
     "metadata": {
      "needs_background": "light"
     },
     "output_type": "display_data"
    }
   ],
   "source": [
    "img = cv2.imread(test_images['path'].values[8])[225:375, 225:375, :]\n",
    "plt.imshow(img)\n",
    "plt.show()"
   ]
  },
  {
   "cell_type": "code",
   "execution_count": 8,
   "id": "secondary-fiber",
   "metadata": {},
   "outputs": [],
   "source": [
    "def calc_metric(y_binary_true, y_binary_pred, y_reg_true, y_reg_pred):\n",
    "    '''\n",
    "    Competition metric\n",
    "    '''\n",
    "    \n",
    "    roc = roc_auc_score(y_binary_true, y_binary_pred)\n",
    "    mae = mean_absolute_error(y_reg_true, y_reg_pred)\n",
    "    return 1000 * (roc - mae), roc, mae"
   ]
  },
  {
   "cell_type": "code",
   "execution_count": 9,
   "id": "secondary-bottom",
   "metadata": {},
   "outputs": [],
   "source": [
    "class DataGenerator(tf.keras.utils.Sequence):\n",
    "    def __init__(self, images, transform=None, batch_size=32,  shuffle=True, is_classification = True, augment = False):\n",
    "        self.images = images\n",
    "        self.indices = np.arange(len(images))\n",
    "        self.transform = transform\n",
    "        self.batch_size = batch_size\n",
    "        self.shuffle = shuffle\n",
    "        self.augment = augment\n",
    "        self.is_classification = is_classification\n",
    "        \n",
    "        self.on_epoch_end()\n",
    "\n",
    "    def __len__(self):\n",
    "        return len(self.images) // self.batch_size\n",
    "\n",
    "    def __getitem__(self, index):\n",
    "        index = self.index[index * self.batch_size:(index + 1) * self.batch_size]\n",
    "        batch = [self.indices[k] for k in index]\n",
    "    \n",
    "        X, y = self.__get_data(batch)\n",
    "        return X, y\n",
    "\n",
    "    def on_epoch_end(self):\n",
    "        self.index = np.arange(len(self.indices))\n",
    "        if self.shuffle:\n",
    "            np.random.shuffle(self.index)\n",
    "            \n",
    "    def get_label(self, y_energy):\n",
    "        if (y_energy>=1)&(y_energy <= 3):\n",
    "            y_energy = [1,0,0]\n",
    "        elif (y_energy>=6)&(y_energy <= 10):\n",
    "            y_energy = [0,1,0]\n",
    "        elif (y_energy>=20)&(y_energy <= 30):\n",
    "            y_energy = [0,0,1]\n",
    "        \n",
    "        return y_energy\n",
    "\n",
    "    def __get_data(self, batch):\n",
    "        X = np.zeros((self.batch_size, 150, 150, 3))\n",
    "        y_class = np.zeros((self.batch_size,))\n",
    "        y_energy = np.zeros((self.batch_size,))\n",
    "        y_angle = np.zeros((self.batch_size,))\n",
    "        for i, idx in enumerate(batch):\n",
    "            image=cv2.imread(self.images.iloc[idx, 0])[225:375, 225:375, :]\n",
    "            X[i,] = image\n",
    "            \n",
    "            if self.augment:\n",
    "                X[i, ] = Config.train_transform(image=X[i,].astype(np.uint8))['image']\n",
    "            particle_class = self.images.iloc[idx, 1]\n",
    "            particle_energy = self.images.iloc[idx, 2]\n",
    "            particle_angle = self.images.iloc[idx, 3]\n",
    "            \n",
    "            y_class[i] = particle_class\n",
    "            y_energy[i] = particle_energy # self.get_label(particle_energy)\n",
    "            y_angle[i] = particle_angle\n",
    "        if self.is_classification:\n",
    "            return X / 255.0, y_class\n",
    "        \n",
    "        return X / 255.0, y_energy\n"
   ]
  },
  {
   "cell_type": "code",
   "execution_count": 10,
   "id": "tight-magnitude",
   "metadata": {},
   "outputs": [],
   "source": [
    "train_datagen = DataGenerator(train_images, batch_size = Config.BATCH_SIZE, is_classification = False, augment = False)\n",
    "valid_datagen = DataGenerator(valid_images, batch_size = Config.BATCH_SIZE, is_classification = False)\n",
    "test_datagen = DataGenerator(test_images, batch_size = 1, is_classification = False, shuffle = False)"
   ]
  },
  {
   "cell_type": "code",
   "execution_count": 11,
   "id": "moderate-richmond",
   "metadata": {},
   "outputs": [],
   "source": [
    "# Example data extract\n",
    "\n",
    "X, y_energy = train_datagen.__getitem__(0)"
   ]
  },
  {
   "cell_type": "code",
   "execution_count": 12,
   "id": "excellent-deposit",
   "metadata": {},
   "outputs": [
    {
     "data": {
      "text/plain": [
       "<matplotlib.image.AxesImage at 0x7fcaa15c3470>"
      ]
     },
     "execution_count": 12,
     "metadata": {},
     "output_type": "execute_result"
    },
    {
     "data": {
      "image/png": "[encoded data removed]",
      "text/plain": [
       "<Figure size 432x288 with 1 Axes>"
      ]
     },
     "metadata": {
      "needs_background": "light"
     },
     "output_type": "display_data"
    }
   ],
   "source": [
    "idx = 17\n",
    "plt.imshow((X[idx] * 255).astype(np.uint8))"
   ]
  },
  {
   "cell_type": "markdown",
   "id": "accurate-trigger",
   "metadata": {},
   "source": [
    "## Class model"
   ]
  },
  {
   "cell_type": "code",
   "execution_count": 13,
   "id": "violent-george",
   "metadata": {},
   "outputs": [],
   "source": [
    "import tensorflow as tf\n",
    "from tensorflow.keras.applications.vgg16 import VGG16\n",
    "from tensorflow.keras.applications.mobilenet_v2 import MobileNetV2\n",
    "from tensorflow.keras.preprocessing import image\n",
    "from tensorflow.keras.applications.vgg16 import preprocess_input\n",
    "from tensorflow.keras.applications.densenet import DenseNet121\n",
    "from tensorflow.keras.applications import ResNet152V2\n",
    "\n",
    "from tensorflow.keras.applications import EfficientNetB0\n",
    "import numpy as np\n",
    "\n",
    "base_model = ResNet152V2(weights='imagenet', include_top=False)"
   ]
  },
  {
   "cell_type": "code",
   "execution_count": 36,
   "id": "dense-british",
   "metadata": {},
   "outputs": [],
   "source": [
    "from tensorflow.keras import layers as L\n",
    "from tensorflow.keras.models import Model\n",
    "import tensorflow as tf\n",
    "import tensorflow.keras\n",
    "import tensorflow\n",
    "from tensorflow.keras import regularizers\n",
    "\n",
    "earlystop = keras.callbacks.EarlyStopping(monitor='val_mean_absolute_error', patience=20)\n",
    "ckpt = keras.callbacks.ModelCheckpoint(OUTPUT_PATH / 'models' / 'cnn_regression_best', save_best_only=True, monitor='val_mean_absolute_error', mode='min')\n",
    "    \n",
    "def create_regression_model(base_model, l2_loss_lambda = 1e-4):\n",
    "    \n",
    "    for layer in base_model.layers:\n",
    "        layer.trainable = True\n",
    "        \n",
    "    # Model receives black and white 64 x 64 images as input\n",
    "    inp = L.Input(shape=(150,150,3))\n",
    "\n",
    "    # Sequence of two convolutional and pooling layers as feature extractors\n",
    "    x = L.Conv2D(16, kernel_size=2, activation='relu')(inp)\n",
    "    x = L.BatchNormalization()(x)\n",
    "    x = L.Conv2D(16, kernel_size=2, activation='relu')(inp)\n",
    "    x = L.BatchNormalization()(x)\n",
    "    x = L.MaxPooling2D(pool_size=(2, 2))(x)\n",
    "    \n",
    "    x = L.Conv2D(32, kernel_size=2, activation='relu')(x)\n",
    "    x = L.BatchNormalization()(x)\n",
    "    x = L.Conv2D(32, kernel_size=2, activation='relu')(x)\n",
    "    x = L.BatchNormalization()(x)\n",
    "    x = L.MaxPooling2D(pool_size=(2, 2))(x)\n",
    "    \n",
    "    x = L.Conv2D(64, kernel_size=4, activation='relu')(x)\n",
    "    x = L.BatchNormalization()(x)\n",
    "    x = L.Conv2D(64, kernel_size=4, activation='relu')(x)\n",
    "    x = L.BatchNormalization()(x)\n",
    "    x = L.MaxPooling2D(pool_size=(2, 2))(x)\n",
    "    \n",
    "#     x = L.Conv2D(128, kernel_size=4, activation='relu')(x)\n",
    "#     x = L.BatchNormalization()(x)\n",
    "#     x = L.Conv2D(128, kernel_size=4, activation='relu')(x)\n",
    "#     x = L.BatchNormalization()(x)\n",
    "#     x = L.MaxPooling2D(pool_size=(3, 3))(x)\n",
    "    \n",
    "#     x = L.Conv2D(256, kernel_size=2, activation='relu')(x)\n",
    "#     x = L.BatchNormalization()(x)\n",
    "#     x = L.Conv2D(256, kernel_size=2, activation='relu')(x)\n",
    "#     x = L.BatchNormalization()(x)\n",
    "#     x = L.MaxPooling2D(pool_size=(2,2))(x)\n",
    "        \n",
    "#     x = base_model.output\n",
    "    x = L.GlobalAveragePooling2D()(x)\n",
    "    # let's add a fully-connected layer\n",
    "    x = L.Dense(64, activation='relu')(x)\n",
    "    # and a logistic layer -- let's say we have 200 classes\n",
    "    #predictions_energy = L.Dense(3, activation= 'softmax', name='energy')(x)\n",
    "    \n",
    "    predictions_energy = L.Dense(1, name='energy')(x)\n",
    "    #predictions_class = L.Dense(1, activation='sigmoid', name='class')(x)\n",
    "    #predictions_angle = L.Dense(1, name='angle')(x)\n",
    "\n",
    "    # this is the model we will train\n",
    "    model = Model(inputs=inp, outputs=[predictions_energy])\n",
    "\n",
    "\n",
    "    # compile the model (should be done *after* setting layers to non-trainable)\n",
    "    model.compile(optimizer=tensorflow.keras.optimizers.Adam(learning_rate=1e-4), \n",
    "                  loss={#'class': 'binary_crossentropy', \n",
    "                        'energy':'mean_absolute_error', \n",
    "                        #'angle': 'mean_absolute_error'\n",
    "                  },\n",
    "                  metrics = {#'class': 'AUC', \n",
    "                             'energy': 'mean_absolute_error', \n",
    "                             #'angle': 'mean_absolute_error'\n",
    "                  })\n",
    "    return model"
   ]
  },
  {
   "cell_type": "code",
   "execution_count": 37,
   "id": "incorporate-middle",
   "metadata": {},
   "outputs": [],
   "source": [
    "# def create_regression_model(base_model, l2_loss_lambda = 1e-4):\n",
    "    \n",
    "#     for layer in base_model.layers[:-5]:\n",
    "#         layer.trainable = False\n",
    "        \n",
    "        \n",
    "#     x = base_model.output\n",
    "#     x = L.GlobalAveragePooling2D()(x)\n",
    "#     # let's add a fully-connected layer\n",
    "#     x = L.Dense(64, activation='relu')(x)\n",
    "#     # and a logistic layer -- let's say we have 200 classes\n",
    "#     #predictions_energy = L.Dense(3, activation= 'softmax', name='energy')(x)\n",
    "    \n",
    "#     predictions_energy = L.Dense(1, name='energy')(x)\n",
    "\n",
    "#     # this is the model we will train\n",
    "#     model = Model(inputs=base_model.input, outputs=[predictions_energy])\n",
    "\n",
    "#     # compile the model (should be done *after* setting layers to non-trainable)\n",
    "#     model.compile(optimizer=tensorflow.keras.optimizers.Adam(learning_rate=1e-4), \n",
    "#                   loss={#'class': 'binary_crossentropy', \n",
    "#                         'energy':'mean_absolute_error', \n",
    "#                         #'angle': 'mean_absolute_error'\n",
    "#                   },\n",
    "#                   metrics = {#'class': 'AUC', \n",
    "#                              'energy': 'mean_absolute_error', \n",
    "#                              #'angle': 'mean_absolute_error'\n",
    "#                   })\n",
    "#     return model"
   ]
  },
  {
   "cell_type": "code",
   "execution_count": 38,
   "id": "invalid-partner",
   "metadata": {},
   "outputs": [],
   "source": [
    "model = create_regression_model(base_model)"
   ]
  },
  {
   "cell_type": "code",
   "execution_count": 40,
   "id": "appropriate-sodium",
   "metadata": {
    "scrolled": false
   },
   "outputs": [
    {
     "name": "stdout",
     "output_type": "stream",
     "text": [
      "Epoch 1/150\n",
      "30/30 [==============================] - 4s 131ms/step - loss: 1.1798 - mean_absolute_error: 1.1798 - val_loss: 1.4707 - val_mean_absolute_error: 1.4707\n",
      "Epoch 2/150\n",
      "30/30 [==============================] - 4s 125ms/step - loss: 1.3337 - mean_absolute_error: 1.3337 - val_loss: 2.6683 - val_mean_absolute_error: 2.6683\n",
      "Epoch 3/150\n",
      "30/30 [==============================] - 4s 130ms/step - loss: 1.2350 - mean_absolute_error: 1.2350 - val_loss: 1.3398 - val_mean_absolute_error: 1.3398\n",
      "Epoch 4/150\n",
      "30/30 [==============================] - 4s 130ms/step - loss: 1.4088 - mean_absolute_error: 1.4088 - val_loss: 1.2747 - val_mean_absolute_error: 1.2747\n",
      "Epoch 5/150\n",
      "30/30 [==============================] - 4s 131ms/step - loss: 1.3129 - mean_absolute_error: 1.3129 - val_loss: 1.2181 - val_mean_absolute_error: 1.2181\n",
      "Epoch 6/150\n",
      "30/30 [==============================] - 4s 130ms/step - loss: 1.3555 - mean_absolute_error: 1.3555 - val_loss: 1.2133 - val_mean_absolute_error: 1.2133\n",
      "Epoch 7/150\n",
      "30/30 [==============================] - 4s 127ms/step - loss: 1.3922 - mean_absolute_error: 1.3922 - val_loss: 2.7675 - val_mean_absolute_error: 2.7675\n",
      "Epoch 8/150\n",
      "30/30 [==============================] - 4s 131ms/step - loss: 1.2756 - mean_absolute_error: 1.2756 - val_loss: 3.1719 - val_mean_absolute_error: 3.1719\n",
      "Epoch 9/150\n",
      "30/30 [==============================] - 4s 131ms/step - loss: 1.3798 - mean_absolute_error: 1.3798 - val_loss: 1.8468 - val_mean_absolute_error: 1.8468\n",
      "Epoch 10/150\n",
      "30/30 [==============================] - 4s 131ms/step - loss: 1.1871 - mean_absolute_error: 1.1871 - val_loss: 1.3864 - val_mean_absolute_error: 1.3864\n",
      "Epoch 11/150\n",
      "30/30 [==============================] - 4s 127ms/step - loss: 1.3144 - mean_absolute_error: 1.3144 - val_loss: 1.3988 - val_mean_absolute_error: 1.3988\n",
      "Epoch 12/150\n",
      "30/30 [==============================] - 4s 127ms/step - loss: 1.2802 - mean_absolute_error: 1.2802 - val_loss: 1.9565 - val_mean_absolute_error: 1.9565\n",
      "Epoch 13/150\n",
      "30/30 [==============================] - 4s 129ms/step - loss: 1.4983 - mean_absolute_error: 1.4983 - val_loss: 1.9655 - val_mean_absolute_error: 1.9655\n",
      "Epoch 14/150\n",
      "30/30 [==============================] - 4s 127ms/step - loss: 1.3778 - mean_absolute_error: 1.3778 - val_loss: 1.0471 - val_mean_absolute_error: 1.0471\n",
      "INFO:tensorflow:Assets written to: ../output/models/cnn_regression_best/assets\n",
      "Epoch 15/150\n",
      "30/30 [==============================] - 4s 127ms/step - loss: 1.1970 - mean_absolute_error: 1.1970 - val_loss: 1.0890 - val_mean_absolute_error: 1.0890\n",
      "Epoch 16/150\n",
      "30/30 [==============================] - 4s 129ms/step - loss: 1.1248 - mean_absolute_error: 1.1248 - val_loss: 1.1323 - val_mean_absolute_error: 1.1323\n",
      "Epoch 17/150\n",
      "30/30 [==============================] - 4s 128ms/step - loss: 1.3182 - mean_absolute_error: 1.3182 - val_loss: 1.6339 - val_mean_absolute_error: 1.6339\n",
      "Epoch 18/150\n",
      "30/30 [==============================] - 4s 134ms/step - loss: 1.1509 - mean_absolute_error: 1.1509 - val_loss: 1.1674 - val_mean_absolute_error: 1.1674\n",
      "Epoch 19/150\n",
      "30/30 [==============================] - 4s 128ms/step - loss: 1.1440 - mean_absolute_error: 1.1440 - val_loss: 1.0247 - val_mean_absolute_error: 1.0247\n",
      "INFO:tensorflow:Assets written to: ../output/models/cnn_regression_best/assets\n",
      "Epoch 20/150\n",
      "30/30 [==============================] - 4s 129ms/step - loss: 1.2565 - mean_absolute_error: 1.2565 - val_loss: 2.2637 - val_mean_absolute_error: 2.2637\n",
      "Epoch 21/150\n",
      "30/30 [==============================] - 4s 128ms/step - loss: 0.9911 - mean_absolute_error: 0.9911 - val_loss: 2.4347 - val_mean_absolute_error: 2.4347\n",
      "Epoch 22/150\n",
      "30/30 [==============================] - 4s 128ms/step - loss: 1.1822 - mean_absolute_error: 1.1822 - val_loss: 1.3546 - val_mean_absolute_error: 1.3546\n",
      "Epoch 23/150\n",
      "30/30 [==============================] - 4s 133ms/step - loss: 1.0704 - mean_absolute_error: 1.0704 - val_loss: 1.3041 - val_mean_absolute_error: 1.3041\n",
      "Epoch 24/150\n",
      "30/30 [==============================] - 4s 130ms/step - loss: 1.1732 - mean_absolute_error: 1.1732 - val_loss: 1.4197 - val_mean_absolute_error: 1.4197\n",
      "Epoch 25/150\n",
      "30/30 [==============================] - 4s 132ms/step - loss: 1.1236 - mean_absolute_error: 1.1236 - val_loss: 1.0037 - val_mean_absolute_error: 1.0037\n",
      "INFO:tensorflow:Assets written to: ../output/models/cnn_regression_best/assets\n",
      "Epoch 26/150\n",
      "30/30 [==============================] - 4s 131ms/step - loss: 1.2002 - mean_absolute_error: 1.2002 - val_loss: 1.3281 - val_mean_absolute_error: 1.3281\n",
      "Epoch 27/150\n",
      "30/30 [==============================] - 4s 130ms/step - loss: 1.1566 - mean_absolute_error: 1.1566 - val_loss: 2.2074 - val_mean_absolute_error: 2.2074\n",
      "Epoch 28/150\n",
      "30/30 [==============================] - 4s 128ms/step - loss: 1.1058 - mean_absolute_error: 1.1058 - val_loss: 1.2068 - val_mean_absolute_error: 1.2068\n",
      "Epoch 29/150\n",
      "30/30 [==============================] - 4s 128ms/step - loss: 1.1028 - mean_absolute_error: 1.1028 - val_loss: 1.9220 - val_mean_absolute_error: 1.9220\n",
      "Epoch 30/150\n",
      "30/30 [==============================] - 4s 126ms/step - loss: 1.1834 - mean_absolute_error: 1.1834 - val_loss: 1.0868 - val_mean_absolute_error: 1.0868\n",
      "Epoch 31/150\n",
      "30/30 [==============================] - 4s 128ms/step - loss: 1.1667 - mean_absolute_error: 1.1667 - val_loss: 1.0489 - val_mean_absolute_error: 1.0489\n",
      "Epoch 32/150\n",
      "30/30 [==============================] - 4s 127ms/step - loss: 1.2439 - mean_absolute_error: 1.2439 - val_loss: 1.2718 - val_mean_absolute_error: 1.2718\n",
      "Epoch 33/150\n",
      "30/30 [==============================] - 4s 126ms/step - loss: 1.1261 - mean_absolute_error: 1.1261 - val_loss: 1.2559 - val_mean_absolute_error: 1.2559\n",
      "Epoch 34/150\n",
      "30/30 [==============================] - 4s 127ms/step - loss: 1.1730 - mean_absolute_error: 1.1730 - val_loss: 1.9565 - val_mean_absolute_error: 1.9565\n",
      "Epoch 35/150\n",
      "30/30 [==============================] - 4s 135ms/step - loss: 1.1062 - mean_absolute_error: 1.1062 - val_loss: 1.0149 - val_mean_absolute_error: 1.0149\n"
     ]
    },
    {
     "data": {
      "text/plain": [
       "<tensorflow.python.keras.callbacks.History at 0x7fc19c670c18>"
      ]
     },
     "execution_count": 40,
     "metadata": {},
     "output_type": "execute_result"
    }
   ],
   "source": [
    "model.fit(\n",
    "    train_datagen, \n",
    "    steps_per_epoch = Config.STEPS_PER_EPOCH, \n",
    "    validation_data = valid_datagen, \n",
    "    validation_steps = Config.VALIDATION_STEPS_PER_EPOCH, \n",
    "    epochs = Config.TRAINING_EPOCHS,\n",
    "    verbose = 1,\n",
    "    callbacks = [earlystop, ckpt]\n",
    "    )"
   ]
  },
  {
   "cell_type": "code",
   "execution_count": 41,
   "id": "manufactured-halifax",
   "metadata": {},
   "outputs": [],
   "source": [
    "model = tensorflow.keras.models.load_model(OUTPUT_PATH / 'models' / 'cnn_regression_best')"
   ]
  },
  {
   "cell_type": "code",
   "execution_count": 42,
   "id": "worldwide-utilization",
   "metadata": {},
   "outputs": [
    {
     "name": "stdout",
     "output_type": "stream",
     "text": [
      "51/51 [==============================] - 6s 105ms/step - loss: 1.1321 - mean_absolute_error: 1.1321\n"
     ]
    },
    {
     "data": {
      "text/plain": [
       "[1.1320561170578003, 1.1320561170578003]"
      ]
     },
     "execution_count": 42,
     "metadata": {},
     "output_type": "execute_result"
    }
   ],
   "source": [
    "model.evaluate(valid_datagen, batch_size=64, steps=valid_images.shape[0] // 64)"
   ]
  },
  {
   "cell_type": "code",
   "execution_count": 43,
   "id": "descending-reaction",
   "metadata": {},
   "outputs": [
    {
     "name": "stdout",
     "output_type": "stream",
     "text": [
      "12/12 [==============================] - 0s 4ms/step - loss: 1.9630 - mean_absolute_error: 1.9630\n"
     ]
    },
    {
     "data": {
      "text/plain": [
       "[1.9629526138305664, 1.9629526138305664]"
      ]
     },
     "execution_count": 43,
     "metadata": {},
     "output_type": "execute_result"
    }
   ],
   "source": [
    "model.evaluate(test_datagen, batch_size=1, steps=test_images.shape[0])"
   ]
  },
  {
   "cell_type": "code",
   "execution_count": 44,
   "id": "pregnant-pepper",
   "metadata": {},
   "outputs": [
    {
     "data": {
      "text/plain": [
       "[1, 3, 6, 10, 20, 30]"
      ]
     },
     "execution_count": 44,
     "metadata": {},
     "output_type": "execute_result"
    }
   ],
   "source": [
    "[1,3,6,10,20,30]"
   ]
  },
  {
   "cell_type": "code",
   "execution_count": 45,
   "id": "received-jewelry",
   "metadata": {},
   "outputs": [
    {
     "name": "stderr",
     "output_type": "stream",
     "text": [
      "/usr/local/lib/python3.6/dist-packages/tensorflow/python/keras/engine/training.py:2001: UserWarning: `Model.predict_generator` is deprecated and will be removed in a future version. Please use `Model.predict`, which supports generators.\n",
      "  warnings.warn('`Model.predict_generator` is deprecated and '\n"
     ]
    }
   ],
   "source": [
    "#valid_datagen = DataGenerator(valid_images, batch_size = 1, is_classification = False, shuffle = False)\n",
    "y_pred = model.predict_generator(test_datagen)"
   ]
  },
  {
   "cell_type": "code",
   "execution_count": 47,
   "id": "anticipated-hometown",
   "metadata": {},
   "outputs": [],
   "source": [
    "y_pred_changed = y_pred.copy()\n",
    "y_pred_changed[test_images['class'] == 0, 0] = np.array([1,6,20])[np.argmin(np.abs(y_pred_changed[test_images['class'] == 0] - [1,6,20]), axis = 1)]\n",
    "y_pred_changed[test_images['class'] == 1, 0] = np.array([3,10,30])[np.argmin(np.abs(y_pred_changed[test_images['class'] == 1] - [3,10,30]), axis = 1)]\n",
    "y_pred_changed = y_pred_changed.reshape(-1)"
   ]
  },
  {
   "cell_type": "code",
   "execution_count": 48,
   "id": "scientific-token",
   "metadata": {},
   "outputs": [
    {
     "data": {
      "text/plain": [
       "0.0"
      ]
     },
     "execution_count": 48,
     "metadata": {},
     "output_type": "execute_result"
    }
   ],
   "source": [
    "mean_absolute_error(test_images['energy'], y_pred_changed)"
   ]
  },
  {
   "cell_type": "code",
   "execution_count": 51,
   "id": "sudden-alaska",
   "metadata": {},
   "outputs": [],
   "source": [
    "model.save(OUTPUT_PATH / 'models' / 'cnn_classification')"
   ]
  }
 ],
 "metadata": {
  "kernelspec": {
   "display_name": "Python 3",
   "language": "python",
   "name": "python3"
  },
  "language_info": {
   "codemirror_mode": {
    "name": "ipython",
    "version": 3
   },
   "file_extension": ".py",
   "mimetype": "text/x-python",
   "name": "python",
   "nbconvert_exporter": "python",
   "pygments_lexer": "ipython3",
   "version": "3.6.9"
  }
 },
 "nbformat": 4,
 "nbformat_minor": 5
}
