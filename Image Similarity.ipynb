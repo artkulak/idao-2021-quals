{
 "cells": [
  {
   "cell_type": "code",
   "execution_count": 5,
   "id": "stylish-ownership",
   "metadata": {},
   "outputs": [
    {
     "name": "stdout",
     "output_type": "stream",
     "text": [
      "Collecting pillow\n",
      "  Downloading Pillow-8.1.2-cp36-cp36m-manylinux1_x86_64.whl (2.2 MB)\n",
      "\u001b[K     |████████████████████████████████| 2.2 MB 3.2 MB/s eta 0:00:01\n",
      "\u001b[?25hInstalling collected packages: pillow\n",
      "Successfully installed pillow-8.1.2\n",
      "\u001b[33mWARNING: You are using pip version 20.2.4; however, version 21.0.1 is available.\n",
      "You should consider upgrading via the '/usr/bin/python3 -m pip install --upgrade pip' command.\u001b[0m\n",
      "Note: you may need to restart the kernel to use updated packages.\n"
     ]
    }
   ],
   "source": [
    "pip install pillow"
   ]
  },
  {
   "cell_type": "code",
   "execution_count": 6,
   "id": "patent-inclusion",
   "metadata": {},
   "outputs": [
    {
     "name": "stdout",
     "output_type": "stream",
     "text": [
      "Collecting scikit-learn\n",
      "  Downloading scikit_learn-0.24.1-cp36-cp36m-manylinux2010_x86_64.whl (22.2 MB)\n",
      "\u001b[K     |████████████████████████████████| 22.2 MB 62.1 MB/s eta 0:00:01   |█████▊                          | 4.0 MB 3.2 MB/s eta 0:00:06     |████████                        | 5.6 MB 3.2 MB/s eta 0:00:06\n",
      "\u001b[?25hRequirement already satisfied: numpy>=1.13.3 in /usr/local/lib/python3.6/dist-packages (from scikit-learn) (1.19.5)\n",
      "Collecting threadpoolctl>=2.0.0\n",
      "  Downloading threadpoolctl-2.1.0-py3-none-any.whl (12 kB)\n",
      "Collecting joblib>=0.11\n",
      "  Downloading joblib-1.0.1-py3-none-any.whl (303 kB)\n",
      "\u001b[K     |████████████████████████████████| 303 kB 100.0 MB/s eta 0:00:01\n",
      "\u001b[?25hCollecting scipy>=0.19.1\n",
      "  Downloading scipy-1.5.4-cp36-cp36m-manylinux1_x86_64.whl (25.9 MB)\n",
      "\u001b[K     |████████████████████████████████| 25.9 MB 84.0 MB/s eta 0:00:01\n",
      "\u001b[?25hInstalling collected packages: threadpoolctl, joblib, scipy, scikit-learn\n",
      "Successfully installed joblib-1.0.1 scikit-learn-0.24.1 scipy-1.5.4 threadpoolctl-2.1.0\n",
      "\u001b[33mWARNING: You are using pip version 20.2.4; however, version 21.0.1 is available.\n",
      "You should consider upgrading via the '/usr/bin/python3 -m pip install --upgrade pip' command.\u001b[0m\n",
      "Note: you may need to restart the kernel to use updated packages.\n"
     ]
    }
   ],
   "source": [
    "pip install scikit-learn"
   ]
  },
  {
   "cell_type": "code",
   "execution_count": 7,
   "id": "royal-module",
   "metadata": {},
   "outputs": [
    {
     "name": "stdout",
     "output_type": "stream",
     "text": [
      "Collecting scikit-image\n",
      "  Downloading scikit_image-0.17.2-cp36-cp36m-manylinux1_x86_64.whl (12.4 MB)\n",
      "\u001b[K     |████████████████████████████████| 12.4 MB 3.2 MB/s eta 0:00:01\n",
      "\u001b[?25hRequirement already satisfied: numpy>=1.15.1 in /usr/local/lib/python3.6/dist-packages (from scikit-image) (1.19.5)\n",
      "Requirement already satisfied: pillow!=7.1.0,!=7.1.1,>=4.3.0 in /usr/local/lib/python3.6/dist-packages (from scikit-image) (8.1.2)\n",
      "Collecting imageio>=2.3.0\n",
      "  Downloading imageio-2.9.0-py3-none-any.whl (3.3 MB)\n",
      "\u001b[K     |████████████████████████████████| 3.3 MB 91.0 MB/s eta 0:00:01\n",
      "\u001b[?25hCollecting matplotlib!=3.0.0,>=2.0.0\n",
      "  Downloading matplotlib-3.3.4-cp36-cp36m-manylinux1_x86_64.whl (11.5 MB)\n",
      "\u001b[K     |████████████████████████████████| 11.5 MB 44.7 MB/s eta 0:00:01    |███████████████████▋            | 7.1 MB 44.7 MB/s eta 0:00:01\n",
      "\u001b[?25hCollecting tifffile>=2019.7.26\n",
      "  Downloading tifffile-2020.9.3-py3-none-any.whl (148 kB)\n",
      "\u001b[K     |████████████████████████████████| 148 kB 89.8 MB/s eta 0:00:01\n",
      "\u001b[?25hRequirement already satisfied: scipy>=1.0.1 in /usr/local/lib/python3.6/dist-packages (from scikit-image) (1.5.4)\n",
      "Collecting networkx>=2.0\n",
      "  Downloading networkx-2.5-py3-none-any.whl (1.6 MB)\n",
      "\u001b[K     |████████████████████████████████| 1.6 MB 65.2 MB/s eta 0:00:01\n",
      "\u001b[?25hCollecting PyWavelets>=1.1.1\n",
      "  Downloading PyWavelets-1.1.1-cp36-cp36m-manylinux1_x86_64.whl (4.4 MB)\n",
      "\u001b[K     |████████████████████████████████| 4.4 MB 79.9 MB/s eta 0:00:01\n",
      "\u001b[?25hCollecting kiwisolver>=1.0.1\n",
      "  Downloading kiwisolver-1.3.1-cp36-cp36m-manylinux1_x86_64.whl (1.1 MB)\n",
      "\u001b[K     |████████████████████████████████| 1.1 MB 85.4 MB/s eta 0:00:01\n",
      "\u001b[?25hRequirement already satisfied: pyparsing!=2.0.4,!=2.1.2,!=2.1.6,>=2.0.3 in /usr/local/lib/python3.6/dist-packages (from matplotlib!=3.0.0,>=2.0.0->scikit-image) (2.4.7)\n",
      "Requirement already satisfied: python-dateutil>=2.1 in /usr/local/lib/python3.6/dist-packages (from matplotlib!=3.0.0,>=2.0.0->scikit-image) (2.8.1)\n",
      "Collecting cycler>=0.10\n",
      "  Downloading cycler-0.10.0-py2.py3-none-any.whl (6.5 kB)\n",
      "Requirement already satisfied: decorator>=4.3.0 in /usr/local/lib/python3.6/dist-packages (from networkx>=2.0->scikit-image) (4.4.2)\n",
      "Requirement already satisfied: six>=1.5 in /usr/local/lib/python3.6/dist-packages (from python-dateutil>=2.1->matplotlib!=3.0.0,>=2.0.0->scikit-image) (1.15.0)\n",
      "Installing collected packages: imageio, kiwisolver, cycler, matplotlib, tifffile, networkx, PyWavelets, scikit-image\n",
      "Successfully installed PyWavelets-1.1.1 cycler-0.10.0 imageio-2.9.0 kiwisolver-1.3.1 matplotlib-3.3.4 networkx-2.5 scikit-image-0.17.2 tifffile-2020.9.3\n",
      "\u001b[33mWARNING: You are using pip version 20.2.4; however, version 21.0.1 is available.\n",
      "You should consider upgrading via the '/usr/bin/python3 -m pip install --upgrade pip' command.\u001b[0m\n",
      "Note: you may need to restart the kernel to use updated packages.\n"
     ]
    }
   ],
   "source": [
    "pip install scikit-image"
   ]
  },
  {
   "cell_type": "code",
   "execution_count": 8,
   "id": "toxic-allah",
   "metadata": {},
   "outputs": [
    {
     "name": "stdout",
     "output_type": "stream",
     "text": [
      "Collecting opencv-python\n",
      "  Downloading opencv_python-4.5.1.48-cp36-cp36m-manylinux2014_x86_64.whl (50.4 MB)\n",
      "\u001b[K     |████████████████████████████████| 50.4 MB 49.7 MB/s eta 0:00:01    |██████████▏                     | 15.9 MB 3.1 MB/s eta 0:00:12     |███████████▋                    | 18.2 MB 3.1 MB/s eta 0:00:11\n",
      "\u001b[?25hRequirement already satisfied: numpy>=1.13.3 in /usr/local/lib/python3.6/dist-packages (from opencv-python) (1.19.5)\n",
      "Installing collected packages: opencv-python\n",
      "Successfully installed opencv-python-4.5.1.48\n",
      "\u001b[33mWARNING: You are using pip version 20.2.4; however, version 21.0.1 is available.\n",
      "You should consider upgrading via the '/usr/bin/python3 -m pip install --upgrade pip' command.\u001b[0m\n",
      "Note: you may need to restart the kernel to use updated packages.\n"
     ]
    }
   ],
   "source": [
    "pip install opencv-python"
   ]
  },
  {
   "cell_type": "code",
   "execution_count": 9,
   "id": "weekly-orlando",
   "metadata": {},
   "outputs": [
    {
     "name": "stdout",
     "output_type": "stream",
     "text": [
      "Collecting pandas\n",
      "  Downloading pandas-1.1.5-cp36-cp36m-manylinux1_x86_64.whl (9.5 MB)\n",
      "\u001b[K     |████████████████████████████████| 9.5 MB 3.2 MB/s eta 0:00:01\n",
      "\u001b[?25hRequirement already satisfied: python-dateutil>=2.7.3 in /usr/local/lib/python3.6/dist-packages (from pandas) (2.8.1)\n",
      "Requirement already satisfied: numpy>=1.15.4 in /usr/local/lib/python3.6/dist-packages (from pandas) (1.19.5)\n",
      "Requirement already satisfied: pytz>=2017.2 in /usr/local/lib/python3.6/dist-packages (from pandas) (2021.1)\n",
      "Requirement already satisfied: six>=1.5 in /usr/local/lib/python3.6/dist-packages (from python-dateutil>=2.7.3->pandas) (1.15.0)\n",
      "Installing collected packages: pandas\n",
      "Successfully installed pandas-1.1.5\n",
      "\u001b[33mWARNING: You are using pip version 20.2.4; however, version 21.0.1 is available.\n",
      "You should consider upgrading via the '/usr/bin/python3 -m pip install --upgrade pip' command.\u001b[0m\n",
      "Note: you may need to restart the kernel to use updated packages.\n"
     ]
    }
   ],
   "source": [
    "pip install pandas"
   ]
  },
  {
   "cell_type": "code",
   "execution_count": 10,
   "id": "increasing-myrtle",
   "metadata": {},
   "outputs": [
    {
     "name": "stdout",
     "output_type": "stream",
     "text": [
      "Collecting albumentations\n",
      "  Downloading albumentations-0.5.2-py3-none-any.whl (72 kB)\n",
      "\u001b[K     |████████████████████████████████| 72 kB 523 kB/s eta 0:00:011\n",
      "\u001b[?25hRequirement already satisfied: scipy in /usr/local/lib/python3.6/dist-packages (from albumentations) (1.5.4)\n",
      "Collecting PyYAML\n",
      "  Downloading PyYAML-5.4.1-cp36-cp36m-manylinux1_x86_64.whl (640 kB)\n",
      "\u001b[K     |████████████████████████████████| 640 kB 11.0 MB/s eta 0:00:01\n",
      "\u001b[?25hRequirement already satisfied: numpy>=1.11.1 in /usr/local/lib/python3.6/dist-packages (from albumentations) (1.19.5)\n",
      "Requirement already satisfied: scikit-image>=0.16.1 in /usr/local/lib/python3.6/dist-packages (from albumentations) (0.17.2)\n",
      "Collecting imgaug>=0.4.0\n",
      "  Downloading imgaug-0.4.0-py2.py3-none-any.whl (948 kB)\n",
      "\u001b[K     |████████████████████████████████| 948 kB 11.1 MB/s eta 0:00:01\n",
      "\u001b[?25hCollecting opencv-python-headless>=4.1.1\n",
      "  Downloading opencv_python_headless-4.5.1.48-cp36-cp36m-manylinux2014_x86_64.whl (37.6 MB)\n",
      "\u001b[K     |████████████████████████████████| 37.6 MB 10.1 MB/s eta 0:00:01\n",
      "\u001b[?25hRequirement already satisfied: networkx>=2.0 in /usr/local/lib/python3.6/dist-packages (from scikit-image>=0.16.1->albumentations) (2.5)\n",
      "Requirement already satisfied: imageio>=2.3.0 in /usr/local/lib/python3.6/dist-packages (from scikit-image>=0.16.1->albumentations) (2.9.0)\n",
      "Requirement already satisfied: PyWavelets>=1.1.1 in /usr/local/lib/python3.6/dist-packages (from scikit-image>=0.16.1->albumentations) (1.1.1)\n",
      "Requirement already satisfied: pillow!=7.1.0,!=7.1.1,>=4.3.0 in /usr/local/lib/python3.6/dist-packages (from scikit-image>=0.16.1->albumentations) (8.1.2)\n",
      "Requirement already satisfied: tifffile>=2019.7.26 in /usr/local/lib/python3.6/dist-packages (from scikit-image>=0.16.1->albumentations) (2020.9.3)\n",
      "Requirement already satisfied: matplotlib!=3.0.0,>=2.0.0 in /usr/local/lib/python3.6/dist-packages (from scikit-image>=0.16.1->albumentations) (3.3.4)\n",
      "Collecting Shapely\n",
      "  Downloading Shapely-1.7.1-cp36-cp36m-manylinux1_x86_64.whl (1.0 MB)\n",
      "\u001b[K     |████████████████████████████████| 1.0 MB 80.1 MB/s eta 0:00:01\n",
      "\u001b[?25hRequirement already satisfied: six in /usr/local/lib/python3.6/dist-packages (from imgaug>=0.4.0->albumentations) (1.15.0)\n",
      "Requirement already satisfied: opencv-python in /usr/local/lib/python3.6/dist-packages (from imgaug>=0.4.0->albumentations) (4.5.1.48)\n",
      "Requirement already satisfied: decorator>=4.3.0 in /usr/local/lib/python3.6/dist-packages (from networkx>=2.0->scikit-image>=0.16.1->albumentations) (4.4.2)\n",
      "Requirement already satisfied: cycler>=0.10 in /usr/local/lib/python3.6/dist-packages (from matplotlib!=3.0.0,>=2.0.0->scikit-image>=0.16.1->albumentations) (0.10.0)\n",
      "Requirement already satisfied: kiwisolver>=1.0.1 in /usr/local/lib/python3.6/dist-packages (from matplotlib!=3.0.0,>=2.0.0->scikit-image>=0.16.1->albumentations) (1.3.1)\n",
      "Requirement already satisfied: python-dateutil>=2.1 in /usr/local/lib/python3.6/dist-packages (from matplotlib!=3.0.0,>=2.0.0->scikit-image>=0.16.1->albumentations) (2.8.1)\n",
      "Requirement already satisfied: pyparsing!=2.0.4,!=2.1.2,!=2.1.6,>=2.0.3 in /usr/local/lib/python3.6/dist-packages (from matplotlib!=3.0.0,>=2.0.0->scikit-image>=0.16.1->albumentations) (2.4.7)\n",
      "Installing collected packages: PyYAML, Shapely, imgaug, opencv-python-headless, albumentations\n",
      "Successfully installed PyYAML-5.4.1 Shapely-1.7.1 albumentations-0.5.2 imgaug-0.4.0 opencv-python-headless-4.5.1.48\n",
      "\u001b[33mWARNING: You are using pip version 20.2.4; however, version 21.0.1 is available.\n",
      "You should consider upgrading via the '/usr/bin/python3 -m pip install --upgrade pip' command.\u001b[0m\n",
      "Note: you may need to restart the kernel to use updated packages.\n"
     ]
    }
   ],
   "source": [
    "pip install albumentations"
   ]
  },
  {
   "cell_type": "code",
   "execution_count": 11,
   "id": "meaningful-programming",
   "metadata": {},
   "outputs": [
    {
     "name": "stdout",
     "output_type": "stream",
     "text": [
      "INFO:tensorflow:Enabling eager execution\n",
      "INFO:tensorflow:Enabling v2 tensorshape\n",
      "INFO:tensorflow:Enabling resource variables\n",
      "INFO:tensorflow:Enabling tensor equality\n",
      "INFO:tensorflow:Enabling control flow v2\n"
     ]
    }
   ],
   "source": [
    "#####################\n",
    "# IMPORT LIBS\n",
    "#####################\n",
    "\n",
    "from PIL import Image\n",
    "from sklearn.model_selection import train_test_split\n",
    "from skimage import io, transform\n",
    "from skimage.transform import AffineTransform, warp\n",
    "from sklearn.metrics import roc_auc_score, mean_absolute_error\n",
    "import tensorflow as tf\n",
    "\n",
    "from tensorflow.keras.models import load_model\n",
    "from tensorflow.compat.v1.keras import backend as K\n",
    "\n",
    "import pandas as pd\n",
    "from pathlib import Path\n",
    "import os\n",
    "import cv2\n",
    "import matplotlib.pyplot as plt\n",
    "import numpy as np\n",
    "import random\n",
    "import glob\n",
    "import albumentations as A\n",
    "import cv2\n",
    "# from efficientnet_pytorch import EfficientNet\n",
    "\n",
    "\n",
    "#####################\n",
    "# SET CONSTANTS\n",
    "#####################\n",
    "\n",
    "INPUT_PATH = Path('../input')\n",
    "OUTPUT_PATH = Path('../output')\n",
    "TRAIN_PATH = INPUT_PATH / 'idao_dataset' / 'train'\n",
    "PRIVATE_PATH = INPUT_PATH / 'idao_dataset' / 'private_test'\n",
    "PRIVATE_PATH_NEW = INPUT_PATH / 'idao_dataset' / 'private_test_new'\n",
    "PUBLIC_PATH = INPUT_PATH / 'idao_dataset' / 'public_test'\n",
    "\n",
    "RANDOM_SEED = 4444\n",
    "\n",
    "def seed_everything(seed=1234):\n",
    "    random.seed(seed)\n",
    "    os.environ['PYTHONHASHSEED'] = str(seed)\n",
    "    np.random.seed(seed)\n",
    "seed_everything(RANDOM_SEED)"
   ]
  },
  {
   "cell_type": "code",
   "execution_count": 12,
   "id": "vertical-evolution",
   "metadata": {},
   "outputs": [],
   "source": [
    "class Config:\n",
    "    BATCH_SIZE = 32\n",
    "    TRAINING_EPOCHS = 150\n",
    "    VALIDATION_STEPS_PER_EPOCH = 5\n",
    "    VALIDATION_EPOCHS = 10\n",
    "    STEPS_PER_EPOCH = 30\n",
    "    EARLY_STOP_PATIENCE = 5\n",
    "    \n",
    "    \n",
    "    # Declare an augmentation pipeline\n",
    "    train_transform = A.Compose([\n",
    "        #A.HorizontalFlip(p=0.5),\n",
    "        A.Cutout(num_holes=4, max_h_size=8, max_w_size=8, p=0.3),\n",
    "        A.OneOf([A.RandomContrast(),\n",
    "             A.RandomGamma(),\n",
    "             A.RandomBrightness()],p=0.2),\n",
    "        A.OneOf([A.Blur(p = 0.3),\n",
    "             A.GaussNoise(p=0.3)\n",
    "                ],p=0.5),\n",
    "        A.CLAHE(clip_limit=4, tile_grid_size=(8,8), always_apply=False, p=0.3),\n",
    "    ],)\n",
    "    \n",
    "    validation_transform = A.Compose([\n",
    "    ],)"
   ]
  },
  {
   "cell_type": "code",
   "execution_count": 13,
   "id": "indirect-cable",
   "metadata": {},
   "outputs": [],
   "source": [
    "def getFeatures(img_path):\n",
    "    if len(img_path.split('_')) == 18:\n",
    "        particle_class = 0 # ER\n",
    "        particle_energy = int(img_path.split('_')[7])\n",
    "    else:\n",
    "        particle_class = 1 # HE\n",
    "        particle_energy = int(img_path.split('_')[8])\n",
    "    return [img_path, particle_class, particle_energy]\n",
    "\n",
    "images = glob.glob(str(TRAIN_PATH / '**/*.png'), recursive=True)\n",
    "images = pd.DataFrame(map(getFeatures, images))\n",
    "images.columns = ['path', 'class', 'energy']"
   ]
  },
  {
   "cell_type": "code",
   "execution_count": 14,
   "id": "obvious-columbia",
   "metadata": {},
   "outputs": [],
   "source": [
    "#################\n",
    "# EXTRACT TEST\n",
    "#################\n",
    "\n",
    "# HE - 0, ER - 1\n",
    "\n",
    "he_test_idx = list(images[(images['class'] == 0) & (images['energy'].apply(lambda x: x in [1, 6, 20]))].index)\n",
    "er_test_idx = list(images[(images['class'] == 1) & (images['energy'].apply(lambda x: x in [3, 10, 30]))].index)"
   ]
  },
  {
   "cell_type": "code",
   "execution_count": 16,
   "id": "subject-weapon",
   "metadata": {},
   "outputs": [],
   "source": [
    "# TODO: Write this to a separate folder\n",
    "\n",
    "# 0 - [:750]\n",
    "# 1 - [750:1502]\n",
    "# 0 - [1502:7531]\n",
    "# 1 - [7531:]\n",
    "\n",
    "import glob\n",
    "private_test = glob.glob(str(PRIVATE_PATH / '**/*.png'), recursive=True)\n",
    "public_test = glob.glob(str(PUBLIC_PATH / '**/*.png'), recursive=True)\n",
    "\n",
    "sample_submission = pd.read_csv(INPUT_PATH / 'track1_predictions_example.csv')\n",
    "private_ids = [t.split('/')[-1].split('.')[0] for t in private_test]\n",
    "public_ids = [t.split('/')[-1].split('.')[0] for t in public_test]\n",
    "\n",
    "# sample_submission['path'] = sample_submission['id'].apply(lambda x: PRIVATE_PATH / f'{x}.png' if x in private_ids else PUBLIC_PATH / f'{x}.png').map(str)\n",
    "# sample_submission.iloc[:750, 1] = 0\n",
    "# sample_submission.iloc[750:1502, 1] = 1\n",
    "# sample_submission.iloc[1502:7531, 1] = 0\n",
    "# sample_submission.iloc[7531:, 1] = 1\n",
    "\n",
    "# sample_submission = sample_submission.iloc[1502:].reset_index(drop = True)\n",
    "\n",
    "# images_leak = pd.DataFrame(np.array([sample_submission.iloc[:, 3].values, sample_submission.iloc[:, 1].values, sample_submission.iloc[:, 2].values]).T)\n",
    "# images_leak.columns = ['path', 'class', 'energy']"
   ]
  },
  {
   "cell_type": "code",
   "execution_count": 17,
   "id": "average-enhancement",
   "metadata": {},
   "outputs": [],
   "source": [
    "test_idx = he_test_idx + er_test_idx\n",
    "test_images = images.iloc[test_idx]\n",
    "images = images.drop(index = test_idx)\n",
    "\n",
    "\n",
    "train_images, valid_images = train_test_split(images, shuffle = True, random_state = RANDOM_SEED)\n",
    "train_images = train_images.reset_index(drop = True)\n",
    "valid_images = valid_images.reset_index(drop = True)"
   ]
  },
  {
   "cell_type": "code",
   "execution_count": 18,
   "id": "differential-season",
   "metadata": {},
   "outputs": [],
   "source": [
    "def calc_metric(y_binary_true, y_binary_pred, y_reg_true, y_reg_pred):\n",
    "    '''\n",
    "    Competition metric\n",
    "    '''\n",
    "    \n",
    "    roc = roc_auc_score(y_binary_true, y_binary_pred)\n",
    "    mae = mean_absolute_error(y_reg_true, y_reg_pred)\n",
    "    return 1000 * (roc - mae), roc, mae"
   ]
  },
  {
   "cell_type": "code",
   "execution_count": 197,
   "id": "endless-webcam",
   "metadata": {},
   "outputs": [],
   "source": [
    "class DataGenerator(tf.keras.utils.Sequence):\n",
    "    def __init__(self, images, transform=None, batch_size=32,  shuffle=True, augment = False):\n",
    "        self.images = images\n",
    "        self.indices = np.arange(len(images))\n",
    "        self.transform = transform\n",
    "        self.batch_size = batch_size\n",
    "        self.shuffle = shuffle\n",
    "        self.augment = augment\n",
    "\n",
    "        self.on_epoch_end()\n",
    "\n",
    "    def __len__(self):\n",
    "        return len(self.images) // self.batch_size\n",
    "\n",
    "    def __getitem__(self, index):\n",
    "        index = self.index[index * self.batch_size:(index + 1) * self.batch_size]\n",
    "        batch = [self.indices[k] for k in index]\n",
    "    \n",
    "        X, y = self.__get_data(batch)\n",
    "        return X, y\n",
    "\n",
    "    def on_epoch_end(self):\n",
    "        self.index = np.arange(len(self.indices))\n",
    "        if self.shuffle:\n",
    "            np.random.shuffle(self.index)\n",
    "\n",
    "    def __get_data(self, batch):\n",
    "        X_1 = np.zeros((self.batch_size, 150, 150, 3))\n",
    "        X_2 = np.zeros((self.batch_size, 150, 150, 3))\n",
    "        y_energy_similarity = np.zeros((self.batch_size))\n",
    "        y_class_similarity = np.zeros((self.batch_size))\n",
    "        for i, idx in enumerate(batch):\n",
    "            idx_2 = np.random.choice(batch)\n",
    "            image_1 = cv2.imread(self.images.iloc[idx, 0])[225:375, 225:375, :]\n",
    "            image_2 = cv2.imread(self.images.iloc[idx_2, 0])[225:375, 225:375, :]\n",
    "            X_1[i,] = image_1\n",
    "            X_2[i,] = image_2\n",
    "            \n",
    "            if self.augment:\n",
    "                X_1[i, ] = Config.train_transform(image=X_1[i,].astype(np.uint8))['image']\n",
    "                X_2[i, ] = Config.train_transform(image=X_2[i,].astype(np.uint8))['image']\n",
    "            particle_energy_1 = self.images.iloc[idx, 2]\n",
    "            particle_energy_2 = self.images.iloc[idx_2, 2]\n",
    "    \n",
    "            y_energy_similarity[i] = 1 if (particle_energy_1 == particle_energy_2) else 0\n",
    "        \n",
    "            particle_class_1 = self.images.iloc[idx, 1]\n",
    "            particle_class_2 = self.images.iloc[idx_2, 1]\n",
    "            \n",
    "            y_class_similarity[i] = 1 if (particle_class_1 == particle_class_2) else 0\n",
    "        \n",
    "        return (X_1 / 255.0, X_2 / 255.0), y_energy_similarity\n"
   ]
  },
  {
   "cell_type": "code",
   "execution_count": 198,
   "id": "million-hearts",
   "metadata": {},
   "outputs": [],
   "source": [
    "train_datagen = DataGenerator(train_images, batch_size = Config.BATCH_SIZE, augment = False)\n",
    "valid_datagen = DataGenerator(valid_images, batch_size = Config.BATCH_SIZE)\n",
    "test_datagen = DataGenerator(test_images, batch_size = 1, shuffle = False)"
   ]
  },
  {
   "cell_type": "code",
   "execution_count": 199,
   "id": "hazardous-adams",
   "metadata": {},
   "outputs": [],
   "source": [
    "# Example data extract\n",
    "\n",
    "(X_1, X_2), y_energy_similarity = train_datagen.__getitem__(0)"
   ]
  },
  {
   "cell_type": "code",
   "execution_count": 200,
   "id": "blank-champagne",
   "metadata": {},
   "outputs": [
    {
     "ename": "IndexError",
     "evalue": "tuple index out of range",
     "output_type": "error",
     "traceback": [
      "\u001b[0;31m\u001b[0m",
      "\u001b[0;31mIndexError\u001b[0mTraceback (most recent call last)",
      "\u001b[0;32m<ipython-input-200-ca69c4299a39>\u001b[0m in \u001b[0;36m<module>\u001b[0;34m\u001b[0m\n\u001b[1;32m      1\u001b[0m \u001b[0midx\u001b[0m \u001b[0;34m=\u001b[0m \u001b[0;36m17\u001b[0m\u001b[0;34m\u001b[0m\u001b[0;34m\u001b[0m\u001b[0m\n\u001b[0;32m----> 2\u001b[0;31m \u001b[0mplt\u001b[0m\u001b[0;34m.\u001b[0m\u001b[0mimshow\u001b[0m\u001b[0;34m(\u001b[0m\u001b[0;34m(\u001b[0m\u001b[0mX\u001b[0m\u001b[0;34m[\u001b[0m\u001b[0midx\u001b[0m\u001b[0;34m]\u001b[0m \u001b[0;34m*\u001b[0m \u001b[0;36m255\u001b[0m\u001b[0;34m)\u001b[0m\u001b[0;34m.\u001b[0m\u001b[0mastype\u001b[0m\u001b[0;34m(\u001b[0m\u001b[0mnp\u001b[0m\u001b[0;34m.\u001b[0m\u001b[0muint8\u001b[0m\u001b[0;34m)\u001b[0m\u001b[0;34m)\u001b[0m\u001b[0;34m\u001b[0m\u001b[0;34m\u001b[0m\u001b[0m\n\u001b[0m",
      "\u001b[0;31mIndexError\u001b[0m: tuple index out of range"
     ]
    }
   ],
   "source": [
    "idx = 17\n",
    "plt.imshow((X[idx] * 255).astype(np.uint8))\n"
   ]
  },
  {
   "cell_type": "markdown",
   "id": "incredible-terry",
   "metadata": {},
   "source": [
    "## Class model"
   ]
  },
  {
   "cell_type": "code",
   "execution_count": 201,
   "id": "broken-energy",
   "metadata": {},
   "outputs": [],
   "source": [
    "import tensorflow as tf\n",
    "from tensorflow.keras.applications.vgg16 import VGG16\n",
    "from tensorflow.keras.applications.mobilenet_v2 import MobileNetV2\n",
    "from tensorflow.keras.preprocessing import image\n",
    "from tensorflow.keras.applications import ResNet152V2\n",
    "from tensorflow.keras.applications.vgg16 import preprocess_input\n",
    "from tensorflow.keras.applications.densenet import DenseNet121\n",
    "\n",
    "from tensorflow.keras.applications import EfficientNetB0\n",
    "import numpy as np\n",
    "\n",
    "base_model_1 = ResNet152V2(weights='imagenet', include_top=False)\n",
    "base_model_2 = ResNet152V2(weights='imagenet', include_top=False)"
   ]
  },
  {
   "cell_type": "code",
   "execution_count": 202,
   "id": "mineral-origin",
   "metadata": {},
   "outputs": [],
   "source": [
    "from tensorflow.keras import layers as L\n",
    "from tensorflow.keras.models import Model\n",
    "import tensorflow as tf\n",
    "import tensorflow.keras\n",
    "import tensorflow\n",
    "\n",
    "earlystop = keras.callbacks.EarlyStopping(monitor='val_categorical_accuracy', patience=10)\n",
    "ckpt = keras.callbacks.ModelCheckpoint(OUTPUT_PATH / 'models' / 'cnn_classification_best', save_best_only=True, monitor='val_auc', mode='max')\n",
    "    \n",
    "def create_regression_model():\n",
    "    \n",
    "    \n",
    "    ###############\n",
    "    # BRANCH 1\n",
    "    ###############\n",
    "    \n",
    "    inp_1 = L.Input(shape=(150,150,3))\n",
    "\n",
    "    # Sequence of two convolutional and pooling layers as feature extractors\n",
    "    x1 = L.Conv2D(16, kernel_size=2, activation='relu')(inp_1)\n",
    "    x1 = L.BatchNormalization()(x1)\n",
    "    x1 = L.Conv2D(16, kernel_size=2, activation='relu')(x1)\n",
    "    x1 = L.BatchNormalization()(x1)\n",
    "    x1 = L.MaxPooling2D(pool_size=(2, 2))(x1)\n",
    "    \n",
    "    x1 = L.Conv2D(32, kernel_size=2, activation='relu')(x1)\n",
    "    x1 = L.BatchNormalization()(x1)\n",
    "    x1 = L.Conv2D(32, kernel_size=2, activation='relu')(x1)\n",
    "    x1 = L.BatchNormalization()(x1)\n",
    "    x1 = L.MaxPooling2D(pool_size=(2, 2))(x1)\n",
    "    \n",
    "    x1 = L.Conv2D(64, kernel_size=4, activation='relu')(x1)\n",
    "    x1 = L.BatchNormalization()(x1)\n",
    "    x1 = L.Conv2D(64, kernel_size=4, activation='relu')(x1)\n",
    "    x1 = L.BatchNormalization()(x1)\n",
    "    x1 = L.MaxPooling2D(pool_size=(2, 2))(x1)\n",
    "    \n",
    "    x1 = L.GlobalAveragePooling2D()(x1)\n",
    "    \n",
    "    ###############\n",
    "    # BRANCH 2\n",
    "    ###############\n",
    "    \n",
    "    inp_2 = L.Input(shape=(150,150,3))\n",
    "\n",
    "    # Sequence of two convolutional and pooling layers as feature extractors\n",
    "    x2 = L.Conv2D(16, kernel_size=2, activation='relu')(inp_2)\n",
    "    x2 = L.BatchNormalization()(x2)\n",
    "    x2 = L.Conv2D(16, kernel_size=2, activation='relu')(x2)\n",
    "    x2 = L.BatchNormalization()(x2)\n",
    "    x2 = L.MaxPooling2D(pool_size=(2, 2))(x2)\n",
    "    \n",
    "    x2 = L.Conv2D(32, kernel_size=2, activation='relu')(x2)\n",
    "    x2 = L.BatchNormalization()(x2)\n",
    "    x2 = L.Conv2D(32, kernel_size=2, activation='relu')(x2)\n",
    "    x2 = L.BatchNormalization()(x2)\n",
    "    x2 = L.MaxPooling2D(pool_size=(2, 2))(x2)\n",
    "    \n",
    "    x2 = L.Conv2D(64, kernel_size=4, activation='relu')(x2)\n",
    "    x2 = L.BatchNormalization()(x2)\n",
    "    x2 = L.Conv2D(64, kernel_size=4, activation='relu')(x2)\n",
    "    x2 = L.BatchNormalization()(x2)\n",
    "    x2 = L.MaxPooling2D(pool_size=(2, 2))(x2)\n",
    "    \n",
    "    x2 = L.GlobalAveragePooling2D()(x2)\n",
    "    \n",
    "    \n",
    "    #############\n",
    "    # OUTPUT \n",
    "    ############\n",
    "    \n",
    "    x = L.Concatenate(axis=1)([x1, x2])\n",
    "    x = L.Dense(128, activation='relu')(x)\n",
    "    \n",
    "    predictions_energy = L.Dense(1, activation='sigmoid', name='similarity')(x)\n",
    "\n",
    "    # this is the model we will train\n",
    "    model = Model(inputs=[inp_1, inp_2], outputs=[predictions_energy])\n",
    "\n",
    "\n",
    "    # compile the model (should be done *after* setting layers to non-trainable)\n",
    "    model.compile(optimizer=tensorflow.keras.optimizers.Adam(learning_rate=1e-4), \n",
    "                  loss={\n",
    "                      'similarity':'binary_crossentropy', \n",
    "                  },\n",
    "                  metrics = {\n",
    "                             'similarity': 'AUC', \n",
    "                  })\n",
    "    return model"
   ]
  },
  {
   "cell_type": "code",
   "execution_count": 206,
   "id": "awful-vessel",
   "metadata": {},
   "outputs": [],
   "source": [
    "from tensorflow.keras import layers as L\n",
    "from tensorflow.keras.models import Model\n",
    "import tensorflow as tf\n",
    "import tensorflow.keras\n",
    "import tensorflow\n",
    "\n",
    "earlystop = keras.callbacks.EarlyStopping(monitor='val_auc', patience=10)\n",
    "ckpt = keras.callbacks.ModelCheckpoint(OUTPUT_PATH / 'models' / 'cnn_classification_best', save_best_only=True, monitor='val_auc', mode='max')\n",
    "    \n",
    "def create_regression_model(base_model_1, base_model_2):\n",
    "    \n",
    "    for layer in base_model_1.layers:\n",
    "        layer._name = layer.name + str(\"_1\")\n",
    "    \n",
    "    for layer in base_model_2.layers:\n",
    "        layer._name = layer.name + str(\"_2\")\n",
    "    \n",
    "    \n",
    "    ###############\n",
    "    # BRANCH 1\n",
    "    ###############\n",
    "    \n",
    "    for layer in base_model_1.layers[:-5]:\n",
    "        layer.trainable = False\n",
    "        \n",
    "    x1 = base_model_1.output\n",
    "    x1 = L.GlobalAveragePooling2D()(x1)\n",
    "    \n",
    "    ###############\n",
    "    # BRANCH 2\n",
    "    ###############\n",
    "    \n",
    "    for layer in base_model_2.layers[:-5]:\n",
    "        layer.trainable = False\n",
    "        \n",
    "    x2 = base_model_2.output\n",
    "    x2 = L.GlobalAveragePooling2D()(x2)\n",
    "    \n",
    "    \n",
    "    #############\n",
    "    # OUTPUT \n",
    "    ############\n",
    "    \n",
    "    x = L.Concatenate(axis=1)([x1, x2])\n",
    "    x = L.Dense(512, activation='relu')(x)\n",
    "    x = L.Dense(64, activation='relu')(x)\n",
    "    \n",
    "    predictions_similarity = L.Dense(1, activation='sigmoid', name='similarity')(x)\n",
    "\n",
    "    # this is the model we will train\n",
    "    model = Model(inputs=[base_model_1.input, base_model_2.input], outputs=[predictions_similarity])\n",
    "\n",
    "\n",
    "    # compile the model (should be done *after* setting layers to non-trainable)\n",
    "    model.compile(optimizer=tensorflow.keras.optimizers.Adam(learning_rate=1e-4), \n",
    "                  loss={\n",
    "                      'similarity':'binary_crossentropy', \n",
    "                  },\n",
    "                  metrics = {\n",
    "                             'similarity': 'AUC',\n",
    "                  })\n",
    "    return model"
   ]
  },
  {
   "cell_type": "code",
   "execution_count": 207,
   "id": "fundamental-affair",
   "metadata": {},
   "outputs": [],
   "source": [
    "model = create_regression_model(base_model_1, base_model_2)"
   ]
  },
  {
   "cell_type": "code",
   "execution_count": 208,
   "id": "white-shadow",
   "metadata": {
    "scrolled": false
   },
   "outputs": [
    {
     "name": "stdout",
     "output_type": "stream",
     "text": [
      "Epoch 1/150\n",
      "30/30 [==============================] - 28s 425ms/step - loss: 0.5215 - auc: 0.5882 - val_loss: 0.3860 - val_auc: 0.8462\n",
      "Epoch 2/150\n",
      "30/30 [==============================] - 8s 273ms/step - loss: 0.3577 - auc: 0.8718 - val_loss: 0.2932 - val_auc: 0.8856\n",
      "Epoch 3/150\n",
      "30/30 [==============================] - 8s 279ms/step - loss: 0.3067 - auc: 0.9137 - val_loss: 0.3472 - val_auc: 0.9035\n",
      "Epoch 4/150\n",
      "30/30 [==============================] - 9s 290ms/step - loss: 0.2693 - auc: 0.9263 - val_loss: 0.2775 - val_auc: 0.9151\n",
      "Epoch 5/150\n",
      "30/30 [==============================] - 9s 289ms/step - loss: 0.2061 - auc: 0.9477 - val_loss: 0.2287 - val_auc: 0.9781\n",
      "Epoch 6/150\n",
      "30/30 [==============================] - 9s 284ms/step - loss: 0.2005 - auc: 0.9660 - val_loss: 0.2093 - val_auc: 0.9572\n",
      "Epoch 7/150\n",
      "30/30 [==============================] - 8s 276ms/step - loss: 0.2288 - auc: 0.9311 - val_loss: 0.2122 - val_auc: 0.9540\n",
      "Epoch 8/150\n",
      "30/30 [==============================] - 8s 277ms/step - loss: 0.1864 - auc: 0.9616 - val_loss: 0.1615 - val_auc: 0.9803\n",
      "Epoch 9/150\n",
      "30/30 [==============================] - 8s 272ms/step - loss: 0.2041 - auc: 0.9526 - val_loss: 0.1960 - val_auc: 0.9535\n",
      "Epoch 10/150\n",
      "30/30 [==============================] - 8s 278ms/step - loss: 0.1913 - auc: 0.9635 - val_loss: 0.1484 - val_auc: 0.9889\n",
      "Epoch 11/150\n",
      "30/30 [==============================] - 8s 270ms/step - loss: 0.1678 - auc: 0.9712 - val_loss: 0.1296 - val_auc: 0.9879\n"
     ]
    },
    {
     "data": {
      "text/plain": [
       "<tensorflow.python.keras.callbacks.History at 0x7efe6860ac88>"
      ]
     },
     "execution_count": 208,
     "metadata": {},
     "output_type": "execute_result"
    }
   ],
   "source": [
    "model.fit(\n",
    "    train_datagen, \n",
    "    steps_per_epoch = Config.STEPS_PER_EPOCH, \n",
    "    validation_data = valid_datagen, \n",
    "    validation_steps = Config.VALIDATION_STEPS_PER_EPOCH, \n",
    "    epochs = Config.TRAINING_EPOCHS,\n",
    "    verbose = 1,\n",
    "    callbacks = [earlystop]\n",
    "    )"
   ]
  },
  {
   "cell_type": "code",
   "execution_count": null,
   "id": "electronic-performance",
   "metadata": {},
   "outputs": [],
   "source": [
    "model = keras.models.load_model(OUTPUT_PATH / 'models' / 'cnn_classification_best')"
   ]
  },
  {
   "cell_type": "code",
   "execution_count": 209,
   "id": "overall-progress",
   "metadata": {},
   "outputs": [
    {
     "name": "stdout",
     "output_type": "stream",
     "text": [
      "51/51 [==============================] - 12s 223ms/step - loss: 0.1669 - auc: 0.9717\n"
     ]
    },
    {
     "data": {
      "text/plain": [
       "[0.166945680975914, 0.9716933369636536]"
      ]
     },
     "execution_count": 209,
     "metadata": {},
     "output_type": "execute_result"
    }
   ],
   "source": [
    "model.evaluate(valid_datagen, batch_size=64, steps=valid_images.shape[0] // 64)"
   ]
  },
  {
   "cell_type": "code",
   "execution_count": 210,
   "id": "minor-adams",
   "metadata": {},
   "outputs": [
    {
     "name": "stdout",
     "output_type": "stream",
     "text": [
      "12/12 [==============================] - 0s 38ms/step - loss: 0.2168 - auc: 0.0000e+00\n"
     ]
    },
    {
     "data": {
      "text/plain": [
       "[0.21681778132915497, 0.0]"
      ]
     },
     "execution_count": 210,
     "metadata": {},
     "output_type": "execute_result"
    }
   ],
   "source": [
    "model.evaluate(test_datagen, batch_size=1, steps=test_images.shape[0])"
   ]
  },
  {
   "cell_type": "code",
   "execution_count": 195,
   "id": "martial-place",
   "metadata": {},
   "outputs": [],
   "source": [
    "path = valid_images[valid_images['energy'] == 10]['path'].iloc[0]\n",
    "img_1_0 = cv2.imread(path)[225:375, 225:375, :].reshape(1,150,150,3) / 255.0\n",
    "\n",
    "path = valid_images[valid_images['energy'] == 1]['path'].iloc[1]\n",
    "img_1_1 = cv2.imread(path)[225:375, 225:375, :].reshape(1,150,150,3) / 255.0"
   ]
  },
  {
   "cell_type": "code",
   "execution_count": 243,
   "id": "endless-advantage",
   "metadata": {},
   "outputs": [
    {
     "name": "stdout",
     "output_type": "stream",
     "text": [
      "20 [[0.00017578]]\n",
      "1 [[0.00160835]]\n",
      "20 [[0.01431564]]\n",
      "1 [[0.00048431]]\n",
      "6 [[0.6913171]]\n",
      "1 [[0.00210706]]\n",
      "10 [[0.67471343]]\n",
      "3 [[0.00031758]]\n",
      "30 [[0.01215396]]\n",
      "30 [[0.0126561]]\n",
      "3 [[0.05043602]]\n",
      "10 [[0.4322773]]\n"
     ]
    },
    {
     "data": {
      "image/png": "[encoded data removed]",
      "text/plain": [
       "<Figure size 432x288 with 1 Axes>"
      ]
     },
     "metadata": {
      "needs_background": "light"
     },
     "output_type": "display_data"
    }
   ],
   "source": [
    "for path in glob.glob(str(PRIVATE_PATH_NEW / '*.png'))[20:21]:\n",
    "    for i in range(12):\n",
    "        img_known = cv2.imread(test_images['path'].iloc[i])[225:375, 225:375, :].reshape(1,150,150,3)  / 255.0\n",
    "        img_unknown = cv2.imread(path)[225:375, 225:375, :].reshape(1,150,150,3)  / 255.0\n",
    "        print(test_images['energy'].iloc[i], model.predict([img_known, img_unknown]))\n",
    "    plt.imshow(img_unknown[0])\n",
    "    break"
   ]
  },
  {
   "cell_type": "code",
   "execution_count": null,
   "id": "changed-proof",
   "metadata": {},
   "outputs": [],
   "source": [
    "for image "
   ]
  },
  {
   "cell_type": "code",
   "execution_count": 211,
   "id": "accomplished-raising",
   "metadata": {},
   "outputs": [
    {
     "name": "stdout",
     "output_type": "stream",
     "text": [
      "20\n",
      "[[0.001827]]\n",
      "1\n",
      "[[0.00122305]]\n",
      "20\n",
      "[[0.02869981]]\n",
      "1\n",
      "[[0.00067241]]\n",
      "6\n",
      "[[0.43552744]]\n",
      "1\n",
      "[[0.00328127]]\n",
      "10\n",
      "[[0.23529464]]\n",
      "3\n",
      "[[0.00154513]]\n",
      "30\n",
      "[[0.18697701]]\n",
      "30\n",
      "[[0.14862026]]\n",
      "3\n",
      "[[0.01151415]]\n",
      "10\n",
      "[[0.5718494]]\n"
     ]
    }
   ],
   "source": [
    "for i in range(12):\n",
    "    img_2 = cv2.imread(test_images['path'].iloc[i])[225:375, 225:375, :].reshape(1,150,150,3)  / 255.0\n",
    "    print(test_images['energy'].iloc[i])\n",
    "    print(model.predict([img_1_0, img_2]))"
   ]
  },
  {
   "cell_type": "code",
   "execution_count": 225,
   "id": "incorporate-special",
   "metadata": {
    "scrolled": false
   },
   "outputs": [
    {
     "name": "stdout",
     "output_type": "stream",
     "text": [
      "20 1\n",
      "[[0.0011651]]\n",
      "20 20\n",
      "[[0.38184884]]\n",
      "20 1\n",
      "[[0.00095453]]\n",
      "20 6\n",
      "[[8.120084e-05]]\n",
      "20 1\n",
      "[[0.0031055]]\n",
      "20 10\n",
      "[[9.472683e-05]]\n",
      "20 3\n",
      "[[0.00239946]]\n",
      "20 30\n",
      "[[0.00079739]]\n",
      "20 30\n",
      "[[5.5755467e-05]]\n",
      "20 3\n",
      "[[0.00130256]]\n",
      "20 10\n",
      "[[0.00042019]]\n"
     ]
    }
   ],
   "source": [
    "idx = 0\n",
    "for i in range(12):\n",
    "    if (i != idx):\n",
    "        img_1 = cv2.imread(test_images['path'].iloc[idx])[225:375, 225:375, :].reshape(1,150,150,3) / 255.0\n",
    "        img_2 = cv2.imread(test_images['path'].iloc[i])[225:375, 225:375, :].reshape(1,150,150,3)  / 255.0\n",
    "\n",
    "        print(test_images['energy'].iloc[idx], test_images['energy'].iloc[i])\n",
    "        print(model.predict([img_1, img_2]))"
   ]
  },
  {
   "cell_type": "code",
   "execution_count": 69,
   "id": "documented-maine",
   "metadata": {},
   "outputs": [
    {
     "data": {
      "text/plain": [
       "array([[0.43658105]], dtype=float32)"
      ]
     },
     "execution_count": 69,
     "metadata": {},
     "output_type": "execute_result"
    }
   ],
   "source": [
    "model.predict([img_1, img_2])"
   ]
  },
  {
   "cell_type": "code",
   "execution_count": 190,
   "id": "appreciated-remainder",
   "metadata": {},
   "outputs": [],
   "source": [
    "#valid_datagen = DataGenerator(valid_images, batch_size = 1, is_classification = False, shuffle = False)\n",
    "y_pred = model.predict_generator(test_datagen)"
   ]
  },
  {
   "cell_type": "code",
   "execution_count": 194,
   "id": "nuclear-christmas",
   "metadata": {},
   "outputs": [
    {
     "data": {
      "text/plain": [
       "0.6388888888888888"
      ]
     },
     "execution_count": 194,
     "metadata": {},
     "output_type": "execute_result"
    }
   ],
   "source": [
    "from sklearn.metrics import roc_auc_score\n",
    "roc_auc_score(test_images['class'].values, y_pred[0].reshape(-1))"
   ]
  },
  {
   "cell_type": "code",
   "execution_count": 195,
   "id": "preceding-component",
   "metadata": {},
   "outputs": [
    {
     "data": {
      "text/plain": [
       "array([[5.7954117e-07, 1.9888972e-01, 8.0110973e-01],\n",
       "       [7.3485440e-01, 2.6513726e-01, 8.3158848e-06],\n",
       "       [3.9333791e-23, 6.7309658e-16, 1.0000000e+00],\n",
       "       [6.5505534e-02, 9.3448120e-01, 1.3233274e-05],\n",
       "       [2.1247061e-01, 7.8709042e-01, 4.3904246e-04],\n",
       "       [8.1784785e-01, 1.8214710e-01, 5.0222520e-06],\n",
       "       [6.0002959e-01, 3.9994812e-01, 2.2300765e-05],\n",
       "       [1.7441712e-12, 1.8200633e-07, 9.9999976e-01],\n",
       "       [8.4439290e-01, 1.5516184e-01, 4.4518636e-04],\n",
       "       [5.8094036e-02, 9.4188356e-01, 2.2422120e-05],\n",
       "       [3.7690727e-13, 3.0495130e-05, 9.9996948e-01],\n",
       "       [4.7013474e-01, 4.7852191e-01, 5.1343340e-02]], dtype=float32)"
      ]
     },
     "execution_count": 195,
     "metadata": {},
     "output_type": "execute_result"
    }
   ],
   "source": [
    "y_pred[1]"
   ]
  },
  {
   "cell_type": "code",
   "execution_count": 173,
   "id": "induced-creation",
   "metadata": {},
   "outputs": [
    {
     "data": {
      "text/plain": [
       "array([[2.4027457e-03, 9.7355902e-01, 7.5503761e-01],\n",
       "       [9.9316108e-01, 9.1888613e-01, 1.9390632e-03],\n",
       "       [5.1112971e-07, 1.4816903e-01, 9.9999678e-01],\n",
       "       [9.6381307e-01, 9.6892124e-01, 1.9251545e-03],\n",
       "       [9.6767712e-01, 8.5400051e-01, 8.5106995e-03],\n",
       "       [9.9878114e-01, 9.1105253e-01, 5.7318324e-04],\n",
       "       [9.9665135e-01, 9.1981822e-01, 1.0628236e-03],\n",
       "       [1.5396510e-07, 6.2851411e-01, 9.9998522e-01],\n",
       "       [9.7442836e-01, 8.7898016e-01, 9.2895711e-03],\n",
       "       [9.5169121e-01, 9.6847647e-01, 2.6327744e-03],\n",
       "       [5.4199674e-08, 9.6421957e-01, 9.9990618e-01],\n",
       "       [8.2514286e-01, 3.5728958e-01, 3.2684523e-01]], dtype=float32)"
      ]
     },
     "execution_count": 173,
     "metadata": {},
     "output_type": "execute_result"
    }
   ],
   "source": [
    "y_pred"
   ]
  },
  {
   "cell_type": "code",
   "execution_count": 163,
   "id": "fantastic-vision",
   "metadata": {},
   "outputs": [
    {
     "data": {
      "text/plain": [
       "array([1, 0, 2, 0, 0, 0, 0, 2, 0, 0, 1, 0])"
      ]
     },
     "execution_count": 163,
     "metadata": {},
     "output_type": "execute_result"
    }
   ],
   "source": [
    "np.argmax(y_pred, axis = 1)"
   ]
  },
  {
   "cell_type": "code",
   "execution_count": 64,
   "id": "agreed-plastic",
   "metadata": {},
   "outputs": [
    {
     "data": {
      "text/html": [
       "<div>\n",
       "<style scoped>\n",
       "    .dataframe tbody tr th:only-of-type {\n",
       "        vertical-align: middle;\n",
       "    }\n",
       "\n",
       "    .dataframe tbody tr th {\n",
       "        vertical-align: top;\n",
       "    }\n",
       "\n",
       "    .dataframe thead th {\n",
       "        text-align: right;\n",
       "    }\n",
       "</style>\n",
       "<table border=\"1\" class=\"dataframe\">\n",
       "  <thead>\n",
       "    <tr style=\"text-align: right;\">\n",
       "      <th></th>\n",
       "      <th>path</th>\n",
       "      <th>class</th>\n",
       "      <th>energy</th>\n",
       "    </tr>\n",
       "  </thead>\n",
       "  <tbody>\n",
       "    <tr>\n",
       "      <th>728</th>\n",
       "      <td>../input/idao_dataset/train/ER/0.5620372891426...</td>\n",
       "      <td>0</td>\n",
       "      <td>20</td>\n",
       "    </tr>\n",
       "    <tr>\n",
       "      <th>2518</th>\n",
       "      <td>../input/idao_dataset/train/ER/2.2105474472045...</td>\n",
       "      <td>0</td>\n",
       "      <td>1</td>\n",
       "    </tr>\n",
       "    <tr>\n",
       "      <th>3760</th>\n",
       "      <td>../input/idao_dataset/train/ER/-0.482575029134...</td>\n",
       "      <td>0</td>\n",
       "      <td>20</td>\n",
       "    </tr>\n",
       "    <tr>\n",
       "      <th>4922</th>\n",
       "      <td>../input/idao_dataset/train/ER/0.5805498957633...</td>\n",
       "      <td>0</td>\n",
       "      <td>1</td>\n",
       "    </tr>\n",
       "    <tr>\n",
       "      <th>5424</th>\n",
       "      <td>../input/idao_dataset/train/ER/1.1956702470779...</td>\n",
       "      <td>0</td>\n",
       "      <td>6</td>\n",
       "    </tr>\n",
       "    <tr>\n",
       "      <th>6487</th>\n",
       "      <td>../input/idao_dataset/train/ER/0.4857539832592...</td>\n",
       "      <td>0</td>\n",
       "      <td>1</td>\n",
       "    </tr>\n",
       "    <tr>\n",
       "      <th>9472</th>\n",
       "      <td>../input/idao_dataset/train/NR/-1.353199958801...</td>\n",
       "      <td>1</td>\n",
       "      <td>3</td>\n",
       "    </tr>\n",
       "    <tr>\n",
       "      <th>9593</th>\n",
       "      <td>../input/idao_dataset/train/NR/-2.992399930953...</td>\n",
       "      <td>1</td>\n",
       "      <td>30</td>\n",
       "    </tr>\n",
       "    <tr>\n",
       "      <th>10201</th>\n",
       "      <td>../input/idao_dataset/train/NR/2.4159998893737...</td>\n",
       "      <td>1</td>\n",
       "      <td>10</td>\n",
       "    </tr>\n",
       "    <tr>\n",
       "      <th>11008</th>\n",
       "      <td>../input/idao_dataset/train/NR/1.4197000265121...</td>\n",
       "      <td>1</td>\n",
       "      <td>3</td>\n",
       "    </tr>\n",
       "    <tr>\n",
       "      <th>12227</th>\n",
       "      <td>../input/idao_dataset/train/NR/0.9950000047683...</td>\n",
       "      <td>1</td>\n",
       "      <td>30</td>\n",
       "    </tr>\n",
       "    <tr>\n",
       "      <th>12799</th>\n",
       "      <td>../input/idao_dataset/train/NR/-0.944400012493...</td>\n",
       "      <td>1</td>\n",
       "      <td>10</td>\n",
       "    </tr>\n",
       "  </tbody>\n",
       "</table>\n",
       "</div>"
      ],
      "text/plain": [
       "                                                    path  class  energy\n",
       "728    ../input/idao_dataset/train/ER/0.5620372891426...      0      20\n",
       "2518   ../input/idao_dataset/train/ER/2.2105474472045...      0       1\n",
       "3760   ../input/idao_dataset/train/ER/-0.482575029134...      0      20\n",
       "4922   ../input/idao_dataset/train/ER/0.5805498957633...      0       1\n",
       "5424   ../input/idao_dataset/train/ER/1.1956702470779...      0       6\n",
       "6487   ../input/idao_dataset/train/ER/0.4857539832592...      0       1\n",
       "9472   ../input/idao_dataset/train/NR/-1.353199958801...      1       3\n",
       "9593   ../input/idao_dataset/train/NR/-2.992399930953...      1      30\n",
       "10201  ../input/idao_dataset/train/NR/2.4159998893737...      1      10\n",
       "11008  ../input/idao_dataset/train/NR/1.4197000265121...      1       3\n",
       "12227  ../input/idao_dataset/train/NR/0.9950000047683...      1      30\n",
       "12799  ../input/idao_dataset/train/NR/-0.944400012493...      1      10"
      ]
     },
     "execution_count": 64,
     "metadata": {},
     "output_type": "execute_result"
    }
   ],
   "source": [
    "test_images"
   ]
  },
  {
   "cell_type": "code",
   "execution_count": 59,
   "id": "variable-allah",
   "metadata": {},
   "outputs": [],
   "source": [
    "y_pred_changed = y_pred.copy()\n",
    "y_pred_changed[test_images['class'] == 0, 0] = np.array([1,6,20])[np.argmin(np.abs(y_pred_changed[test_images['class'] == 0] - [1,6,20]), axis = 1)]\n",
    "y_pred_changed[test_images['class'] == 1, 0] = np.array([3,10,30])[np.argmin(np.abs(y_pred_changed[test_images['class'] == 1] - [3,10,30]), axis = 1)]\n",
    "y_pred_changed = y_pred_changed.reshape(-1)"
   ]
  },
  {
   "cell_type": "code",
   "execution_count": 61,
   "id": "interested-cookie",
   "metadata": {},
   "outputs": [
    {
     "data": {
      "text/plain": [
       "3.9166666666666665"
      ]
     },
     "execution_count": 61,
     "metadata": {},
     "output_type": "execute_result"
    }
   ],
   "source": [
    "mean_absolute_error(test_images['energy'], y_pred_changed)"
   ]
  },
  {
   "cell_type": "code",
   "execution_count": 51,
   "id": "educational-penguin",
   "metadata": {},
   "outputs": [],
   "source": [
    "model.save(OUTPUT_PATH / 'models' / 'cnn_classification')"
   ]
  }
 ],
 "metadata": {
  "kernelspec": {
   "display_name": "Python 3",
   "language": "python",
   "name": "python3"
  },
  "language_info": {
   "codemirror_mode": {
    "name": "ipython",
    "version": 3
   },
   "file_extension": ".py",
   "mimetype": "text/x-python",
   "name": "python",
   "nbconvert_exporter": "python",
   "pygments_lexer": "ipython3",
   "version": "3.6.9"
  }
 },
 "nbformat": 4,
 "nbformat_minor": 5
}
