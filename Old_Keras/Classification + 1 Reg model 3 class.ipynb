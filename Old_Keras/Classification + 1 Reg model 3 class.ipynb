{
 "cells": [
  {
   "cell_type": "code",
   "execution_count": 1,
   "id": "starting-willow",
   "metadata": {},
   "outputs": [],
   "source": [
    "#####################\n",
    "# IMPORT LIBS\n",
    "#####################\n",
    "\n",
    "from PIL import Image\n",
    "from sklearn.model_selection import train_test_split\n",
    "from skimage import io, transform\n",
    "from skimage.transform import AffineTransform, warp\n",
    "from sklearn.metrics import roc_auc_score, mean_absolute_error\n",
    "import tensorflow as tf\n",
    "\n",
    "from tensorflow.keras.models import load_model\n",
    "from tensorflow.compat.v1.keras import backend as K\n",
    "\n",
    "import pandas as pd\n",
    "from pathlib import Path\n",
    "import os\n",
    "import cv2\n",
    "import matplotlib.pyplot as plt\n",
    "import numpy as np\n",
    "import random\n",
    "import glob\n",
    "import albumentations as A\n",
    "# from efficientnet_pytorch import EfficientNet\n",
    "\n",
    "\n",
    "#####################\n",
    "# SET CONSTANTS\n",
    "#####################\n",
    "\n",
    "INPUT_PATH = Path('../input')\n",
    "OUTPUT_PATH = Path('../output')\n",
    "TRAIN_PATH = INPUT_PATH / 'idao_dataset' / 'train'\n",
    "PRIVATE_PATH = INPUT_PATH / 'idao_dataset' / 'private_test'\n",
    "PUBLIC_PATH = INPUT_PATH / 'idao_dataset' / 'public_test'\n",
    "\n",
    "RANDOM_SEED = 4444\n",
    "\n",
    "def seed_everything(seed=1234):\n",
    "    random.seed(seed)\n",
    "    os.environ['PYTHONHASHSEED'] = str(seed)\n",
    "    np.random.seed(seed)\n",
    "seed_everything(RANDOM_SEED)"
   ]
  },
  {
   "cell_type": "code",
   "execution_count": 2,
   "id": "applied-consistency",
   "metadata": {},
   "outputs": [],
   "source": [
    "class Config:\n",
    "    BATCH_SIZE = 32\n",
    "    TRAINING_EPOCHS = 60\n",
    "    VALIDATION_STEPS_PER_EPOCH = 5\n",
    "    VALIDATION_EPOCHS = 10\n",
    "    STEPS_PER_EPOCH = 30\n",
    "    EARLY_STOP_PATIENCE = 5\n",
    "    \n",
    "    \n",
    "    # Declare an augmentation pipeline\n",
    "    train_transform = A.Compose([\n",
    "        #A.HorizontalFlip(p=0.5),\n",
    "        A.Cutout(num_holes=4, max_h_size=8, max_w_size=8, p=0.3),\n",
    "        A.OneOf([A.RandomContrast(),\n",
    "             A.RandomGamma(),\n",
    "             A.RandomBrightness()],p=0.2),\n",
    "        A.OneOf([A.Blur(p = 0.3),\n",
    "             A.GaussNoise(p=0.3)\n",
    "                ],p=0.5),\n",
    "        A.CLAHE(clip_limit=4, tile_grid_size=(8,8), always_apply=False, p=0.3),\n",
    "        A.Normalize(p=1)\n",
    "    ],)\n",
    "    \n",
    "    validation_transform = A.Compose([\n",
    "        A.Normalize(p=1)\n",
    "    ],)"
   ]
  },
  {
   "cell_type": "code",
   "execution_count": 3,
   "id": "heard-ordering",
   "metadata": {},
   "outputs": [],
   "source": [
    "def getFeatures(img_path):\n",
    "    if len(img_path.split('_')) == 18:\n",
    "        particle_class = 0 # ER\n",
    "        particle_energy = int(img_path.split('_')[7])\n",
    "    else:\n",
    "        particle_class = 1 # HE\n",
    "        particle_energy = int(img_path.split('_')[8])\n",
    "    return [img_path, particle_class, particle_energy]\n",
    "\n",
    "images = glob.glob(str(TRAIN_PATH / '**/*.png'), recursive=True)\n",
    "images = pd.DataFrame(map(getFeatures, images))\n",
    "images.columns = ['path', 'class', 'energy']"
   ]
  },
  {
   "cell_type": "code",
   "execution_count": 4,
   "id": "japanese-wilderness",
   "metadata": {},
   "outputs": [],
   "source": [
    "#################\n",
    "# EXTRACT TEST\n",
    "#################\n",
    "\n",
    "# HE - 0, ER - 1\n",
    "\n",
    "he_test_idx = list(images[(images['class'] == 0) & (images['energy'].apply(lambda x: x in [1, 6, 20]))].index)\n",
    "er_test_idx = list(images[(images['class'] == 1) & (images['energy'].apply(lambda x: x in [3, 10, 30]))].index)"
   ]
  },
  {
   "cell_type": "code",
   "execution_count": 5,
   "id": "changed-floor",
   "metadata": {},
   "outputs": [],
   "source": [
    "test_idx = he_test_idx + er_test_idx\n",
    "test_images = images.iloc[test_idx]\n",
    "images = images.drop(index = test_idx)\n",
    "\n",
    "train_images, valid_images = train_test_split(images, shuffle = True, random_state = RANDOM_SEED)\n",
    "train_images = train_images.reset_index(drop = True)\n",
    "valid_images = valid_images.reset_index(drop = True)"
   ]
  },
  {
   "cell_type": "code",
   "execution_count": 6,
   "id": "recognized-runner",
   "metadata": {},
   "outputs": [],
   "source": [
    "def calc_metric(y_binary_true, y_binary_pred, y_reg_true, y_reg_pred):\n",
    "    '''\n",
    "    Competition metric\n",
    "    '''\n",
    "    \n",
    "    roc = roc_auc_score(y_binary_true, y_binary_pred)\n",
    "    mae = mean_absolute_error(y_reg_true, y_reg_pred)\n",
    "    return 1000 * (roc - mae), roc, mae"
   ]
  },
  {
   "cell_type": "code",
   "execution_count": 7,
   "id": "conditional-greeting",
   "metadata": {},
   "outputs": [],
   "source": [
    "class DataGenerator(tf.keras.utils.Sequence):\n",
    "    def __init__(self, images, transform=None, batch_size=32,  shuffle=True, is_classification = True, LABEL_MAPPER_HE = {1:1,3:3,6:6,10:10,20:20,30:30}, LABEL_MAPPER_ER = {1:1,3:3,6:6,10:10,20:20,30:30}):\n",
    "        self.images = images\n",
    "        self.indices = np.arange(len(images))\n",
    "        self.transform = transform\n",
    "        self.batch_size = batch_size\n",
    "        self.shuffle = shuffle\n",
    "        self.is_classification = is_classification\n",
    "        self.LABEL_MAPPER_ER = LABEL_MAPPER_ER\n",
    "        self.LABEL_MAPPER_HE = LABEL_MAPPER_HE\n",
    "        \n",
    "        self.on_epoch_end()\n",
    "\n",
    "    def __len__(self):\n",
    "        return len(self.images) // self.batch_size\n",
    "\n",
    "    def __getitem__(self, index):\n",
    "        index = self.index[index * self.batch_size:(index + 1) * self.batch_size]\n",
    "        batch = [self.indices[k] for k in index]\n",
    "    \n",
    "        X, y = self.__get_data(batch)\n",
    "        return X, y\n",
    "\n",
    "    def on_epoch_end(self):\n",
    "        self.index = np.arange(len(self.indices))\n",
    "        if self.shuffle == True:\n",
    "            np.random.shuffle(self.index)\n",
    "\n",
    "    def __get_data(self, batch):\n",
    "        X = np.zeros((self.batch_size, 150, 150, 3))\n",
    "        y_class = np.zeros((self.batch_size,))\n",
    "        y_energy = np.zeros((self.batch_size,3))\n",
    "        for i, idx in enumerate(batch):\n",
    "            image=cv2.imread(self.images.iloc[idx, 0])[225:375, 225:375, :]\n",
    "            X[i,] = image\n",
    "            particle_class = self.images.iloc[idx, 1]\n",
    "            particle_energy = self.images.iloc[idx, 2]\n",
    "            y_class[i] = particle_class\n",
    "            if particle_class == 0:\n",
    "                y_energy[i] = self.LABEL_MAPPER_ER[particle_energy]\n",
    "            else:\n",
    "                y_energy[i] = self.LABEL_MAPPER_HE[particle_energy]\n",
    "        if self.is_classification:\n",
    "            return X / 255.0, y_class\n",
    "\n",
    "        return X / 255.0, y_energy\n"
   ]
  },
  {
   "cell_type": "code",
   "execution_count": 8,
   "id": "infinite-significance",
   "metadata": {},
   "outputs": [],
   "source": [
    "train_datagen = DataGenerator(train_images, batch_size = Config.BATCH_SIZE, is_classification = True)\n",
    "valid_datagen = DataGenerator(valid_images, batch_size = Config.BATCH_SIZE, is_classification = True)\n",
    "test_datagen = DataGenerator(test_images, batch_size = 1, is_classification = True)"
   ]
  },
  {
   "cell_type": "code",
   "execution_count": 9,
   "id": "exceptional-punch",
   "metadata": {},
   "outputs": [],
   "source": [
    "# Example data extract\n",
    "\n",
    "X, y_class = train_datagen.__getitem__(0)"
   ]
  },
  {
   "cell_type": "markdown",
   "id": "administrative-midnight",
   "metadata": {},
   "source": [
    "## Class model"
   ]
  },
  {
   "cell_type": "code",
   "execution_count": 154,
   "id": "infectious-spray",
   "metadata": {},
   "outputs": [],
   "source": [
    "from keras.applications.vgg16 import VGG16\n",
    "from keras.applications.mobilenet_v2 import MobileNetV2\n",
    "from keras.preprocessing import image\n",
    "from keras.applications.vgg16 import preprocess_input\n",
    "import numpy as np\n",
    "\n",
    "mobilenet_model = MobileNetV2(weights='imagenet', include_top=False)"
   ]
  },
  {
   "cell_type": "code",
   "execution_count": 158,
   "id": "understanding-estimate",
   "metadata": {},
   "outputs": [],
   "source": [
    "from keras import layers as L\n",
    "from keras.models import Model\n",
    "import tensorflow as tf\n",
    "import keras\n",
    "\n",
    "earlystop = keras.callbacks.EarlyStopping(monitor='val_loss', patience=3)\n",
    "    \n",
    "def create_classification_model(base_model):\n",
    "    x = base_model.output\n",
    "    x = L.GlobalAveragePooling2D()(x)\n",
    "    # let's add a fully-connected layer\n",
    "    x = L.Dense(128, activation='relu')(x)\n",
    "    # and a logistic layer -- let's say we have 200 classes\n",
    "    predictions = L.Dense(1, activation='sigmoid')(x)\n",
    "\n",
    "    # this is the model we will train\n",
    "    model = Model(inputs=base_model.input, outputs=predictions)\n",
    "\n",
    "    for layer in base_model.layers:\n",
    "        layer.trainable = True\n",
    "\n",
    "    # compile the model (should be done *after* setting layers to non-trainable)\n",
    "    model.compile(optimizer='rmsprop', loss='binary_crossentropy', metrics = ['AUC'])\n",
    "    return model"
   ]
  },
  {
   "cell_type": "code",
   "execution_count": 159,
   "id": "better-stanley",
   "metadata": {},
   "outputs": [],
   "source": [
    "model = create_classification_model(mobilenet_model)"
   ]
  },
  {
   "cell_type": "code",
   "execution_count": 160,
   "id": "wrapped-safety",
   "metadata": {},
   "outputs": [
    {
     "name": "stdout",
     "output_type": "stream",
     "text": [
      "Epoch 1/60\n",
      "30/30 [==============================] - 16s 441ms/step - loss: 1.0363 - auc: 0.5536 - val_loss: 0.6059 - val_auc: 0.7453\n",
      "Epoch 2/60\n",
      "30/30 [==============================] - 12s 391ms/step - loss: 0.5890 - auc: 0.7510 - val_loss: 0.4952 - val_auc: 0.8801\n",
      "Epoch 3/60\n",
      "30/30 [==============================] - 11s 378ms/step - loss: 0.5159 - auc: 0.8182 - val_loss: 0.4382 - val_auc: 0.9054\n",
      "Epoch 4/60\n",
      "30/30 [==============================] - 10s 325ms/step - loss: 0.4852 - auc: 0.8442 - val_loss: 0.4036 - val_auc: 0.9146\n",
      "Epoch 5/60\n",
      "30/30 [==============================] - 10s 340ms/step - loss: 0.4454 - auc: 0.8715 - val_loss: 0.4065 - val_auc: 0.9413\n",
      "Epoch 6/60\n",
      "30/30 [==============================] - 10s 351ms/step - loss: 0.4471 - auc: 0.8658 - val_loss: 0.3671 - val_auc: 0.9587\n",
      "Epoch 7/60\n",
      "30/30 [==============================] - 10s 330ms/step - loss: 0.4134 - auc: 0.8913 - val_loss: 0.4423 - val_auc: 0.9435\n",
      "Epoch 8/60\n",
      "30/30 [==============================] - 9s 315ms/step - loss: 0.3426 - auc: 0.9343 - val_loss: 0.5039 - val_auc: 0.9682\n",
      "Epoch 9/60\n",
      "30/30 [==============================] - 10s 325ms/step - loss: 0.4146 - auc: 0.8956 - val_loss: 0.3239 - val_auc: 0.9539\n",
      "Epoch 10/60\n",
      "30/30 [==============================] - 9s 315ms/step - loss: 0.3127 - auc: 0.9430 - val_loss: 0.2673 - val_auc: 0.9689\n",
      "Epoch 11/60\n",
      "30/30 [==============================] - 10s 324ms/step - loss: 0.3466 - auc: 0.9253 - val_loss: 0.2885 - val_auc: 0.9606\n",
      "Epoch 12/60\n",
      "30/30 [==============================] - 9s 312ms/step - loss: 0.3324 - auc: 0.9318 - val_loss: 0.2648 - val_auc: 0.9593\n",
      "Epoch 13/60\n",
      "30/30 [==============================] - 9s 301ms/step - loss: 0.3132 - auc: 0.9366 - val_loss: 0.2849 - val_auc: 0.9596\n",
      "Epoch 14/60\n",
      "30/30 [==============================] - 9s 303ms/step - loss: 0.2743 - auc: 0.9522 - val_loss: 0.5150 - val_auc: 0.9603\n",
      "Epoch 15/60\n",
      "30/30 [==============================] - 9s 290ms/step - loss: 0.3618 - auc: 0.9208 - val_loss: 0.3342 - val_auc: 0.9628\n"
     ]
    },
    {
     "data": {
      "text/plain": [
       "<tensorflow.python.keras.callbacks.History at 0x7f1b7032e910>"
      ]
     },
     "execution_count": 160,
     "metadata": {},
     "output_type": "execute_result"
    }
   ],
   "source": [
    "model.fit(\n",
    "    train_datagen, \n",
    "    steps_per_epoch = Config.STEPS_PER_EPOCH, \n",
    "    validation_data = valid_datagen, \n",
    "    validation_steps = Config.VALIDATION_STEPS_PER_EPOCH, \n",
    "    epochs = Config.TRAINING_EPOCHS,\n",
    "    verbose = 1,\n",
    "    callbacks = [earlystop]\n",
    "    )"
   ]
  },
  {
   "cell_type": "code",
   "execution_count": 163,
   "id": "liberal-twenty",
   "metadata": {},
   "outputs": [
    {
     "name": "stdout",
     "output_type": "stream",
     "text": [
      "52/52 [==============================] - 19s 375ms/step - loss: 0.3105 - auc: 0.9682\n"
     ]
    },
    {
     "data": {
      "text/plain": [
       "[0.3105323016643524, 0.968234658241272]"
      ]
     },
     "execution_count": 163,
     "metadata": {},
     "output_type": "execute_result"
    }
   ],
   "source": [
    "model.evaluate(valid_datagen, batch_size=64, steps=valid_images.shape[0] // 64)"
   ]
  },
  {
   "cell_type": "code",
   "execution_count": 164,
   "id": "laughing-dover",
   "metadata": {},
   "outputs": [
    {
     "name": "stdout",
     "output_type": "stream",
     "text": [
      "12/12 [==============================] - 0s 11ms/step - loss: 0.9348 - auc: 0.7222\n"
     ]
    },
    {
     "data": {
      "text/plain": [
       "[0.9347938895225525, 0.7222222089767456]"
      ]
     },
     "execution_count": 164,
     "metadata": {},
     "output_type": "execute_result"
    }
   ],
   "source": [
    "model.evaluate(test_datagen, batch_size=1, steps=test_images.shape[0])"
   ]
  },
  {
   "cell_type": "code",
   "execution_count": 165,
   "id": "little-fossil",
   "metadata": {},
   "outputs": [],
   "source": [
    "model.save(OUTPUT_PATH / 'models' / 'cnn_classification')"
   ]
  },
  {
   "cell_type": "markdown",
   "id": "together-drill",
   "metadata": {},
   "source": [
    "## Regression model"
   ]
  },
  {
   "cell_type": "code",
   "execution_count": 37,
   "id": "objective-timeline",
   "metadata": {},
   "outputs": [],
   "source": [
    "from keras.applications.vgg16 import VGG16\n",
    "from keras.applications.mobilenet_v2 import MobileNetV2\n",
    "from keras.applications.densenet import DenseNet121\n",
    "from keras.preprocessing import image\n",
    "from keras.applications.vgg16 import preprocess_input\n",
    "import numpy as np\n",
    "\n",
    "mobilenet_model = MobileNetV2(weights='imagenet', include_top=False)"
   ]
  },
  {
   "cell_type": "code",
   "execution_count": 38,
   "id": "chubby-usage",
   "metadata": {},
   "outputs": [],
   "source": [
    "ENERGY2CLASS_HE = {\n",
    "    1: [1, 0, 0],\n",
    "    6: [0, 1, 0],\n",
    "    20: [0, 0, 1],\n",
    "    \n",
    "}\n",
    "\n",
    "ENERGY2CLASS_ER = {\n",
    "    3: [1, 0, 0],\n",
    "    10: [0, 1, 0],\n",
    "    30: [0, 0, 1],\n",
    "    \n",
    "}\n",
    "\n",
    "ENERGY2CLASS_HE_TEST = {\n",
    "    3: [1, 0, 0],\n",
    "    10: [0, 1, 0],\n",
    "    30: [0, 0, 1],\n",
    "    \n",
    "}\n",
    "\n",
    "ENERGY2CLASS_ER_TEST = {\n",
    "    1: [1, 0, 0],\n",
    "    6: [0, 1, 0],\n",
    "    20: [0, 0, 1],\n",
    "}"
   ]
  },
  {
   "cell_type": "code",
   "execution_count": 39,
   "id": "parental-mortality",
   "metadata": {},
   "outputs": [],
   "source": [
    "CLASS2ENERGY_HE = {\n",
    "    0:1,\n",
    "    1:6,\n",
    "    2:20\n",
    "}\n",
    "\n",
    "CLASS2ENERGY_ER = {\n",
    "    0:3,\n",
    "    1:10,\n",
    "    2:30,\n",
    "    \n",
    "}\n",
    "\n",
    "CLASS2ENERGY_HE_TEST = {\n",
    "    0:3,\n",
    "    1:10,\n",
    "    2:30,\n",
    "    \n",
    "}\n",
    "\n",
    "CLASS2ENERGY_ER_TEST = {\n",
    "    0:1,\n",
    "    1:6,\n",
    "    2:20,\n",
    "}"
   ]
  },
  {
   "cell_type": "code",
   "execution_count": 40,
   "id": "median-india",
   "metadata": {},
   "outputs": [],
   "source": [
    "from keras import layers as L\n",
    "from keras.models import Model\n",
    "import tensorflow as tf\n",
    "import keras\n",
    "\n",
    "earlystop = keras.callbacks.EarlyStopping(monitor='val_loss', patience=10)\n",
    "    \n",
    "def create_classification_model(base_model):\n",
    "    x = base_model.output\n",
    "    x = L.GlobalAveragePooling2D()(x)\n",
    "    # let's add a fully-connected layer\n",
    "    x = L.Dense(512, activation='relu')(x)\n",
    "    x = L.Dense(64, activation='relu')(x)\n",
    "    # and a logistic layer -- let's say we have 200 classes\n",
    "    predictions = L.Dense(3, activation='sigmoid')(x)\n",
    "\n",
    "    # this is the model we will train\n",
    "    model = Model(inputs=base_model.input, outputs=predictions)\n",
    "\n",
    "    for layer in base_model.layers:\n",
    "        layer.trainable = False\n",
    "\n",
    "    # compile the model (should be done *after* setting layers to non-trainable)\n",
    "    model.compile(optimizer='rmsprop', loss='categorical_crossentropy', metrics = ['categorical_accuracy'])\n",
    "    return model"
   ]
  },
  {
   "cell_type": "code",
   "execution_count": 41,
   "id": "severe-wales",
   "metadata": {},
   "outputs": [],
   "source": [
    "model = create_classification_model(mobilenet_model)"
   ]
  },
  {
   "cell_type": "code",
   "execution_count": 42,
   "id": "pointed-producer",
   "metadata": {},
   "outputs": [],
   "source": [
    "train_datagen = DataGenerator(train_images, batch_size = Config.BATCH_SIZE, is_classification = False, LABEL_MAPPER_ER=ENERGY2CLASS_ER, LABEL_MAPPER_HE=ENERGY2CLASS_HE)\n",
    "valid_datagen = DataGenerator(valid_images, batch_size = Config.BATCH_SIZE, is_classification = False, LABEL_MAPPER_ER=ENERGY2CLASS_ER, LABEL_MAPPER_HE=ENERGY2CLASS_HE)\n",
    "test_datagen = DataGenerator(test_images, batch_size = 1, is_classification = False, LABEL_MAPPER_ER=ENERGY2CLASS_ER_TEST, LABEL_MAPPER_HE=ENERGY2CLASS_HE_TEST)"
   ]
  },
  {
   "cell_type": "code",
   "execution_count": 50,
   "id": "documented-substance",
   "metadata": {},
   "outputs": [
    {
     "name": "stdout",
     "output_type": "stream",
     "text": [
      "Epoch 1/60\n",
      "30/30 [==============================] - 6s 196ms/step - loss: 0.2599 - categorical_accuracy: 0.8750 - val_loss: 0.6457 - val_categorical_accuracy: 0.8000\n",
      "Epoch 2/60\n",
      "30/30 [==============================] - 6s 194ms/step - loss: 0.2290 - categorical_accuracy: 0.8990 - val_loss: 0.2556 - val_categorical_accuracy: 1.0000\n",
      "Epoch 3/60\n",
      "30/30 [==============================] - 6s 193ms/step - loss: 0.2588 - categorical_accuracy: 0.8750 - val_loss: 0.5432 - val_categorical_accuracy: 0.8000\n",
      "Epoch 4/60\n",
      "30/30 [==============================] - 6s 192ms/step - loss: 0.2926 - categorical_accuracy: 0.8625 - val_loss: 0.2197 - val_categorical_accuracy: 0.8000\n",
      "Epoch 5/60\n",
      "30/30 [==============================] - 6s 194ms/step - loss: 0.2875 - categorical_accuracy: 0.8698 - val_loss: 0.3098 - val_categorical_accuracy: 0.8000\n",
      "Epoch 6/60\n",
      "30/30 [==============================] - 6s 192ms/step - loss: 0.2230 - categorical_accuracy: 0.9000 - val_loss: 0.1140 - val_categorical_accuracy: 1.0000\n",
      "Epoch 7/60\n",
      "30/30 [==============================] - 6s 193ms/step - loss: 0.2447 - categorical_accuracy: 0.8885 - val_loss: 0.1686 - val_categorical_accuracy: 1.0000\n",
      "Epoch 8/60\n",
      "30/30 [==============================] - 6s 192ms/step - loss: 0.2928 - categorical_accuracy: 0.8615 - val_loss: 0.1926 - val_categorical_accuracy: 1.0000\n",
      "Epoch 9/60\n",
      "30/30 [==============================] - 6s 191ms/step - loss: 0.2365 - categorical_accuracy: 0.8844 - val_loss: 0.1344 - val_categorical_accuracy: 1.0000\n",
      "Epoch 10/60\n",
      "30/30 [==============================] - 6s 192ms/step - loss: 0.2419 - categorical_accuracy: 0.8906 - val_loss: 0.2392 - val_categorical_accuracy: 0.8000\n",
      "Epoch 11/60\n",
      "30/30 [==============================] - 6s 191ms/step - loss: 0.2670 - categorical_accuracy: 0.8677 - val_loss: 0.2254 - val_categorical_accuracy: 0.8000\n",
      "Epoch 12/60\n",
      "30/30 [==============================] - 6s 193ms/step - loss: 0.2579 - categorical_accuracy: 0.8802 - val_loss: 0.1195 - val_categorical_accuracy: 1.0000\n",
      "Epoch 13/60\n",
      "30/30 [==============================] - 6s 193ms/step - loss: 0.2697 - categorical_accuracy: 0.8729 - val_loss: 0.1696 - val_categorical_accuracy: 1.0000\n",
      "Epoch 14/60\n",
      "30/30 [==============================] - 6s 190ms/step - loss: 0.2176 - categorical_accuracy: 0.9000 - val_loss: 0.1812 - val_categorical_accuracy: 1.0000\n",
      "Epoch 15/60\n",
      "30/30 [==============================] - 6s 190ms/step - loss: 0.2302 - categorical_accuracy: 0.8927 - val_loss: 0.1548 - val_categorical_accuracy: 1.0000\n",
      "Epoch 16/60\n",
      "30/30 [==============================] - 6s 189ms/step - loss: 0.2301 - categorical_accuracy: 0.8896 - val_loss: 0.1872 - val_categorical_accuracy: 1.0000\n"
     ]
    },
    {
     "data": {
      "text/plain": [
       "<tensorflow.python.keras.callbacks.History at 0x7f6a7409b850>"
      ]
     },
     "execution_count": 50,
     "metadata": {},
     "output_type": "execute_result"
    }
   ],
   "source": [
    "model.fit(\n",
    "    train_datagen, \n",
    "    steps_per_epoch = Config.STEPS_PER_EPOCH, \n",
    "    validation_data = valid_datagen, \n",
    "    validation_steps = Config.VALIDATION_STEPS_PER_EPOCH, \n",
    "    epochs = Config.TRAINING_EPOCHS,\n",
    "    verbose = 1,\n",
    "    callbacks = [earlystop]\n",
    "    )"
   ]
  },
  {
   "cell_type": "code",
   "execution_count": 51,
   "id": "retained-reader",
   "metadata": {},
   "outputs": [
    {
     "name": "stdout",
     "output_type": "stream",
     "text": [
      "52/52 [==============================] - 0s 8ms/step - loss: 0.1139 - categorical_accuracy: 0.9808\n"
     ]
    },
    {
     "data": {
      "text/plain": [
       "[0.11392088234424591, 0.9807692170143127]"
      ]
     },
     "execution_count": 51,
     "metadata": {},
     "output_type": "execute_result"
    }
   ],
   "source": [
    "model.evaluate(valid_datagen, batch_size=64, steps=valid_images.shape[0] // 64)"
   ]
  },
  {
   "cell_type": "code",
   "execution_count": 52,
   "id": "expanded-proceeding",
   "metadata": {},
   "outputs": [
    {
     "name": "stdout",
     "output_type": "stream",
     "text": [
      "  15/3348 [..............................] - ETA: 24s"
     ]
    },
    {
     "name": "stderr",
     "output_type": "stream",
     "text": [
      "/opt/conda/lib/python3.7/site-packages/tensorflow/python/keras/engine/training.py:1905: UserWarning: `Model.predict_generator` is deprecated and will be removed in a future version. Please use `Model.predict`, which supports generators.\n",
      "  warnings.warn('`Model.predict_generator` is deprecated and '\n"
     ]
    },
    {
     "name": "stdout",
     "output_type": "stream",
     "text": [
      "3348/3348 [==============================] - 25s 7ms/step\n"
     ]
    }
   ],
   "source": [
    "valid_datagen = DataGenerator(valid_images, batch_size = 1, is_classification = False, shuffle = False, LABEL_MAPPER_ER=ENERGY2CLASS_ER, LABEL_MAPPER_HE=ENERGY2CLASS_HE)\n",
    "validation_preds = model.predict_generator(valid_datagen, verbose = 1)"
   ]
  },
  {
   "cell_type": "code",
   "execution_count": 53,
   "id": "latin-warner",
   "metadata": {},
   "outputs": [
    {
     "data": {
      "text/plain": [
       "0.6445639187574671"
      ]
     },
     "execution_count": 53,
     "metadata": {},
     "output_type": "execute_result"
    }
   ],
   "source": [
    "from sklearn.metrics import mean_absolute_error\n",
    "validation_preds = np.argmax(validation_preds, axis =1 )\n",
    "validation_preds[valid_images['class'] == 0] = np.vectorize(CLASS2ENERGY_ER.get)(validation_preds[valid_images['class'] == 0])\n",
    "validation_preds[valid_images['class'] == 1] = np.vectorize(CLASS2ENERGY_HE.get)(validation_preds[valid_images['class'] == 1])\n",
    "\n",
    "Y_pred = validation_preds\n",
    "Y_true = valid_images['energy']\n",
    "mean_absolute_error(Y_pred, Y_true)"
   ]
  },
  {
   "cell_type": "code",
   "execution_count": 54,
   "id": "quiet-state",
   "metadata": {},
   "outputs": [
    {
     "name": "stdout",
     "output_type": "stream",
     "text": [
      "12/12 [==============================] - 0s 8ms/step - loss: 338.4987 - categorical_accuracy: 0.5000\n"
     ]
    },
    {
     "data": {
      "text/plain": [
       "[338.4986877441406, 0.5]"
      ]
     },
     "execution_count": 54,
     "metadata": {},
     "output_type": "execute_result"
    }
   ],
   "source": [
    "model.evaluate(test_datagen, batch_size=1, steps=test_images.shape[0])"
   ]
  },
  {
   "cell_type": "code",
   "execution_count": 55,
   "id": "unavailable-registrar",
   "metadata": {},
   "outputs": [
    {
     "name": "stdout",
     "output_type": "stream",
     "text": [
      "12/12 [==============================] - 0s 7ms/step\n"
     ]
    },
    {
     "name": "stderr",
     "output_type": "stream",
     "text": [
      "/opt/conda/lib/python3.7/site-packages/tensorflow/python/keras/engine/training.py:1905: UserWarning: `Model.predict_generator` is deprecated and will be removed in a future version. Please use `Model.predict`, which supports generators.\n",
      "  warnings.warn('`Model.predict_generator` is deprecated and '\n"
     ]
    }
   ],
   "source": [
    "test_datagen = DataGenerator(test_images, batch_size = 1, is_classification = False, shuffle = False)\n",
    "test_preds = model.predict_generator(test_datagen, verbose = 1)"
   ]
  },
  {
   "cell_type": "code",
   "execution_count": 56,
   "id": "moved-width",
   "metadata": {},
   "outputs": [
    {
     "data": {
      "text/plain": [
       "2.5833333333333335"
      ]
     },
     "execution_count": 56,
     "metadata": {},
     "output_type": "execute_result"
    }
   ],
   "source": [
    "test_preds = np.argmax(test_preds, axis =1 )\n",
    "test_preds[test_images['class'] == 0] = np.vectorize(CLASS2ENERGY_ER_TEST.get)(test_preds[test_images['class'] == 0])\n",
    "test_preds[test_images['class'] == 1] = np.vectorize(CLASS2ENERGY_HE_TEST.get)(test_preds[test_images['class'] == 1])\n",
    "\n",
    "Y_pred = test_preds\n",
    "Y_true = test_images['energy']\n",
    "mean_absolute_error(Y_pred, Y_true)"
   ]
  },
  {
   "cell_type": "code",
   "execution_count": 41,
   "id": "instrumental-catch",
   "metadata": {},
   "outputs": [],
   "source": [
    "model.save(OUTPUT_PATH / 'models' / 'cnn_energy_er')"
   ]
  },
  {
   "cell_type": "markdown",
   "id": "asian-temperature",
   "metadata": {},
   "source": [
    "## Predict"
   ]
  },
  {
   "cell_type": "code",
   "execution_count": 313,
   "id": "assigned-depression",
   "metadata": {},
   "outputs": [],
   "source": [
    "class PredictDataGenerator(tf.keras.utils.Sequence):\n",
    "    def __init__(self, images, transform=None, batch_size=32,  shuffle=True):\n",
    "        self.images = images\n",
    "        self.indices = np.arange(len(images))\n",
    "        self.transform = transform\n",
    "        self.batch_size = batch_size\n",
    "        self.shuffle = True\n",
    "        \n",
    "        self.on_epoch_end()\n",
    "\n",
    "    def __len__(self):\n",
    "        return len(self.images) // self.batch_size\n",
    "\n",
    "    def __getitem__(self, index):\n",
    "        index = self.index[index * self.batch_size:(index + 1) * self.batch_size]\n",
    "        batch = [self.indices[k] for k in index]\n",
    "    \n",
    "        X = self.__get_data(batch)\n",
    "        return X\n",
    "\n",
    "    def on_epoch_end(self):\n",
    "        self.index = np.arange(len(self.indices))\n",
    "        if self.shuffle == True:\n",
    "            np.random.shuffle(self.index)\n",
    "\n",
    "    def __get_data(self, batch):\n",
    "        X = np.zeros((self.batch_size, 150, 150, 3))\n",
    "        for i, idx in enumerate(batch):\n",
    "            image=cv2.imread(str(self.images.iloc[idx, 3]))[225:375, 225:375, :]\n",
    "            X[i,] = image\n",
    "\n",
    "        return X / 255.0\n"
   ]
  },
  {
   "cell_type": "code",
   "execution_count": 314,
   "id": "dated-livestock",
   "metadata": {},
   "outputs": [],
   "source": [
    "import glob\n",
    "private_test = glob.glob(str(PRIVATE_PATH / '**/*.png'), recursive=True)\n",
    "public_test = glob.glob(str(PUBLIC_PATH / '**/*.png'), recursive=True)"
   ]
  },
  {
   "cell_type": "code",
   "execution_count": 315,
   "id": "accessible-consideration",
   "metadata": {},
   "outputs": [],
   "source": [
    "sample_submission = pd.read_csv(INPUT_PATH / 'track1_predictions_example.csv')\n",
    "private_ids = [t.split('/')[-1].split('.')[0] for t in private_test]\n",
    "public_ids = [t.split('/')[-1].split('.')[0] for t in public_test]\n",
    "\n",
    "sample_submission['path'] = sample_submission['id'].apply(lambda x: PRIVATE_PATH / f'{x}.png' if x in private_ids else PUBLIC_PATH / f'{x}.png')"
   ]
  },
  {
   "cell_type": "code",
   "execution_count": 316,
   "id": "stuck-squad",
   "metadata": {},
   "outputs": [],
   "source": [
    "prediction_datagen = PredictDataGenerator(sample_submission, shuffle = False, batch_size = 4)"
   ]
  },
  {
   "cell_type": "code",
   "execution_count": 318,
   "id": "brutal-judgment",
   "metadata": {},
   "outputs": [
    {
     "name": "stderr",
     "output_type": "stream",
     "text": [
      "/opt/conda/lib/python3.7/site-packages/tensorflow/python/keras/engine/training.py:1905: UserWarning: `Model.predict_generator` is deprecated and will be removed in a future version. Please use `Model.predict`, which supports generators.\n",
      "  warnings.warn('`Model.predict_generator` is deprecated and '\n"
     ]
    },
    {
     "name": "stdout",
     "output_type": "stream",
     "text": [
      "4141/4141 [==============================] - 110s 26ms/step\n"
     ]
    }
   ],
   "source": [
    "####################################\n",
    "# PREDICT WITH CLASSIFICATION MODEL\n",
    "####################################\n",
    "\n",
    "cnn_classification = keras.models.load_model(OUTPUT_PATH / 'models' / 'cnn_classification')\n",
    "y_pred_class = cnn_classification.predict_generator(prediction_datagen, verbose = 1)"
   ]
  },
  {
   "cell_type": "code",
   "execution_count": 320,
   "id": "quality-modem",
   "metadata": {},
   "outputs": [
    {
     "name": "stdout",
     "output_type": "stream",
     "text": [
      "4141/4141 [==============================] - 111s 27ms/step\n"
     ]
    }
   ],
   "source": [
    "####################################\n",
    "# PREDICT WITH REGRESSION MODEL\n",
    "####################################\n",
    "\n",
    "cnn_regression = keras.models.load_model(OUTPUT_PATH / 'models' / 'cnn_energy')\n",
    "y_pred_energy = cnn_regression.predict_generator(prediction_datagen, verbose = 1)\n",
    "y_pred_energy = np.vectorize(CLASS2ENERGY.get)(np.argmax(y_pred_energy, axis =1 ))"
   ]
  },
  {
   "cell_type": "code",
   "execution_count": 326,
   "id": "voluntary-invite",
   "metadata": {},
   "outputs": [],
   "source": [
    "sample_submission['classification_predictions'] = (y_pred_class.reshape(-1) > 0.5).astype(int)\n",
    "sample_submission['regression_predictions'] = y_pred_energy\n",
    "sample_submission.drop(columns = ['path']).to_csv(OUTPUT_PATH / 'predictions' / 'prediction.csv', index = None)"
   ]
  },
  {
   "cell_type": "code",
   "execution_count": null,
   "id": "amateur-capability",
   "metadata": {},
   "outputs": [],
   "source": []
  }
 ],
 "metadata": {
  "kernelspec": {
   "display_name": "Python 3",
   "language": "python",
   "name": "python3"
  },
  "language_info": {
   "codemirror_mode": {
    "name": "ipython",
    "version": 3
   },
   "file_extension": ".py",
   "mimetype": "text/x-python",
   "name": "python",
   "nbconvert_exporter": "python",
   "pygments_lexer": "ipython3",
   "version": "3.7.9"
  }
 },
 "nbformat": 4,
 "nbformat_minor": 5
}
