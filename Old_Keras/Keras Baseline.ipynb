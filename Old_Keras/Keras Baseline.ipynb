{
 "cells": [
  {
   "cell_type": "code",
   "execution_count": 180,
   "id": "manufactured-assembly",
   "metadata": {},
   "outputs": [],
   "source": [
    "#####################\n",
    "# IMPORT LIBS\n",
    "#####################\n",
    "\n",
    "from PIL import Image\n",
    "from sklearn.model_selection import train_test_split\n",
    "from skimage import io, transform\n",
    "from skimage.transform import AffineTransform, warp\n",
    "from sklearn.metrics import roc_auc_score, mean_absolute_error\n",
    "import tensorflow as tf\n",
    "\n",
    "from tensorflow.keras.models import load_model\n",
    "from tensorflow.compat.v1.keras import backend as K\n",
    "\n",
    "import pandas as pd\n",
    "from pathlib import Path\n",
    "import os\n",
    "import cv2\n",
    "import matplotlib.pyplot as plt\n",
    "import numpy as np\n",
    "import random\n",
    "import glob\n",
    "import albumentations as A\n",
    "# from efficientnet_pytorch import EfficientNet\n",
    "\n",
    "\n",
    "#####################\n",
    "# SET CONSTANTS\n",
    "#####################\n",
    "\n",
    "INPUT_PATH = Path('../input')\n",
    "OUTPUT_PATH = Path('../output')\n",
    "TRAIN_PATH = INPUT_PATH / 'idao_dataset' / 'train'\n",
    "PRIVATE_PATH = INPUT_PATH / 'idao_dataset' / 'private_test'\n",
    "PUBLIC_PATH = INPUT_PATH / 'idao_dataset' / 'public_test'\n",
    "\n",
    "RANDOM_SEED = 4444\n",
    "\n",
    "ENERGY2CLASS = {\n",
    "    1: [1, 0, 0, 0, 0, 0],\n",
    "    3: [0, 1, 0, 0, 0, 0],\n",
    "    6: [0, 0, 1, 0, 0, 0],\n",
    "    10: [0, 0, 0, 1, 0, 0],\n",
    "    20: [0, 0, 0, 0, 1, 0],\n",
    "    30: [0, 0, 0, 0, 0, 1]\n",
    "    \n",
    "}\n",
    "\n",
    "CLASS2ENERGY = {\n",
    "    0: 1,\n",
    "    1: 3,\n",
    "    2: 6,\n",
    "    3: 10,\n",
    "    4: 20,\n",
    "    5: 30\n",
    "}\n",
    "\n",
    "def seed_everything(seed=1234):\n",
    "    random.seed(seed)\n",
    "    os.environ['PYTHONHASHSEED'] = str(seed)\n",
    "    np.random.seed(seed)\n",
    "seed_everything(RANDOM_SEED)"
   ]
  },
  {
   "cell_type": "code",
   "execution_count": 168,
   "id": "related-noise",
   "metadata": {},
   "outputs": [],
   "source": [
    "class Config:\n",
    "    BATCH_SIZE = 32\n",
    "    TRAINING_EPOCHS = 60\n",
    "    VALIDATION_STEPS_PER_EPOCH = 5\n",
    "    VALIDATION_EPOCHS = 10\n",
    "    STEPS_PER_EPOCH = 30\n",
    "    EARLY_STOP_PATIENCE = 5\n",
    "    \n",
    "    \n",
    "    # Declare an augmentation pipeline\n",
    "    train_transform = A.Compose([\n",
    "        #A.HorizontalFlip(p=0.5),\n",
    "        A.Cutout(num_holes=4, max_h_size=8, max_w_size=8, p=0.3),\n",
    "        A.OneOf([A.RandomContrast(),\n",
    "             A.RandomGamma(),\n",
    "             A.RandomBrightness()],p=0.2),\n",
    "        A.OneOf([A.Blur(p = 0.3),\n",
    "             A.GaussNoise(p=0.3)\n",
    "                ],p=0.5),\n",
    "        A.CLAHE(clip_limit=4, tile_grid_size=(8,8), always_apply=False, p=0.3),\n",
    "        A.Normalize(p=1)\n",
    "    ],)\n",
    "    #keypoint_params=A.KeypointParams(format='xy'))\n",
    "    \n",
    "    validation_transform = A.Compose([\n",
    "        A.Normalize(p=1)\n",
    "    ],)\n",
    "    #keypoint_params=A.KeypointParams(format='xy'))"
   ]
  },
  {
   "cell_type": "code",
   "execution_count": 20,
   "id": "conditional-office",
   "metadata": {},
   "outputs": [],
   "source": [
    "def getFeatures(img_path):\n",
    "    if len(img_path.split('_')) == 18:\n",
    "        particle_class = 0 # ER\n",
    "        particle_energy = int(img_path.split('_')[7])\n",
    "    else:\n",
    "        particle_class = 1 # HE\n",
    "        particle_energy = int(img_path.split('_')[8])\n",
    "    return [img_path, particle_class, particle_energy]\n",
    "\n",
    "images = glob.glob(str(TRAIN_PATH / '**/*.png'), recursive=True)\n",
    "images = pd.DataFrame(map(getFeatures, images))\n",
    "images.columns = ['path', 'class', 'energy']"
   ]
  },
  {
   "cell_type": "code",
   "execution_count": 30,
   "id": "unauthorized-refund",
   "metadata": {},
   "outputs": [],
   "source": [
    "#################\n",
    "# EXTRACT TEST\n",
    "#################\n",
    "\n",
    "# HE - 0, ER - 1\n",
    "\n",
    "he_test_idx = list(images[(images['class'] == 0) & (images['energy'].apply(lambda x: x in [1, 6, 20]))].index)\n",
    "er_test_idx = list(images[(images['class'] == 1) & (images['energy'].apply(lambda x: x in [3, 10, 30]))].index)"
   ]
  },
  {
   "cell_type": "code",
   "execution_count": 31,
   "id": "behind-cliff",
   "metadata": {},
   "outputs": [],
   "source": [
    "test_idx = he_test_idx + er_test_idx\n",
    "test_images = images.iloc[test_idx]\n",
    "images = images.drop(index = test_idx)\n",
    "\n",
    "train_images, valid_images = train_test_split(images, shuffle = True, random_state = RANDOM_SEED)\n",
    "train_images = train_images.reset_index(drop = True)\n",
    "valid_images = valid_images.reset_index(drop = True)"
   ]
  },
  {
   "cell_type": "code",
   "execution_count": 32,
   "id": "focal-proxy",
   "metadata": {},
   "outputs": [],
   "source": [
    "def calc_metric(y_binary_true, y_binary_pred, y_reg_true, y_reg_pred):\n",
    "    '''\n",
    "    Competition metric\n",
    "    '''\n",
    "    \n",
    "    roc = roc_auc_score(y_binary_true, y_binary_pred)\n",
    "    mae = mean_absolute_error(y_reg_true, y_reg_pred)\n",
    "    return 1000 * (roc - mae), roc, mae"
   ]
  },
  {
   "cell_type": "code",
   "execution_count": 296,
   "id": "rocky-procurement",
   "metadata": {},
   "outputs": [],
   "source": [
    "class DataGenerator(tf.keras.utils.Sequence):\n",
    "    def __init__(self, images, transform=None, batch_size=32,  shuffle=True, is_classification = True):\n",
    "        self.images = images\n",
    "        self.indices = np.arange(len(images))\n",
    "        self.transform = transform\n",
    "        self.batch_size = batch_size\n",
    "        self.shuffle = shuffle\n",
    "        self.is_classification = is_classification\n",
    "        \n",
    "        self.on_epoch_end()\n",
    "\n",
    "    def __len__(self):\n",
    "        return len(self.images) // self.batch_size\n",
    "\n",
    "    def __getitem__(self, index):\n",
    "        index = self.index[index * self.batch_size:(index + 1) * self.batch_size]\n",
    "        batch = [self.indices[k] for k in index]\n",
    "    \n",
    "        X, y = self.__get_data(batch)\n",
    "        return X, y\n",
    "\n",
    "    def on_epoch_end(self):\n",
    "        self.index = np.arange(len(self.indices))\n",
    "        if self.shuffle == True:\n",
    "            np.random.shuffle(self.index)\n",
    "\n",
    "    def __get_data(self, batch):\n",
    "        X = np.zeros((self.batch_size, 150, 150, 3))\n",
    "        y_class = np.zeros((self.batch_size,))\n",
    "        y_energy = np.zeros((self.batch_size,6))\n",
    "        for i, idx in enumerate(batch):\n",
    "            image=cv2.imread(self.images.iloc[idx, 0])[225:375, 225:375, :]\n",
    "            X[i,] = image\n",
    "            particle_class = self.images.iloc[idx, 1]\n",
    "            particle_energy = self.images.iloc[idx, 2]\n",
    "            y_class[i] = particle_class\n",
    "            y_energy[i] = particle_energy\n",
    "        if self.is_classification:\n",
    "            return X / 255.0, y_class\n",
    "\n",
    "        return X / 255.0, y_energy\n"
   ]
  },
  {
   "cell_type": "code",
   "execution_count": 297,
   "id": "documented-chick",
   "metadata": {},
   "outputs": [],
   "source": [
    "train_datagen = DataGenerator(train_images, batch_size = Config.BATCH_SIZE, is_classification = True)\n",
    "valid_datagen = DataGenerator(valid_images, batch_size = Config.BATCH_SIZE, is_classification = True)\n",
    "test_datagen = DataGenerator(test_images, batch_size = 1, is_classification = True)"
   ]
  },
  {
   "cell_type": "code",
   "execution_count": 61,
   "id": "cellular-clearance",
   "metadata": {},
   "outputs": [],
   "source": [
    "# Example data extract\n",
    "\n",
    "X, y_class = train_datagen.__getitem__(0)"
   ]
  },
  {
   "cell_type": "markdown",
   "id": "requested-richardson",
   "metadata": {},
   "source": [
    "## Class model"
   ]
  },
  {
   "cell_type": "code",
   "execution_count": 154,
   "id": "defensive-sandwich",
   "metadata": {},
   "outputs": [],
   "source": [
    "from keras.applications.vgg16 import VGG16\n",
    "from keras.applications.mobilenet_v2 import MobileNetV2\n",
    "from keras.preprocessing import image\n",
    "from keras.applications.vgg16 import preprocess_input\n",
    "import numpy as np\n",
    "\n",
    "mobilenet_model = MobileNetV2(weights='imagenet', include_top=False)"
   ]
  },
  {
   "cell_type": "code",
   "execution_count": 158,
   "id": "smooth-revision",
   "metadata": {},
   "outputs": [],
   "source": [
    "from keras import layers as L\n",
    "from keras.models import Model\n",
    "import tensorflow as tf\n",
    "import keras\n",
    "\n",
    "earlystop = keras.callbacks.EarlyStopping(monitor='val_loss', patience=3)\n",
    "    \n",
    "def create_classification_model(base_model):\n",
    "    x = base_model.output\n",
    "    x = L.GlobalAveragePooling2D()(x)\n",
    "    # let's add a fully-connected layer\n",
    "    x = L.Dense(128, activation='relu')(x)\n",
    "    # and a logistic layer -- let's say we have 200 classes\n",
    "    predictions = L.Dense(1, activation='sigmoid')(x)\n",
    "\n",
    "    # this is the model we will train\n",
    "    model = Model(inputs=base_model.input, outputs=predictions)\n",
    "\n",
    "    for layer in base_model.layers:\n",
    "        layer.trainable = True\n",
    "\n",
    "    # compile the model (should be done *after* setting layers to non-trainable)\n",
    "    model.compile(optimizer='rmsprop', loss='binary_crossentropy', metrics = ['AUC'])\n",
    "    return model"
   ]
  },
  {
   "cell_type": "code",
   "execution_count": 159,
   "id": "statewide-mining",
   "metadata": {},
   "outputs": [],
   "source": [
    "model = create_classification_model(mobilenet_model)"
   ]
  },
  {
   "cell_type": "code",
   "execution_count": 160,
   "id": "military-irrigation",
   "metadata": {},
   "outputs": [
    {
     "name": "stdout",
     "output_type": "stream",
     "text": [
      "Epoch 1/60\n",
      "30/30 [==============================] - 16s 441ms/step - loss: 1.0363 - auc: 0.5536 - val_loss: 0.6059 - val_auc: 0.7453\n",
      "Epoch 2/60\n",
      "30/30 [==============================] - 12s 391ms/step - loss: 0.5890 - auc: 0.7510 - val_loss: 0.4952 - val_auc: 0.8801\n",
      "Epoch 3/60\n",
      "30/30 [==============================] - 11s 378ms/step - loss: 0.5159 - auc: 0.8182 - val_loss: 0.4382 - val_auc: 0.9054\n",
      "Epoch 4/60\n",
      "30/30 [==============================] - 10s 325ms/step - loss: 0.4852 - auc: 0.8442 - val_loss: 0.4036 - val_auc: 0.9146\n",
      "Epoch 5/60\n",
      "30/30 [==============================] - 10s 340ms/step - loss: 0.4454 - auc: 0.8715 - val_loss: 0.4065 - val_auc: 0.9413\n",
      "Epoch 6/60\n",
      "30/30 [==============================] - 10s 351ms/step - loss: 0.4471 - auc: 0.8658 - val_loss: 0.3671 - val_auc: 0.9587\n",
      "Epoch 7/60\n",
      "30/30 [==============================] - 10s 330ms/step - loss: 0.4134 - auc: 0.8913 - val_loss: 0.4423 - val_auc: 0.9435\n",
      "Epoch 8/60\n",
      "30/30 [==============================] - 9s 315ms/step - loss: 0.3426 - auc: 0.9343 - val_loss: 0.5039 - val_auc: 0.9682\n",
      "Epoch 9/60\n",
      "30/30 [==============================] - 10s 325ms/step - loss: 0.4146 - auc: 0.8956 - val_loss: 0.3239 - val_auc: 0.9539\n",
      "Epoch 10/60\n",
      "30/30 [==============================] - 9s 315ms/step - loss: 0.3127 - auc: 0.9430 - val_loss: 0.2673 - val_auc: 0.9689\n",
      "Epoch 11/60\n",
      "30/30 [==============================] - 10s 324ms/step - loss: 0.3466 - auc: 0.9253 - val_loss: 0.2885 - val_auc: 0.9606\n",
      "Epoch 12/60\n",
      "30/30 [==============================] - 9s 312ms/step - loss: 0.3324 - auc: 0.9318 - val_loss: 0.2648 - val_auc: 0.9593\n",
      "Epoch 13/60\n",
      "30/30 [==============================] - 9s 301ms/step - loss: 0.3132 - auc: 0.9366 - val_loss: 0.2849 - val_auc: 0.9596\n",
      "Epoch 14/60\n",
      "30/30 [==============================] - 9s 303ms/step - loss: 0.2743 - auc: 0.9522 - val_loss: 0.5150 - val_auc: 0.9603\n",
      "Epoch 15/60\n",
      "30/30 [==============================] - 9s 290ms/step - loss: 0.3618 - auc: 0.9208 - val_loss: 0.3342 - val_auc: 0.9628\n"
     ]
    },
    {
     "data": {
      "text/plain": [
       "<tensorflow.python.keras.callbacks.History at 0x7f1b7032e910>"
      ]
     },
     "execution_count": 160,
     "metadata": {},
     "output_type": "execute_result"
    }
   ],
   "source": [
    "model.fit(\n",
    "    train_datagen, \n",
    "    steps_per_epoch = Config.STEPS_PER_EPOCH, \n",
    "    validation_data = valid_datagen, \n",
    "    validation_steps = Config.VALIDATION_STEPS_PER_EPOCH, \n",
    "    epochs = Config.TRAINING_EPOCHS,\n",
    "    verbose = 1,\n",
    "    callbacks = [earlystop]\n",
    "    )"
   ]
  },
  {
   "cell_type": "code",
   "execution_count": 163,
   "id": "honey-february",
   "metadata": {},
   "outputs": [
    {
     "name": "stdout",
     "output_type": "stream",
     "text": [
      "52/52 [==============================] - 19s 375ms/step - loss: 0.3105 - auc: 0.9682\n"
     ]
    },
    {
     "data": {
      "text/plain": [
       "[0.3105323016643524, 0.968234658241272]"
      ]
     },
     "execution_count": 163,
     "metadata": {},
     "output_type": "execute_result"
    }
   ],
   "source": [
    "model.evaluate(valid_datagen, batch_size=64, steps=valid_images.shape[0] // 64)"
   ]
  },
  {
   "cell_type": "code",
   "execution_count": 164,
   "id": "emerging-house",
   "metadata": {},
   "outputs": [
    {
     "name": "stdout",
     "output_type": "stream",
     "text": [
      "12/12 [==============================] - 0s 11ms/step - loss: 0.9348 - auc: 0.7222\n"
     ]
    },
    {
     "data": {
      "text/plain": [
       "[0.9347938895225525, 0.7222222089767456]"
      ]
     },
     "execution_count": 164,
     "metadata": {},
     "output_type": "execute_result"
    }
   ],
   "source": [
    "model.evaluate(test_datagen, batch_size=1, steps=test_images.shape[0])"
   ]
  },
  {
   "cell_type": "code",
   "execution_count": 165,
   "id": "nervous-perth",
   "metadata": {},
   "outputs": [],
   "source": [
    "model.save(OUTPUT_PATH / 'models' / 'cnn_classification')"
   ]
  },
  {
   "cell_type": "markdown",
   "id": "choice-glasgow",
   "metadata": {},
   "source": [
    "## Regression model"
   ]
  },
  {
   "cell_type": "code",
   "execution_count": 274,
   "id": "random-basics",
   "metadata": {},
   "outputs": [],
   "source": [
    "from keras.applications.vgg16 import VGG16\n",
    "from keras.applications.mobilenet_v2 import MobileNetV2\n",
    "from keras.preprocessing import image\n",
    "from keras.applications.vgg16 import preprocess_input\n",
    "import numpy as np\n",
    "\n",
    "mobilenet_model = MobileNetV2(weights='imagenet', include_top=False)"
   ]
  },
  {
   "cell_type": "code",
   "execution_count": 275,
   "id": "early-brunei",
   "metadata": {},
   "outputs": [],
   "source": [
    "from keras import layers as L\n",
    "from keras.models import Model\n",
    "import tensorflow as tf\n",
    "import keras\n",
    "\n",
    "earlystop = keras.callbacks.EarlyStopping(monitor='val_loss', patience=3)\n",
    "    \n",
    "def create_classification_model(base_model):\n",
    "    x = base_model.output\n",
    "    x = L.GlobalAveragePooling2D()(x)\n",
    "    # let's add a fully-connected layer\n",
    "    x = L.Dense(512, activation='relu')(x)\n",
    "    x = L.Dense(128, activation='relu')(x)\n",
    "    x = L.Dense(32, activation='relu')(x)\n",
    "    # and a logistic layer -- let's say we have 200 classes\n",
    "    predictions = L.Dense(1)(x)\n",
    "\n",
    "    # this is the model we will train\n",
    "    model = Model(inputs=base_model.input, outputs=predictions)\n",
    "\n",
    "    for layer in base_model.layers:\n",
    "        layer.trainable = False\n",
    "\n",
    "    # compile the model (should be done *after* setting layers to non-trainable)\n",
    "    model.compile(optimizer='rmsprop', loss='mean_absolute_error', metrics = ['mean_absolute_error'])\n",
    "    return model"
   ]
  },
  {
   "cell_type": "code",
   "execution_count": 276,
   "id": "imperial-papua",
   "metadata": {},
   "outputs": [],
   "source": [
    "model = create_classification_model(mobilenet_model)"
   ]
  },
  {
   "cell_type": "code",
   "execution_count": 277,
   "id": "visible-valley",
   "metadata": {},
   "outputs": [],
   "source": [
    "train_datagen = DataGenerator(train_images, batch_size = Config.BATCH_SIZE, is_classification = False)\n",
    "valid_datagen = DataGenerator(valid_images, batch_size = Config.BATCH_SIZE, is_classification = False)\n",
    "test_datagen = DataGenerator(test_images, batch_size = 1, is_classification = False)"
   ]
  },
  {
   "cell_type": "code",
   "execution_count": 278,
   "id": "caring-performance",
   "metadata": {},
   "outputs": [
    {
     "name": "stdout",
     "output_type": "stream",
     "text": [
      "Epoch 1/60\n",
      "30/30 [==============================] - 12s 273ms/step - loss: 8.4124 - mean_absolute_error: 8.4124 - val_loss: 4.3088 - val_mean_absolute_error: 4.3088\n",
      "Epoch 2/60\n",
      "30/30 [==============================] - 7s 236ms/step - loss: 4.9846 - mean_absolute_error: 4.9846 - val_loss: 3.7921 - val_mean_absolute_error: 3.7921\n",
      "Epoch 3/60\n",
      "30/30 [==============================] - 7s 236ms/step - loss: 4.4000 - mean_absolute_error: 4.4000 - val_loss: 4.6674 - val_mean_absolute_error: 4.6674\n",
      "Epoch 4/60\n",
      "30/30 [==============================] - 7s 237ms/step - loss: 3.8667 - mean_absolute_error: 3.8667 - val_loss: 3.2696 - val_mean_absolute_error: 3.2696\n",
      "Epoch 5/60\n",
      "30/30 [==============================] - 7s 235ms/step - loss: 3.3980 - mean_absolute_error: 3.3980 - val_loss: 2.7645 - val_mean_absolute_error: 2.7645\n",
      "Epoch 6/60\n",
      "30/30 [==============================] - 7s 236ms/step - loss: 3.5232 - mean_absolute_error: 3.5232 - val_loss: 2.6064 - val_mean_absolute_error: 2.6064\n",
      "Epoch 7/60\n",
      "30/30 [==============================] - 7s 238ms/step - loss: 3.0663 - mean_absolute_error: 3.0663 - val_loss: 2.5461 - val_mean_absolute_error: 2.5461\n",
      "Epoch 8/60\n",
      "30/30 [==============================] - 7s 237ms/step - loss: 3.4878 - mean_absolute_error: 3.4878 - val_loss: 3.6417 - val_mean_absolute_error: 3.6417\n",
      "Epoch 9/60\n",
      "30/30 [==============================] - 7s 238ms/step - loss: 3.1528 - mean_absolute_error: 3.1528 - val_loss: 2.4502 - val_mean_absolute_error: 2.4502\n",
      "Epoch 10/60\n",
      "30/30 [==============================] - 7s 238ms/step - loss: 3.1971 - mean_absolute_error: 3.1971 - val_loss: 2.3972 - val_mean_absolute_error: 2.3972\n",
      "Epoch 11/60\n",
      "30/30 [==============================] - 7s 236ms/step - loss: 2.6001 - mean_absolute_error: 2.6001 - val_loss: 3.1334 - val_mean_absolute_error: 3.1334\n",
      "Epoch 12/60\n",
      "30/30 [==============================] - 7s 236ms/step - loss: 3.0405 - mean_absolute_error: 3.0405 - val_loss: 2.6904 - val_mean_absolute_error: 2.6904\n",
      "Epoch 13/60\n",
      "30/30 [==============================] - 7s 235ms/step - loss: 2.5818 - mean_absolute_error: 2.5818 - val_loss: 2.3790 - val_mean_absolute_error: 2.3790\n",
      "Epoch 14/60\n",
      "30/30 [==============================] - 7s 237ms/step - loss: 2.5295 - mean_absolute_error: 2.5295 - val_loss: 4.0569 - val_mean_absolute_error: 4.0569\n",
      "Epoch 15/60\n",
      "30/30 [==============================] - 7s 236ms/step - loss: 2.9143 - mean_absolute_error: 2.9143 - val_loss: 2.4142 - val_mean_absolute_error: 2.4142\n",
      "Epoch 16/60\n",
      "30/30 [==============================] - 7s 236ms/step - loss: 2.3764 - mean_absolute_error: 2.3764 - val_loss: 2.3731 - val_mean_absolute_error: 2.3731\n",
      "Epoch 17/60\n",
      "30/30 [==============================] - 7s 237ms/step - loss: 2.5390 - mean_absolute_error: 2.5390 - val_loss: 2.3576 - val_mean_absolute_error: 2.3576\n",
      "Epoch 18/60\n",
      "30/30 [==============================] - 7s 238ms/step - loss: 2.2511 - mean_absolute_error: 2.2511 - val_loss: 2.2375 - val_mean_absolute_error: 2.2375\n",
      "Epoch 19/60\n",
      "30/30 [==============================] - 7s 238ms/step - loss: 2.3214 - mean_absolute_error: 2.3214 - val_loss: 2.6666 - val_mean_absolute_error: 2.6666\n",
      "Epoch 20/60\n",
      "30/30 [==============================] - 7s 239ms/step - loss: 2.6029 - mean_absolute_error: 2.6029 - val_loss: 3.1865 - val_mean_absolute_error: 3.1865\n",
      "Epoch 21/60\n",
      "30/30 [==============================] - 7s 240ms/step - loss: 2.5646 - mean_absolute_error: 2.5646 - val_loss: 2.0577 - val_mean_absolute_error: 2.0577\n",
      "Epoch 22/60\n",
      "30/30 [==============================] - 7s 239ms/step - loss: 2.2289 - mean_absolute_error: 2.2289 - val_loss: 1.9527 - val_mean_absolute_error: 1.9527\n",
      "Epoch 23/60\n",
      "30/30 [==============================] - 7s 238ms/step - loss: 2.2131 - mean_absolute_error: 2.2131 - val_loss: 2.7327 - val_mean_absolute_error: 2.7327\n",
      "Epoch 24/60\n",
      "30/30 [==============================] - 7s 236ms/step - loss: 2.2527 - mean_absolute_error: 2.2527 - val_loss: 2.2680 - val_mean_absolute_error: 2.2680\n",
      "Epoch 25/60\n",
      "30/30 [==============================] - 7s 237ms/step - loss: 2.3123 - mean_absolute_error: 2.3123 - val_loss: 1.8270 - val_mean_absolute_error: 1.8270\n",
      "Epoch 26/60\n",
      "30/30 [==============================] - 7s 237ms/step - loss: 1.9420 - mean_absolute_error: 1.9420 - val_loss: 1.8910 - val_mean_absolute_error: 1.8910\n",
      "Epoch 27/60\n",
      "30/30 [==============================] - 7s 237ms/step - loss: 2.2156 - mean_absolute_error: 2.2156 - val_loss: 3.0810 - val_mean_absolute_error: 3.0810\n",
      "Epoch 28/60\n",
      "30/30 [==============================] - 7s 239ms/step - loss: 2.0111 - mean_absolute_error: 2.0111 - val_loss: 1.2981 - val_mean_absolute_error: 1.2981\n",
      "Epoch 29/60\n",
      "30/30 [==============================] - 7s 236ms/step - loss: 1.9386 - mean_absolute_error: 1.9386 - val_loss: 2.1801 - val_mean_absolute_error: 2.1801\n",
      "Epoch 30/60\n",
      "30/30 [==============================] - 7s 234ms/step - loss: 2.1457 - mean_absolute_error: 2.1457 - val_loss: 3.3611 - val_mean_absolute_error: 3.3611\n",
      "Epoch 31/60\n",
      "30/30 [==============================] - 7s 235ms/step - loss: 2.1604 - mean_absolute_error: 2.1604 - val_loss: 2.3315 - val_mean_absolute_error: 2.3315\n"
     ]
    },
    {
     "data": {
      "text/plain": [
       "<tensorflow.python.keras.callbacks.History at 0x7f16c2a1d9d0>"
      ]
     },
     "execution_count": 278,
     "metadata": {},
     "output_type": "execute_result"
    }
   ],
   "source": [
    "model.fit(\n",
    "    train_datagen, \n",
    "    steps_per_epoch = Config.STEPS_PER_EPOCH, \n",
    "    validation_data = valid_datagen, \n",
    "    validation_steps = Config.VALIDATION_STEPS_PER_EPOCH, \n",
    "    epochs = Config.TRAINING_EPOCHS,\n",
    "    verbose = 1,\n",
    "    callbacks = [earlystop]\n",
    "    )"
   ]
  },
  {
   "cell_type": "code",
   "execution_count": 279,
   "id": "premier-documentation",
   "metadata": {},
   "outputs": [
    {
     "name": "stdout",
     "output_type": "stream",
     "text": [
      "52/52 [==============================] - 10s 194ms/step - loss: 2.1932 - mean_absolute_error: 2.1932\n"
     ]
    },
    {
     "data": {
      "text/plain": [
       "[2.1931848526000977, 2.1931848526000977]"
      ]
     },
     "execution_count": 279,
     "metadata": {},
     "output_type": "execute_result"
    }
   ],
   "source": [
    "model.evaluate(valid_datagen, batch_size=64, steps=valid_images.shape[0] // 64)"
   ]
  },
  {
   "cell_type": "code",
   "execution_count": 298,
   "id": "abstract-crime",
   "metadata": {},
   "outputs": [
    {
     "name": "stdout",
     "output_type": "stream",
     "text": [
      "  13/3348 [..............................] - ETA: 29s"
     ]
    },
    {
     "name": "stderr",
     "output_type": "stream",
     "text": [
      "/opt/conda/lib/python3.7/site-packages/tensorflow/python/keras/engine/training.py:1905: UserWarning: `Model.predict_generator` is deprecated and will be removed in a future version. Please use `Model.predict`, which supports generators.\n",
      "  warnings.warn('`Model.predict_generator` is deprecated and '\n"
     ]
    },
    {
     "name": "stdout",
     "output_type": "stream",
     "text": [
      "3348/3348 [==============================] - 27s 8ms/step\n"
     ]
    }
   ],
   "source": [
    "valid_datagen = DataGenerator(valid_images, batch_size = 1, is_classification = False, shuffle = False)\n",
    "validation_preds = model.predict_generator(valid_datagen, verbose = 1)"
   ]
  },
  {
   "cell_type": "code",
   "execution_count": 299,
   "id": "moderate-enough",
   "metadata": {},
   "outputs": [
    {
     "data": {
      "text/plain": [
       "2.2237342863545053"
      ]
     },
     "execution_count": 299,
     "metadata": {},
     "output_type": "execute_result"
    }
   ],
   "source": [
    "from sklearn.metrics import mean_absolute_error\n",
    "Y_pred = validation_preds.reshape(-1)\n",
    "Y_true = valid_images['energy']\n",
    "mean_absolute_error(Y_pred, Y_true)"
   ]
  },
  {
   "cell_type": "code",
   "execution_count": 300,
   "id": "hazardous-denial",
   "metadata": {},
   "outputs": [
    {
     "name": "stdout",
     "output_type": "stream",
     "text": [
      "12/12 [==============================] - 1s 9ms/step - loss: 7.8741 - mean_absolute_error: 7.8741\n"
     ]
    },
    {
     "data": {
      "text/plain": [
       "[7.8741021156311035, 7.8741021156311035]"
      ]
     },
     "execution_count": 300,
     "metadata": {},
     "output_type": "execute_result"
    }
   ],
   "source": [
    "model.evaluate(test_datagen, batch_size=1, steps=test_images.shape[0])"
   ]
  },
  {
   "cell_type": "code",
   "execution_count": 301,
   "id": "needed-sensitivity",
   "metadata": {},
   "outputs": [
    {
     "name": "stdout",
     "output_type": "stream",
     "text": [
      "12/12 [==============================] - 0s 8ms/step\n"
     ]
    },
    {
     "name": "stderr",
     "output_type": "stream",
     "text": [
      "/opt/conda/lib/python3.7/site-packages/tensorflow/python/keras/engine/training.py:1905: UserWarning: `Model.predict_generator` is deprecated and will be removed in a future version. Please use `Model.predict`, which supports generators.\n",
      "  warnings.warn('`Model.predict_generator` is deprecated and '\n"
     ]
    }
   ],
   "source": [
    "test_datagen = DataGenerator(test_images, batch_size = 1, is_classification = False, shuffle = False)\n",
    "test_preds = model.predict_generator(test_datagen, verbose = 1)"
   ]
  },
  {
   "cell_type": "code",
   "execution_count": 302,
   "id": "fatal-penetration",
   "metadata": {},
   "outputs": [
    {
     "data": {
      "text/plain": [
       "3.7480902622143426"
      ]
     },
     "execution_count": 302,
     "metadata": {},
     "output_type": "execute_result"
    }
   ],
   "source": [
    "Y_pred = test_preds\n",
    "Y_true = test_images['energy']\n",
    "mean_absolute_error(Y_pred, Y_true)"
   ]
  },
  {
   "cell_type": "code",
   "execution_count": 214,
   "id": "piano-vatican",
   "metadata": {},
   "outputs": [],
   "source": [
    "model.save(OUTPUT_PATH / 'models' / 'cnn_energy')"
   ]
  },
  {
   "cell_type": "markdown",
   "id": "diverse-substance",
   "metadata": {},
   "source": [
    "## Predict"
   ]
  },
  {
   "cell_type": "code",
   "execution_count": 313,
   "id": "reserved-passenger",
   "metadata": {},
   "outputs": [],
   "source": [
    "class PredictDataGenerator(tf.keras.utils.Sequence):\n",
    "    def __init__(self, images, transform=None, batch_size=32,  shuffle=True):\n",
    "        self.images = images\n",
    "        self.indices = np.arange(len(images))\n",
    "        self.transform = transform\n",
    "        self.batch_size = batch_size\n",
    "        self.shuffle = True\n",
    "        \n",
    "        self.on_epoch_end()\n",
    "\n",
    "    def __len__(self):\n",
    "        return len(self.images) // self.batch_size\n",
    "\n",
    "    def __getitem__(self, index):\n",
    "        index = self.index[index * self.batch_size:(index + 1) * self.batch_size]\n",
    "        batch = [self.indices[k] for k in index]\n",
    "    \n",
    "        X = self.__get_data(batch)\n",
    "        return X\n",
    "\n",
    "    def on_epoch_end(self):\n",
    "        self.index = np.arange(len(self.indices))\n",
    "        if self.shuffle == True:\n",
    "            np.random.shuffle(self.index)\n",
    "\n",
    "    def __get_data(self, batch):\n",
    "        X = np.zeros((self.batch_size, 150, 150, 3))\n",
    "        for i, idx in enumerate(batch):\n",
    "            image=cv2.imread(str(self.images.iloc[idx, 3]))[225:375, 225:375, :]\n",
    "            X[i,] = image\n",
    "\n",
    "        return X / 255.0\n"
   ]
  },
  {
   "cell_type": "code",
   "execution_count": 314,
   "id": "divine-earth",
   "metadata": {},
   "outputs": [],
   "source": [
    "import glob\n",
    "private_test = glob.glob(str(PRIVATE_PATH / '**/*.png'), recursive=True)\n",
    "public_test = glob.glob(str(PUBLIC_PATH / '**/*.png'), recursive=True)"
   ]
  },
  {
   "cell_type": "code",
   "execution_count": 315,
   "id": "weekly-minister",
   "metadata": {},
   "outputs": [],
   "source": [
    "sample_submission = pd.read_csv(INPUT_PATH / 'track1_predictions_example.csv')\n",
    "private_ids = [t.split('/')[-1].split('.')[0] for t in private_test]\n",
    "public_ids = [t.split('/')[-1].split('.')[0] for t in public_test]\n",
    "\n",
    "sample_submission['path'] = sample_submission['id'].apply(lambda x: PRIVATE_PATH / f'{x}.png' if x in private_ids else PUBLIC_PATH / f'{x}.png')"
   ]
  },
  {
   "cell_type": "code",
   "execution_count": 316,
   "id": "constant-insulin",
   "metadata": {},
   "outputs": [],
   "source": [
    "prediction_datagen = PredictDataGenerator(sample_submission, shuffle = False, batch_size = 4)"
   ]
  },
  {
   "cell_type": "code",
   "execution_count": 318,
   "id": "bridal-dealer",
   "metadata": {},
   "outputs": [
    {
     "name": "stderr",
     "output_type": "stream",
     "text": [
      "/opt/conda/lib/python3.7/site-packages/tensorflow/python/keras/engine/training.py:1905: UserWarning: `Model.predict_generator` is deprecated and will be removed in a future version. Please use `Model.predict`, which supports generators.\n",
      "  warnings.warn('`Model.predict_generator` is deprecated and '\n"
     ]
    },
    {
     "name": "stdout",
     "output_type": "stream",
     "text": [
      "4141/4141 [==============================] - 110s 26ms/step\n"
     ]
    }
   ],
   "source": [
    "####################################\n",
    "# PREDICT WITH CLASSIFICATION MODEL\n",
    "####################################\n",
    "\n",
    "cnn_classification = keras.models.load_model(OUTPUT_PATH / 'models' / 'cnn_classification')\n",
    "y_pred_class = cnn_classification.predict_generator(prediction_datagen, verbose = 1)"
   ]
  },
  {
   "cell_type": "code",
   "execution_count": 320,
   "id": "incorrect-south",
   "metadata": {},
   "outputs": [
    {
     "name": "stdout",
     "output_type": "stream",
     "text": [
      "4141/4141 [==============================] - 111s 27ms/step\n"
     ]
    }
   ],
   "source": [
    "####################################\n",
    "# PREDICT WITH REGRESSION MODEL\n",
    "####################################\n",
    "\n",
    "cnn_regression = keras.models.load_model(OUTPUT_PATH / 'models' / 'cnn_energy')\n",
    "y_pred_energy = cnn_regression.predict_generator(prediction_datagen, verbose = 1)\n",
    "y_pred_energy = np.vectorize(CLASS2ENERGY.get)(np.argmax(y_pred_energy, axis =1 ))"
   ]
  },
  {
   "cell_type": "code",
   "execution_count": 322,
   "id": "compatible-budapest",
   "metadata": {},
   "outputs": [],
   "source": [
    "sample_submission['classification_predictions'] = y_pred_class.reshape(-1)\n",
    "sample_submission['regression_predictions'] = y_pred_energy\n",
    "sample_submission.drop(columns = ['path']).to_csv(OUTPUT_PATH / 'predictions' / 'prediction.csv')"
   ]
  },
  {
   "cell_type": "code",
   "execution_count": 324,
   "id": "consecutive-kernel",
   "metadata": {},
   "outputs": [
    {
     "data": {
      "text/html": [
       "<div>\n",
       "<style scoped>\n",
       "    .dataframe tbody tr th:only-of-type {\n",
       "        vertical-align: middle;\n",
       "    }\n",
       "\n",
       "    .dataframe tbody tr th {\n",
       "        vertical-align: top;\n",
       "    }\n",
       "\n",
       "    .dataframe thead th {\n",
       "        text-align: right;\n",
       "    }\n",
       "</style>\n",
       "<table border=\"1\" class=\"dataframe\">\n",
       "  <thead>\n",
       "    <tr style=\"text-align: right;\">\n",
       "      <th></th>\n",
       "      <th>id</th>\n",
       "      <th>classification_predictions</th>\n",
       "      <th>regression_predictions</th>\n",
       "    </tr>\n",
       "  </thead>\n",
       "  <tbody>\n",
       "    <tr>\n",
       "      <th>0</th>\n",
       "      <td>0002894871bb30af2670648c58b2506e9801a321</td>\n",
       "      <td>0.956455</td>\n",
       "      <td>30</td>\n",
       "    </tr>\n",
       "    <tr>\n",
       "      <th>1</th>\n",
       "      <td>000a95ca23df016a149ff9af94b6e9d8633d6691</td>\n",
       "      <td>0.366795</td>\n",
       "      <td>3</td>\n",
       "    </tr>\n",
       "    <tr>\n",
       "      <th>2</th>\n",
       "      <td>000b4407dee7dad2ba46586e6ba1264f45965e51</td>\n",
       "      <td>0.101904</td>\n",
       "      <td>10</td>\n",
       "    </tr>\n",
       "    <tr>\n",
       "      <th>3</th>\n",
       "      <td>000c45d729066044e3dd3f885fddf013b845b6d7</td>\n",
       "      <td>0.971503</td>\n",
       "      <td>30</td>\n",
       "    </tr>\n",
       "    <tr>\n",
       "      <th>4</th>\n",
       "      <td>0011f80e44faa713714ead6aeab3b2f9db54aebd</td>\n",
       "      <td>0.593469</td>\n",
       "      <td>6</td>\n",
       "    </tr>\n",
       "    <tr>\n",
       "      <th>...</th>\n",
       "      <td>...</td>\n",
       "      <td>...</td>\n",
       "      <td>...</td>\n",
       "    </tr>\n",
       "    <tr>\n",
       "      <th>16559</th>\n",
       "      <td>ffdfd25b2f522ba2312dda90189ec48205578199</td>\n",
       "      <td>0.958916</td>\n",
       "      <td>10</td>\n",
       "    </tr>\n",
       "    <tr>\n",
       "      <th>16560</th>\n",
       "      <td>ffe29ac691148f84c7a7759e687aa6c2f0eac11a</td>\n",
       "      <td>0.595683</td>\n",
       "      <td>3</td>\n",
       "    </tr>\n",
       "    <tr>\n",
       "      <th>16561</th>\n",
       "      <td>ffedc12ec5c142dae2086408b778cf0db2ff944e</td>\n",
       "      <td>0.000169</td>\n",
       "      <td>1</td>\n",
       "    </tr>\n",
       "    <tr>\n",
       "      <th>16562</th>\n",
       "      <td>fff423086a80114984b647af69f710cf3ef844f9</td>\n",
       "      <td>0.969830</td>\n",
       "      <td>3</td>\n",
       "    </tr>\n",
       "    <tr>\n",
       "      <th>16563</th>\n",
       "      <td>fffdd654bd60b81ffd51a723a8839b8f5381feba</td>\n",
       "      <td>0.024749</td>\n",
       "      <td>10</td>\n",
       "    </tr>\n",
       "  </tbody>\n",
       "</table>\n",
       "<p>16564 rows × 3 columns</p>\n",
       "</div>"
      ],
      "text/plain": [
       "                                             id  classification_predictions  \\\n",
       "0      0002894871bb30af2670648c58b2506e9801a321                    0.956455   \n",
       "1      000a95ca23df016a149ff9af94b6e9d8633d6691                    0.366795   \n",
       "2      000b4407dee7dad2ba46586e6ba1264f45965e51                    0.101904   \n",
       "3      000c45d729066044e3dd3f885fddf013b845b6d7                    0.971503   \n",
       "4      0011f80e44faa713714ead6aeab3b2f9db54aebd                    0.593469   \n",
       "...                                         ...                         ...   \n",
       "16559  ffdfd25b2f522ba2312dda90189ec48205578199                    0.958916   \n",
       "16560  ffe29ac691148f84c7a7759e687aa6c2f0eac11a                    0.595683   \n",
       "16561  ffedc12ec5c142dae2086408b778cf0db2ff944e                    0.000169   \n",
       "16562  fff423086a80114984b647af69f710cf3ef844f9                    0.969830   \n",
       "16563  fffdd654bd60b81ffd51a723a8839b8f5381feba                    0.024749   \n",
       "\n",
       "       regression_predictions  \n",
       "0                          30  \n",
       "1                           3  \n",
       "2                          10  \n",
       "3                          30  \n",
       "4                           6  \n",
       "...                       ...  \n",
       "16559                      10  \n",
       "16560                       3  \n",
       "16561                       1  \n",
       "16562                       3  \n",
       "16563                      10  \n",
       "\n",
       "[16564 rows x 3 columns]"
      ]
     },
     "execution_count": 324,
     "metadata": {},
     "output_type": "execute_result"
    }
   ],
   "source": [
    "sample_submission.drop(columns = ['path'])"
   ]
  },
  {
   "cell_type": "code",
   "execution_count": null,
   "id": "documentary-august",
   "metadata": {},
   "outputs": [],
   "source": []
  }
 ],
 "metadata": {
  "kernelspec": {
   "display_name": "Python 3",
   "language": "python",
   "name": "python3"
  },
  "language_info": {
   "codemirror_mode": {
    "name": "ipython",
    "version": 3
   },
   "file_extension": ".py",
   "mimetype": "text/x-python",
   "name": "python",
   "nbconvert_exporter": "python",
   "pygments_lexer": "ipython3",
   "version": "3.7.9"
  }
 },
 "nbformat": 4,
 "nbformat_minor": 5
}
