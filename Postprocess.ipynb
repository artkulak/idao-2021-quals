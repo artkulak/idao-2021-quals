{
 "cells": [
  {
   "cell_type": "code",
   "execution_count": null,
   "metadata": {},
   "outputs": [],
   "source": [
    "import pandas as pd"
   ]
  },
  {
   "cell_type": "code",
   "execution_count": 31,
   "metadata": {},
   "outputs": [],
   "source": [
    "df = pd.read_csv('submission.csv')"
   ]
  },
  {
   "cell_type": "code",
   "execution_count": 28,
   "metadata": {},
   "outputs": [],
   "source": [
    "import numpy as np\n",
    "import glob\n",
    "map_values = lambda array, values:  values[np.argmin(np.abs(array.reshape(-1,1) - values.reshape(1, -1)), axis = 1)]\n",
    "\n",
    "public_length = len(glob.glob('../files/idao_dataset/public_test/*'))\n",
    "public_zero_preds = np.argsort(df.iloc[:public_length]['classification_predictions'].values)[:public_length//2]\n",
    "public_one_preds = np.argsort(df.iloc[:public_length]['classification_predictions'].values)[public_length//2:]\n",
    "df.loc[public_zero_preds, 'regression_predictions'] = map_values(df.iloc[public_zero_preds, 2].values, np.array([1,6,20]))\n",
    "df.loc[public_one_preds, 'regression_predictions'] = map_values(df.iloc[public_one_preds, 2].values, np.array([3,10,30]))\n",
    "\n",
    "private_length = df.shape[0] - public_length\n",
    "private_zero_preds = public_length + np.argsort(df.iloc[public_length:]['classification_predictions'].values)[:private_length//2]\n",
    "private_one_preds = public_length + np.argsort(df.iloc[public_length:]['classification_predictions'].values)[private_length//2:]\n",
    "df.loc[private_zero_preds, 'regression_predictions'] = map_values(df.iloc[private_zero_preds, 2].values, np.array([3,10,30]))\n",
    "df.loc[private_one_preds, 'regression_predictions'] = map_values(df.iloc[private_one_preds, 2].values, np.array([1,6,20]))"
   ]
  },
  {
   "cell_type": "code",
   "execution_count": 29,
   "metadata": {},
   "outputs": [],
   "source": [
    "df.to_csv('submission_postprocessed.csv', index = None)"
   ]
  },
  {
   "cell_type": "markdown",
   "metadata": {},
   "source": [
    "## Calc metric"
   ]
  },
  {
   "cell_type": "code",
   "execution_count": 8,
   "metadata": {},
   "outputs": [],
   "source": [
    "map_values = lambda array, values:  values[np.argmin(np.abs(array.reshape(-1,1) - values.reshape(1, -1)), axis = 1)]"
   ]
  },
  {
   "cell_type": "code",
   "execution_count": 9,
   "metadata": {},
   "outputs": [],
   "source": [
    "auc = lambda score_orig, score_swapped: score_orig/1000 + 1/2 * (1 - (score_swapped + score_orig)/1000) \n",
    "mae = lambda score_orig, score_swapped: 1/2 * (1 - (score_swapped + score_orig)/1000)"
   ]
  },
  {
   "cell_type": "markdown",
   "metadata": {},
   "source": [
    "## Postproc"
   ]
  },
  {
   "cell_type": "code",
   "execution_count": 10,
   "metadata": {},
   "outputs": [
    {
     "data": {
      "text/plain": [
       "0.980705"
      ]
     },
     "execution_count": 10,
     "metadata": {},
     "output_type": "execute_result"
    }
   ],
   "source": [
    "auc(40.56, -920.85)"
   ]
  },
  {
   "cell_type": "code",
   "execution_count": 12,
   "metadata": {},
   "outputs": [
    {
     "data": {
      "text/plain": [
       "0.940145"
      ]
     },
     "execution_count": 12,
     "metadata": {},
     "output_type": "execute_result"
    }
   ],
   "source": [
    "mae(40.56, -920.85)"
   ]
  }
 ],
 "metadata": {
  "kernelspec": {
   "display_name": "Python 3",
   "language": "python",
   "name": "python3"
  },
  "language_info": {
   "codemirror_mode": {
    "name": "ipython",
    "version": 3
   },
   "file_extension": ".py",
   "mimetype": "text/x-python",
   "name": "python",
   "nbconvert_exporter": "python",
   "pygments_lexer": "ipython3",
   "version": "3.6.6"
  }
 },
 "nbformat": 4,
 "nbformat_minor": 5
}
