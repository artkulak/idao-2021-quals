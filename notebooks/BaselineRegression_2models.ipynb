{
 "cells": [
  {
   "cell_type": "code",
   "execution_count": 1,
   "metadata": {},
   "outputs": [],
   "source": [
    "import torch\n",
    "from torch import nn, optim\n",
    "import torchvision\n",
    "from torchvision import transforms, datasets, models, utils\n",
    "from torch.utils.data import Dataset, DataLoader \n",
    "from PIL import Image\n",
    "from sklearn.model_selection import train_test_split\n",
    "from torch.nn import functional as F\n",
    "from skimage import io, transform\n",
    "from torch.optim import lr_scheduler\n",
    "from skimage.transform import AffineTransform, warp\n",
    "from sklearn.metrics import roc_auc_score, mean_absolute_error\n",
    "\n",
    "import pandas as pd\n",
    "from pathlib import Path\n",
    "import os\n",
    "import cv2\n",
    "import matplotlib.pyplot as plt\n",
    "import numpy as np\n",
    "import random\n",
    "# from efficientnet_pytorch import EfficientNet\n",
    "\n",
    "INPUT_PATH = Path('../input')\n",
    "OUTPUT_PATH = Path('../output')\n",
    "TRAIN_PATH = INPUT_PATH / 'idao_dataset' / 'train'\n",
    "PRIVATE_PATH = INPUT_PATH / 'idao_dataset' / 'private_test'\n",
    "PUBLIC_PATH = INPUT_PATH / 'idao_dataset' / 'public_test'\n",
    "\n",
    "RANDOM_SEED = 4444\n",
    "def seed_everything(seed=1234):\n",
    "    random.seed(seed)\n",
    "    os.environ['PYTHONHASHSEED'] = str(seed)\n",
    "    np.random.seed(seed)\n",
    "    torch.manual_seed(seed)\n",
    "    torch.cuda.manual_seed(seed)\n",
    "    torch.backends.cudnn.deterministic = True\n",
    "seed_everything(RANDOM_SEED)"
   ]
  },
  {
   "cell_type": "markdown",
   "metadata": {},
   "source": [
    "## Data prep"
   ]
  },
  {
   "cell_type": "code",
   "execution_count": 2,
   "metadata": {},
   "outputs": [],
   "source": [
    "mapper1 = {\n",
    "    1:[1, 0, 0, 0, 0, 0],\n",
    "    3:[0, 1, 0, 0, 0, 0],\n",
    "    6:[0, 0, 1, 0, 0, 0],\n",
    "    10:[0, 0, 0, 1, 0, 0],\n",
    "    20:[0, 0, 0, 0, 1, 0],\n",
    "    30:[0, 0, 0, 0, 0, 1],\n",
    "}\n",
    "\n",
    "mapper2 = {\n",
    "    1:0,\n",
    "    3:1,\n",
    "    6:2,\n",
    "    10:3,\n",
    "    20:4,\n",
    "    30:5,\n",
    "}\n",
    "\n",
    "reverse_mapping = {\n",
    "    0: 1,\n",
    "    1: 3,\n",
    "    2: 6,\n",
    "    3: 10,\n",
    "    4: 20,\n",
    "    5: 30\n",
    "}"
   ]
  },
  {
   "cell_type": "code",
   "execution_count": 3,
   "metadata": {},
   "outputs": [],
   "source": [
    "import glob\n",
    "images = glob.glob(str(TRAIN_PATH / '**/*.png'), recursive=True)\n",
    "\n",
    "train_images, test_images = train_test_split(images, shuffle = True, random_state = RANDOM_SEED)"
   ]
  },
  {
   "cell_type": "code",
   "execution_count": 4,
   "metadata": {},
   "outputs": [],
   "source": [
    "def calc_metric(y_binary_true, y_binary_pred, y_reg_true, y_reg_pred):\n",
    "    '''\n",
    "    Competition metric\n",
    "    '''\n",
    "    \n",
    "    roc = roc_auc_score(y_binary_true, y_binary_pred)\n",
    "    mae = mean_absolute_error(y_reg_true, y_reg_pred)\n",
    "    return 1000 * (roc - mae), roc, mae"
   ]
  },
  {
   "cell_type": "code",
   "execution_count": 31,
   "metadata": {},
   "outputs": [],
   "source": [
    "class DataGetter(Dataset):\n",
    "    def __init__(self, image_paths, train=True, transform=None):\n",
    " \n",
    "        self.image_paths = image_paths \n",
    "        self.transform=transform\n",
    "        \n",
    "    def __len__(self):\n",
    "        return len(self.image_paths)\n",
    "    \n",
    "    def __getitem__(self, idx):\n",
    "        image=cv2.imread(self.image_paths[idx])\n",
    "        if len(self.image_paths[idx].split('_')) == 18:\n",
    "            particle_class = 0 # ER\n",
    "            particle_energy = int(self.image_paths[idx].split('_')[7])\n",
    "        else:\n",
    "            particle_class = 1 # HE\n",
    "            particle_energy = int(self.image_paths[idx].split('_')[8])\n",
    "        \n",
    "        sample={\n",
    "            'image': np.uint8(image), \n",
    "            'particle_class': particle_class,\n",
    "            'particle_energy': particle_energy\n",
    "            }\n",
    "\n",
    "        #Applying transformation\n",
    "        if self.transform:\n",
    "            sample['image']=self.transform(sample['image'])\n",
    "            \n",
    "        return sample"
   ]
  },
  {
   "cell_type": "code",
   "execution_count": 32,
   "metadata": {},
   "outputs": [],
   "source": [
    "augs = transforms.Compose([\n",
    "    transforms.ToPILImage(),\n",
    "    transforms.Resize([128,128]),\n",
    "    transforms.ToTensor(),\n",
    "    transforms.Normalize((0.485, 0.456, 0.406), (0.229, 0.224, 0.225)), \n",
    "    ])"
   ]
  },
  {
   "cell_type": "code",
   "execution_count": 33,
   "metadata": {},
   "outputs": [],
   "source": [
    "transformed_train_data = DataGetter(train_images, train=True, transform=augs)\n",
    "transformed_test_data = DataGetter(test_images, train=False, transform=augs)\n",
    "\n",
    "train_dataloader = DataLoader(transformed_train_data, batch_size=32, shuffle=True) #, num_workers=2\n",
    "test_dataloader = DataLoader(transformed_test_data, batch_size=32, shuffle=True)"
   ]
  },
  {
   "cell_type": "markdown",
   "metadata": {},
   "source": [
    "## Training classification"
   ]
  },
  {
   "cell_type": "code",
   "execution_count": 9,
   "metadata": {},
   "outputs": [],
   "source": [
    "import torchvision.models as models\n",
    "\n",
    "class CNNClassification(nn.Module):\n",
    "    def __init__(self, pretrained=False):\n",
    "        super(CNNClassification, self).__init__()\n",
    "        if pretrained:\n",
    "            self.model = models.resnet18(pretrained=True)\n",
    "        else:\n",
    "            self.model = models.resnet18()\n",
    "        self.model = nn.Sequential(*list(self.model.children())[:-1])\n",
    "        \n",
    "        self.fc0 = nn.Linear(512, 64)\n",
    "        self.fc1 = nn.Linear(64, 2)  # For classification\n",
    "        \n",
    "        self.relu = nn.ReLU()\n",
    "        \n",
    "    def forward(self, x):\n",
    "        bs, _, _, _ = x.shape\n",
    "        x = self.model(x)\n",
    "        x = F.adaptive_avg_pool2d(x, 1).reshape(bs, -1)\n",
    "        x = self.relu(self.fc0(x))\n",
    "        particle_class = torch.softmax(self.fc1(x), dim = 1)\n",
    "        return {'particle_class': particle_class}\n",
    "device = torch.device(\"cuda:0\" if torch.cuda.is_available() else \"cpu\")\n",
    "model_cl = CNNClassification(False).to(device)"
   ]
  },
  {
   "cell_type": "code",
   "execution_count": 10,
   "metadata": {},
   "outputs": [],
   "source": [
    "# for item in train_dataloader:\n",
    "#     img = item['image']\n",
    "#     break\n",
    "# model_CNN(img.to(device))"
   ]
  },
  {
   "cell_type": "code",
   "execution_count": 11,
   "metadata": {},
   "outputs": [],
   "source": [
    "#For binary output:particle_class\n",
    "criterion_binary= nn.CrossEntropyLoss()\n",
    "optimizer = optim.Adam(model_cl.parameters(), lr=1e-3)"
   ]
  },
  {
   "cell_type": "code",
   "execution_count": 13,
   "metadata": {},
   "outputs": [],
   "source": [
    "def train_model(model, criterion_binary, optimizer, n_epochs=5):\n",
    "    \"\"\"returns trained model\"\"\"\n",
    "    # initialize tracker for minimum validation loss\n",
    "    valid_loss_min = np.Inf\n",
    "    for epoch in range(1, n_epochs):\n",
    "        train_loss = 0.0\n",
    "        valid_loss = 0.0\n",
    "        comp_metric = 0 \n",
    "        comp_val_metric = 0\n",
    "        batches = 0\n",
    "        val_batches = 0\n",
    "        max_batches = 256\n",
    "        # train the model #\n",
    "        model.train()\n",
    "        for batch_idx, sample_batched in enumerate(train_dataloader):\n",
    "            if batches > max_batches:\n",
    "                break\n",
    "            # importing data and moving to GPU\n",
    "            image, particle_class = sample_batched['image'].to(device),\\\n",
    "                                             sample_batched['particle_class'].to(device)\n",
    "            \n",
    "            # zero the parameter gradients\n",
    "            optimizer.zero_grad()\n",
    "            output = model(image)\n",
    "            label_class = output['particle_class']\n",
    "    \n",
    "            \n",
    "            particle_class = particle_class.squeeze().type(torch.LongTensor).to(device)\n",
    "            \n",
    "            \n",
    "            y_pred_binary = label_class.cpu().detach().numpy()[:, 1]\n",
    "            y_true_binary = particle_class.cpu().detach().numpy()\n",
    "            \n",
    "            roc = roc_auc_score(y_true_binary, y_pred_binary) \n",
    "\n",
    "            loss_binary = criterion_binary(label_class, particle_class)\n",
    "            \n",
    "            torch.cuda.empty_cache()\n",
    "            loss = loss_binary\n",
    "            # back prop\n",
    "            loss.backward()\n",
    "            # grad\n",
    "            optimizer.step()\n",
    "            train_loss = train_loss + ((1 / (batch_idx + 1)) * (loss.data - train_loss))\n",
    "            if batch_idx % 50 == 0:\n",
    "                print('Epoch %d, Batch %d loss: %.6f ROC AUC %.6f' %\n",
    "                  (epoch, batch_idx + 1, train_loss, roc))\n",
    "            batches += 1\n",
    "        # validate the model #\n",
    "        model.eval()\n",
    "        \n",
    "        y_preds = []\n",
    "        y_trues = []\n",
    "        for batch_idx, sample_batched in enumerate(test_dataloader):\n",
    "            if val_batches > max_batches:\n",
    "                break\n",
    "            image, particle_class = sample_batched['image'].to(device),\\\n",
    "                                             sample_batched['particle_class'].to(device)\n",
    "                                              \n",
    "            \n",
    "            output = model(image)\n",
    "\n",
    "            label_class = output['particle_class']\n",
    "\n",
    "            \n",
    "            particle_class = particle_class.squeeze().type(torch.LongTensor).to(device)\n",
    "            \n",
    "            \n",
    "            y_pred_binary = label_class.cpu().detach().numpy()[:, 1]\n",
    "            y_true_binary = particle_class.cpu().detach().numpy()\n",
    "            \n",
    "            y_preds.extend(list(y_pred_binary))\n",
    "            y_trues.extend(list(y_true_binary))\n",
    "            \n",
    "            # calculate loss\n",
    "            loss_binary = criterion_binary(label_class, particle_class)\n",
    "            \n",
    "            loss = loss_binary\n",
    "            valid_loss = valid_loss + ((1 / (batch_idx + 1)) * (loss.data - valid_loss))\n",
    "            val_batches += 1\n",
    "        \n",
    "        roc_val = roc_auc_score(y_trues, y_preds) \n",
    "        # print training/validation statistics \n",
    "        print('Epoch: {} \\tTraining Loss: {:.6f} \\tValidation Loss: {:.6f} \\t ROC AUC {:.6f}'.format(\n",
    "            epoch, train_loss, valid_loss, roc_val))\n",
    "        \n",
    "        ## TODO: save the model if validation loss has decreased\n",
    "        if valid_loss < valid_loss_min:\n",
    "            torch.save(model, OUTPUT_PATH / 'model_classification.pt')\n",
    "            print('Validation loss decreased ({:.6f} --> {:.6f}).  Saving model ...'.format(\n",
    "            valid_loss_min,\n",
    "            valid_loss))\n",
    "            valid_loss_min = valid_loss\n",
    "    # return trained model\n",
    "    return model"
   ]
  },
  {
   "cell_type": "code",
   "execution_count": 14,
   "metadata": {},
   "outputs": [
    {
     "name": "stdout",
     "output_type": "stream",
     "text": [
      "Epoch 1, Batch 1 loss: 0.694436 ROC AUC 0.517647\n",
      "Epoch 1, Batch 51 loss: 0.419119 ROC AUC 1.000000\n",
      "Epoch 1, Batch 101 loss: 0.383787 ROC AUC 1.000000\n",
      "Epoch 1, Batch 151 loss: 0.365572 ROC AUC 1.000000\n",
      "Epoch 1, Batch 201 loss: 0.353748 ROC AUC 1.000000\n",
      "Epoch 1, Batch 251 loss: 0.348886 ROC AUC 1.000000\n",
      "Epoch: 1 \tTraining Loss: 0.348269 \tValidation Loss: 0.814128 \t ROC AUC 0.985322\n",
      "Validation loss decreased (inf --> 0.814128).  Saving model ...\n",
      "Epoch 2, Batch 1 loss: 0.313323 ROC AUC 1.000000\n",
      "Epoch 2, Batch 51 loss: 0.320365 ROC AUC 1.000000\n",
      "Epoch 2, Batch 101 loss: 0.320129 ROC AUC 1.000000\n",
      "Epoch 2, Batch 151 loss: 0.327909 ROC AUC 1.000000\n",
      "Epoch 2, Batch 201 loss: 0.326355 ROC AUC 1.000000\n",
      "Epoch 2, Batch 251 loss: 0.324331 ROC AUC 1.000000\n",
      "Epoch: 2 \tTraining Loss: 0.324073 \tValidation Loss: 0.314672 \t ROC AUC 0.999992\n",
      "Validation loss decreased (0.814128 --> 0.314672).  Saving model ...\n",
      "Epoch 3, Batch 1 loss: 0.313262 ROC AUC 1.000000\n",
      "Epoch 3, Batch 51 loss: 0.364007 ROC AUC 0.874494\n",
      "Epoch 3, Batch 101 loss: 0.367166 ROC AUC 1.000000\n",
      "Epoch 3, Batch 151 loss: 0.352705 ROC AUC 1.000000\n",
      "Epoch 3, Batch 201 loss: 0.343385 ROC AUC 1.000000\n",
      "Epoch 3, Batch 251 loss: 0.337898 ROC AUC 1.000000\n",
      "Epoch: 3 \tTraining Loss: 0.338648 \tValidation Loss: 0.814245 \t ROC AUC 0.500000\n",
      "Epoch 4, Batch 1 loss: 0.427270 ROC AUC 0.956250\n",
      "Epoch 4, Batch 51 loss: 0.343139 ROC AUC 0.996078\n",
      "Epoch 4, Batch 101 loss: 0.332456 ROC AUC 1.000000\n",
      "Epoch 4, Batch 151 loss: 0.327119 ROC AUC 1.000000\n",
      "Epoch 4, Batch 201 loss: 0.331093 ROC AUC 1.000000\n",
      "Epoch 4, Batch 251 loss: 0.329551 ROC AUC 1.000000\n",
      "Epoch: 4 \tTraining Loss: 0.329359 \tValidation Loss: 0.324080 \t ROC AUC 0.997304\n"
     ]
    }
   ],
   "source": [
    "model_cl = train_model(model_cl, criterion_binary, optimizer)"
   ]
  },
  {
   "cell_type": "markdown",
   "metadata": {},
   "source": [
    "## Training regression"
   ]
  },
  {
   "cell_type": "code",
   "execution_count": 34,
   "metadata": {},
   "outputs": [],
   "source": [
    "import torchvision.models as models\n",
    "\n",
    "class CNNReg(nn.Module):\n",
    "    def __init__(self, pretrained=False):\n",
    "        super(CNNReg, self).__init__()\n",
    "        if pretrained:\n",
    "            self.model = models.resnet18(pretrained=True)\n",
    "        else:\n",
    "            self.model = models.resnet18()\n",
    "        self.model = nn.Sequential(*list(self.model.children())[:-1])\n",
    "        \n",
    "        self.fc0 = nn.Linear(512, 64)\n",
    "        self.fc1 = nn.Linear(64, 1)\n",
    "        \n",
    "        self.relu = nn.ReLU()\n",
    "        \n",
    "    def forward(self, x):\n",
    "        bs, _, _, _ = x.shape\n",
    "        x = self.model(x)\n",
    "        x = F.adaptive_avg_pool2d(x, 1).reshape(bs, -1)\n",
    "        x = self.relu(self.fc0(x))\n",
    "        particle_energy = self.fc1(x)\n",
    "        return {'particle_energy': particle_energy}\n",
    "device = torch.device(\"cuda:0\" if torch.cuda.is_available() else \"cpu\")\n",
    "model_reg = CNNReg(False).to(device)"
   ]
  },
  {
   "cell_type": "code",
   "execution_count": 35,
   "metadata": {},
   "outputs": [],
   "source": [
    "criterion_reg= nn.L1Loss()\n",
    "optimizer = optim.Adam(model_reg.parameters(), lr=1e-3)"
   ]
  },
  {
   "cell_type": "code",
   "execution_count": 36,
   "metadata": {},
   "outputs": [
    {
     "data": {
      "text/plain": [
       "{'particle_energy': tensor([[-0.0255],\n",
       "         [-0.0664],\n",
       "         [-0.0043],\n",
       "         [-0.0309],\n",
       "         [-0.0711],\n",
       "         [-0.0333],\n",
       "         [-0.1106],\n",
       "         [-0.0597],\n",
       "         [-0.0341],\n",
       "         [-0.0332],\n",
       "         [ 0.0095],\n",
       "         [-0.0983],\n",
       "         [-0.1056],\n",
       "         [-0.0271],\n",
       "         [-0.0753],\n",
       "         [-0.0827],\n",
       "         [-0.0562],\n",
       "         [-0.0565],\n",
       "         [-0.0620],\n",
       "         [ 0.0111],\n",
       "         [-0.0771],\n",
       "         [-0.0611],\n",
       "         [-0.0417],\n",
       "         [-0.0589],\n",
       "         [-0.0124],\n",
       "         [-0.0313],\n",
       "         [-0.1279],\n",
       "         [-0.0512],\n",
       "         [-0.0298],\n",
       "         [-0.0297],\n",
       "         [-0.0540],\n",
       "         [-0.0438]], device='cuda:0', grad_fn=<AddmmBackward>)}"
      ]
     },
     "execution_count": 36,
     "metadata": {},
     "output_type": "execute_result"
    }
   ],
   "source": [
    "for item in train_dataloader:\n",
    "    img = item['image']\n",
    "    break\n",
    "model_reg(img.to(device))"
   ]
  },
  {
   "cell_type": "code",
   "execution_count": 37,
   "metadata": {},
   "outputs": [],
   "source": [
    "def train_model_reg(model, criterion_reg, optimizer, n_epochs=5):\n",
    "    \"\"\"returns trained model\"\"\"\n",
    "    # initialize tracker for minimum validation loss\n",
    "    valid_loss_min = np.Inf\n",
    "    for epoch in range(1, n_epochs):\n",
    "        train_loss = 0.0\n",
    "        valid_loss = 0.0\n",
    "        comp_metric = 0 \n",
    "        comp_val_metric = 0\n",
    "        batches = 0\n",
    "        val_batches = 0\n",
    "        max_batches = 256\n",
    "        # train the model #\n",
    "        model.train()\n",
    "        y_preds = []\n",
    "        y_trues = []\n",
    "        for batch_idx, sample_batched in enumerate(train_dataloader):\n",
    "            if batches > max_batches:\n",
    "                break\n",
    "            # importing data and moving to GPU\n",
    "            image, particle_energy = sample_batched['image'].to(device),\\\n",
    "                                             sample_batched['particle_energy'].to(device)\n",
    "            \n",
    "            # zero the parameter gradients\n",
    "            optimizer.zero_grad()\n",
    "            output = model(image)\n",
    "            label_energy = output['particle_energy']\n",
    "    \n",
    "            \n",
    "            particle_energy = particle_energy.squeeze().type(torch.FloatTensor).to(device)\n",
    "            \n",
    "            \n",
    "            y_pred_reg = label_energy.cpu().detach().numpy()\n",
    "            #y_pred_reg = [reverse_mapping[x] for x in list(np.argmax(y_pred_reg, axis = 1))]\n",
    "            \n",
    "            y_true_reg = particle_energy.cpu().detach().numpy()\n",
    "            #y_true_reg = [reverse_mapping[x] for x in list(y_true_reg)]\n",
    "            \n",
    "            \n",
    "            mae = mean_absolute_error(y_true_reg, y_pred_reg) \n",
    "\n",
    "            loss_reg = criterion_reg(label_energy.reshape(-1), particle_energy)\n",
    "            \n",
    "            y_preds.extend(list(y_pred_reg))\n",
    "            y_trues.extend(list(y_true_reg))\n",
    "            \n",
    "            \n",
    "            torch.cuda.empty_cache()\n",
    "            loss = loss_reg\n",
    "            # back prop\n",
    "            loss.backward()\n",
    "            # grad\n",
    "            optimizer.step()\n",
    "            train_loss = train_loss + ((1 / (batch_idx + 1)) * (loss.data - train_loss))\n",
    "            if batch_idx % 50 == 0:\n",
    "                print('Epoch %d, Batch %d loss: %.6f MAE %.6f' %\n",
    "                  (epoch, batch_idx + 1, train_loss, mae))\n",
    "            batches += 1\n",
    "        # validate the model #\n",
    "        model.eval()\n",
    "        \n",
    "        y_preds = []\n",
    "        y_trues = []\n",
    "        for batch_idx, sample_batched in enumerate(test_dataloader):\n",
    "            if val_batches > max_batches:\n",
    "                break\n",
    "            # importing data and moving to GPU\n",
    "            image, particle_energy = sample_batched['image'].to(device),\\\n",
    "                                             sample_batched['particle_energy'].to(device)\n",
    "            \n",
    "            # zero the parameter gradients\n",
    "            optimizer.zero_grad()\n",
    "            output = model(image)\n",
    "            label_energy = output['particle_energy']\n",
    "\n",
    "            \n",
    "            particle_energy = particle_energy.squeeze().type(torch.FloatTensor).to(device)\n",
    "            \n",
    "            \n",
    "            y_pred_reg = label_energy.cpu().detach().numpy()\n",
    "            #y_pred_reg = [reverse_mapping[x] for x in list(np.argmax(y_pred_reg, axis = 1))]\n",
    "            \n",
    "            y_true_reg = particle_energy.cpu().detach().numpy()\n",
    "            #y_true_reg = [reverse_mapping[x] for x in list(y_true_reg)]\n",
    "            \n",
    "            y_preds.extend(list(y_pred_reg))\n",
    "            y_trues.extend(list(y_true_reg))\n",
    "            \n",
    "\n",
    "            loss_reg = criterion_reg(label_energy.reshape(-1), particle_energy)\n",
    "            \n",
    "            loss = loss_reg\n",
    "            valid_loss = valid_loss + ((1 / (batch_idx + 1)) * (loss.data - valid_loss))\n",
    "            val_batches += 1\n",
    "        \n",
    "        mae_val = mean_absolute_error(y_trues, y_preds) \n",
    "        # print training/validation statistics \n",
    "        print('Epoch: {} \\tTraining Loss: {:.6f} \\tValidation Loss: {:.6f} \\t MAE {:.6f}'.format(\n",
    "            epoch, train_loss, valid_loss, mae_val))\n",
    "        \n",
    "        ## TODO: save the model if validation loss has decreased\n",
    "        if valid_loss < valid_loss_min:\n",
    "            torch.save(model, OUTPUT_PATH / 'model_regression.pt')\n",
    "            print('Validation loss decreased ({:.6f} --> {:.6f}).  Saving model ...'.format(\n",
    "            valid_loss_min,\n",
    "            valid_loss))\n",
    "            valid_loss_min = valid_loss\n",
    "    # return trained model\n",
    "    return model"
   ]
  },
  {
   "cell_type": "code",
   "execution_count": 38,
   "metadata": {},
   "outputs": [
    {
     "name": "stdout",
     "output_type": "stream",
     "text": [
      "Epoch 1, Batch 1 loss: 11.881562 MAE 11.881563\n",
      "Epoch 1, Batch 51 loss: 3.785183 MAE 2.001868\n",
      "Epoch 1, Batch 101 loss: 2.845062 MAE 1.975827\n",
      "Epoch 1, Batch 151 loss: 2.477610 MAE 2.870064\n",
      "Epoch 1, Batch 201 loss: 2.270208 MAE 0.798639\n",
      "Epoch 1, Batch 251 loss: 2.126450 MAE 2.523784\n",
      "Epoch: 1 \tTraining Loss: 2.107121 \tValidation Loss: 1.767886 \t MAE 1.767579\n",
      "Validation loss decreased (inf --> 1.767886).  Saving model ...\n",
      "Epoch 2, Batch 1 loss: 1.127111 MAE 1.127111\n",
      "Epoch 2, Batch 51 loss: 1.440896 MAE 1.172764\n",
      "Epoch 2, Batch 101 loss: 1.409017 MAE 1.086116\n",
      "Epoch 2, Batch 151 loss: 1.404670 MAE 0.848296\n",
      "Epoch 2, Batch 201 loss: 1.353096 MAE 0.720378\n",
      "Epoch 2, Batch 251 loss: 1.304661 MAE 2.185793\n",
      "Epoch: 2 \tTraining Loss: 1.302291 \tValidation Loss: 2.223934 \t MAE 2.225653\n",
      "Epoch 3, Batch 1 loss: 1.096357 MAE 1.096357\n",
      "Epoch 3, Batch 51 loss: 0.961057 MAE 0.516300\n",
      "Epoch 3, Batch 101 loss: 1.091048 MAE 2.216814\n",
      "Epoch 3, Batch 151 loss: 1.018790 MAE 0.817638\n",
      "Epoch 3, Batch 201 loss: 0.976668 MAE 0.937109\n",
      "Epoch 3, Batch 251 loss: 1.005086 MAE 0.903972\n",
      "Epoch: 3 \tTraining Loss: 1.003465 \tValidation Loss: 0.831816 \t MAE 0.831134\n",
      "Validation loss decreased (1.767886 --> 0.831816).  Saving model ...\n",
      "Epoch 4, Batch 1 loss: 0.855919 MAE 0.855919\n",
      "Epoch 4, Batch 51 loss: 0.745088 MAE 0.425448\n",
      "Epoch 4, Batch 101 loss: 0.684411 MAE 0.485716\n",
      "Epoch 4, Batch 151 loss: 0.665770 MAE 0.500756\n",
      "Epoch 4, Batch 201 loss: 0.627487 MAE 0.547383\n",
      "Epoch 4, Batch 251 loss: 0.589130 MAE 0.317363\n",
      "Epoch: 4 \tTraining Loss: 0.583383 \tValidation Loss: 0.346250 \t MAE 0.345867\n",
      "Validation loss decreased (0.831816 --> 0.346250).  Saving model ...\n"
     ]
    }
   ],
   "source": [
    "model_reg = train_model_reg(model_reg, criterion_reg, optimizer)"
   ]
  },
  {
   "cell_type": "markdown",
   "metadata": {},
   "source": [
    "## Sanity checks"
   ]
  },
  {
   "cell_type": "code",
   "execution_count": 39,
   "metadata": {},
   "outputs": [],
   "source": [
    "model_cl = torch.load(OUTPUT_PATH / 'model_classification.pt')\n",
    "model_cl.eval();\n",
    "\n",
    "model_reg = torch.load(OUTPUT_PATH / 'model_regression.pt')\n",
    "model_reg.eval();"
   ]
  },
  {
   "cell_type": "code",
   "execution_count": 40,
   "metadata": {},
   "outputs": [],
   "source": [
    "class TestDataGetter(Dataset):\n",
    "    def __init__(self, image_paths, train=True, transform=None):\n",
    " \n",
    "        self.image_paths = image_paths \n",
    "        self.transform=transform\n",
    "        \n",
    "    def __len__(self):\n",
    "        return len(self.image_paths)\n",
    "    \n",
    "    def __getitem__(self, idx):\n",
    "        image=cv2.imread(self.image_paths[idx])\n",
    "        \n",
    "        sample={\n",
    "            'image': np.uint8(image)\n",
    "            }\n",
    "\n",
    "        #Applying transformation\n",
    "        if self.transform:\n",
    "            sample['image']=self.transform(sample['image'])\n",
    "            \n",
    "        return sample"
   ]
  },
  {
   "cell_type": "code",
   "execution_count": 41,
   "metadata": {},
   "outputs": [],
   "source": [
    "private_test = glob.glob(str(PRIVATE_PATH / '**/*.png'), recursive=True)\n",
    "public_test = glob.glob(str(PUBLIC_PATH / '**/*.png'), recursive=True)"
   ]
  },
  {
   "cell_type": "code",
   "execution_count": 42,
   "metadata": {},
   "outputs": [],
   "source": [
    "private_test_getter = TestDataGetter(private_test, transform=augs)\n",
    "public_test_getter = TestDataGetter(public_test, transform=augs)\n",
    "\n",
    "private_test_dataloader = DataLoader(private_test_getter, batch_size=32, shuffle=False) #, num_workers=2\n",
    "public_test_dataloader = DataLoader(public_test_getter, batch_size=32, shuffle=False)"
   ]
  },
  {
   "cell_type": "code",
   "execution_count": 43,
   "metadata": {},
   "outputs": [
    {
     "data": {
      "text/plain": [
       "1    755\n",
       "0    747\n",
       "dtype: int64"
      ]
     },
     "execution_count": 43,
     "metadata": {},
     "output_type": "execute_result"
    }
   ],
   "source": [
    "# public set\n",
    "\n",
    "public_predictions = []\n",
    "for batch in public_test_dataloader:\n",
    "    imgs = batch['image'].to(device)\n",
    "    preds = model_cl(imgs)\n",
    "    preds = preds['particle_class'].cpu().detach().numpy()\n",
    "    preds = np.argmax(preds, axis = 1)\n",
    "    \n",
    "    public_predictions.extend(preds)\n",
    "pd.Series(public_predictions).value_counts()"
   ]
  },
  {
   "cell_type": "code",
   "execution_count": 44,
   "metadata": {},
   "outputs": [],
   "source": [
    "# public set\n",
    "\n",
    "public_predictions = []\n",
    "for batch in public_test_dataloader:\n",
    "    imgs = batch['image'].to(device)\n",
    "    preds = model_reg(imgs)\n",
    "    preds = preds['particle_energy'].cpu().detach().numpy().reshape(-1)\n",
    "    \n",
    "    public_predictions.extend(preds)"
   ]
  },
  {
   "cell_type": "code",
   "execution_count": 45,
   "metadata": {},
   "outputs": [
    {
     "name": "stderr",
     "output_type": "stream",
     "text": [
      "/opt/conda/lib/python3.7/site-packages/seaborn/distributions.py:2557: FutureWarning: `distplot` is a deprecated function and will be removed in a future version. Please adapt your code to use either `displot` (a figure-level function with similar flexibility) or `histplot` (an axes-level function for histograms).\n",
      "  warnings.warn(msg, FutureWarning)\n"
     ]
    },
    {
     "data": {
      "text/plain": [
       "<AxesSubplot:ylabel='Density'>"
      ]
     },
     "execution_count": 45,
     "metadata": {},
     "output_type": "execute_result"
    },
    {
     "data": {
      "image/png": "[encoded data removed]",
      "text/plain": [
       "<Figure size 432x288 with 1 Axes>"
      ]
     },
     "metadata": {
      "needs_background": "light"
     },
     "output_type": "display_data"
    }
   ],
   "source": [
    "sns.distplot(public_predictions)"
   ]
  },
  {
   "cell_type": "code",
   "execution_count": 98,
   "metadata": {},
   "outputs": [
    {
     "ename": "KeyboardInterrupt",
     "evalue": "",
     "output_type": "error",
     "traceback": [
      "\u001b[0;31m---------------------------------------------------------------------------\u001b[0m",
      "\u001b[0;31mKeyboardInterrupt\u001b[0m                         Traceback (most recent call last)",
      "\u001b[0;32m<ipython-input-98-c3a228adb8ec>\u001b[0m in \u001b[0;36m<module>\u001b[0;34m\u001b[0m\n\u001b[1;32m      2\u001b[0m \u001b[0;34m\u001b[0m\u001b[0m\n\u001b[1;32m      3\u001b[0m \u001b[0mprivate_predictions\u001b[0m \u001b[0;34m=\u001b[0m \u001b[0;34m[\u001b[0m\u001b[0;34m]\u001b[0m\u001b[0;34m\u001b[0m\u001b[0;34m\u001b[0m\u001b[0m\n\u001b[0;32m----> 4\u001b[0;31m \u001b[0;32mfor\u001b[0m \u001b[0mbatch\u001b[0m \u001b[0;32min\u001b[0m \u001b[0mprivate_test_dataloader\u001b[0m\u001b[0;34m:\u001b[0m\u001b[0;34m\u001b[0m\u001b[0;34m\u001b[0m\u001b[0m\n\u001b[0m\u001b[1;32m      5\u001b[0m     \u001b[0mimgs\u001b[0m \u001b[0;34m=\u001b[0m \u001b[0mbatch\u001b[0m\u001b[0;34m[\u001b[0m\u001b[0;34m'image'\u001b[0m\u001b[0;34m]\u001b[0m\u001b[0;34m.\u001b[0m\u001b[0mto\u001b[0m\u001b[0;34m(\u001b[0m\u001b[0mdevice\u001b[0m\u001b[0;34m)\u001b[0m\u001b[0;34m\u001b[0m\u001b[0;34m\u001b[0m\u001b[0m\n\u001b[1;32m      6\u001b[0m     \u001b[0mpreds\u001b[0m \u001b[0;34m=\u001b[0m \u001b[0mmodel\u001b[0m\u001b[0;34m(\u001b[0m\u001b[0mimgs\u001b[0m\u001b[0;34m)\u001b[0m\u001b[0;34m\u001b[0m\u001b[0;34m\u001b[0m\u001b[0m\n",
      "\u001b[0;32m/opt/conda/lib/python3.7/site-packages/torch/utils/data/dataloader.py\u001b[0m in \u001b[0;36m__next__\u001b[0;34m(self)\u001b[0m\n\u001b[1;32m    433\u001b[0m         \u001b[0;32mif\u001b[0m \u001b[0mself\u001b[0m\u001b[0;34m.\u001b[0m\u001b[0m_sampler_iter\u001b[0m \u001b[0;32mis\u001b[0m \u001b[0;32mNone\u001b[0m\u001b[0;34m:\u001b[0m\u001b[0;34m\u001b[0m\u001b[0;34m\u001b[0m\u001b[0m\n\u001b[1;32m    434\u001b[0m             \u001b[0mself\u001b[0m\u001b[0;34m.\u001b[0m\u001b[0m_reset\u001b[0m\u001b[0;34m(\u001b[0m\u001b[0;34m)\u001b[0m\u001b[0;34m\u001b[0m\u001b[0;34m\u001b[0m\u001b[0m\n\u001b[0;32m--> 435\u001b[0;31m         \u001b[0mdata\u001b[0m \u001b[0;34m=\u001b[0m \u001b[0mself\u001b[0m\u001b[0;34m.\u001b[0m\u001b[0m_next_data\u001b[0m\u001b[0;34m(\u001b[0m\u001b[0;34m)\u001b[0m\u001b[0;34m\u001b[0m\u001b[0;34m\u001b[0m\u001b[0m\n\u001b[0m\u001b[1;32m    436\u001b[0m         \u001b[0mself\u001b[0m\u001b[0;34m.\u001b[0m\u001b[0m_num_yielded\u001b[0m \u001b[0;34m+=\u001b[0m \u001b[0;36m1\u001b[0m\u001b[0;34m\u001b[0m\u001b[0;34m\u001b[0m\u001b[0m\n\u001b[1;32m    437\u001b[0m         \u001b[0;32mif\u001b[0m \u001b[0mself\u001b[0m\u001b[0;34m.\u001b[0m\u001b[0m_dataset_kind\u001b[0m \u001b[0;34m==\u001b[0m \u001b[0m_DatasetKind\u001b[0m\u001b[0;34m.\u001b[0m\u001b[0mIterable\u001b[0m \u001b[0;32mand\u001b[0m\u001b[0;31m \u001b[0m\u001b[0;31m\\\u001b[0m\u001b[0;34m\u001b[0m\u001b[0;34m\u001b[0m\u001b[0m\n",
      "\u001b[0;32m/opt/conda/lib/python3.7/site-packages/torch/utils/data/dataloader.py\u001b[0m in \u001b[0;36m_next_data\u001b[0;34m(self)\u001b[0m\n\u001b[1;32m    473\u001b[0m     \u001b[0;32mdef\u001b[0m \u001b[0m_next_data\u001b[0m\u001b[0;34m(\u001b[0m\u001b[0mself\u001b[0m\u001b[0;34m)\u001b[0m\u001b[0;34m:\u001b[0m\u001b[0;34m\u001b[0m\u001b[0;34m\u001b[0m\u001b[0m\n\u001b[1;32m    474\u001b[0m         \u001b[0mindex\u001b[0m \u001b[0;34m=\u001b[0m \u001b[0mself\u001b[0m\u001b[0;34m.\u001b[0m\u001b[0m_next_index\u001b[0m\u001b[0;34m(\u001b[0m\u001b[0;34m)\u001b[0m  \u001b[0;31m# may raise StopIteration\u001b[0m\u001b[0;34m\u001b[0m\u001b[0;34m\u001b[0m\u001b[0m\n\u001b[0;32m--> 475\u001b[0;31m         \u001b[0mdata\u001b[0m \u001b[0;34m=\u001b[0m \u001b[0mself\u001b[0m\u001b[0;34m.\u001b[0m\u001b[0m_dataset_fetcher\u001b[0m\u001b[0;34m.\u001b[0m\u001b[0mfetch\u001b[0m\u001b[0;34m(\u001b[0m\u001b[0mindex\u001b[0m\u001b[0;34m)\u001b[0m  \u001b[0;31m# may raise StopIteration\u001b[0m\u001b[0;34m\u001b[0m\u001b[0;34m\u001b[0m\u001b[0m\n\u001b[0m\u001b[1;32m    476\u001b[0m         \u001b[0;32mif\u001b[0m \u001b[0mself\u001b[0m\u001b[0;34m.\u001b[0m\u001b[0m_pin_memory\u001b[0m\u001b[0;34m:\u001b[0m\u001b[0;34m\u001b[0m\u001b[0;34m\u001b[0m\u001b[0m\n\u001b[1;32m    477\u001b[0m             \u001b[0mdata\u001b[0m \u001b[0;34m=\u001b[0m \u001b[0m_utils\u001b[0m\u001b[0;34m.\u001b[0m\u001b[0mpin_memory\u001b[0m\u001b[0;34m.\u001b[0m\u001b[0mpin_memory\u001b[0m\u001b[0;34m(\u001b[0m\u001b[0mdata\u001b[0m\u001b[0;34m)\u001b[0m\u001b[0;34m\u001b[0m\u001b[0;34m\u001b[0m\u001b[0m\n",
      "\u001b[0;32m/opt/conda/lib/python3.7/site-packages/torch/utils/data/_utils/fetch.py\u001b[0m in \u001b[0;36mfetch\u001b[0;34m(self, possibly_batched_index)\u001b[0m\n\u001b[1;32m     42\u001b[0m     \u001b[0;32mdef\u001b[0m \u001b[0mfetch\u001b[0m\u001b[0;34m(\u001b[0m\u001b[0mself\u001b[0m\u001b[0;34m,\u001b[0m \u001b[0mpossibly_batched_index\u001b[0m\u001b[0;34m)\u001b[0m\u001b[0;34m:\u001b[0m\u001b[0;34m\u001b[0m\u001b[0;34m\u001b[0m\u001b[0m\n\u001b[1;32m     43\u001b[0m         \u001b[0;32mif\u001b[0m \u001b[0mself\u001b[0m\u001b[0;34m.\u001b[0m\u001b[0mauto_collation\u001b[0m\u001b[0;34m:\u001b[0m\u001b[0;34m\u001b[0m\u001b[0;34m\u001b[0m\u001b[0m\n\u001b[0;32m---> 44\u001b[0;31m             \u001b[0mdata\u001b[0m \u001b[0;34m=\u001b[0m \u001b[0;34m[\u001b[0m\u001b[0mself\u001b[0m\u001b[0;34m.\u001b[0m\u001b[0mdataset\u001b[0m\u001b[0;34m[\u001b[0m\u001b[0midx\u001b[0m\u001b[0;34m]\u001b[0m \u001b[0;32mfor\u001b[0m \u001b[0midx\u001b[0m \u001b[0;32min\u001b[0m \u001b[0mpossibly_batched_index\u001b[0m\u001b[0;34m]\u001b[0m\u001b[0;34m\u001b[0m\u001b[0;34m\u001b[0m\u001b[0m\n\u001b[0m\u001b[1;32m     45\u001b[0m         \u001b[0;32melse\u001b[0m\u001b[0;34m:\u001b[0m\u001b[0;34m\u001b[0m\u001b[0;34m\u001b[0m\u001b[0m\n\u001b[1;32m     46\u001b[0m             \u001b[0mdata\u001b[0m \u001b[0;34m=\u001b[0m \u001b[0mself\u001b[0m\u001b[0;34m.\u001b[0m\u001b[0mdataset\u001b[0m\u001b[0;34m[\u001b[0m\u001b[0mpossibly_batched_index\u001b[0m\u001b[0;34m]\u001b[0m\u001b[0;34m\u001b[0m\u001b[0;34m\u001b[0m\u001b[0m\n",
      "\u001b[0;32m/opt/conda/lib/python3.7/site-packages/torch/utils/data/_utils/fetch.py\u001b[0m in \u001b[0;36m<listcomp>\u001b[0;34m(.0)\u001b[0m\n\u001b[1;32m     42\u001b[0m     \u001b[0;32mdef\u001b[0m \u001b[0mfetch\u001b[0m\u001b[0;34m(\u001b[0m\u001b[0mself\u001b[0m\u001b[0;34m,\u001b[0m \u001b[0mpossibly_batched_index\u001b[0m\u001b[0;34m)\u001b[0m\u001b[0;34m:\u001b[0m\u001b[0;34m\u001b[0m\u001b[0;34m\u001b[0m\u001b[0m\n\u001b[1;32m     43\u001b[0m         \u001b[0;32mif\u001b[0m \u001b[0mself\u001b[0m\u001b[0;34m.\u001b[0m\u001b[0mauto_collation\u001b[0m\u001b[0;34m:\u001b[0m\u001b[0;34m\u001b[0m\u001b[0;34m\u001b[0m\u001b[0m\n\u001b[0;32m---> 44\u001b[0;31m             \u001b[0mdata\u001b[0m \u001b[0;34m=\u001b[0m \u001b[0;34m[\u001b[0m\u001b[0mself\u001b[0m\u001b[0;34m.\u001b[0m\u001b[0mdataset\u001b[0m\u001b[0;34m[\u001b[0m\u001b[0midx\u001b[0m\u001b[0;34m]\u001b[0m \u001b[0;32mfor\u001b[0m \u001b[0midx\u001b[0m \u001b[0;32min\u001b[0m \u001b[0mpossibly_batched_index\u001b[0m\u001b[0;34m]\u001b[0m\u001b[0;34m\u001b[0m\u001b[0;34m\u001b[0m\u001b[0m\n\u001b[0m\u001b[1;32m     45\u001b[0m         \u001b[0;32melse\u001b[0m\u001b[0;34m:\u001b[0m\u001b[0;34m\u001b[0m\u001b[0;34m\u001b[0m\u001b[0m\n\u001b[1;32m     46\u001b[0m             \u001b[0mdata\u001b[0m \u001b[0;34m=\u001b[0m \u001b[0mself\u001b[0m\u001b[0;34m.\u001b[0m\u001b[0mdataset\u001b[0m\u001b[0;34m[\u001b[0m\u001b[0mpossibly_batched_index\u001b[0m\u001b[0;34m]\u001b[0m\u001b[0;34m\u001b[0m\u001b[0;34m\u001b[0m\u001b[0m\n",
      "\u001b[0;32m<ipython-input-72-ff44b226d7af>\u001b[0m in \u001b[0;36m__getitem__\u001b[0;34m(self, idx)\u001b[0m\n\u001b[1;32m      9\u001b[0m \u001b[0;34m\u001b[0m\u001b[0m\n\u001b[1;32m     10\u001b[0m     \u001b[0;32mdef\u001b[0m \u001b[0m__getitem__\u001b[0m\u001b[0;34m(\u001b[0m\u001b[0mself\u001b[0m\u001b[0;34m,\u001b[0m \u001b[0midx\u001b[0m\u001b[0;34m)\u001b[0m\u001b[0;34m:\u001b[0m\u001b[0;34m\u001b[0m\u001b[0;34m\u001b[0m\u001b[0m\n\u001b[0;32m---> 11\u001b[0;31m         \u001b[0mimage\u001b[0m\u001b[0;34m=\u001b[0m\u001b[0mcv2\u001b[0m\u001b[0;34m.\u001b[0m\u001b[0mimread\u001b[0m\u001b[0;34m(\u001b[0m\u001b[0mself\u001b[0m\u001b[0;34m.\u001b[0m\u001b[0mimage_paths\u001b[0m\u001b[0;34m[\u001b[0m\u001b[0midx\u001b[0m\u001b[0;34m]\u001b[0m\u001b[0;34m)\u001b[0m\u001b[0;34m\u001b[0m\u001b[0;34m\u001b[0m\u001b[0m\n\u001b[0m\u001b[1;32m     12\u001b[0m \u001b[0;34m\u001b[0m\u001b[0m\n\u001b[1;32m     13\u001b[0m         sample={\n",
      "\u001b[0;31mKeyboardInterrupt\u001b[0m: "
     ]
    }
   ],
   "source": [
    "# private set\n",
    "\n",
    "private_predictions = []\n",
    "for batch in private_test_dataloader:\n",
    "    imgs = batch['image'].to(device)\n",
    "    preds = model(imgs)\n",
    "    preds = preds['particle_class'].cpu().detach().numpy()\n",
    "    preds = np.argmax(preds, axis = 1)\n",
    "    \n",
    "    private_predictions.extend(preds)\n",
    "pd.Series(private_predictions).value_counts()"
   ]
  },
  {
   "cell_type": "markdown",
   "metadata": {},
   "source": [
    "## Predict for test"
   ]
  },
  {
   "cell_type": "code",
   "execution_count": 69,
   "metadata": {},
   "outputs": [],
   "source": [
    "model_cl = torch.load(OUTPUT_PATH / 'model_classification.pt')\n",
    "model_cl.eval();\n",
    "\n",
    "model_reg = torch.load(OUTPUT_PATH / 'model_regression.pt')\n",
    "model_reg.eval();"
   ]
  },
  {
   "cell_type": "code",
   "execution_count": 46,
   "metadata": {},
   "outputs": [],
   "source": [
    "sample_submission = pd.read_csv(INPUT_PATH / 'track1_predictions_example.csv')"
   ]
  },
  {
   "cell_type": "code",
   "execution_count": 53,
   "metadata": {},
   "outputs": [],
   "source": [
    "private_ids = [t.split('/')[-1].split('.')[0] for t in private_test]\n",
    "public_ids = [t.split('/')[-1].split('.')[0] for t in public_test]\n",
    "\n",
    "sample_submission['path'] = sample_submission['id'].apply(lambda x: PRIVATE_PATH / f'{x}.png' if x in private_ids else PUBLIC_PATH / f'{x}.png')"
   ]
  },
  {
   "cell_type": "code",
   "execution_count": 72,
   "metadata": {},
   "outputs": [],
   "source": [
    "test_getter = TestDataGetter(sample_submission['path'].apply(str).values, transform=augs)\n",
    "test_dataloader = DataLoader(test_getter, batch_size=32, shuffle=False) #, num_workers=2\n",
    "\n",
    "\n",
    "predictions_class = []\n",
    "predictions_energy = []\n",
    "for batch in test_dataloader:\n",
    "    imgs = batch['image'].to(device)\n",
    "    preds_class = model_cl(imgs)\n",
    "    preds_class = preds_class['particle_class'].cpu().detach().numpy()\n",
    "    preds_class = np.argmax(preds_class, axis = 1)\n",
    "    \n",
    "    preds_energy = model_reg(imgs)\n",
    "    preds_energy = preds_energy['particle_energy'].cpu().detach().numpy().reshape(-1)\n",
    "    \n",
    "    predictions_class.extend(preds_class)\n",
    "    predictions_energy.extend(preds_energy)"
   ]
  },
  {
   "cell_type": "code",
   "execution_count": 208,
   "metadata": {},
   "outputs": [],
   "source": [
    "sample_submission['classification_predictions'] = predictions_class\n",
    "sample_submission['regression_predictions'] = predictions_energy\n",
    "\n",
    "sample_submission.drop(columns = ['path']).to_csv(OUTPUT_PATH / 'predictions.csv', index  = None)"
   ]
  },
  {
   "cell_type": "markdown",
   "metadata": {},
   "source": [
    "## Postprocessing"
   ]
  },
  {
   "cell_type": "code",
   "execution_count": 209,
   "metadata": {},
   "outputs": [],
   "source": [
    "PUBLIC_SET_BOUNDARY = 1502\n",
    "prediction_indexes = {\n",
    "    'public_test_er': [0, 750],\n",
    "    'public_test_he': [750, PUBLIC_SET_BOUNDARY],\n",
    "    'private_test_er': '?',\n",
    "    'private_test_he': '?'\n",
    "}\n",
    "\n",
    "prediction_allowed_values = {\n",
    "    'public_test_er': [3, 10, 30],\n",
    "    'public_test_he': [1, 6, 20],\n",
    "    'private_test_er':  [1, 6, 20],\n",
    "    'private_test_he': [3, 10, 30]\n",
    "}"
   ]
  },
  {
   "cell_type": "code",
   "execution_count": 214,
   "metadata": {},
   "outputs": [],
   "source": [
    "def correctPredictions(x, allowedPreds = np.array([1,2,3])):\n",
    "    preds = x.copy()\n",
    "    for i in range(preds.shape[0]):\n",
    "        preds[i] = allowedPreds[np.argmin(np.abs(preds[i] - allowedPreds))]\n",
    "    \n",
    "    return preds\n",
    "\n",
    "part = 'public_test_er'\n",
    "values = sample_submission.iloc[prediction_indexes[part][0] : prediction_indexes[part][1], 2].reset_index(drop = True)\n",
    "sample_submission.iloc[prediction_indexes[part][0] : prediction_indexes[part][1], 2] = correctPredictions(values, prediction_allowed_values[part]).values\n",
    "\n",
    "part = 'public_test_he'\n",
    "values = sample_submission.iloc[prediction_indexes[part][0] : prediction_indexes[part][1], 2].reset_index(drop = True)\n",
    "sample_submission.iloc[prediction_indexes[part][0] : prediction_indexes[part][1], 2] = correctPredictions(values, prediction_allowed_values[part]).values"
   ]
  },
  {
   "cell_type": "code",
   "execution_count": 204,
   "metadata": {},
   "outputs": [],
   "source": [
    "sample_submission.drop(columns = ['path']).to_csv(OUTPUT_PATH / 'predictions_postprocessed.csv', index  = None)"
   ]
  },
  {
   "cell_type": "code",
   "execution_count": 150,
   "metadata": {},
   "outputs": [
    {
     "data": {
      "text/plain": [
       "1    7550\n",
       "0      12\n",
       "Name: classification_predictions, dtype: int64"
      ]
     },
     "execution_count": 150,
     "metadata": {},
     "output_type": "execute_result"
    }
   ],
   "source": [
    "sample_submission.iloc[PUBLIC_SET_BOUNDARY+7500:]['classification_predictions'].value_counts()"
   ]
  },
  {
   "cell_type": "code",
   "execution_count": 90,
   "metadata": {},
   "outputs": [
    {
     "data": {
      "text/plain": [
       "0    5362\n",
       "1    2135\n",
       "Name: classification_predictions, dtype: int64"
      ]
     },
     "execution_count": 90,
     "metadata": {},
     "output_type": "execute_result"
    }
   ],
   "source": [
    "sample_submission.iloc[PUBLIC_SET_BOUNDARY:PUBLIC_SET_BOUNDARY + 7500-3]['classification_predictions'].value_counts()"
   ]
  },
  {
   "cell_type": "code",
   "execution_count": 89,
   "metadata": {},
   "outputs": [
    {
     "data": {
      "text/plain": [
       "1    7555\n",
       "0      12\n",
       "Name: classification_predictions, dtype: int64"
      ]
     },
     "execution_count": 89,
     "metadata": {},
     "output_type": "execute_result"
    }
   ],
   "source": [
    "sample_submission.iloc[1500 + 7500-3:]['classification_predictions'].value_counts()"
   ]
  },
  {
   "cell_type": "code",
   "execution_count": 96,
   "metadata": {},
   "outputs": [
    {
     "data": {
      "text/plain": [
       "private_test    15062\n",
       "Name: path, dtype: int64"
      ]
     },
     "execution_count": 96,
     "metadata": {},
     "output_type": "execute_result"
    }
   ],
   "source": [
    "sample_submission['path'].apply(lambda x: str(x).split('/')[-2]).iloc[1502:].value_counts()"
   ]
  },
  {
   "cell_type": "code",
   "execution_count": 129,
   "metadata": {},
   "outputs": [
    {
     "data": {
      "text/plain": [
       "3"
      ]
     },
     "execution_count": 129,
     "metadata": {},
     "output_type": "execute_result"
    }
   ],
   "source": [
    "allowedPreds = np.array([1,2,3])\n",
    "allowedPreds[np.argmin(np.abs(10.8 - allowedPreds))]"
   ]
  },
  {
   "cell_type": "code",
   "execution_count": 142,
   "metadata": {},
   "outputs": [
    {
     "data": {
      "text/html": [
       "<div>\n",
       "<style scoped>\n",
       "    .dataframe tbody tr th:only-of-type {\n",
       "        vertical-align: middle;\n",
       "    }\n",
       "\n",
       "    .dataframe tbody tr th {\n",
       "        vertical-align: top;\n",
       "    }\n",
       "\n",
       "    .dataframe thead th {\n",
       "        text-align: right;\n",
       "    }\n",
       "</style>\n",
       "<table border=\"1\" class=\"dataframe\">\n",
       "  <thead>\n",
       "    <tr style=\"text-align: right;\">\n",
       "      <th></th>\n",
       "      <th>id</th>\n",
       "      <th>classification_predictions</th>\n",
       "      <th>regression_predictions</th>\n",
       "      <th>path</th>\n",
       "    </tr>\n",
       "  </thead>\n",
       "  <tbody>\n",
       "    <tr>\n",
       "      <th>750</th>\n",
       "      <td>d88edebbf8247af207f19294fd7d1514fd220431</td>\n",
       "      <td>1</td>\n",
       "      <td>1.023144</td>\n",
       "      <td>../input/idao_dataset/public_test/d88edebbf824...</td>\n",
       "    </tr>\n",
       "    <tr>\n",
       "      <th>751</th>\n",
       "      <td>a4c526a9038cf3bfb8a0ad85cf0e7b03f277eb0a</td>\n",
       "      <td>1</td>\n",
       "      <td>1.068277</td>\n",
       "      <td>../input/idao_dataset/public_test/a4c526a9038c...</td>\n",
       "    </tr>\n",
       "    <tr>\n",
       "      <th>752</th>\n",
       "      <td>0c4e389c867a634186b93e511a7d19d2591b668b</td>\n",
       "      <td>1</td>\n",
       "      <td>1.027634</td>\n",
       "      <td>../input/idao_dataset/public_test/0c4e389c867a...</td>\n",
       "    </tr>\n",
       "    <tr>\n",
       "      <th>753</th>\n",
       "      <td>c64d46234689a9616f3bb48389ca60eb0286f875</td>\n",
       "      <td>1</td>\n",
       "      <td>5.801307</td>\n",
       "      <td>../input/idao_dataset/public_test/c64d46234689...</td>\n",
       "    </tr>\n",
       "    <tr>\n",
       "      <th>754</th>\n",
       "      <td>d05e5557914fb378c851d4e64687a008b11d0b94</td>\n",
       "      <td>1</td>\n",
       "      <td>19.992479</td>\n",
       "      <td>../input/idao_dataset/public_test/d05e5557914f...</td>\n",
       "    </tr>\n",
       "    <tr>\n",
       "      <th>...</th>\n",
       "      <td>...</td>\n",
       "      <td>...</td>\n",
       "      <td>...</td>\n",
       "      <td>...</td>\n",
       "    </tr>\n",
       "    <tr>\n",
       "      <th>1499</th>\n",
       "      <td>0851c743440bb0bafa222e4bbedfaf2f66ac7209</td>\n",
       "      <td>1</td>\n",
       "      <td>5.794290</td>\n",
       "      <td>../input/idao_dataset/public_test/0851c743440b...</td>\n",
       "    </tr>\n",
       "    <tr>\n",
       "      <th>1500</th>\n",
       "      <td>7b2edfb684bcfdcf34d546cd9a4563a65ef8e7d4</td>\n",
       "      <td>1</td>\n",
       "      <td>5.753428</td>\n",
       "      <td>../input/idao_dataset/public_test/7b2edfb684bc...</td>\n",
       "    </tr>\n",
       "    <tr>\n",
       "      <th>1501</th>\n",
       "      <td>7b0074823b3301443ddfafe179ed44a412364c32</td>\n",
       "      <td>1</td>\n",
       "      <td>19.779394</td>\n",
       "      <td>../input/idao_dataset/public_test/7b0074823b33...</td>\n",
       "    </tr>\n",
       "    <tr>\n",
       "      <th>1502</th>\n",
       "      <td>8dbaee16550363fe6f4e7f32ed6c8419926354ee</td>\n",
       "      <td>0</td>\n",
       "      <td>23.464390</td>\n",
       "      <td>../input/idao_dataset/private_test/8dbaee16550...</td>\n",
       "    </tr>\n",
       "    <tr>\n",
       "      <th>1503</th>\n",
       "      <td>4ffab3dc6aa90e7173886162b2ea591c2fdc6331</td>\n",
       "      <td>0</td>\n",
       "      <td>23.409683</td>\n",
       "      <td>../input/idao_dataset/private_test/4ffab3dc6aa...</td>\n",
       "    </tr>\n",
       "  </tbody>\n",
       "</table>\n",
       "<p>754 rows × 4 columns</p>\n",
       "</div>"
      ],
      "text/plain": [
       "                                            id  classification_predictions  \\\n",
       "750   d88edebbf8247af207f19294fd7d1514fd220431                           1   \n",
       "751   a4c526a9038cf3bfb8a0ad85cf0e7b03f277eb0a                           1   \n",
       "752   0c4e389c867a634186b93e511a7d19d2591b668b                           1   \n",
       "753   c64d46234689a9616f3bb48389ca60eb0286f875                           1   \n",
       "754   d05e5557914fb378c851d4e64687a008b11d0b94                           1   \n",
       "...                                        ...                         ...   \n",
       "1499  0851c743440bb0bafa222e4bbedfaf2f66ac7209                           1   \n",
       "1500  7b2edfb684bcfdcf34d546cd9a4563a65ef8e7d4                           1   \n",
       "1501  7b0074823b3301443ddfafe179ed44a412364c32                           1   \n",
       "1502  8dbaee16550363fe6f4e7f32ed6c8419926354ee                           0   \n",
       "1503  4ffab3dc6aa90e7173886162b2ea591c2fdc6331                           0   \n",
       "\n",
       "      regression_predictions  \\\n",
       "750                 1.023144   \n",
       "751                 1.068277   \n",
       "752                 1.027634   \n",
       "753                 5.801307   \n",
       "754                19.992479   \n",
       "...                      ...   \n",
       "1499                5.794290   \n",
       "1500                5.753428   \n",
       "1501               19.779394   \n",
       "1502               23.464390   \n",
       "1503               23.409683   \n",
       "\n",
       "                                                   path  \n",
       "750   ../input/idao_dataset/public_test/d88edebbf824...  \n",
       "751   ../input/idao_dataset/public_test/a4c526a9038c...  \n",
       "752   ../input/idao_dataset/public_test/0c4e389c867a...  \n",
       "753   ../input/idao_dataset/public_test/c64d46234689...  \n",
       "754   ../input/idao_dataset/public_test/d05e5557914f...  \n",
       "...                                                 ...  \n",
       "1499  ../input/idao_dataset/public_test/0851c743440b...  \n",
       "1500  ../input/idao_dataset/public_test/7b2edfb684bc...  \n",
       "1501  ../input/idao_dataset/public_test/7b0074823b33...  \n",
       "1502  ../input/idao_dataset/private_test/8dbaee16550...  \n",
       "1503  ../input/idao_dataset/private_test/4ffab3dc6aa...  \n",
       "\n",
       "[754 rows x 4 columns]"
      ]
     },
     "execution_count": 142,
     "metadata": {},
     "output_type": "execute_result"
    }
   ],
   "source": [
    "sample_submission.iloc[PUV]"
   ]
  },
  {
   "cell_type": "code",
   "execution_count": 137,
   "metadata": {},
   "outputs": [
    {
     "data": {
      "text/plain": [
       "0      3.0\n",
       "1      3.0\n",
       "2      3.0\n",
       "3      3.0\n",
       "4      3.0\n",
       "      ... \n",
       "745    3.0\n",
       "746    3.0\n",
       "747    3.0\n",
       "748    3.0\n",
       "749    3.0\n",
       "Name: regression_predictions, Length: 750, dtype: float64"
      ]
     },
     "execution_count": 137,
     "metadata": {},
     "output_type": "execute_result"
    }
   ],
   "source": [
    "def correctPredictions(x, allowedPreds = np.array([1,2,3])):\n",
    "    preds = x.copy()\n",
    "    for i in range(preds.shape[0]):\n",
    "        preds[i] = allowedPreds[np.argmin(np.abs(preds[i] - allowedPreds))]\n",
    "    \n",
    "    return preds\n",
    "correctPredictions(sample_submission.iloc[:750, 2])"
   ]
  },
  {
   "cell_type": "code",
   "execution_count": 138,
   "metadata": {},
   "outputs": [
    {
     "data": {
      "text/html": [
       "<div>\n",
       "<style scoped>\n",
       "    .dataframe tbody tr th:only-of-type {\n",
       "        vertical-align: middle;\n",
       "    }\n",
       "\n",
       "    .dataframe tbody tr th {\n",
       "        vertical-align: top;\n",
       "    }\n",
       "\n",
       "    .dataframe thead th {\n",
       "        text-align: right;\n",
       "    }\n",
       "</style>\n",
       "<table border=\"1\" class=\"dataframe\">\n",
       "  <thead>\n",
       "    <tr style=\"text-align: right;\">\n",
       "      <th></th>\n",
       "      <th>id</th>\n",
       "      <th>classification_predictions</th>\n",
       "      <th>regression_predictions</th>\n",
       "      <th>path</th>\n",
       "    </tr>\n",
       "  </thead>\n",
       "  <tbody>\n",
       "    <tr>\n",
       "      <th>0</th>\n",
       "      <td>9a8b8bfc7a06afd346ff1c88f1f7a03316a9bc76</td>\n",
       "      <td>0</td>\n",
       "      <td>2.782609</td>\n",
       "      <td>../input/idao_dataset/public_test/9a8b8bfc7a06...</td>\n",
       "    </tr>\n",
       "    <tr>\n",
       "      <th>1</th>\n",
       "      <td>2caa5748f814bbdbc64f4db43d7412ce359a777b</td>\n",
       "      <td>0</td>\n",
       "      <td>9.784853</td>\n",
       "      <td>../input/idao_dataset/public_test/2caa5748f814...</td>\n",
       "    </tr>\n",
       "    <tr>\n",
       "      <th>2</th>\n",
       "      <td>b879970a23fc2a3b093bce85096808f13eaa69fb</td>\n",
       "      <td>0</td>\n",
       "      <td>9.664519</td>\n",
       "      <td>../input/idao_dataset/public_test/b879970a23fc...</td>\n",
       "    </tr>\n",
       "    <tr>\n",
       "      <th>3</th>\n",
       "      <td>a4d3cb5abbdc11518bb67ae7f2c415de808effb3</td>\n",
       "      <td>0</td>\n",
       "      <td>9.832215</td>\n",
       "      <td>../input/idao_dataset/public_test/a4d3cb5abbdc...</td>\n",
       "    </tr>\n",
       "    <tr>\n",
       "      <th>4</th>\n",
       "      <td>df8de9207196305057f73cea03d265ba720cb6e1</td>\n",
       "      <td>0</td>\n",
       "      <td>30.029110</td>\n",
       "      <td>../input/idao_dataset/public_test/df8de9207196...</td>\n",
       "    </tr>\n",
       "    <tr>\n",
       "      <th>...</th>\n",
       "      <td>...</td>\n",
       "      <td>...</td>\n",
       "      <td>...</td>\n",
       "      <td>...</td>\n",
       "    </tr>\n",
       "    <tr>\n",
       "      <th>745</th>\n",
       "      <td>f8bdabef01fcd90a653a4fd72fd75d02db9f557f</td>\n",
       "      <td>0</td>\n",
       "      <td>9.612540</td>\n",
       "      <td>../input/idao_dataset/public_test/f8bdabef01fc...</td>\n",
       "    </tr>\n",
       "    <tr>\n",
       "      <th>746</th>\n",
       "      <td>c292dc18588b7981b4cf7feec25ac86207332a56</td>\n",
       "      <td>0</td>\n",
       "      <td>2.809313</td>\n",
       "      <td>../input/idao_dataset/public_test/c292dc18588b...</td>\n",
       "    </tr>\n",
       "    <tr>\n",
       "      <th>747</th>\n",
       "      <td>2786388c5b2e0c3ea3e3417803b39c7919210fe4</td>\n",
       "      <td>0</td>\n",
       "      <td>30.932081</td>\n",
       "      <td>../input/idao_dataset/public_test/2786388c5b2e...</td>\n",
       "    </tr>\n",
       "    <tr>\n",
       "      <th>748</th>\n",
       "      <td>74e6412eb02ffd302abe71b5407f893415bb8a3a</td>\n",
       "      <td>0</td>\n",
       "      <td>9.593667</td>\n",
       "      <td>../input/idao_dataset/public_test/74e6412eb02f...</td>\n",
       "    </tr>\n",
       "    <tr>\n",
       "      <th>749</th>\n",
       "      <td>2c5f62eb55d6b7ddfeff6c075e15858434e81846</td>\n",
       "      <td>0</td>\n",
       "      <td>2.805414</td>\n",
       "      <td>../input/idao_dataset/public_test/2c5f62eb55d6...</td>\n",
       "    </tr>\n",
       "  </tbody>\n",
       "</table>\n",
       "<p>750 rows × 4 columns</p>\n",
       "</div>"
      ],
      "text/plain": [
       "                                           id  classification_predictions  \\\n",
       "0    9a8b8bfc7a06afd346ff1c88f1f7a03316a9bc76                           0   \n",
       "1    2caa5748f814bbdbc64f4db43d7412ce359a777b                           0   \n",
       "2    b879970a23fc2a3b093bce85096808f13eaa69fb                           0   \n",
       "3    a4d3cb5abbdc11518bb67ae7f2c415de808effb3                           0   \n",
       "4    df8de9207196305057f73cea03d265ba720cb6e1                           0   \n",
       "..                                        ...                         ...   \n",
       "745  f8bdabef01fcd90a653a4fd72fd75d02db9f557f                           0   \n",
       "746  c292dc18588b7981b4cf7feec25ac86207332a56                           0   \n",
       "747  2786388c5b2e0c3ea3e3417803b39c7919210fe4                           0   \n",
       "748  74e6412eb02ffd302abe71b5407f893415bb8a3a                           0   \n",
       "749  2c5f62eb55d6b7ddfeff6c075e15858434e81846                           0   \n",
       "\n",
       "     regression_predictions                                               path  \n",
       "0                  2.782609  ../input/idao_dataset/public_test/9a8b8bfc7a06...  \n",
       "1                  9.784853  ../input/idao_dataset/public_test/2caa5748f814...  \n",
       "2                  9.664519  ../input/idao_dataset/public_test/b879970a23fc...  \n",
       "3                  9.832215  ../input/idao_dataset/public_test/a4d3cb5abbdc...  \n",
       "4                 30.029110  ../input/idao_dataset/public_test/df8de9207196...  \n",
       "..                      ...                                                ...  \n",
       "745                9.612540  ../input/idao_dataset/public_test/f8bdabef01fc...  \n",
       "746                2.809313  ../input/idao_dataset/public_test/c292dc18588b...  \n",
       "747               30.932081  ../input/idao_dataset/public_test/2786388c5b2e...  \n",
       "748                9.593667  ../input/idao_dataset/public_test/74e6412eb02f...  \n",
       "749                2.805414  ../input/idao_dataset/public_test/2c5f62eb55d6...  \n",
       "\n",
       "[750 rows x 4 columns]"
      ]
     },
     "execution_count": 138,
     "metadata": {},
     "output_type": "execute_result"
    }
   ],
   "source": [
    "sample_submission.iloc[:750]"
   ]
  },
  {
   "cell_type": "code",
   "execution_count": 98,
   "metadata": {},
   "outputs": [
    {
     "data": {
      "text/plain": [
       "15058"
      ]
     },
     "execution_count": 98,
     "metadata": {},
     "output_type": "execute_result"
    }
   ],
   "source": [
    "7491 + 7567"
   ]
  },
  {
   "cell_type": "code",
   "execution_count": 101,
   "metadata": {},
   "outputs": [
    {
     "data": {
      "text/plain": [
       "7484"
      ]
     },
     "execution_count": 101,
     "metadata": {},
     "output_type": "execute_result"
    }
   ],
   "source": [
    "2499 + 2501 + 2484"
   ]
  },
  {
   "cell_type": "code",
   "execution_count": 102,
   "metadata": {},
   "outputs": [
    {
     "data": {
      "text/plain": [
       "7424"
      ]
     },
     "execution_count": 102,
     "metadata": {},
     "output_type": "execute_result"
    }
   ],
   "source": [
    "2463 + 2503 + 2458"
   ]
  },
  {
   "cell_type": "code",
   "execution_count": 103,
   "metadata": {},
   "outputs": [
    {
     "data": {
      "text/plain": [
       "14908"
      ]
     },
     "execution_count": 103,
     "metadata": {},
     "output_type": "execute_result"
    }
   ],
   "source": [
    "7484 + 7424"
   ]
  },
  {
   "cell_type": "code",
   "execution_count": 104,
   "metadata": {},
   "outputs": [
    {
     "data": {
      "text/plain": [
       "(16564, 4)"
      ]
     },
     "execution_count": 104,
     "metadata": {},
     "output_type": "execute_result"
    }
   ],
   "source": [
    "sample_submission.shape"
   ]
  },
  {
   "cell_type": "code",
   "execution_count": 105,
   "metadata": {},
   "outputs": [
    {
     "data": {
      "text/plain": [
       "16408"
      ]
     },
     "execution_count": 105,
     "metadata": {},
     "output_type": "execute_result"
    }
   ],
   "source": [
    "14908 + 1500"
   ]
  }
 ],
 "metadata": {
  "kernelspec": {
   "display_name": "Python 3",
   "language": "python",
   "name": "python3"
  },
  "language_info": {
   "codemirror_mode": {
    "name": "ipython",
    "version": 3
   },
   "file_extension": ".py",
   "mimetype": "text/x-python",
   "name": "python",
   "nbconvert_exporter": "python",
   "pygments_lexer": "ipython3",
   "version": "3.7.9"
  }
 },
 "nbformat": 4,
 "nbformat_minor": 4
}
